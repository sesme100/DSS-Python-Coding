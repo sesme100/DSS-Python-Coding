{
 "cells": [
  {
   "cell_type": "markdown",
   "metadata": {},
   "source": [
    "# '''mean,median and mode/ Hackersrank예제 '''"
   ]
  },
  {
   "cell_type": "code",
   "execution_count": null,
   "metadata": {},
   "outputs": [],
   "source": [
    "n=int(input())# 개수 정수 정의  질문에 10 이라고 저장 # 10개의 값이 있다는 뜻 \n",
    "nums = [int(num) for i in input().split()] # 빈공간으로 두면 기본값이 스페이스가 된다 그래서 slit 함수써서 모든 입력값을 분리 함 \n",
    "print(nums)\n",
    "\n",
    "mean= sum(nums)/ n # 우리는 이미 n 이 무엇인지 알고 있음 (10개)\n",
    "\n",
    "# 홀수 일때 짝수일때 medium 정리 다름 \n",
    "\n",
    "sorted_nums = sorted(nums)# 작은 순서 숫자부터 차례대로 정렬\n",
    "\n",
    "half_of_n= n//2\n",
    "if n %2 == 0:\n",
    "    median = (storted_nums[half_of_n - 1] + storted_nums[half_of_n])/2\n",
    "else:\n",
    "    median = sorted_nums[half_of_n]\n",
    "    \n",
    "cmp = 0\n",
    "\n",
    "for num in sorted_nums:\n",
    "    if sorted_nums.count(num) > cmp:\n",
    "        cmp = sorted_nums.count(num)\n",
    "        temp_mode = num\n",
    "\n",
    "if cmp == 1:\n",
    "    mode = sorted_nums[0]\n",
    "else:\n",
    "    mode = temp_mode\n",
    "\n",
    "print(mean)\n",
    "print(median)\n",
    "print(mode)\n",
    "\n",
    "\n"
   ]
  },
  {
   "cell_type": "code",
   "execution_count": null,
   "metadata": {
    "collapsed": true
   },
   "outputs": [],
   "source": [
    "n=int(input())# 개수 정수 정의 \n",
    "nums = [int(num) for i in input().split()]\n"
   ]
  },
  {
   "cell_type": "code",
   "execution_count": null,
   "metadata": {
    "collapsed": true
   },
   "outputs": [],
   "source": [
    "'''\n",
    "f= open(filename, mode)\n",
    "f.close()# 무조건 close 로 닫아 줘야 함 , 파일 찾기후 , 무조건 짝으로 달아주기\n",
    "'''\n",
    "f= open('./anotherfile.txt', 'w')\n",
    "f.close()\n",
    "\n"
   ]
  },
  {
   "cell_type": "code",
   "execution_count": null,
   "metadata": {
    "collapsed": true
   },
   "outputs": [],
   "source": [
    "f = open('./Newfile.txt', 'w')\n",
    "for i in range(1,11):\n",
    "    text = \"line %d. \\n\" % i\n",
    "    f.write(text)\n",
    "f.close()"
   ]
  },
  {
   "cell_type": "code",
   "execution_count": null,
   "metadata": {
    "collapsed": true
   },
   "outputs": [],
   "source": [
    "f = open('./anotherfile.txt','r')\n",
    "f.read()\n",
    "f.close()"
   ]
  },
  {
   "cell_type": "code",
   "execution_count": null,
   "metadata": {
    "collapsed": true
   },
   "outputs": [],
   "source": [
    "f=open('./anotherfile.txt', 'a')\n",
    "\n",
    "for i in range(1,11):\n",
    "    text= \"line %d \\n\" %i\n",
    "    f.write(text)\n",
    "f.close()"
   ]
  },
  {
   "cell_type": "code",
   "execution_count": null,
   "metadata": {
    "collapsed": true
   },
   "outputs": [],
   "source": []
  }
 ],
 "metadata": {
  "kernelspec": {
   "display_name": "Python 3",
   "language": "python",
   "name": "python3"
  },
  "language_info": {
   "codemirror_mode": {
    "name": "ipython",
    "version": 3
   },
   "file_extension": ".py",
   "mimetype": "text/x-python",
   "name": "python",
   "nbconvert_exporter": "python",
   "pygments_lexer": "ipython3",
   "version": "3.6.1"
  }
 },
 "nbformat": 4,
 "nbformat_minor": 2
}
