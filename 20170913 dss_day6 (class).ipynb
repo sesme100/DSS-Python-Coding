{
 "cells": [
  {
   "cell_type": "markdown",
   "metadata": {},
   "source": [
    "# Class & Object "
   ]
  },
  {
   "cell_type": "markdown",
   "metadata": {},
   "source": [
    "## 학습목표\n",
    " 1. 클래스와 오브젝트에 대한 이해\n",
    " 2. 클래스 설계 구현 및 사용 숙지"
   ]
  },
  {
   "cell_type": "markdown",
   "metadata": {},
   "source": [
    "* **class란?**\n",
    " + 실세계의 것을 모델링하여 속성(attribute)와 동작(method)를 갖는 데이터 타입\n",
    " + python에서의 string, int, list, dict.. 모두가 다 클래스로 존재\n",
    " + 예를들어 학생이라는 클래스를 만든다면, 학생을 나타내는 속성과 학생이 행하는 행동을 함께 정의 할 수 있음\n",
    " + project2에서 처럼 각 함수는 파라미터로 전달되는 데이터에 대한 처리를 담당하는데, 프로젝트가 커지고 각각 다루는 함수와 변수가 많아 질수록 유지보수에 어려움이 있음\n",
    " + 따라서, 다루고자 하는 데이터(변수) 와 데이터를 다루는 연산(함수)를 하나로 캡슐화(encapsulation)하여 클래스로 표현\n",
    " + 모델링에서 중요시 하는 속성에 따라 클래스의 속성과 행동이 각각 달라짐"
   ]
  },
  {
   "cell_type": "markdown",
   "metadata": {},
   "source": [
    "* **object 란?**\n",
    " - 클래스로 생성되어 구체화된 객체(인스턴스)\n",
    " - 파이썬의 모든 것(int, str, list..etc)은 객체(인스턴스)\n",
    " - 실제로 class가 인스턴스화 되어 메모리에 상주하는 상태를 의미\n",
    " - class가 빵틀이라면, object는 실제로 빵틀로 찍어낸 빵이라고 비유 가능\n"
   ]
  },
  {
   "cell_type": "code",
   "execution_count": 9,
   "metadata": {
    "collapsed": true
   },
   "outputs": [],
   "source": [
    "\n",
    "## 파이썬 책에서는 \n",
    "## Class: 빵을 만드는 틀, 원본문서\n",
    "## instance(객체): 붕어빵 , 문서를 복사해와서 각자 작업된문서\n",
    "## attribute(속성): 문서내용\n",
    "## (method):동작 , 해당객체 속성에 대한 연산 "
   ]
  },
  {
   "cell_type": "code",
   "execution_count": 7,
   "metadata": {},
   "outputs": [
    {
     "name": "stdout",
     "output_type": "stream",
     "text": [
      "7\n"
     ]
    }
   ],
   "source": [
    "# 실제로 메모리에 구체화된 값을 가진 실체 = object\n",
    "# 속성(attribute), 동작(method)를 가짐\n",
    "num = 100\n",
    "print(num.bit_length())\n",
    "\n",
    "a = list()\n",
    "\n",
    "b = [1, 2, 3]\n",
    "b.append(7)\n"
   ]
  },
  {
   "cell_type": "code",
   "execution_count": 8,
   "metadata": {},
   "outputs": [
    {
     "name": "stdout",
     "output_type": "stream",
     "text": [
      "7\n"
     ]
    }
   ],
   "source": [
    "print(num.bit_length())"
   ]
  },
  {
   "cell_type": "markdown",
   "metadata": {},
   "source": [
    "* **class 선언하기**\n",
    "  - 객체를 생성하기 위해선 객체의 모체가 되는 class를 미리 선언해야 함 "
   ]
  },
  {
   "cell_type": "code",
   "execution_count": 10,
   "metadata": {},
   "outputs": [
    {
     "name": "stdout",
     "output_type": "stream",
     "text": [
      "<__main__.Person object at 0x000002809617BE10>\n",
      "<__main__.Person object at 0x000002809617BDD8>\n"
     ]
    }
   ],
   "source": [
    "# camel case\n",
    "def test_simulation_method():\n",
    "    pass\n",
    "\n",
    "class Person(object):\n",
    "    pass\n",
    "\n",
    "p1 = Person()\n",
    "print(p1)\n",
    "\n",
    "p2 = Person()\n",
    "print(p2)\n",
    "\n",
    "a = []\n",
    "b = a"
   ]
  },
  {
   "cell_type": "markdown",
   "metadata": {},
   "source": [
    "* __init__(self)\n",
    " + 생성자, 클래스 인스턴스가 생성될 때 호출됨\n",
    " + self인자는 항상 첫번째에 오며 자기 자신을 가리킴\n",
    " + 이름이 꼭 self일 필요는 없지만, 관례적으로 self로 사용\n",
    " \n",
    " + 생성자에서는 해당 클래스가 다루는 데이터를 정의\n",
    "   - 이 데이터를 멤버 변수(member variable) 또는 속성(attribute)라고 함"
   ]
  },
  {
   "cell_type": "code",
   "execution_count": 31,
   "metadata": {},
   "outputs": [
    {
     "name": "stdout",
     "output_type": "stream",
     "text": [
      "__init__ called\n",
      "__init__ called\n",
      "My name is Ted and I am 23 years old.\n",
      "Bob 33\n"
     ]
    }
   ],
   "source": [
    "class Person(object): # constructor, 생성자\n",
    "    def __init__(self, n, a): ## self 자기자신 = 속성( attribute), 문서내용이라고 볼수있음\n",
    "        print('__init__ called')\n",
    "        self.name = n\n",
    "        self.age = a\n",
    "        \n",
    "s1 = Person('Ted', 23) ## s1 는 객체 \n",
    "s2 = Person('Bob', 33)\n",
    "\n",
    "print('My name is {} and I am {} years old.' .format(s1.name, s1.age))\n",
    "print(s2.name, s2.age)"
   ]
  },
  {
   "cell_type": "code",
   "execution_count": 75,
   "metadata": {},
   "outputs": [
    {
     "name": "stdout",
     "output_type": "stream",
     "text": [
      " I am falling in love with honey\n",
      "in a 30 minutes, I am falling in love with honey\n",
      "Sharon usually has 30000 days relationship\n"
     ]
    }
   ],
   "source": [
    "class love:\n",
    "    def __init__(self, name):\n",
    "        self.name = name \n",
    "     \n",
    "        \n",
    "        \n",
    "    def type_love(self, hour):\n",
    "        print(' I am falling in love with {}'.format(self.name))\n",
    "        print('in a {} minutes, I am falling in love with {}' .format(hour, self.name))\n",
    "    \n",
    "    def duration(self, days):\n",
    "        print ( '{} usually has {} days relationship'.format(self.name, days))\n",
    "        \n",
    "\n",
    "Mark = love ('honey')\n",
    "Sharon = love ('Sharon')\n",
    "\n",
    "Mark.type_love(30)\n",
    "Sharon.duration(30000)\n",
    "\n",
    "        "
   ]
  },
  {
   "cell_type": "code",
   "execution_count": null,
   "metadata": {
    "collapsed": true
   },
   "outputs": [],
   "source": [
    "* **mehtod 정의**\n",
    " + 멤버함수라고도 하며, 해당 클래스의 object에서만 호출가능\n",
    " + 메쏘드는 객체 레벨에서 호출되며, 해당 객체의 속성에 대한 연산을 행함\n",
    " + {obj}.{method}() 형태로 호출됨"
   ]
  },
  {
   "cell_type": "code",
   "execution_count": 87,
   "metadata": {},
   "outputs": [
    {
     "name": "stdout",
     "output_type": "stream",
     "text": [
      "Tracy works 10 hour very hard\n",
      "Aaron works 20 hour very hard\n"
     ]
    },
    {
     "ename": "AttributeError",
     "evalue": "'tuple' object has no attribute 'work'",
     "output_type": "error",
     "traceback": [
      "\u001b[1;31m---------------------------------------------------------------------------\u001b[0m",
      "\u001b[1;31mAttributeError\u001b[0m                            Traceback (most recent call last)",
      "\u001b[1;32m<ipython-input-87-3d6198005d66>\u001b[0m in \u001b[0;36m<module>\u001b[1;34m()\u001b[0m\n\u001b[0;32m     18\u001b[0m \u001b[1;31m# 에러 발생. why?\u001b[0m\u001b[1;33m\u001b[0m\u001b[1;33m\u001b[0m\u001b[0m\n\u001b[0;32m     19\u001b[0m \u001b[0mp1\u001b[0m \u001b[1;33m=\u001b[0m \u001b[1;33m(\u001b[0m\u001b[1;36m2\u001b[0m\u001b[1;33m,\u001b[0m\u001b[1;36m34\u001b[0m\u001b[1;33m)\u001b[0m\u001b[1;33m\u001b[0m\u001b[0m\n\u001b[1;32m---> 20\u001b[1;33m \u001b[0mp1\u001b[0m\u001b[1;33m.\u001b[0m\u001b[0mwork\u001b[0m\u001b[1;33m(\u001b[0m\u001b[1;36m3\u001b[0m\u001b[1;33m)\u001b[0m \u001b[1;31m##리스트는 받지 않음\u001b[0m\u001b[1;33m\u001b[0m\u001b[0m\n\u001b[0m\u001b[0;32m     21\u001b[0m \u001b[1;33m\u001b[0m\u001b[0m\n",
      "\u001b[1;31mAttributeError\u001b[0m: 'tuple' object has no attribute 'work'"
     ]
    }
   ],
   "source": [
    "class Person:  ##클래스 정의를 해줌\n",
    "    def __init__(self, name, height): ## \n",
    "        self.name = name\n",
    "        self.height = height\n",
    "        \n",
    "    def work(self, hour):\n",
    "        print('{} works {} hour very hard' \\\n",
    "            .format(self.name, hour)) ## self 객체.name 속성(멤버변수)\n",
    "        \n",
    "def work():\n",
    "    print('Work hard but just a function') ## 단독실행, 클래스와 상관없음, 단독함수\n",
    "\n",
    "p1 = Person('Tracy', 190)\n",
    "p1.work(10)\n",
    "\n",
    "p2 = Person('Aaron', 190)\n",
    "p2.work(20)\n",
    "\n",
    "# 에러 발생. why?\n",
    "p1 = (2,34)\n",
    "p1.work(3) ##리스트는 받지 않음\n",
    "\n"
   ]
  },
  {
   "cell_type": "code",
   "execution_count": null,
   "metadata": {
    "collapsed": true
   },
   "outputs": [],
   "source": [
    "M = Person('Sharon',164)\n",
    "M.work(20)\n"
   ]
  },
  {
   "cell_type": "code",
   "execution_count": 94,
   "metadata": {},
   "outputs": [
    {
     "name": "stdout",
     "output_type": "stream",
     "text": [
      "aaron works very hard\n",
      "aaron sleeps every day\n",
      "bob works very hard\n",
      "<__main__.Person object at 0x0000028096210860>\n",
      "<__main__.Person object at 0x000002809620B2E8>\n"
     ]
    }
   ],
   "source": [
    "class Person(object): ## object 는 넣어도 아무변화 없음\n",
    "    \n",
    "    def __init__(self, name):\n",
    "        self.name = name\n",
    "        \n",
    "    def work(self):\n",
    "        print('{} works very hard'.format(self.name))\n",
    "        \n",
    "    def sleep(self):\n",
    "        print('{} sleeps every day'.format(self.name))\n",
    "        \n",
    "\n",
    "p1 = Person('aaron')\n",
    "p1.work()\n",
    "p1.sleep()\n",
    "\n",
    "p2 = Person('bob')\n",
    "p2.work()\n",
    "\n",
    "\n",
    "print(p1)\n",
    "print(p2)"
   ]
  },
  {
   "cell_type": "markdown",
   "metadata": {},
   "source": [
    "* ** private, protected, public**\n",
    "  - c++, java 등의 기타 OOP 언어와는 달리, 파이썬의 경우 리스트릭트한 제한자 적용을 할 수 없음 \n",
    "  - 파이썬에서의 모든 속성, 메쏘드는 기본적으로 **public**\n",
    "  - 즉, 클래스의 외부에서 속성, 메쏘드에 접근이 가능 (사용 가능)"
   ]
  },
  {
   "cell_type": "code",
   "execution_count": 101,
   "metadata": {},
   "outputs": [
    {
     "name": "stdout",
     "output_type": "stream",
     "text": [
      "0ml inside the bottle\n",
      "20ml inside the bottle\n",
      "Work hard but just a function\n"
     ]
    }
   ],
   "source": [
    "class Bottle:\n",
    "    def __init__(self, quantity):\n",
    "        self.quantity = quantity\n",
    "        \n",
    "    def fill(self, quantity):\n",
    "        self.quantity = quantity\n",
    "        \n",
    "    def empty(self):\n",
    "        self.quantity = 0\n",
    "        \n",
    "    def show(self):\n",
    "        print('{}ml inside the bottle'.format(self.quantity))\n",
    "        \n",
    "b= Bottle(20)\n",
    "b.fill(100)\n",
    "b.empty()\n",
    "\n",
    "b.show()\n",
    "\n",
    "b.quantity = 20 ## 퍼블릭처럼 모두가 사용가능, 클래스 외부에서 속성 메소드에 접근가능 \n",
    "\n",
    "b.show()  \n",
    "\n",
    "work() ## 밖에서 불러올수있음 "
   ]
  },
  {
   "cell_type": "markdown",
   "metadata": {},
   "source": [
    "* ** protected **\n",
    " - protected 속성의 경우, 해당 클래스와 그것의 하위 클래스에서만 접근 가능\n",
    " - 파이썬에서는 해당 속성의 앞에 _(single underscore) 를 붙여서 해결\n",
    " - 다만, 실제 runtime에서의 제약 사항은 아니고, 실제 클래스를 사용하는 사용자에게 경고 형태로만 제공"
   ]
  },
  {
   "cell_type": "code",
   "execution_count": 118,
   "metadata": {},
   "outputs": [
    {
     "name": "stdout",
     "output_type": "stream",
     "text": [
      "60ml inside the bottle\n",
      "100ml inside the bottle\n",
      "100\n",
      "2000ml inside the bottle\n"
     ]
    }
   ],
   "source": [
    "class Bottle:\n",
    "    def __init__(self, quantity):\n",
    "        self._quantity = quantity ##_ single underscore을 붙여서 여기서만 사용하는것이라고 경고형태로 제공 \n",
    "        \n",
    "    def fill(self, quantity):\n",
    "        if self._quantity + quantity > 100:\n",
    "            self._quantity = 100\n",
    "        else:\n",
    "            self._quantity += quantity\n",
    "        \n",
    "    def empty(self):\n",
    "        self._quantity = 0\n",
    "        \n",
    "    def show(self):\n",
    "        print('{}ml inside the bottle'.format(self._quantity))\n",
    "        \n",
    "bottle = Bottle(20)\n",
    "bottle.fill(40)\n",
    "\n",
    "bottle.show()\n",
    "\n",
    "bottle.fill(50)\n",
    "\n",
    "bottle.show()\n",
    "\n",
    "# 100ml 이상 담을 수 없게 구현했으나, 사용자가 마음대로 외부에서 설정\n",
    "print(bottle._quantity)\n",
    "\n",
    "b.fill(2000)\n",
    "b._quantity = 2000\n",
    "\n",
    "b.show()"
   ]
  },
  {
   "cell_type": "markdown",
   "metadata": {},
   "source": [
    "* **private**\n",
    "  - 해당 클래스의 외부에서는 접근 불가능\n",
    "  - 파이썬의 경우 속성이름 앞에 __(double underscore)를 붙여서 private 속성으로 설정\n",
    "    - name mangling을 통해 속성의 이름을 변경하는 기법으로 private으로 설정\n",
    "  - 해당 속성의 경우, 클래스의 외부에서 접근할 경우 에러 발생"
   ]
  },
  {
   "cell_type": "code",
   "execution_count": 124,
   "metadata": {},
   "outputs": [
    {
     "name": "stdout",
     "output_type": "stream",
     "text": [
      "<__main__.Bottle object at 0x000002809620B9E8>\n",
      "None\n",
      "None\n",
      "0ml inside the bottle\n"
     ]
    }
   ],
   "source": [
    "bottle = Bottle(20)\n",
    "print (bottle)\n",
    "print(bottle.fill(20))\n",
    "print(bottle.empty())\n",
    "\n",
    "bottle.show()\n",
    "\n",
    "\n"
   ]
  },
  {
   "cell_type": "code",
   "execution_count": 125,
   "metadata": {},
   "outputs": [
    {
     "ename": "AttributeError",
     "evalue": "'Bottle' object has no attribute '__quantity'",
     "output_type": "error",
     "traceback": [
      "\u001b[1;31m---------------------------------------------------------------------------\u001b[0m",
      "\u001b[1;31mAttributeError\u001b[0m                            Traceback (most recent call last)",
      "\u001b[1;32m<ipython-input-125-ac6e9670ec2a>\u001b[0m in \u001b[0;36m<module>\u001b[1;34m()\u001b[0m\n\u001b[0;32m      2\u001b[0m \u001b[1;33m\u001b[0m\u001b[0m\n\u001b[0;32m      3\u001b[0m \u001b[1;33m\u001b[0m\u001b[0m\n\u001b[1;32m----> 4\u001b[1;33m \u001b[0mprint\u001b[0m\u001b[1;33m(\u001b[0m\u001b[0mbottle\u001b[0m\u001b[1;33m.\u001b[0m\u001b[0m__quantity\u001b[0m\u001b[1;33m)\u001b[0m\u001b[1;33m\u001b[0m\u001b[0m\n\u001b[0m\u001b[0;32m      5\u001b[0m \u001b[0mbottle\u001b[0m\u001b[1;33m.\u001b[0m\u001b[0m__quantity\u001b[0m \u001b[1;33m=\u001b[0m \u001b[1;36m3000\u001b[0m \u001b[1;31m## private : 클라스 외부에서 접근할 경우 에러발생\u001b[0m\u001b[1;33m\u001b[0m\u001b[0m\n\u001b[0;32m      6\u001b[0m \u001b[1;33m\u001b[0m\u001b[0m\n",
      "\u001b[1;31mAttributeError\u001b[0m: 'Bottle' object has no attribute '__quantity'"
     ]
    }
   ],
   "source": [
    "# 아무 변화를 주지 못함\n",
    "\n",
    "\n",
    "print(bottle.__quantity)\n",
    "bottle.__quantity = 3000 ## private : 클라스 외부에서 접근할 경우 에러발생 \n",
    "\n",
    "# name mangling으로 속성의 이름을 변경\n",
    "# bottle._Bottle__quantity = 3000\n",
    "\n",
    "bottle.show()"
   ]
  },
  {
   "cell_type": "code",
   "execution_count": 115,
   "metadata": {},
   "outputs": [
    {
     "name": "stdout",
     "output_type": "stream",
     "text": [
      "60ml inside the bottle\n",
      "100ml inside the bottle\n"
     ]
    }
   ],
   "source": [
    "class Bottle:\n",
    "    def __init__(self, quantity):\n",
    "        self.__quantity = quantity ##__ 차이점: double underscore을 붙여서 여기서만 사용하는것이라고 private 지정 \n",
    "        \n",
    "    def fill(self, quantity):\n",
    "        if self.__quantity + quantity > 100:\n",
    "            self.__quantity = 100\n",
    "        else:\n",
    "            self.__quantity += quantity\n",
    "        \n",
    "    def empty(self):\n",
    "        self.__quantity = 0\n",
    "        \n",
    "    def show(self):\n",
    "        print('{}ml inside the bottle'.format(self.__quantity))\n",
    "        \n",
    "bottle = Bottle(20)\n",
    "bottle.fill(40)\n",
    "\n",
    "bottle.show()\n",
    "\n",
    "bottle.fill(50)\n",
    "\n",
    "bottle.show()\n",
    "\n",
    "# 100ml 이상 담을 수 없게 구현했으나, 사용자가 마음대로 외부에서 설정\n",
    "\n",
    "\n",
    "\n"
   ]
  },
  {
   "cell_type": "markdown",
   "metadata": {},
   "source": [
    "* **연습문제**\n",
    "0. Circle class를 작성하세요\n",
    "  - radius 속성을 갖습니다.\n",
    "  - 생성자에서 해당 속성을 초기화 합니다. __init__(self, radius)\n",
    "  - 넓이, 둘레를 구하는 함수를 작성하세요 get_area(self),  get_length(self)\n",
    "  \n",
    "1. BankAccount class를 작성하세요\n",
    "  - 해당 클래스는 amount라는 속성을 갖습니다.\n",
    "  - 생성자에서 해당 속성을 초기화 해줍니다. (__init__(self, amount))\n",
    "  - 해당 클래스는 인출, 저금의 기능을 갖습니다. withdraw(self, amount), save(self, amount)\n",
    "  - 해당 클래스는 잔액 확인 기능을 갖습니다. check(self)\n",
    "  - 해당 클래스는 복리 이자 체크 기능을 갖습니다. check_interest(self, interest_month, duration_month)\n",
    "\n",
    "2. 학생 성적 class관리를 위해 class를 작성하세요\n",
    " - 해당 클래스는 kor, eng, math라는 float 속성을 갖습니다.\n",
    " - 해당 클래스는 각 점수를 출력 기능을 갖습니다. print(self)\n",
    " - 해당 클래스는 점수의 평균을 반환하는 기능을 갖습니다. get_average(self)\n",
    " \n",
    "3. 비디오 가게 관리 class를 작성하세요\n",
    " - videos라는 딕셔너리 속성을 갖습니다.\n",
    " - 새 비디오 추가 기능 add_video(title)\n",
    " - 비디오 검색 기능 find_video(title)\n",
    " - 비디오가 신작인지 아닌지 판별하는 함수 (나온지 일주일 내를 신작이라고 평가) is_new_release(title)"
   ]
  },
  {
   "cell_type": "code",
   "execution_count": 160,
   "metadata": {},
   "outputs": [
    {
     "name": "stdout",
     "output_type": "stream",
     "text": [
      "10 is radius and <bound method Circle.length of <__main__.Circle object at 0x00000280975BB3C8>> is its area\n"
     ]
    }
   ],
   "source": [
    "import numpy as np\n",
    "\n",
    "class Circle: ## radius 반지름 diameter 지름 \n",
    "    def __init__(self,radius):\n",
    "        self.radius = radius\n",
    "    def area(self):\n",
    "        return self.radius**2*np.pi \n",
    "    def length(self):\n",
    "        return self.radius*2*np.pi \n",
    "    def show(self):\n",
    "        print('{} is radius and {} is its area'.format(self.radius, self.length))\n",
    "C1 = Circle(10)\n",
    "C1.area()\n",
    "\n",
    "C1.show()"
   ]
  },
  {
   "cell_type": "code",
   "execution_count": 158,
   "metadata": {
    "collapsed": true
   },
   "outputs": [],
   "source": [
    "## 선생님 답\n",
    "class Circle: \n",
    "    def __init__(self, r):\n",
    "        self.radius = r\n",
    "        \n",
    "    def get_area(self):\n",
    "        return 3.14 * self.radius ** 2\n",
    "        \n",
    "    def get_length(self):\n",
    "        return 2 * 3.14 * self.radius"
   ]
  },
  {
   "cell_type": "code",
   "execution_count": 159,
   "metadata": {},
   "outputs": [
    {
     "data": {
      "text/plain": [
       "314.0"
      ]
     },
     "execution_count": 159,
     "metadata": {},
     "output_type": "execute_result"
    }
   ],
   "source": [
    "c1 = Circle(10)\n",
    "c2 = Circle(20)\n",
    "\n",
    "c1.get_area()"
   ]
  },
  {
   "cell_type": "code",
   "execution_count": 7,
   "metadata": {},
   "outputs": [
    {
     "name": "stdout",
     "output_type": "stream",
     "text": [
      "your balance is 11800\n"
     ]
    }
   ],
   "source": [
    "class Bankaccount:\n",
    "    def __init__(self,amount): ## __init__생성자 = 멤버변수, 속성 \n",
    "        self.amount = amount\n",
    "    def withdraw(self,amount):\n",
    "        if self.amount>=amount:\n",
    "            self.amount-=amount\n",
    "        else:\n",
    "            print ('not enough money')\n",
    "    def deposit(self,amount):\n",
    "        self.amount+=amount\n",
    "    def check(self):\n",
    "        print('your balance is',self.amount)\n",
    "        \n",
    "account1=Bankaccount(2000)\n",
    "account1.deposit(10000)\n",
    "account1.withdraw(200)\n",
    "account1.check()"
   ]
  },
  {
   "cell_type": "code",
   "execution_count": null,
   "metadata": {
    "collapsed": true
   },
   "outputs": [],
   "source": [
    "## 선생님 답\n",
    "\n",
    "class BankAccount:\n",
    "    def __init__(self, amount):\n",
    "        self.amount = amount\n",
    "        \n",
    "    def deposit(self, amount):\n",
    "        self.amount += amount\n",
    "        \n",
    "    def withdraw(self, amount):\n",
    "        if self.amount >= amount:\n",
    "            self.amount -= amount\n",
    "        else:\n",
    "            print('not enough money')\n",
    "        \n",
    "    def check(self):\n",
    "        print('money :', self.amount)\n",
    "        \n",
    "    def check_interest(self, interest, duration):\n",
    "        return self.amount * (1 + interest) ** duration\n",
    "        \n",
    "    \n",
    "b1 = BankAccount(1000)\n",
    "b1.deposit(20000)\n",
    "\n",
    "b1.check()\n",
    "\n",
    "b1.withdraw(300000)\n",
    "\n",
    "b1.check()"
   ]
  },
  {
   "cell_type": "code",
   "execution_count": 162,
   "metadata": {
    "collapsed": true
   },
   "outputs": [],
   "source": [
    "import datetime \n"
   ]
  },
  {
   "cell_type": "code",
   "execution_count": 163,
   "metadata": {},
   "outputs": [
    {
     "data": {
      "text/plain": [
       "['MAXYEAR',\n",
       " 'MINYEAR',\n",
       " '__builtins__',\n",
       " '__cached__',\n",
       " '__doc__',\n",
       " '__file__',\n",
       " '__loader__',\n",
       " '__name__',\n",
       " '__package__',\n",
       " '__spec__',\n",
       " '_divide_and_round',\n",
       " 'date',\n",
       " 'datetime',\n",
       " 'datetime_CAPI',\n",
       " 'time',\n",
       " 'timedelta',\n",
       " 'timezone',\n",
       " 'tzinfo']"
      ]
     },
     "execution_count": 163,
     "metadata": {},
     "output_type": "execute_result"
    }
   ],
   "source": [
    "dir(datetime)"
   ]
  },
  {
   "cell_type": "code",
   "execution_count": 164,
   "metadata": {},
   "outputs": [
    {
     "data": {
      "text/plain": [
       "datetime.datetime(2017, 9, 18, 2, 9, 0, 294198)"
      ]
     },
     "execution_count": 164,
     "metadata": {},
     "output_type": "execute_result"
    }
   ],
   "source": [
    "datetime.datetime.now()"
   ]
  },
  {
   "cell_type": "code",
   "execution_count": 17,
   "metadata": {
    "collapsed": true
   },
   "outputs": [],
   "source": [
    "class Videomanager:\n",
    "    def __init__(self): ## self 는 자기자신 그러므로 안정해줘도 됌\n",
    "        self.videos = {}\n",
    "    def add_video(self,title, release_day, genre):\n",
    "        self.videos[title] = {'genre':genre, 'date': release_day}\n",
    "    def find_video (self,title):\n",
    "        return title in self.videos\n",
    "    def new_release (self, title):\n",
    "        release_day = self.videos[title]['date']\n",
    "        return (datetime.datetime.now() - release_day).days <7\n",
    "        "
   ]
  },
  {
   "cell_type": "code",
   "execution_count": 18,
   "metadata": {},
   "outputs": [
    {
     "name": "stdout",
     "output_type": "stream",
     "text": [
      "False\n"
     ]
    }
   ],
   "source": [
    "videostore = Videomanager()\n",
    "videostore.add_video('taxi driver',datetime.datetime(2017,9,7),'animation')\n",
    "\n",
    "print(videostore.new_release('taxi driver'))"
   ]
  },
  {
   "cell_type": "code",
   "execution_count": null,
   "metadata": {
    "collapsed": true
   },
   "outputs": [],
   "source": []
  },
  {
   "cell_type": "markdown",
   "metadata": {},
   "source": [
    " * **Class Inheritance (상속)**\n",
    "  - 기존에 정의해둔 클래스의 기능을 그대로 물려받을 수 있다.\n",
    "  - 기존 클래스에 기능 일부를 추가하거나, 변경하여 새로운 클래스를 정의한다.\n",
    "  - 코드를 재사용할 수 있게된다.\n",
    "  - 상속 받고자 하는 대상인 기존 클래스는 (Parent, Super, Base class 라고 부른다.)\n",
    "  - 상속 받는 새로운 클래스는(Child, Sub, Derived class 라고 부른다.)\n",
    "  - 의미적으로 is-a관계를 갖는다"
   ]
  },
  {
   "cell_type": "markdown",
   "metadata": {},
   "source": [
    "* **method override**\n",
    " - 부모 클래스의 method를 재정의(override)\n",
    " - 하위 클래스(자식 클래스) 의 인스턴스로 호출시, 재정의된 메소드가 호출됨"
   ]
  },
  {
   "cell_type": "code",
   "execution_count": 167,
   "metadata": {},
   "outputs": [
    {
     "name": "stdout",
     "output_type": "stream",
     "text": [
      "work hard\n",
      "work hard\n",
      "Go to school\n"
     ]
    }
   ],
   "source": [
    "class Person:\n",
    "    def work(self):\n",
    "        print('work hard')\n",
    "        \n",
    "#class Student(object):\n",
    "class Student(Person):\n",
    "    def work(self):\n",
    "        print('Study hard')\n",
    "        \n",
    "    def go_to_school(self):\n",
    "        print('Go to school')\n",
    "        \n",
    "\n",
    "p1 = Person()\n",
    "s1 = Student()\n",
    "\n",
    "p1.work()\n",
    "#p1.go_to_school()\n",
    "\n",
    "s1.work()\n",
    "s1.go_to_school()"
   ]
  },
  {
   "cell_type": "code",
   "execution_count": 169,
   "metadata": {},
   "outputs": [
    {
     "name": "stdout",
     "output_type": "stream",
     "text": [
      "work hard\n",
      "work hard\n",
      "Go to school\n"
     ]
    }
   ],
   "source": [
    "class Person:\n",
    "    def work(self):\n",
    "        print('work hard')\n",
    "\n",
    "class Student(Person): ## Student 클라스에 부모 person 클라스 넣고 s1.work를 넣으면 work 메소드 없어도  work hard 가 나옴 \n",
    "  \n",
    "    def go_to_school(self):\n",
    "        print('Go to school')\n",
    "        \n",
    "\n",
    "p1 = Person()\n",
    "s1 = Student()\n",
    "\n",
    "p1.work()\n",
    "#p1.go_to_school()\n",
    "\n",
    "s1.work()\n",
    "s1.go_to_school()"
   ]
  },
  {
   "cell_type": "markdown",
   "metadata": {},
   "source": [
    "* super \n",
    " - 하위클래스(자식 클래스)에서 부모클래스의 method를 호출할 때 사용"
   ]
  },
  {
   "cell_type": "code",
   "execution_count": 174,
   "metadata": {},
   "outputs": [
    {
     "name": "stdout",
     "output_type": "stream",
     "text": [
      "Dr.bob\n",
      "Dr.aaron\n",
      "True\n",
      "True\n",
      "True\n",
      "False\n",
      "Dr.aaron macmath22@gmail.com\n"
     ]
    },
    {
     "ename": "AttributeError",
     "evalue": "'Person' object has no attribute 'email'",
     "output_type": "error",
     "traceback": [
      "\u001b[1;31m---------------------------------------------------------------------------\u001b[0m",
      "\u001b[1;31mAttributeError\u001b[0m                            Traceback (most recent call last)",
      "\u001b[1;32m<ipython-input-174-5da439a2996f>\u001b[0m in \u001b[0;36m<module>\u001b[1;34m()\u001b[0m\n\u001b[0;32m     21\u001b[0m \u001b[1;33m\u001b[0m\u001b[0m\n\u001b[0;32m     22\u001b[0m \u001b[0mprint\u001b[0m \u001b[1;33m(\u001b[0m\u001b[0ms1\u001b[0m\u001b[1;33m.\u001b[0m\u001b[0mname\u001b[0m\u001b[1;33m,\u001b[0m \u001b[0ms1\u001b[0m\u001b[1;33m.\u001b[0m\u001b[0memail\u001b[0m\u001b[1;33m)\u001b[0m\u001b[1;33m\u001b[0m\u001b[0m\n\u001b[1;32m---> 23\u001b[1;33m \u001b[0mprint\u001b[0m \u001b[1;33m(\u001b[0m\u001b[0mp1\u001b[0m\u001b[1;33m.\u001b[0m\u001b[0mname\u001b[0m\u001b[1;33m,\u001b[0m \u001b[0mp1\u001b[0m\u001b[1;33m.\u001b[0m\u001b[0memail\u001b[0m\u001b[1;33m)\u001b[0m\u001b[1;33m\u001b[0m\u001b[0m\n\u001b[0m\u001b[0;32m     24\u001b[0m \u001b[1;33m\u001b[0m\u001b[0m\n\u001b[0;32m     25\u001b[0m \u001b[1;33m\u001b[0m\u001b[0m\n",
      "\u001b[1;31mAttributeError\u001b[0m: 'Person' object has no attribute 'email'"
     ]
    }
   ],
   "source": [
    "class Person:\n",
    "    def __init__(self, name):\n",
    "        self.name = 'Dr.' + name\n",
    "        print(self.name)\n",
    "\n",
    "class Student(Person):\n",
    "    def __init__(self, name, email):\n",
    "        super().__init__(name)\n",
    "\n",
    "        #self.name = name # 위와 무엇이 다를까요?\n",
    "        self.email = email\n",
    "        \n",
    "p1 = Person('bob')\n",
    "s1 = Student('aaron', 'macmath22@gmail.com')\n",
    "\n",
    "print(isinstance(s1, Person))  ## s1은person의 객체인지 물어봄 = True \n",
    "print(isinstance(s1, Student)) \n",
    "\n",
    "print(isinstance(p1, Person))  \n",
    "print(isinstance(p1, Student))   ## p1은person의 객체인지 물어봄 = False\n",
    "\n",
    "print (s1.name, s1.email)\n",
    "print (p1.name, p1.email) ## p1의 Person 클라스에는 email 속성없음 \n",
    "\n",
    "\n"
   ]
  },
  {
   "cell_type": "markdown",
   "metadata": {},
   "source": [
    "* **self**\n",
    " - 파이썬의 method는 항상 첫번째 인자로 self를 전달\n",
    " - self는 현재 해당 메쏘드가 호출되는 객체 자신을 가리킴\n",
    " - C++/C#, Java의 this에 해당\n",
    " - 역시, 이름이 self일 필요는 없으나, 위치는 항상 맨 처음의 parameter이며 관례적으로 self로 사용"
   ]
  },
  {
   "cell_type": "code",
   "execution_count": 28,
   "metadata": {},
   "outputs": [
    {
     "name": "stdout",
     "output_type": "stream",
     "text": [
      "bob\n",
      "bob\n",
      "studying english for 10\n",
      "studying science for 10\n",
      "studying science for 100\n"
     ]
    }
   ],
   "source": [
    "class Person:\n",
    "    def __init__(self, name): ## 생성자 , 맨처음의 파라미터는 무조건 self를 넣어준다. 또는 self 라고 대변되는것을 넣어준다 \n",
    "        self.name = name\n",
    "        print(self.name)\n",
    "        \n",
    "    def study(self, hour):\n",
    "        print(self.name)\n",
    "        self.study_english(hour)\n",
    "        self.study_science(hour)\n",
    "    \n",
    "    def study_english(self, hour):\n",
    "        print('studying english for {}'.format(hour))\n",
    "    \n",
    "    def study_science(self, hour):\n",
    "        print('studying science for {}'.format(hour))\n",
    "        \n",
    "p1 = Person('bob')\n",
    "p1.study(10)\n",
    "\n",
    "#study(10)\n",
    "#Person.study(10)\n",
    "p1.study_science(100)"
   ]
  },
  {
   "cell_type": "code",
   "execution_count": 30,
   "metadata": {},
   "outputs": [
    {
     "name": "stdout",
     "output_type": "stream",
     "text": [
      "aaron\n",
      "aaron\n",
      "Ted\n",
      "Ted\n"
     ]
    }
   ],
   "source": [
    "p1 = Person('aaron')\n",
    "print(p1.name)\n",
    "p1.test = 100\n",
    "\n",
    "p2 = Person('Ted')\n",
    "print(p2.name)"
   ]
  },
  {
   "cell_type": "markdown",
   "metadata": {},
   "source": [
    "* **method type**\n",
    " - instance method - 객체로 호출\n",
    "   - 메쏘드는 객체 레벨로 호출 되기 때문에, 해당 메쏘드를 호출한 객체에만 영향을 미침\n",
    " - class method    - class로 호출\n",
    "       - 클래스 메쏘드의 경우, 클래스 레벨로 호출되기 때문에, 클래스 멤버 변수만 변경 가능\n"
   ]
  },
  {
   "cell_type": "code",
   "execution_count": 16,
   "metadata": {},
   "outputs": [
    {
     "name": "stdout",
     "output_type": "stream",
     "text": [
      "3\n",
      "2\n",
      "44\n",
      "55\n",
      "10\n"
     ]
    }
   ],
   "source": [
    "class A(object):\n",
    "    count = 0 # static member (class variable)\n",
    "    \n",
    "    def __init__(self, cnt): ##카운트 준말 \n",
    "        A.count += 1\n",
    "        self.cnt = cnt # member variable, attribute\n",
    "        \n",
    "    def print_cnt(self): # memeber function, method\n",
    "        print(self.cnt)\n",
    "        \n",
    "    @classmethod # class method, static function\n",
    "    def print_count(cla): ## class A 가 쓰인횟수\n",
    "        print(cla.count*2)\n",
    "        \n",
    "a1 = A(1)\n",
    "a1 = A(3)\n",
    "a2 = A(2)\n",
    "a3 = A(44)\n",
    "a4 = A(55)\n",
    "\n",
    "a1.print_cnt()\n",
    "a2.print_cnt()\n",
    "a3.print_cnt()\n",
    "a4.print_cnt()\n",
    "\n",
    "A.print_count()"
   ]
  },
  {
   "cell_type": "markdown",
   "metadata": {},
   "source": [
    "* **Duck typing**\n",
    " - 다형성에 대한 느슨한 구현.\n",
    " - 클래스에 관계없이 같은 동작을 다른객체에 적용\n",
    " - 타입에 관계없이 같은 method를 구현한 것으로 다형성에 활용"
   ]
  },
  {
   "cell_type": "code",
   "execution_count": 7,
   "metadata": {},
   "outputs": [
    {
     "name": "stdout",
     "output_type": "stream",
     "text": [
      "aaron play baseball\n",
      "bob play baseball\n",
      "aaron play baseball\n",
      "sam play basketball\n",
      "knight play basketball\n",
      "Songsong video played...\n",
      "bob play baseball\n",
      "mike play baseball\n",
      "tim play basketball\n"
     ]
    }
   ],
   "source": [
    "class BaseballPlayer(object):\n",
    "    def __init__(self, name):\n",
    "        self.name = name\n",
    "        \n",
    "    def play(self):\n",
    "        print(self.name, 'play baseball')\n",
    "        \n",
    "class BasketballPlayer(object):\n",
    "    def __init__(self, name):\n",
    "        self.name = name\n",
    "        \n",
    "    def play(self):\n",
    "        print(self.name, 'play basketball')\n",
    "        \n",
    "\n",
    "class Video(object):\n",
    "    def __init__(self, name):\n",
    "        self.name = name\n",
    "        \n",
    "    def play(self):\n",
    "        \n",
    "        print(self.name, 'video played...')\n",
    "        \n",
    "        \n",
    "b1 = BaseballPlayer('aaron')\n",
    "b2 = BaseballPlayer('bob')\n",
    "b3 = BaseballPlayer('mike')\n",
    "\n",
    "b11 = BasketballPlayer('sam')\n",
    "b12 = BasketballPlayer('knight')\n",
    "b13 = BasketballPlayer('tim')\n",
    "\n",
    "b14 = Video('Songsong')\n",
    "\n",
    "b1.play()\n",
    "b2.play()\n",
    "\n",
    "pupu = [b1, b11, b12, b14, b2, b3, b13] ## 리스트이름 아무거나 상관없음 \n",
    "\n",
    "for player in pupu:\n",
    "    player.play() ## 멤버 변수, 멤버 함수 \n",
    "        "
   ]
  },
  {
   "cell_type": "markdown",
   "metadata": {},
   "source": [
    "* **special method**\n",
    " - __로 시작 __로 끝나는 특수 함수 (더블언더바) \n",
    " - 해당 메쏘드들을 구현하면, 커스텀 객체에 여러가지 파이썬 내장 함수나 연산자를 적용 가능\n",
    " - https://docs.python.org/2/reference/datamodel.html"
   ]
  },
  {
   "cell_type": "code",
   "execution_count": 3,
   "metadata": {},
   "outputs": [
    {
     "name": "stdout",
     "output_type": "stream",
     "text": [
      "x:3, y:4\n",
      "x:9, y:2 x:12, y:16\n"
     ]
    },
    {
     "data": {
      "text/plain": [
       "4"
      ]
     },
     "execution_count": 3,
     "metadata": {},
     "output_type": "execute_result"
    }
   ],
   "source": [
    "class Point:\n",
    "    def __init__(self,x,y):\n",
    "        self.x = x\n",
    "        self.y = y\n",
    "    \n",
    "    def __add__(self,p):\n",
    "        #new_x = self.x + p.x\n",
    "        #new_y = self.y + p.y\n",
    "        return Point(self.x + p.x, self.y + p.y) \n",
    "    \n",
    "    def __len__(self):\n",
    "        return self.x**2 + self.y**2 \n",
    "    \n",
    "    def __mul__(self,num):\n",
    "        return Point(self.x * num, self.y * num) \n",
    "    \n",
    "    def __getitem__(self, index):\n",
    "        if index == 0:\n",
    "            return self.x\n",
    "        elif index == 1:\n",
    "            return self.y\n",
    "        \n",
    "        raise Exception ('invalid index')\n",
    "            \n",
    "    def __str__(self): ## 커스텀하게 출력가능 \n",
    "        return 'x:{}, y:{}'.format(self.x,self.y)\n",
    "    \n",
    "    def __repr__(self):\n",
    "        return ' haha x:{}, y:{}'.format(self.x,self.y)\n",
    "\n",
    "    \n",
    "p1 = Point(3,4)\n",
    "p2 = Point(6,-2)\n",
    "\n",
    "print(p1) ## 아웃풋을 커스텀하게 출력해줌\n",
    "p1 ## 아웃풋,출력하면 저장이 어디되어있는지 알수 있음 \n",
    "\n",
    "## 새로운 값을 넣어줘서 더하기 \n",
    "p3 = p1.__add__(p2) ## 같은말 p1+p2\n",
    "p4 = p1.__mul__(4) ## p4 = p1*4\n",
    "print(p3,p4)\n",
    "\n",
    "len(p3)\n",
    "p1[1] ## 만약 정의되지 않으면 에러 "
   ]
  },
  {
   "cell_type": "code",
   "execution_count": 4,
   "metadata": {},
   "outputs": [
    {
     "ename": "TypeError",
     "evalue": "unsupported operand type(s) for *: 'int' and 'Point'",
     "output_type": "error",
     "traceback": [
      "\u001b[1;31m---------------------------------------------------------------------------\u001b[0m",
      "\u001b[1;31mTypeError\u001b[0m                                 Traceback (most recent call last)",
      "\u001b[1;32m<ipython-input-4-ea0036cb3ffc>\u001b[0m in \u001b[0;36m<module>\u001b[1;34m()\u001b[0m\n\u001b[0;32m      2\u001b[0m \u001b[1;33m\u001b[0m\u001b[0m\n\u001b[0;32m      3\u001b[0m \u001b[0mp3\u001b[0m \u001b[1;33m=\u001b[0m \u001b[0mp1\u001b[0m \u001b[1;33m*\u001b[0m \u001b[1;36m4\u001b[0m \u001b[1;31m# p1.__mul__(4)\u001b[0m\u001b[1;33m\u001b[0m\u001b[0m\n\u001b[1;32m----> 4\u001b[1;33m \u001b[0mp4\u001b[0m \u001b[1;33m=\u001b[0m \u001b[1;36m4\u001b[0m \u001b[1;33m*\u001b[0m \u001b[0mp1\u001b[0m \u001b[1;31m# 4.__mul__(p1)\u001b[0m\u001b[1;33m\u001b[0m\u001b[0m\n\u001b[0m",
      "\u001b[1;31mTypeError\u001b[0m: unsupported operand type(s) for *: 'int' and 'Point'"
     ]
    }
   ],
   "source": [
    "p1 + p2 + p1\n",
    "\n",
    "p3 = p1 * 4 # p1.__mul__(4)\n",
    "p4 = 4 * p1 # 4.__mul__(p1)\n"
   ]
  },
  {
   "cell_type": "markdown",
   "metadata": {},
   "source": [
    "is vs ==\n",
    "is : reference가 가리키는 객체 자체가 같은 경우 True\n",
    "== : reference가 가리키는 값들이 같은 경우 True"
   ]
  },
  {
   "cell_type": "code",
   "execution_count": 35,
   "metadata": {},
   "outputs": [
    {
     "name": "stdout",
     "output_type": "stream",
     "text": [
      "True\n",
      "True\n",
      "True\n",
      "5\n",
      "5\n",
      "3\n",
      "[aaron, Aaron, Bob, Mark]\n"
     ]
    },
    {
     "ename": "AttributeError",
     "evalue": "'list' object has no attribute 'length'",
     "output_type": "error",
     "traceback": [
      "\u001b[1;31m---------------------------------------------------------------------------\u001b[0m",
      "\u001b[1;31mAttributeError\u001b[0m                            Traceback (most recent call last)",
      "\u001b[1;32m<ipython-input-35-73bdecbd3945>\u001b[0m in \u001b[0;36m<module>\u001b[1;34m()\u001b[0m\n\u001b[0;32m     47\u001b[0m \u001b[0ma\u001b[0m \u001b[1;33m=\u001b[0m \u001b[1;33m[\u001b[0m\u001b[0mw1\u001b[0m\u001b[1;33m,\u001b[0m \u001b[0mw2\u001b[0m\u001b[1;33m,\u001b[0m \u001b[0mw3\u001b[0m\u001b[1;33m,\u001b[0m \u001b[0mw4\u001b[0m\u001b[1;33m]\u001b[0m\u001b[1;33m\u001b[0m\u001b[0m\n\u001b[0;32m     48\u001b[0m \u001b[0mprint\u001b[0m\u001b[1;33m(\u001b[0m\u001b[0ma\u001b[0m\u001b[1;33m.\u001b[0m\u001b[0m__str__\u001b[0m\u001b[1;33m(\u001b[0m\u001b[1;33m)\u001b[0m\u001b[1;33m)\u001b[0m\u001b[1;33m\u001b[0m\u001b[0m\n\u001b[1;32m---> 49\u001b[1;33m \u001b[0mprint\u001b[0m\u001b[1;33m(\u001b[0m\u001b[0ma\u001b[0m\u001b[1;33m.\u001b[0m\u001b[0mlength\u001b[0m\u001b[1;33m(\u001b[0m\u001b[1;33m)\u001b[0m\u001b[1;33m)\u001b[0m\u001b[1;33m\u001b[0m\u001b[0m\n\u001b[0m\u001b[0;32m     50\u001b[0m \u001b[1;33m\u001b[0m\u001b[0m\n\u001b[0;32m     51\u001b[0m \u001b[0mw1\u001b[0m\u001b[1;33m.\u001b[0m\u001b[0mappend\u001b[0m\u001b[1;33m(\u001b[0m\u001b[0mw2\u001b[0m\u001b[1;33m)\u001b[0m\u001b[1;33m\u001b[0m\u001b[0m\n",
      "\u001b[1;31mAttributeError\u001b[0m: 'list' object has no attribute 'length'"
     ]
    }
   ],
   "source": [
    "class Word(object):\n",
    "    def __init__(self, text, email):\n",
    "        self.text = text\n",
    "        self.email = email\n",
    "        \n",
    "    def compare(self, word2):\n",
    "        return self.text.lower() == word2.text.lower()\n",
    "    \n",
    "    def __eq__(self, word2):\n",
    "        return self.text.lower() == word2.text.lower() and \\\n",
    "                self.email == word2.email\n",
    "    \n",
    "    def __len__(self):\n",
    "        return len(self.text)\n",
    "    \n",
    "    def length(self):\n",
    "        return len(self.text)\n",
    "    \n",
    "    def append(self, word2):\n",
    "        return Word(self.text + ' ' + word2.text)\n",
    "    \n",
    "    def __add__(self, word2):\n",
    "        return Word(self.text + ' ' + word2.text)\n",
    "    \n",
    "    def __str__(self):\n",
    "        return self.text\n",
    "    \n",
    "    def __repr__(self):\n",
    "        return self.text\n",
    "         \n",
    "    \n",
    "w1 = Word('aaron', 'test@gmail.com')\n",
    "w2 = Word('Aaron', 'test@gmail.com')\n",
    "w3 = Word('Bob', '')\n",
    "w4 = Word('Mark', 'Mark@gmail.com')\n",
    "\n",
    "print(w1.compare(w2))\n",
    "print(w1 == w2)\n",
    "print(w1.__eq__(w2))\n",
    "\n",
    "print(len(w1))\n",
    "print(len(w2))\n",
    "\n",
    "print(w3.length())\n",
    "\n",
    "\n",
    "\n",
    "a = [w1, w2, w3, w4]\n",
    "print(a.__str__())\n",
    "print(a.length())\n",
    "\n",
    "w1.append(w2)\n",
    "w5 = w1 + w2"
   ]
  },
  {
   "cell_type": "markdown",
   "metadata": {},
   "source": [
    "* 연습문제 \n",
    "  - Word 클래스를 생성하여 Word를 원소로 갖는 리스트를 생성하세요.\n",
    "   1. 문자의 길이를 기준으로 정렬해보세요. ( __len__(self)를 정의하면 len(w1)을 사용 할 수 있습니다. )\n",
    "   2. 두번째 문자를 기준으로 정렬해보세요. ( __getitem__(self, key)를 정의하면 w1[]을 사용 할 수 있습니다. )"
   ]
  },
  {
   "cell_type": "code",
   "execution_count": 34,
   "metadata": {},
   "outputs": [
    {
     "data": {
      "text/plain": [
       "[car, apple, super, monkey, elephant]"
      ]
     },
     "execution_count": 34,
     "metadata": {},
     "output_type": "execute_result"
    }
   ],
   "source": [
    "class Word:\n",
    "    def __init__(self, name):\n",
    "        self.name = name\n",
    "    def __len__(self):\n",
    "        return len(self.name)\n",
    "    def __getitem__(self,key):\n",
    "        return self.name[key]\n",
    "    \n",
    "    def __str__(self): ## 커스텀하게 출력가능 \n",
    "        return self.name\n",
    "    \n",
    "    def __repr__(self): ## 리퍼런스 \n",
    "        return self.name\n",
    "    \n",
    "words = [Word('car'),Word('apple'),Word('elephant'),Word('monkey'),Word('super')]\n",
    "        \n",
    "list(sorted(words, key =lambda x:len(x)))"
   ]
  },
  {
   "cell_type": "code",
   "execution_count": 2,
   "metadata": {},
   "outputs": [
    {
     "name": "stdout",
     "output_type": "stream",
     "text": [
      "[1, 2, 3, 4] [1, 2, 3, 4]\n",
      "[1, 2, 3, 4] [1, 2, 3, 4]\n"
     ]
    }
   ],
   "source": [
    "import copy \n",
    "\n",
    "a= [1,2,3,4]\n",
    "b= copy.copy(a)\n",
    "\n",
    "print(a,b)\n",
    "\n",
    "a[0]\n",
    "print(a,b)"
   ]
  },
  {
   "cell_type": "code",
   "execution_count": 3,
   "metadata": {},
   "outputs": [
    {
     "name": "stdout",
     "output_type": "stream",
     "text": [
      "[[10, 2], [3, 4]] [[10, 2], [3, 4]] [[1, 2], [3, 4]]\n"
     ]
    }
   ],
   "source": [
    "a = [[1,2],[3,4]]\n",
    "b = copy.copy(a) ## 참조\n",
    "c = copy.deepcopy(a)\n",
    "\n",
    "a[0][0] = 10 ## 내용바꿈 \n",
    "\n",
    "print(a,b,c)"
   ]
  },
  {
   "cell_type": "markdown",
   "metadata": {},
   "source": [
    "* **composition(포함)**\n",
    " - 다른 클래스의 기능을 그대로 이용하고 싶으나, 상속을 피하고 싶을 때 사용\n",
    " - 컴포지션, 또는 어그리게이션(aggregation)이라고 한다.\n",
    " - 주로 의미적으로 is-a 관계가 맞지 않을 때 사용한다, 맞을 경우 상속 , has-a는 포함관계  예를 들면 student is a person "
   ]
  },
  {
   "cell_type": "code",
   "execution_count": 38,
   "metadata": {},
   "outputs": [
    {
     "ename": "TypeError",
     "evalue": "__init__() takes 1 positional argument but 4 were given",
     "output_type": "error",
     "traceback": [
      "\u001b[1;31m---------------------------------------------------------------------------\u001b[0m",
      "\u001b[1;31mTypeError\u001b[0m                                 Traceback (most recent call last)",
      "\u001b[1;32m<ipython-input-38-ba378e8e48b0>\u001b[0m in \u001b[0;36m<module>\u001b[1;34m()\u001b[0m\n\u001b[0;32m     26\u001b[0m \u001b[0mbill\u001b[0m \u001b[1;33m=\u001b[0m \u001b[0mBill\u001b[0m\u001b[1;33m(\u001b[0m\u001b[1;34m'very good'\u001b[0m\u001b[1;33m)\u001b[0m\u001b[1;33m\u001b[0m\u001b[0m\n\u001b[0;32m     27\u001b[0m \u001b[1;33m\u001b[0m\u001b[0m\n\u001b[1;32m---> 28\u001b[1;33m \u001b[0mduck\u001b[0m \u001b[1;33m=\u001b[0m \u001b[0mDuck\u001b[0m\u001b[1;33m(\u001b[0m\u001b[0mbill\u001b[0m\u001b[1;33m,\u001b[0m \u001b[0mtail\u001b[0m\u001b[1;33m,\u001b[0m \u001b[1;34m'aaron'\u001b[0m\u001b[1;33m)\u001b[0m\u001b[1;33m\u001b[0m\u001b[0m\n\u001b[0m\u001b[0;32m     29\u001b[0m \u001b[0mduck\u001b[0m\u001b[1;33m.\u001b[0m\u001b[0meat\u001b[0m\u001b[1;33m(\u001b[0m\u001b[1;33m)\u001b[0m\u001b[1;33m\u001b[0m\u001b[0m\n",
      "\u001b[1;31mTypeError\u001b[0m: __init__() takes 1 positional argument but 4 were given"
     ]
    }
   ],
   "source": [
    "class Bill(object):\n",
    "    def __init__(self, desc):\n",
    "        self.desc = desc\n",
    "        \n",
    "    def drink(self):\n",
    "        pass\n",
    "        \n",
    "class Tail(object):\n",
    "    def __init__(self, length):\n",
    "        self.length = length\n",
    "        \n",
    "class Duck(object):\n",
    "    \n",
    "    def __init__(self):\n",
    "        self.bill = bill\n",
    "        self.tail = tail\n",
    "        self.name = name\n",
    "        \n",
    "    def eat(self):\n",
    "        self.bill.eat()\n",
    "        \n",
    "    def about(self):\n",
    "        print(self.name, 'has a bill and it is', self.bill.desc, 'and a tail length of', self.tail.length)\n",
    "        \n",
    "tail = Tail(8)\n",
    "bill = Bill('very good')\n",
    "\n",
    "duck = Duck(bill, tail, 'aaron')\n",
    "duck.eat()"
   ]
  },
  {
   "cell_type": "markdown",
   "metadata": {},
   "source": [
    "* 파이썬의 경우, 복소수를 지원하지만, 직접 만들어 봅시다"
   ]
  },
  {
   "cell_type": "code",
   "execution_count": 202,
   "metadata": {},
   "outputs": [
    {
     "data": {
      "text/plain": [
       "(3+9j)"
      ]
     },
     "execution_count": 202,
     "metadata": {},
     "output_type": "execute_result"
    }
   ],
   "source": [
    "1 + 4j + 2 + 5j"
   ]
  },
  {
   "cell_type": "markdown",
   "metadata": {},
   "source": [
    "* 연습문제)\n",
    " - 복소수 클래스를 정의 해봅시다.\n",
    " - 덧셈, 뺄셈, 곱셈 연산자 지원\n",
    " - 길이 (복소수의 크기) 지원 \n",
    " - 복소수 출력 '1 + 4j'와 같이 표현\n",
    " - 비교 연산 ==, != 지원\n",
    " - >=, <= , <, > 연산 지원\n",
    " - 절대값 지원\n"
   ]
  },
  {
   "cell_type": "code",
   "execution_count": 43,
   "metadata": {},
   "outputs": [
    {
     "name": "stdout",
     "output_type": "stream",
     "text": [
      "2+3\n"
     ]
    }
   ],
   "source": [
    "class ComplexNumber:\n",
    "    def __init__(self, real, img):\n",
    "        self.real = real\n",
    "        self.img = img\n",
    "    def add(self,cn):\n",
    "        return self.real + cn.real, self.img+ cn.img\n",
    "    def __str__(self):\n",
    "        return '{}{}{}'.format(self.real, '+' if self.img > 0 else '-', abs(self.img))\n",
    "    def __rfrn__(self):\n",
    "        return '{}{}{}j'.format(self.real, '+' if self.img > 0 else '-', abs(self.img))\n",
    "           \n",
    "        \n",
    "c1 = ComplexNumber(2,3)\n",
    "c2 = ComplexNumber(3,-4)\n",
    "    \n",
    "c1.add(c2)   \n",
    "print(c1)"
   ]
  },
  {
   "cell_type": "code",
   "execution_count": 58,
   "metadata": {
    "collapsed": true
   },
   "outputs": [],
   "source": [
    "class Stack:\n",
    "    def __init__(self, capacity):\n",
    "        self.capacity = capacity\n",
    "        self.stack = []\n",
    "        \n",
    "    # 스택이 비었다면 True, 아닌 경우 False\n",
    "    def is_empty(self):\n",
    "        if len(self.stack) == 0:\n",
    "            return True\n",
    "        return False \n",
    "    \n",
    "    # 스택이 차있다면 True, 아닌 경우 False\n",
    "    def is_full(self):\n",
    "        if len(self.stack) >= self.capacity:\n",
    "            return True\n",
    "        return False\n",
    "    \n",
    "    def count(self):\n",
    "        self.count = len(self.stack)\n",
    "    \n",
    "    # 스택의 공간이 있다면 데이터 삽입 후 True, 아닌 경우 False 반환\n",
    "    def push(self, data):\n",
    "        if self.is_full():\n",
    "            raise Exception ('stack is full')\n",
    "        \n",
    "        if len(self.stack) < self.capacity:\n",
    "            return self.stack.append(data)\n",
    "            #return True\n",
    "            \n",
    "        return False\n",
    "    \n",
    "    # 스택에서 top 데이터 삭제, 이때 삭제된 데이터 반환\n",
    "    def pop(self):\n",
    "        if self.is_empty():\n",
    "            raise Exception ('stack is empty') \n",
    "        return self.stack.pop()\n",
    "    \n",
    "    # 스택의 top 데이터 반환\n",
    "    def top(self):\n",
    "        return self.stack[-1]\n",
    "    \n",
    "    # 스택의 현재 데이터 출력\n",
    "    def show(self):\n",
    "        print(self.stack)"
   ]
  },
  {
   "cell_type": "code",
   "execution_count": 64,
   "metadata": {},
   "outputs": [
    {
     "name": "stdout",
     "output_type": "stream",
     "text": [
      "[]\n",
      "[1, 3, 2]\n"
     ]
    }
   ],
   "source": [
    "stack = Stack(5)\n",
    "stack.show()\n",
    "stack.push(1)\n",
    "stack.push(3)\n",
    "stack.push(2)\n",
    "stack.push(2)\n",
    "stack.pop()\n",
    "stack.show()\n"
   ]
  },
  {
   "cell_type": "code",
   "execution_count": null,
   "metadata": {
    "collapsed": true
   },
   "outputs": [],
   "source": []
  }
 ],
 "metadata": {
  "kernelspec": {
   "display_name": "Python 3",
   "language": "python",
   "name": "python3"
  },
  "language_info": {
   "codemirror_mode": {
    "name": "ipython",
    "version": 3
   },
   "file_extension": ".py",
   "mimetype": "text/x-python",
   "name": "python",
   "nbconvert_exporter": "python",
   "pygments_lexer": "ipython3",
   "version": "3.6.1"
  }
 },
 "nbformat": 4,
 "nbformat_minor": 1
}
