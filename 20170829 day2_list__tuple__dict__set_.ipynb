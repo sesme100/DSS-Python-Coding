{
 "cells": [
  {
   "cell_type": "markdown",
   "metadata": {},
   "source": [
    "# Data Science & Python"
   ]
  },
  {
   "cell_type": "markdown",
   "metadata": {},
   "source": [
    "## 학습목표\n",
    " 1. list, tuple, dictionary, set에 대해 이해 및 실습\n"
   ]
  },
  {
   "cell_type": "markdown",
   "metadata": {},
   "source": [
    "## List, Tuple, Dictionary, Set"
   ]
  },
  {
   "cell_type": "markdown",
   "metadata": {},
   "source": [
    "+ **list & tuple** \n",
    "\n",
    "''' 리스트의 경우 인덱스 검색 a[100]은 번지수 100을 준거기 때문에 메모리 점프해서 100번지에 있는 값을 바로 가져옴 \n",
    "그래서 Big O의 연산 값은 무조건 1이 됨'''\n",
    " * 복수개의 값을 담을 수 있는 데이터 구조\n",
    " * 실생활에서 사용하는 리스트(학생 리스트, 성적 리스트 등등)과 동일한 의미로 이해\n",
    " * list - mutable    (생성된 후에 변경 가능)  \n",
    " * tuple - immutable (생성된 후에 변경 불가능)  "
   ]
  },
  {
   "cell_type": "markdown",
   "metadata": {},
   "source": [
    "* **리스트 생성**\n",
    " - [] 안에 값을 담아서 생성\n",
    " - list() 함수로 생성\n",
    " - str.split()함수로 생성"
   ]
  },
  {
   "cell_type": "code",
   "execution_count": 1,
   "metadata": {},
   "outputs": [
    {
     "name": "stdout",
     "output_type": "stream",
     "text": [
      "[1, 2, 3, 5, 2, 1, 1, 2] <class 'list'>\n"
     ]
    }
   ],
   "source": [
    "a = [1, 2, 3, 5, 2, 1, 1, 2]\n",
    "print(a, type(a))"
   ]
  },
  {
   "cell_type": "code",
   "execution_count": 8,
   "metadata": {},
   "outputs": [
    {
     "name": "stdout",
     "output_type": "stream",
     "text": [
      "[]\n",
      "['Aaron', 'David', 'Bill', 'Michael', 'John']\n",
      "[1, 4, 5, 3]\n"
     ]
    }
   ],
   "source": [
    "empty_list = [] # 비어있는 리스트\n",
    "print (empty_list)\n",
    "\n",
    "first_names = ['Aaron', 'David', 'Bill', 'Michael', 'John'] #리스트\n",
    "print(first_names)\n",
    "\n",
    "nums = [1, 4, 5, 3]\n",
    "print(nums)"
   ]
  },
  {
   "cell_type": "code",
   "execution_count": null,
   "metadata": {
    "collapsed": true
   },
   "outputs": [],
   "source": [
    "empty_list2 = list() # 튜플\n",
    "print(empty_list2)"
   ]
  },
  {
   "cell_type": "markdown",
   "metadata": {},
   "source": [
    "+ **list() 함수**\n",
    " + 다른 데이터 타입을 리스트로 변환할 때도 사용"
   ]
  },
  {
   "cell_type": "code",
   "execution_count": 2,
   "metadata": {},
   "outputs": [
    {
     "name": "stdout",
     "output_type": "stream",
     "text": [
      "['c', 'a', 't']\n",
      "<class 'tuple'>\n",
      "['Monday', 'Tuesday', 'Wednesday'] <class 'list'>\n"
     ]
    }
   ],
   "source": [
    "cat = 'cat'\n",
    "print(list(cat)) # 각 문자열이 리스트의 원소가 됨 \n",
    "\n",
    "test_tuple = ('Monday', 'Tuesday', 'Wednesday')\n",
    "print(type(test_tuple))\n",
    "print(list(test_tuple), type(list(test_tuple)))"
   ]
  },
  {
   "cell_type": "markdown",
   "metadata": {},
   "source": [
    "+ **string split 함수**\n",
    " * 구분자로 구분되는 리스트를 반환 (빈번히 사용 됨)"
   ]
  },
  {
   "cell_type": "code",
   "execution_count": 3,
   "metadata": {},
   "outputs": [
    {
     "name": "stdout",
     "output_type": "stream",
     "text": [
      "['1986', '03', '20']\n",
      "['python', 'is', 'easy', 'to', 'learn']\n"
     ]
    }
   ],
   "source": [
    "a = '1986/03/20'\n",
    "result = a.split('/')\n",
    "print(result)\n",
    "\n",
    "python_str = 'python is easy to learn'\n",
    "print(python_str.split())"
   ]
  },
  {
   "cell_type": "code",
   "execution_count": null,
   "metadata": {
    "collapsed": true
   },
   "outputs": [],
   "source": [
    "a = 'a/b//c/d///e'\n",
    "\n",
    "print(a.split('/'))\n",
    "print(a.split('//'))"
   ]
  },
  {
   "cell_type": "markdown",
   "metadata": {},
   "source": [
    "+ **indexing**\n",
    " * 문자열의 인덱싱과 동일하게 동작\n",
    " * [] 연산자를 이용하여 항목 얻어오기\n",
    " * [i] - i번째 원소를 반환\n",
    " * i가 음수인 경우도 가능하며 마지막원소가 -1로 하여 앞으로 갈때마다 1씩 감소함"
   ]
  },
  {
   "cell_type": "code",
   "execution_count": 5,
   "metadata": {},
   "outputs": [
    {
     "name": "stdout",
     "output_type": "stream",
     "text": [
      "1988\n",
      "1989\n",
      "2013\n",
      "2019\n",
      "2019\n"
     ]
    },
    {
     "ename": "IndexError",
     "evalue": "tuple index out of range",
     "output_type": "error",
     "traceback": [
      "\u001b[1;31m---------------------------------------------------------------------------\u001b[0m",
      "\u001b[1;31mIndexError\u001b[0m                                Traceback (most recent call last)",
      "\u001b[1;32m<ipython-input-5-e950ec44ec18>\u001b[0m in \u001b[0;36m<module>\u001b[1;34m()\u001b[0m\n\u001b[0;32m     10\u001b[0m \u001b[1;33m\u001b[0m\u001b[0m\n\u001b[0;32m     11\u001b[0m \u001b[1;31m# 예외 발생 (index가 bound를 넘어감)\u001b[0m\u001b[1;33m\u001b[0m\u001b[1;33m\u001b[0m\u001b[0m\n\u001b[1;32m---> 12\u001b[1;33m \u001b[0mprint\u001b[0m\u001b[1;33m(\u001b[0m\u001b[0myears\u001b[0m\u001b[1;33m[\u001b[0m\u001b[1;36m5\u001b[0m\u001b[1;33m]\u001b[0m\u001b[1;33m)\u001b[0m\u001b[1;33m\u001b[0m\u001b[0m\n\u001b[0m",
      "\u001b[1;31mIndexError\u001b[0m: tuple index out of range"
     ]
    }
   ],
   "source": [
    "years = ['1988', '1989', '2013', '2016', '2019'] # 리스트 튜플값에서의 string 에서만 인덱싱 가능, 정수는 안됨\n",
    "print(years[0])\n",
    "print(years[1])\n",
    "print(years[2])\n",
    "\n",
    "# 마지막 원소에 대한 접근 \n",
    "\n",
    "print(years[len(years) - 1])\n",
    "print(years[-1])\n",
    "\n",
    "# 예외 발생 (index가 bound를 넘어감)\n",
    "print(years[5])"
   ]
  },
  {
   "cell_type": "markdown",
   "metadata": {},
   "source": [
    "* **연습문제**\n",
    "years[0][1]의 값은?"
   ]
  },
  {
   "cell_type": "code",
   "execution_count": 4,
   "metadata": {},
   "outputs": [
    {
     "data": {
      "text/plain": [
       "'9'"
      ]
     },
     "execution_count": 4,
     "metadata": {},
     "output_type": "execute_result"
    }
   ],
   "source": [
    "years = ['1988', '1989', '2013', '2016', '2019']\n",
    "years[0][1]"
   ]
  },
  {
   "cell_type": "markdown",
   "metadata": {},
   "source": [
    "* **multiple indexing** \n",
    " - []연산자의 경우 이어서 계속 적용 가능"
   ]
  },
  {
   "cell_type": "code",
   "execution_count": 6,
   "metadata": {},
   "outputs": [
    {
     "name": "stdout",
     "output_type": "stream",
     "text": [
      "1\n",
      "r\n",
      "a\n"
     ]
    }
   ],
   "source": [
    "seoul = ('sinsa', 'gangnam', 'jongro') # 튜플도 같이 사용가능하나 값의 추가 삭제는 불가 \n",
    "gyeonggi = ['pangyo', 'gwacheon', 'guri', 1, 2, 100]\n",
    "jeju = ['seogwipo', 123.3]\n",
    "\n",
    "korea = [seoul, gyeonggi, jeju, 'pyungchang'] # 리스트 3개 집합, 'pyungchang'은 문자\n",
    "\n",
    "world = [korea, 1, 2, 3] # 리스트 korea 그다음 숫자 정수 , 정수는 인덱싱이 안됨 (예 123456 의 3번째 자리 인덱싱 안됨)\n",
    "\n",
    "print(korea[1][3])\n",
    "print(korea[1][2][2])\n",
    "print(world[0][0][0][-1])"
   ]
  },
  {
   "cell_type": "markdown",
   "metadata": {},
   "source": [
    "* **인덱스 값 할당**\n",
    " - 인덱스에 접근하여 값을 업데이트 가능"
   ]
  },
  {
   "cell_type": "code",
   "execution_count": 9,
   "metadata": {},
   "outputs": [
    {
     "name": "stdout",
     "output_type": "stream",
     "text": [
      "Python is good\n",
      "h\n"
     ]
    }
   ],
   "source": [
    "a='python is good' # 문자열 인덱싱 가능 그러나 변경 업데이트 불가능 , 리스트 안에 있는 문자열가능\n",
    "print(a.replace('p','P'))\n",
    "print(a[3])"
   ]
  },
  {
   "cell_type": "code",
   "execution_count": 10,
   "metadata": {},
   "outputs": [
    {
     "ename": "NameError",
     "evalue": "name 'years' is not defined",
     "output_type": "error",
     "traceback": [
      "\u001b[1;31m---------------------------------------------------------------------------\u001b[0m",
      "\u001b[1;31mNameError\u001b[0m                                 Traceback (most recent call last)",
      "\u001b[1;32m<ipython-input-10-e6e80bb3ce63>\u001b[0m in \u001b[0;36m<module>\u001b[1;34m()\u001b[0m\n\u001b[1;32m----> 1\u001b[1;33m \u001b[0mprint\u001b[0m\u001b[1;33m(\u001b[0m\u001b[0myears\u001b[0m\u001b[1;33m[\u001b[0m\u001b[1;36m1\u001b[0m\u001b[1;33m]\u001b[0m\u001b[1;33m)\u001b[0m\u001b[1;33m\u001b[0m\u001b[0m\n\u001b[0m\u001b[0;32m      2\u001b[0m \u001b[0myears\u001b[0m\u001b[1;33m[\u001b[0m\u001b[1;36m1\u001b[0m\u001b[1;33m]\u001b[0m \u001b[1;33m=\u001b[0m \u001b[1;34m'1986'\u001b[0m\u001b[1;33m\u001b[0m\u001b[0m\n\u001b[0;32m      3\u001b[0m \u001b[0mprint\u001b[0m\u001b[1;33m(\u001b[0m\u001b[0myears\u001b[0m\u001b[1;33m)\u001b[0m\u001b[1;33m\u001b[0m\u001b[0m\n",
      "\u001b[1;31mNameError\u001b[0m: name 'years' is not defined"
     ]
    }
   ],
   "source": [
    "print(years[1])\n",
    "years[1] = '1986'\n",
    "print(years)"
   ]
  },
  {
   "cell_type": "markdown",
   "metadata": {},
   "source": [
    "* **list slicing**\n",
    " - 문자열 슬라이싱과 동일하게 동작\n",
    " - 슬라이싱의 결과 역시 list!"
   ]
  },
  {
   "cell_type": "code",
   "execution_count": 17,
   "metadata": {},
   "outputs": [
    {
     "name": "stdout",
     "output_type": "stream",
     "text": [
      "['1989', '2013', '2016', '2019']\n",
      "['2013', '2016']\n",
      "['2013', '2016']\n",
      "['1988', '1989', '2013']\n",
      "[]\n",
      "['1988', '1989', '2013', '2016', '2019']\n",
      "5\n",
      "17\n",
      "9\n"
     ]
    }
   ],
   "source": [
    "years = ['1988', '1989', '2013', '2016', '2019']\n",
    "a= 'What a lovely day'\n",
    "b='123456789' # len()함수는 무조건 string만 받는다. 숫자 안받음 \n",
    "print(years[1:])\n",
    "print(years[2:4])\n",
    "print(years[2:-1])\n",
    "print(years[:3])\n",
    "print(years[2:2])\n",
    "print(years[:])\n",
    "print(len(years))\n",
    "print(len(a))\n",
    "print(len(b))"
   ]
  },
  {
   "cell_type": "markdown",
   "metadata": {},
   "source": [
    "* **연습문제**\n",
    "years 리스트에서 두번째 원소를 제거해 보세요"
   ]
  },
  {
   "cell_type": "code",
   "execution_count": 11,
   "metadata": {},
   "outputs": [
    {
     "name": "stdout",
     "output_type": "stream",
     "text": [
      "[1, 2, 3, 4, 5, 6]\n"
     ]
    },
    {
     "data": {
      "text/plain": [
       "[1, 3, 4, 5, 6]"
      ]
     },
     "execution_count": 11,
     "metadata": {},
     "output_type": "execute_result"
    }
   ],
   "source": [
    "a=[1,2,3]\n",
    "b=[4,5,6]\n",
    "c=a+b\n",
    "print(c)\n",
    "c[:1]+c[2:]"
   ]
  },
  {
   "cell_type": "markdown",
   "metadata": {},
   "source": [
    "### list 멤버 함수 # 리스트는 원소 추가 삭제 가능"
   ]
  },
  {
   "cell_type": "markdown",
   "metadata": {},
   "source": [
    "* **append()**\n",
    " + 리스트의 끝에 항목을 추가함"
   ]
  },
  {
   "cell_type": "code",
   "execution_count": 12,
   "metadata": {},
   "outputs": [
    {
     "name": "stdout",
     "output_type": "stream",
     "text": [
      "[1, 2, 3, 4, 5]\n",
      "[1, 3]\n",
      "[1, 2, 3, 4, 5, [1, 3]]\n"
     ]
    }
   ],
   "source": [
    "a = [1, 2, 3, 4]\n",
    "b = [1]\n",
    "\n",
    "a.append(5)\n",
    "b.append(3)\n",
    "\n",
    "print(a)\n",
    "print(b)\n",
    "\n",
    "# b가 리스트 이므로 리스트 자체가 추가 됨\n",
    "a.append(b) # 도움말을 알고 싶으면 쉬프트 +탭\n",
    "print(a)"
   ]
  },
  {
   "cell_type": "markdown",
   "metadata": {},
   "source": [
    "+ **extend()**\n",
    " * 리스트를 연장\n",
    " * += 로도 가능함"
   ]
  },
  {
   "cell_type": "code",
   "execution_count": 11,
   "metadata": {},
   "outputs": [
    {
     "name": "stdout",
     "output_type": "stream",
     "text": [
      "[1, 2, 3, 4, 10, 20, 30, 40]\n",
      "[10, 20, 30, 40]\n",
      "[10, 20, 30, 40, 1, 2, 3, 4, 10, 20, 30, 40]\n"
     ]
    }
   ],
   "source": [
    "a = [1, 2, 3, 4]\n",
    "b = [10, 20, 30, 40]\n",
    "\n",
    "#a.append(b)\n",
    "a.extend(b)\n",
    "\n",
    "print(a)\n",
    "print(b)\n",
    "\n",
    "b += a\n",
    "\n",
    "print(b)"
   ]
  },
  {
   "cell_type": "markdown",
   "metadata": {},
   "source": [
    "+ **insert()로 항목추가**\n",
    " * 리스트의 원하는 위치에 추가 가능\n",
    " * 앞에 인덱스를, 뒤에 아이템을 명시"
   ]
  },
  {
   "cell_type": "code",
   "execution_count": 25,
   "metadata": {},
   "outputs": [
    {
     "name": "stdout",
     "output_type": "stream",
     "text": [
      "[6, 1, 2, 3, 4, 5, 10]\n"
     ]
    }
   ],
   "source": [
    "a = [1, 2, 4, 5, 10] \n",
    "# 값의 추가 삭제는 리스트만 가능, 튜플불가능 \n",
    "a.insert(2, 3) # 인덱스 2의 자리에 숫자 3 집어넣기\n",
    "a.insert(0, 6)# 인덱스 0의 자리에 숫자6을 집어넣는다 \n",
    "print(a)"
   ]
  },
  {
   "cell_type": "markdown",
   "metadata": {},
   "source": [
    "+ **아이템 삭제**\n",
    " * del 키워드 사용 \n",
    "   - 인덱스로 삭제 가능"
   ]
  },
  {
   "cell_type": "code",
   "execution_count": 28,
   "metadata": {},
   "outputs": [
    {
     "name": "stdout",
     "output_type": "stream",
     "text": [
      "[9, 1, 2, 3, 4, 5, 10, 100]\n",
      "[1, 2, 3, 4, 5, 10]\n"
     ]
    }
   ],
   "source": [
    "a = [9, 1, 2, 3, 4, 5, 10, 100]\n",
    "print(a)\n",
    "\n",
    "del a[-1] # python 구문 (할당연산자인 = 와 반대 역할을 함)\n",
    "del a[0]\n",
    "\n",
    "print(a)"
   ]
  },
  {
   "cell_type": "markdown",
   "metadata": {},
   "source": [
    "+ **remove()**\n",
    " * 값으로 항목 삭제"
   ]
  },
  {
   "cell_type": "code",
   "execution_count": 29,
   "metadata": {},
   "outputs": [
    {
     "name": "stdout",
     "output_type": "stream",
     "text": [
      "[1, 2, 1, 3, 4, 5]\n",
      "[2, 1, 3, 4, 5]\n"
     ]
    },
    {
     "ename": "ValueError",
     "evalue": "list.remove(x): x not in list",
     "output_type": "error",
     "traceback": [
      "\u001b[1;31m---------------------------------------------------------------------------\u001b[0m",
      "\u001b[1;31mValueError\u001b[0m                                Traceback (most recent call last)",
      "\u001b[1;32m<ipython-input-29-536b7b93364a>\u001b[0m in \u001b[0;36m<module>\u001b[1;34m()\u001b[0m\n\u001b[0;32m      5\u001b[0m \u001b[1;33m\u001b[0m\u001b[0m\n\u001b[0;32m      6\u001b[0m \u001b[1;31m# 삭제할 아이템이 없으면 에러\u001b[0m\u001b[1;33m\u001b[0m\u001b[1;33m\u001b[0m\u001b[0m\n\u001b[1;32m----> 7\u001b[1;33m \u001b[0ma\u001b[0m\u001b[1;33m.\u001b[0m\u001b[0mremove\u001b[0m\u001b[1;33m(\u001b[0m\u001b[1;36m88\u001b[0m\u001b[1;33m)\u001b[0m\u001b[1;33m\u001b[0m\u001b[0m\n\u001b[0m",
      "\u001b[1;31mValueError\u001b[0m: list.remove(x): x not in list"
     ]
    }
   ],
   "source": [
    "a = [1, 2, 1, 3, 4, 5]\n",
    "print(a)\n",
    "a.remove(1) # 첫번째로 매칭되는 값만 삭제\n",
    "print(a)\n",
    "\n",
    "# 삭제할 아이템이 없으면 에러\n",
    "a.remove(88)"
   ]
  },
  {
   "cell_type": "markdown",
   "metadata": {},
   "source": [
    "+ **pop()**\n",
    "  - 지우고자 하는 아이템을 반환 후, 삭제"
   ]
  },
  {
   "cell_type": "code",
   "execution_count": 34,
   "metadata": {},
   "outputs": [
    {
     "name": "stdout",
     "output_type": "stream",
     "text": [
      "None\n",
      "5\n",
      "[2, 1, 3, 4]\n"
     ]
    }
   ],
   "source": [
    "a = [1, 2, 1, 3, 4, 5]\n",
    "print(a.remove(1))\n",
    "\n",
    "b = a.pop() # 기본적으로 가장 마지막 값을 삭제\n",
    "print(b)\n",
    "print(a)\n",
    "\n"
   ]
  },
  {
   "cell_type": "code",
   "execution_count": 35,
   "metadata": {},
   "outputs": [
    {
     "name": "stdout",
     "output_type": "stream",
     "text": [
      "2\n",
      "[1, 3, 4]\n"
     ]
    }
   ],
   "source": [
    "print(a.pop(0)) ## 0번째 자리에 있는 숫자를 팝 \n",
    "print(a)"
   ]
  },
  {
   "cell_type": "markdown",
   "metadata": {},
   "source": [
    "+ **index()**\n",
    " * 찾고자 하는 값의 인덱스 반환"
   ]
  },
  {
   "cell_type": "code",
   "execution_count": 36,
   "metadata": {},
   "outputs": [
    {
     "name": "stdout",
     "output_type": "stream",
     "text": [
      "0\n",
      "2\n"
     ]
    },
    {
     "ename": "ValueError",
     "evalue": "1 is not in list",
     "output_type": "error",
     "traceback": [
      "\u001b[1;31m---------------------------------------------------------------------------\u001b[0m",
      "\u001b[1;31mValueError\u001b[0m                                Traceback (most recent call last)",
      "\u001b[1;32m<ipython-input-36-25cc71665e7d>\u001b[0m in \u001b[0;36m<module>\u001b[1;34m()\u001b[0m\n\u001b[0;32m      3\u001b[0m \u001b[0mprint\u001b[0m\u001b[1;33m(\u001b[0m\u001b[0ma\u001b[0m\u001b[1;33m.\u001b[0m\u001b[0mindex\u001b[0m\u001b[1;33m(\u001b[0m\u001b[1;36m1\u001b[0m\u001b[1;33m)\u001b[0m\u001b[1;33m)\u001b[0m \u001b[1;31m# 리스트중에서 1을 찾아라 (인덱스에 매치된값이 아닌 값을 찾음)\u001b[0m\u001b[1;33m\u001b[0m\u001b[0m\n\u001b[0;32m      4\u001b[0m \u001b[0mprint\u001b[0m\u001b[1;33m(\u001b[0m\u001b[0ma\u001b[0m\u001b[1;33m.\u001b[0m\u001b[0mindex\u001b[0m\u001b[1;33m(\u001b[0m\u001b[1;36m1\u001b[0m\u001b[1;33m,\u001b[0m \u001b[1;36m1\u001b[0m\u001b[1;33m)\u001b[0m\u001b[1;33m)\u001b[0m \u001b[1;31m# 여러개의 1중 첫번째 1을 찾아라\u001b[0m\u001b[1;33m\u001b[0m\u001b[0m\n\u001b[1;32m----> 5\u001b[1;33m \u001b[0mprint\u001b[0m\u001b[1;33m(\u001b[0m\u001b[0ma\u001b[0m\u001b[1;33m.\u001b[0m\u001b[0mindex\u001b[0m\u001b[1;33m(\u001b[0m\u001b[1;36m1\u001b[0m\u001b[1;33m,\u001b[0m \u001b[1;36m1\u001b[0m\u001b[1;33m,\u001b[0m \u001b[1;36m2\u001b[0m\u001b[1;33m)\u001b[0m\u001b[1;33m)\u001b[0m\u001b[1;33m\u001b[0m\u001b[0m\n\u001b[0m",
      "\u001b[1;31mValueError\u001b[0m: 1 is not in list"
     ]
    }
   ],
   "source": [
    "a = [1, 2, 1, 3, 4, 5]\n",
    "\n",
    "print(a.index(1)) # 리스트중에서 1을 찾아라 (인덱스에 매치된값이 아닌 값을 찾음)\n",
    "print(a.index(1, 1)) # 여러개의 1중 첫번째 1을 찾아라\n",
    "print(a.index(1, 1, 2)) # 값없음= 에러"
   ]
  },
  {
   "cell_type": "markdown",
   "metadata": {},
   "source": [
    "* **in**\n",
    " + 리스트 내에 해당 값이 존재하는지 확인\n",
    " + value in [list]\n",
    " + True, False 중 한가지로 반환"
   ]
  },
  {
   "cell_type": "code",
   "execution_count": 37,
   "metadata": {},
   "outputs": [
    {
     "name": "stdout",
     "output_type": "stream",
     "text": [
      "False\n",
      "True\n",
      "False\n"
     ]
    }
   ],
   "source": [
    "years = ['1988', '1989', '2013', '2016', '2019', '2019']\n",
    "\n",
    "print('19888' in years) #  키워드 '19888' 가 리스트에 존재하냐? Boolean으로 나타냄\n",
    "print('1989' in years)\n",
    "print(1989 in years) # 정수형 1989는 리스트에 존재하지 않음"
   ]
  },
  {
   "cell_type": "markdown",
   "metadata": {},
   "source": [
    "* **count()**\n",
    " + 리스트 내에 해당 값의 카운트"
   ]
  },
  {
   "cell_type": "code",
   "execution_count": 38,
   "metadata": {},
   "outputs": [
    {
     "name": "stdout",
     "output_type": "stream",
     "text": [
      "0\n",
      "1\n",
      "2\n"
     ]
    }
   ],
   "source": [
    "print(years.count('19888')) # 리스트안에'19888'키워드가 0개 있다 \n",
    "print(years.count('1988'))# 리스트안에'1988'키워드가 1개 있다 \n",
    "print(years.count('2019'))"
   ]
  },
  {
   "cell_type": "markdown",
   "metadata": {},
   "source": [
    "* **join()**\n",
    " + 리스트의 원소를 구분자를 이용하여 문자열로 합친다\n",
    " + join은 string의 함수이다\n",
    " + list의 split() 함수와 반대의 작업을 함"
   ]
  },
  {
   "cell_type": "code",
   "execution_count": 39,
   "metadata": {},
   "outputs": [
    {
     "name": "stdout",
     "output_type": "stream",
     "text": [
      "['python', 'is', 'good']\n"
     ]
    }
   ],
   "source": [
    "a = 'python is good'\n",
    "print(a.split())"
   ]
  },
  {
   "cell_type": "code",
   "execution_count": 26,
   "metadata": {},
   "outputs": [
    {
     "name": "stdout",
     "output_type": "stream",
     "text": [
      "1986/03/20\n"
     ]
    },
    {
     "ename": "NameError",
     "evalue": "name 'join' is not defined",
     "output_type": "error",
     "traceback": [
      "\u001b[1;31m---------------------------------------------------------------------------\u001b[0m",
      "\u001b[1;31mNameError\u001b[0m                                 Traceback (most recent call last)",
      "\u001b[1;32m<ipython-input-26-d08ca2915c81>\u001b[0m in \u001b[0;36m<module>\u001b[1;34m()\u001b[0m\n\u001b[0;32m      1\u001b[0m \u001b[0mbirth_date_components\u001b[0m \u001b[1;33m=\u001b[0m \u001b[1;33m[\u001b[0m\u001b[1;34m'1986'\u001b[0m\u001b[1;33m,\u001b[0m \u001b[1;34m'03'\u001b[0m\u001b[1;33m,\u001b[0m \u001b[1;34m'20'\u001b[0m\u001b[1;33m]\u001b[0m\u001b[1;33m\u001b[0m\u001b[0m\n\u001b[0;32m      2\u001b[0m \u001b[0mprint\u001b[0m\u001b[1;33m(\u001b[0m\u001b[1;34m'/'\u001b[0m\u001b[1;33m.\u001b[0m\u001b[0mjoin\u001b[0m\u001b[1;33m(\u001b[0m\u001b[0mbirth_date_components\u001b[0m\u001b[1;33m)\u001b[0m\u001b[1;33m)\u001b[0m\u001b[1;33m\u001b[0m\u001b[0m\n\u001b[1;32m----> 3\u001b[1;33m \u001b[0mprint\u001b[0m \u001b[1;33m(\u001b[0m\u001b[1;34m'@'\u001b[0m\u001b[1;33m,\u001b[0m\u001b[0mjoin\u001b[0m\u001b[1;33m(\u001b[0m\u001b[0mbirth_date_components\u001b[0m\u001b[1;33m)\u001b[0m\u001b[1;33m)\u001b[0m\u001b[1;33m\u001b[0m\u001b[0m\n\u001b[0m",
      "\u001b[1;31mNameError\u001b[0m: name 'join' is not defined"
     ]
    }
   ],
   "source": [
    "birth_date_components = ['1986', '03', '20']\n",
    "print('/'.join(birth_date_components))\n",
    "print ('@',join(birth_date_components))"
   ]
  },
  {
   "cell_type": "markdown",
   "metadata": {},
   "source": [
    "* **list 정렬**\n",
    " + sort() -> 리스트 자체를 내부적으로 정렬\n",
    " + sorted() -> 리스트의 정렬된 복사본을 반환 # 내장함수"
   ]
  },
  {
   "cell_type": "code",
   "execution_count": 3,
   "metadata": {},
   "outputs": [
    {
     "data": {
      "text/plain": [
       "[9, 8, 7, 6, 5, 4, 3, 2, 1]"
      ]
     },
     "execution_count": 3,
     "metadata": {},
     "output_type": "execute_result"
    }
   ],
   "source": [
    "#오름차순 - 작은거부터 \n",
    "#내림차순 - 큰거부터\n",
    "\n",
    "a = [9, 8, 1, 2, 7, 5, 6, 3, 4]\n",
    "\n",
    "\n",
    "a.sort() # a 자체를 정렬\n",
    "a.sort(reverse=True)\n",
    "a\n"
   ]
  },
  {
   "cell_type": "code",
   "execution_count": 47,
   "metadata": {},
   "outputs": [
    {
     "name": "stdout",
     "output_type": "stream",
     "text": [
      "[9, 8, 7, 6, 5, 4, 3, 2, 1]\n",
      "[9, 8, 1, 2, 7, 5, 6, 3, 4]\n"
     ]
    }
   ],
   "source": [
    "\n",
    "a = [9, 8, 1, 2, 7, 5, 6, 3, 4]\n",
    "\n",
    "b = sorted(a, reverse=True) # a 를 b로 변환해서 정렬\n",
    "print (b)\n",
    "print (a)"
   ]
  },
  {
   "cell_type": "markdown",
   "metadata": {},
   "source": [
    "* **리스트의 대입 및 복사 =, [:]**\n",
    " + = -> 할당, a와 b가 같은 리스트를 가리킴\n",
    " + [:] -> 복사, a와 b가 다른 리스트를 가리킴"
   ]
  },
  {
   "cell_type": "code",
   "execution_count": 48,
   "metadata": {},
   "outputs": [
    {
     "name": "stdout",
     "output_type": "stream",
     "text": [
      "[1, 2, 3, 4]\n",
      "[1, 2, 3, 4]\n",
      "--------------------\n"
     ]
    }
   ],
   "source": [
    "a = [1, 2, 3, 4]\n",
    "\n",
    "b = a # 같은 리스트를 가리킴, 같은 referece 메모리 주소인데 그 주소안에 리스트와 그 원소들이 저장되어있음 \n",
    "\n",
    "print (a)\n",
    "print (b)\n",
    "print ('-' * 20)\n",
    "\n"
   ]
  },
  {
   "cell_type": "code",
   "execution_count": 52,
   "metadata": {},
   "outputs": [
    {
     "name": "stdout",
     "output_type": "stream",
     "text": [
      "[22, 2, 3, 4]\n",
      "[22, 2, 3, 4]\n",
      "[24, 2, 3, 4]\n",
      "[22, 2, 3, 4]\n"
     ]
    }
   ],
   "source": [
    "a[0] = 22\n",
    "\n",
    "print (a)\n",
    "print (b)\n",
    "\n",
    "# copy # a의 리퍼런스 주소 값이 b에 카피 됨 \n",
    "b = a[:] #b의 주소값이 a 의 주소값이 복사됨, 그러므로 a 가 변경이 되는 경우 b 는 변경되지 않음\n",
    "b = list(a)\n",
    "\n",
    "a[0] = 24\n",
    "print (a)\n",
    "print (b)"
   ]
  },
  {
   "cell_type": "markdown",
   "metadata": {},
   "source": [
    "* **list 연습문제**\n",
    " 1. 리스트가 주어졌을 때, 처음과 마지막 원소만 갖는 리스트로 변환하시오. [1, 2, 3] -> [1, 3], [2, 3, 4, 5] -> [2, 5]  \n",
    " 2. 리스트가 주어졌을 때, 임의의 두 원소의 합의 최대값을 구하시오. [1, 9, 7, 8, 2, 5, 11]\n",
    " \n",
    " \n",
    " \n",
    " \n",
    " \n",
    " \n",
    " \n",
    " \n",
    " \n",
    " \n",
    " \n",
    " \n",
    " \n",
    " \n",
    " \n",
    " \n",
    " \n",
    " \n",
    " "
   ]
  },
  {
   "cell_type": "code",
   "execution_count": 67,
   "metadata": {},
   "outputs": [
    {
     "data": {
      "text/plain": [
       "[2, 4]"
      ]
     },
     "execution_count": 67,
     "metadata": {},
     "output_type": "execute_result"
    }
   ],
   "source": [
    "mina_a=[1,2,3]\n",
    "mina_b=[2,3,4,5]\n",
    "\n",
    "mina_a.pop(1) # 인덱스 1의 위치에 있는것을 뺌\n",
    "mina_b.pop(1)\n",
    "mina_b.pop(2)\n",
    "mina_b"
   ]
  },
  {
   "cell_type": "code",
   "execution_count": null,
   "metadata": {
    "collapsed": true
   },
   "outputs": [],
   "source": [
    "## 선생님 답\n",
    "\n",
    "a = [1,2,3,4]\n",
    "b = "
   ]
  },
  {
   "cell_type": "code",
   "execution_count": 72,
   "metadata": {},
   "outputs": [
    {
     "name": "stdout",
     "output_type": "stream",
     "text": [
      "20\n"
     ]
    }
   ],
   "source": [
    "#리스트가 주어졌을 때, 임의의 두 원소의 합의 최대값을 구하시오. \n",
    "numbers=[1, 9, 7, 8, 2, 5, 11]\n",
    "sorted_numbers=sorted(numbers)\n",
    "max=sorted_numbers[-1]+sorted_numbers[-2]\n",
    "\n",
    "print(max)\n"
   ]
  },
  {
   "cell_type": "markdown",
   "metadata": {},
   "source": [
    "+ **tuple**"
   ]
  },
  {
   "cell_type": "code",
   "execution_count": 14,
   "metadata": {},
   "outputs": [
    {
     "name": "stdout",
     "output_type": "stream",
     "text": [
      "()\n",
      "('aaron',)\n",
      "('aaron2',)\n",
      "('a', 'b', 'c')\n"
     ]
    }
   ],
   "source": [
    "empty_tuple = ()\n",
    "print(empty_tuple)\n",
    "\n",
    "one_tuple = 'aaron',\n",
    "another_tuple = ('aaron2',) # 원소가 1개 있는 튜플  콤마를 찍어주면 튜플형태로 나온다 \n",
    "\n",
    "print(one_tuple) ## 만약 콤마 없이 프린트 하면 변수에 해당하는 값만 나온다 \n",
    "print(another_tuple)\n",
    "\n",
    "more_tuple = ('a', 'b', 'c')\n",
    "print(more_tuple)"
   ]
  },
  {
   "cell_type": "markdown",
   "metadata": {},
   "source": [
    "* **tuple unpacking**\n",
    " - 튜플의 값을 차례대로 변수에 대입"
   ]
  },
  {
   "cell_type": "code",
   "execution_count": 5,
   "metadata": {},
   "outputs": [
    {
     "name": "stdout",
     "output_type": "stream",
     "text": [
      "1 2 3\n",
      "1\n"
     ]
    }
   ],
   "source": [
    "a, b, c = 1, 2, 3 ## 개수가 맞아야함, \n",
    "print(a, b, c)\n",
    "\n",
    "print(a)\n",
    "a = 5\n",
    "b = 4\n",
    "\n",
    "a = 4\n",
    "b = 5"
   ]
  },
  {
   "cell_type": "markdown",
   "metadata": {},
   "source": [
    "* **quiz2)** a와 b의 값을 교환하시오"
   ]
  },
  {
   "cell_type": "code",
   "execution_count": 8,
   "metadata": {},
   "outputs": [
    {
     "name": "stdout",
     "output_type": "stream",
     "text": [
      "20 10\n"
     ]
    }
   ],
   "source": [
    "a = 10\n",
    "b = 20\n",
    "\n",
    "a, b = b, a # 튜플\n",
    "print (a, b)\n",
    "\n"
   ]
  },
  {
   "cell_type": "markdown",
   "metadata": {},
   "source": [
    "* **tuple()**\n",
    " + 다른 객체를 튜플로 변경"
   ]
  },
  {
   "cell_type": "code",
   "execution_count": 13,
   "metadata": {},
   "outputs": [
    {
     "name": "stdout",
     "output_type": "stream",
     "text": [
      "(1, 2, 3, 4)\n",
      "('1', '2', '3', '4')\n"
     ]
    }
   ],
   "source": [
    "print(tuple([1, 2, 3, 4])) # 리스트를 튜플로 변경 \n",
    "print (tuple('1234')) ## 문자열을 튜플로 변경 "
   ]
  },
  {
   "cell_type": "markdown",
   "metadata": {},
   "source": [
    "+ **why tuple?**\n",
    "1. 더 적은 메모리 사용\n",
    "2. immutable(불변)이기 때문에, 실수로 값이 바뀌지 않음 등등"
   ]
  },
  {
   "cell_type": "markdown",
   "metadata": {},
   "source": [
    "* tuple 연습문제\n",
    "\n",
    " 1. 임의의 이메일 주소를 받아서 사용자 아이다와 도메인을 각각 추출 후, 출력하시오\n",
    "e.g) apple@google.com을 사용자명(apple)과 도메인(google.com)으로 분리"
   ]
  },
  {
   "cell_type": "code",
   "execution_count": 16,
   "metadata": {},
   "outputs": [
    {
     "name": "stdout",
     "output_type": "stream",
     "text": [
      "macmath22\n",
      "gmail.com\n"
     ]
    }
   ],
   "source": [
    "a = 'macmath22@gmail.com'\n",
    "\n",
    "a.split('@')\n",
    "\n",
    "user_id, domein = tuple(a.split('@'))\n",
    "\n",
    "print(user_id)\n",
    "print(domein)"
   ]
  },
  {
   "cell_type": "markdown",
   "metadata": {},
   "source": [
    "* **dictionary**\n",
    " + 키와 값을 갖는 data structure # O(1) 만큼 시간이 걸림 \n",
    " + 키는 해쉬값으로 저장됨 \n",
    "  - 해당 키에 따른 값에 접근 시, O(1) 시간으로 접근\n",
    " + 순서를 따지지 않음. 즉, 인덱스가 없음"
   ]
  },
  {
   "cell_type": "code",
   "execution_count": 22,
   "metadata": {},
   "outputs": [
    {
     "name": "stdout",
     "output_type": "stream",
     "text": [
      "{}\n",
      "{'python': 'best', 'java': 'good', 'c++': 'better'}\n"
     ]
    }
   ],
   "source": [
    "empty_dict = {}\n",
    "print(empty_dict)\n",
    "\n",
    "dict1 = {'python' : 'best', 'java' : 'good', 'c++' : 'better'}\n",
    "print(dict1)"
   ]
  },
  {
   "cell_type": "code",
   "execution_count": 25,
   "metadata": {},
   "outputs": [
    {
     "name": "stdout",
     "output_type": "stream",
     "text": [
      "{'python': 'best222', 'java': 'good'}\n"
     ]
    }
   ],
   "source": [
    "dict2 = {}\n",
    "\n",
    "dict2['python'] = 'best'\n",
    "dict2['java'] = 'good'\n",
    "dict2['python'] = 'best222' # 마지막껄로 결국엔 엎어서 씀 그래서 키값 1개씩 총 두개 \n",
    "\n",
    "print(dict2)"
   ]
  },
  {
   "cell_type": "markdown",
   "metadata": {},
   "source": [
    "* **dict()**\n",
    " + dictionary로 변환.\n",
    " + 두값으로 이루어진 시퀀스를 변환 가능. 첫번째 항목이 key, 두번째 항목이 value로 사용됨\n",
    " "
   ]
  },
  {
   "cell_type": "code",
   "execution_count": 28,
   "metadata": {},
   "outputs": [
    {
     "name": "stdout",
     "output_type": "stream",
     "text": [
      "{1: 2, 2: 3, 3: 6}\n",
      "{1: 2, 2: 3, 3: 6}\n",
      "{1: 2, 2: 3, 3: 6}\n"
     ]
    }
   ],
   "source": [
    "a = [[1, 2], [2, 3], [3, 6]] ## 리스트 \n",
    "print(dict(a)) ## 리스트를 딕셔너리로 전환 \n",
    "\n",
    "a = [(1, 2), (2, 3), (3, 6)] # 튜플의 리스트 \n",
    "print(dict(a))\n",
    "\n",
    "a = ((1, 2), (2, 3), (3, 6)) ## 튜플의 튜플 \n",
    "print(dict(a))"
   ]
  },
  {
   "cell_type": "markdown",
   "metadata": {},
   "source": [
    "+ **항목 추가 및 변경**\n",
    " - 기존에 키가 존재 하면, 새로운 값으로 업데이트\n",
    " - 존재하지 않으면, 새로운 키, 값 생성"
   ]
  },
  {
   "cell_type": "code",
   "execution_count": 26,
   "metadata": {},
   "outputs": [
    {
     "data": {
      "text/plain": [
       "{'c++': 'better', 'go': 'gogogo', 'java': 'soso', 'python': 'best'}"
      ]
     },
     "execution_count": 26,
     "metadata": {},
     "output_type": "execute_result"
    }
   ],
   "source": [
    "dict1 = {'python' : 'best', 'java' : 'good', 'c++' : 'better'}\n",
    "dict1['go'] = 'gogogo'\n",
    "dict1['java'] = 'soso'\n",
    "\n",
    "dict1"
   ]
  },
  {
   "cell_type": "markdown",
   "metadata": {},
   "source": [
    "+ **update()**\n",
    " * 두 딕셔너리를 병합함\n",
    " * 겹치는 키가 있다면 parameter로 전달되는 키 값이 overwrite된다."
   ]
  },
  {
   "cell_type": "code",
   "execution_count": 27,
   "metadata": {},
   "outputs": [
    {
     "name": "stdout",
     "output_type": "stream",
     "text": [
      "{'python': 'best', 'java': 'soso', 'c++': 'better', 'ruby': 'elegant', 'javascript': 'too much'}\n",
      "{'ruby': 'elegant', 'javascript': 'too much', 'java': 'soso'}\n"
     ]
    }
   ],
   "source": [
    "dict1 = {'python' : 'best', 'java' : 'good', 'c++' : 'better'}\n",
    "dict2 = {'ruby' : 'elegant', 'javascript' : 'too much', 'java' : 'soso'}\n",
    "\n",
    "dict1.update(dict2)\n",
    "print(dict1)\n",
    "print(dict2)"
   ]
  },
  {
   "cell_type": "markdown",
   "metadata": {},
   "source": [
    "* **key삭제**\n",
    " - del 키워드 사용"
   ]
  },
  {
   "cell_type": "code",
   "execution_count": 1,
   "metadata": {},
   "outputs": [
    {
     "ename": "NameError",
     "evalue": "name 'dict1' is not defined",
     "output_type": "error",
     "traceback": [
      "\u001b[1;31m---------------------------------------------------------------------------\u001b[0m",
      "\u001b[1;31mNameError\u001b[0m                                 Traceback (most recent call last)",
      "\u001b[1;32m<ipython-input-1-4a31cb4e3856>\u001b[0m in \u001b[0;36m<module>\u001b[1;34m()\u001b[0m\n\u001b[1;32m----> 1\u001b[1;33m \u001b[1;32mdel\u001b[0m \u001b[0mdict1\u001b[0m\u001b[1;33m[\u001b[0m\u001b[1;34m'java'\u001b[0m\u001b[1;33m]\u001b[0m\u001b[1;33m\u001b[0m\u001b[0m\n\u001b[0m",
      "\u001b[1;31mNameError\u001b[0m: name 'dict1' is not defined"
     ]
    }
   ],
   "source": [
    "del dict1['java'] \n",
    "del dict1['jasa']"
   ]
  },
  {
   "cell_type": "markdown",
   "metadata": {},
   "source": [
    "* **clear()**\n",
    " + 딕셔너리의 모든 값을 초기화\n"
   ]
  },
  {
   "cell_type": "code",
   "execution_count": 31,
   "metadata": {},
   "outputs": [
    {
     "name": "stdout",
     "output_type": "stream",
     "text": [
      "{1: 2, 2: 4, 4: 5}\n",
      "{}\n"
     ]
    }
   ],
   "source": [
    "a = {1 : 2, 2: 4, 4 : 5}\n",
    "print(a)\n",
    "\n",
    "a.clear() # 초기화\n",
    "\n",
    "print(a)"
   ]
  },
  {
   "cell_type": "markdown",
   "metadata": {},
   "source": [
    "* **in**\n",
    " + key값 존재 확인\n",
    " + O(1) 연산 ## true, false 값이기 때문에 "
   ]
  },
  {
   "cell_type": "code",
   "execution_count": 32,
   "metadata": {},
   "outputs": [
    {
     "name": "stdout",
     "output_type": "stream",
     "text": [
      "False\n",
      "2\n"
     ]
    },
    {
     "ename": "KeyError",
     "evalue": "1",
     "output_type": "error",
     "traceback": [
      "\u001b[1;31m---------------------------------------------------------------------------\u001b[0m",
      "\u001b[1;31mKeyError\u001b[0m                                  Traceback (most recent call last)",
      "\u001b[1;32m<ipython-input-32-36ec4788f617>\u001b[0m in \u001b[0;36m<module>\u001b[1;34m()\u001b[0m\n\u001b[0;32m      2\u001b[0m \u001b[0mprint\u001b[0m\u001b[1;33m(\u001b[0m\u001b[1;36m1\u001b[0m \u001b[1;32min\u001b[0m \u001b[0ma\u001b[0m\u001b[1;33m)\u001b[0m\u001b[1;33m\u001b[0m\u001b[0m\n\u001b[0;32m      3\u001b[0m \u001b[0mprint\u001b[0m\u001b[1;33m(\u001b[0m\u001b[0ma\u001b[0m\u001b[1;33m[\u001b[0m\u001b[1;34m'1'\u001b[0m\u001b[1;33m]\u001b[0m\u001b[1;33m)\u001b[0m\u001b[1;33m\u001b[0m\u001b[0m\n\u001b[1;32m----> 4\u001b[1;33m \u001b[0mprint\u001b[0m\u001b[1;33m(\u001b[0m\u001b[0ma\u001b[0m\u001b[1;33m[\u001b[0m\u001b[1;36m1\u001b[0m\u001b[1;33m]\u001b[0m\u001b[1;33m)\u001b[0m\u001b[1;33m\u001b[0m\u001b[0m\n\u001b[0m",
      "\u001b[1;31mKeyError\u001b[0m: 1"
     ]
    }
   ],
   "source": [
    "a = {'1' : 2, '2': 4, '4' : 5}\n",
    "print(1 in a) ## 1은 없고 '1'은 있기 때문에 false로 표현 \n",
    "print(a['1'])\n",
    "print(a[1])"
   ]
  },
  {
   "cell_type": "markdown",
   "metadata": {},
   "source": [
    "* **value access**\n",
    " + dict[key]로 접급, 키가 없는 경우 에러 발생 \n",
    " + .get() 함수로 접근, 키가 없는 경우 None반환"
   ]
  },
  {
   "cell_type": "code",
   "execution_count": 18,
   "metadata": {},
   "outputs": [
    {
     "name": "stdout",
     "output_type": "stream",
     "text": [
      "4\n"
     ]
    },
    {
     "ename": "KeyError",
     "evalue": "'3'",
     "output_type": "error",
     "traceback": [
      "\u001b[1;31m---------------------------------------------------------------------------\u001b[0m",
      "\u001b[1;31mKeyError\u001b[0m                                  Traceback (most recent call last)",
      "\u001b[1;32m<ipython-input-18-6d146847a08f>\u001b[0m in \u001b[0;36m<module>\u001b[1;34m()\u001b[0m\n\u001b[0;32m      2\u001b[0m \u001b[1;33m\u001b[0m\u001b[0m\n\u001b[0;32m      3\u001b[0m \u001b[0mprint\u001b[0m\u001b[1;33m(\u001b[0m\u001b[0ma\u001b[0m\u001b[1;33m[\u001b[0m\u001b[1;34m'2'\u001b[0m\u001b[1;33m]\u001b[0m\u001b[1;33m)\u001b[0m\u001b[1;33m\u001b[0m\u001b[0m\n\u001b[1;32m----> 4\u001b[1;33m \u001b[0mprint\u001b[0m\u001b[1;33m(\u001b[0m\u001b[0ma\u001b[0m\u001b[1;33m[\u001b[0m\u001b[1;34m'3'\u001b[0m\u001b[1;33m]\u001b[0m\u001b[1;33m)\u001b[0m \u001b[1;31m# 없음\u001b[0m\u001b[1;33m\u001b[0m\u001b[0m\n\u001b[0m",
      "\u001b[1;31mKeyError\u001b[0m: '3'"
     ]
    }
   ],
   "source": [
    "a = {'1' : 2, '2': 4, '4' : 5}\n",
    "\n",
    "print(a['2'])\n",
    "print(a['3']) # 없음 인덱싱으로 찾을때는 없어서 에러 "
   ]
  },
  {
   "cell_type": "code",
   "execution_count": 56,
   "metadata": {},
   "outputs": [
    {
     "name": "stdout",
     "output_type": "stream",
     "text": [
      "2\n",
      "default\n",
      "None\n"
     ]
    }
   ],
   "source": [
    "a = {'1' : 2, '2': 4, '4' : 5} ## get 함수는 딕셔너리에서 쓰임 \n",
    "print(a.get('1'))\n",
    "\n",
    "\n",
    "print(a.get(5,'default'))# 키값이 없으면 default로 값을 내와라\n",
    "print(a.get('3')) # 만약 딕셔너리에서 값이 없으면 원래는 에러인데 값이 없을때 get 함수 쓰면 에러대신 값이 없다는 None을 출력해줌"
   ]
  },
  {
   "cell_type": "markdown",
   "metadata": {},
   "source": [
    "* **모든 keys, values 접근**\n",
    " + keys()\n",
    " + values()\n",
    "* **key-value 튜플 리스트로 반환**\n",
    " + items()"
   ]
  },
  {
   "cell_type": "code",
   "execution_count": 3,
   "metadata": {},
   "outputs": [
    {
     "name": "stdout",
     "output_type": "stream",
     "text": [
      "dict_keys(['green', 'yellow', 'red'])\n",
      "dict_values(['fly', 'go faster', 'stop'])\n",
      "['green', 'yellow', 'red']\n",
      "['fly', 'go faster', 'stop']\n"
     ]
    }
   ],
   "source": [
    "signals = {'green' : 'fly', 'yellow' : 'go faster', 'red' : 'stop'}\n",
    "\n",
    "keys = signals.keys()\n",
    "values = signals.values()\n",
    "\n",
    "print(keys)\n",
    "print(values)\n",
    "\n",
    "print(list(signals))\n",
    "print(list(values))"
   ]
  },
  {
   "cell_type": "code",
   "execution_count": 4,
   "metadata": {},
   "outputs": [
    {
     "data": {
      "text/plain": [
       "dict_items([('green', 'fly'), ('yellow', 'go faster'), ('red', 'stop')])"
      ]
     },
     "execution_count": 4,
     "metadata": {},
     "output_type": "execute_result"
    }
   ],
   "source": [
    "signals.items() # 키벨류를 리스트 아이템으로 바꿔줌"
   ]
  },
  {
   "cell_type": "code",
   "execution_count": 49,
   "metadata": {},
   "outputs": [
    {
     "ename": "SyntaxError",
     "evalue": "invalid syntax (<ipython-input-49-d8a5c6e8fc03>, line 1)",
     "output_type": "error",
     "traceback": [
      "\u001b[1;36m  File \u001b[1;32m\"<ipython-input-49-d8a5c6e8fc03>\"\u001b[1;36m, line \u001b[1;32m1\u001b[0m\n\u001b[1;33m    for key,value in signals.items()\u001b[0m\n\u001b[1;37m                                    ^\u001b[0m\n\u001b[1;31mSyntaxError\u001b[0m\u001b[1;31m:\u001b[0m invalid syntax\n"
     ]
    }
   ],
   "source": [
    "for key,value in signals.items()"
   ]
  },
  {
   "cell_type": "markdown",
   "metadata": {},
   "source": [
    "* **dictionary 연습문제**\n",
    " 1. a = {11 : 3, 4 : 9, 14 : 22, 21 : 20, 5 : 8, 2 : 23} 에서 키의 최소값에 대응하는 값과, 키의 최대값에 대응하는 값을 출력하시오\n",
    " 2. 주어진 dictionary를 가지고, 다음 문장을 번역 하시오. translator = {'This' : 'Este', 'is' : 'es', 'python' : 'piton'}\n",
    "\n",
    "    \"This is python\"  "
   ]
  },
  {
   "cell_type": "code",
   "execution_count": 21,
   "metadata": {},
   "outputs": [
    {
     "name": "stdout",
     "output_type": "stream",
     "text": [
      "minimum key's value: 23\n",
      "maximum key's value: 20\n"
     ]
    }
   ],
   "source": [
    "a = {11 : 3, 4 : 9, 14 : 22, 21 : 20, 5 : 8, 2 : 23}\n",
    "a.keys\n",
    "b=sorted(a.keys())\n",
    "b\n",
    "a[b[0]]\n",
    "\n",
    "\n",
    "a[b[-1]]\n",
    "\n",
    "print(\"minimum key's value:\",a[b[0]])\n",
    "print (\"maximum key's value:\", a[b[-1]])"
   ]
  },
  {
   "cell_type": "code",
   "execution_count": 25,
   "metadata": {},
   "outputs": [
    {
     "data": {
      "text/plain": [
       "'Este es piton'"
      ]
     },
     "execution_count": 25,
     "metadata": {},
     "output_type": "execute_result"
    }
   ],
   "source": [
    "translator = {'This' : 'Este', 'is' : 'es', 'python' : 'piton'}\n",
    "\n",
    "str1 = 'This is python'\n",
    "\n",
    "\n",
    "\n",
    "laguage = str1.replace('This', translator['This']) \\\n",
    "            .replace('is', translator['is']) \\\n",
    "            .replace('python', translator['python']) ## \\은 라인을 계속해서 이어줌 , \\쓰고 다음줄에 계속 명령하면 됨 \n",
    "        \n",
    "laguage"
   ]
  },
  {
   "cell_type": "markdown",
   "metadata": {},
   "source": [
    "* **set**\n",
    " + dictionary에서 key만 남은 케이스\n",
    " + 수학에서의 집합과 동일함"
   ]
  },
  {
   "cell_type": "code",
   "execution_count": 90,
   "metadata": {},
   "outputs": [
    {
     "name": "stdout",
     "output_type": "stream",
     "text": [
      "set()\n",
      "{8, 2, 4, 6}\n",
      "{1, 3, 5, 7, 9}\n"
     ]
    }
   ],
   "source": [
    "empty_set = set()\n",
    "print(empty_set)\n",
    "\n",
    "even_nums = {2, 4, 6, 8}\n",
    "print(even_nums)\n",
    "\n",
    "odd_nums = {1, 3, 5, 7, 7, 9}\n",
    "print(odd_nums)"
   ]
  },
  {
   "cell_type": "markdown",
   "metadata": {},
   "source": [
    "* **set()으로 집합으로 변환**"
   ]
  },
  {
   "cell_type": "code",
   "execution_count": 92,
   "metadata": {},
   "outputs": [
    {
     "name": "stdout",
     "output_type": "stream",
     "text": [
      "{'m', 'i', 'p', 's'}\n",
      "{1, 2, 3, 4}\n",
      "{1, 3, 4}\n"
     ]
    },
    {
     "data": {
      "text/plain": [
       "[1, 2, 3, 4]"
      ]
     },
     "execution_count": 92,
     "metadata": {},
     "output_type": "execute_result"
    }
   ],
   "source": [
    "print (set('mississippi')) ## 셋은 집합이라서 같은 값이 중복이면 한개만 출력 \n",
    "print (set([1, 2, 3, 1, 2, 3, 1, 3, 4])) \n",
    "print (set({1 : 2, 4 : 9, 3 : 8}))# 셋은 키값만 출력줌 \n",
    "\n",
    "\n",
    "a = [1, 2, 3, 1, 2, 3, 1, 3, 4]\n",
    "\n",
    "list(set(a))"
   ]
  },
  {
   "cell_type": "markdown",
   "metadata": {},
   "source": [
    "+ **set operations**\n",
    " - 수학 연산과 동일\n",
    " - 교집합, 합집합, 차집합 등 지원"
   ]
  },
  {
   "cell_type": "code",
   "execution_count": 7,
   "metadata": {},
   "outputs": [
    {
     "name": "stdout",
     "output_type": "stream",
     "text": [
      "{2}\n",
      "{2}\n",
      "{1, 2, 3, 4}\n",
      "{1, 2, 3, 4}\n",
      "{1}\n",
      "{1}\n",
      "{1, 3, 4}\n",
      "{1, 3, 4}\n",
      "False\n",
      "False\n"
     ]
    }
   ],
   "source": [
    "a = {1, 2}\n",
    "b = {2, 3, 4}\n",
    "\n",
    "print(a.intersection(b))\n",
    "print(a & b) # 교집합\n",
    "\n",
    "print(a.union(b))\n",
    "print(a | b) # 합집합\n",
    "\n",
    "print(a.difference(b))\n",
    "print(a - b) # a 집합에서 b 집합 제외 \n",
    "\n",
    "print(a.symmetric_difference(b)) # 양쪽 모두에 들어있지 않은 멤버\n",
    "print(a ^ b)\n",
    "\n",
    "print(a.issubset(b))\n",
    "print(a <= b) #부분 집합 \n"
   ]
  },
  {
   "cell_type": "markdown",
   "metadata": {},
   "source": [
    "* **set 연습문제**\n",
    " 1. 영어 수업을 듣는 학생 집합 : {'Aaron', 'Tracy', 'David', 'Grant', 'Michael', 'Tim'}\n",
    "    수학 수업을 듣는 학생 집합 : {'Aaron', 'David', 'Smith', 'Bill', 'Tim', 'Cathy', 'Carl'}\n",
    "    \n",
    "    이라고 할 때, 전체 학생 중 두과목 모두 듣는 학생의 비율은 얼마인가?"
   ]
  },
  {
   "cell_type": "code",
   "execution_count": 37,
   "metadata": {},
   "outputs": [
    {
     "name": "stdout",
     "output_type": "stream",
     "text": [
      "0.3\n"
     ]
    },
    {
     "data": {
      "text/plain": [
       "['Aaron',\n",
       " 'Smith',\n",
       " 'Tim',\n",
       " 'David',\n",
       " 'Michael',\n",
       " 'Grant',\n",
       " 'Carl',\n",
       " 'Bill',\n",
       " 'Cathy',\n",
       " 'Tracy']"
      ]
     },
     "execution_count": 37,
     "metadata": {},
     "output_type": "execute_result"
    }
   ],
   "source": [
    "a = {'Aaron', 'Tracy', 'David', 'Grant', 'Michael', 'Tim'} \n",
    "b = {'Aaron', 'David', 'Smith', 'Bill', 'Tim', 'Cathy', 'Carl'}\n",
    "\n",
    "x = len(a & b) # 교집합의 학생수 ,,,,,set함수에서만 가능 (교집합, 합집합, 여집합, 종속집합등)\n",
    "y = len(a | b) # 합집합의 학생수 \n",
    "\n",
    "print(x / y) # 교집합/합집합 = 비율 \n"
   ]
  },
  {
   "cell_type": "markdown",
   "metadata": {},
   "source": [
    "* **과제** \n",
    " 1. 14577을 소인수 분해 하시오.\n",
    " 2. 2^28와 근사값으로 계산한 2^28의 차이를 구하시오.\n",
    " 3. 다음과 같이 출력되도록 구구단 프로그램을 작성하시오.\n",
    "    \n",
    "> 2 * 1 = 2\n",
    "\n",
    "> 2 * 2 = 4\n",
    "\n",
    ">    ...\n",
    "\n",
    ">    3 * 1 = 3\n",
    "\n",
    ">    ...\n",
    "\n",
    ">    9 * 8 = 72\n",
    "\n",
    ">    9 * 9 = 81\n"
   ]
  },
  {
   "cell_type": "code",
   "execution_count": 41,
   "metadata": {},
   "outputs": [
    {
     "data": {
      "text/plain": [
       "[2, 3, 4, 5, 6, 7]"
      ]
     },
     "execution_count": 41,
     "metadata": {},
     "output_type": "execute_result"
    }
   ],
   "source": [
    "# 14577을 소인수 분해 하시오.\n",
    "\n",
    "\n",
    "num = 14577\n",
    "div = 2\n",
    "\n",
    "factors = []\n",
    "\n",
    "while num >= div:\n",
    "    if num % div == 0:\n",
    "        factors.append(div)\n",
    "        num /= div ## num / div = num\n",
    "        div += 1\n",
    "    else:\n",
    "        num -= 1\n",
    "\n",
    "factors"
   ]
  },
  {
   "cell_type": "code",
   "execution_count": 48,
   "metadata": {},
   "outputs": [
    {
     "name": "stdout",
     "output_type": "stream",
     "text": [
      "154738\n"
     ]
    },
    {
     "data": {
      "text/plain": [
       "[2, 3, 4, 5, 6, 7, 8]"
      ]
     },
     "execution_count": 48,
     "metadata": {},
     "output_type": "execute_result"
    }
   ],
   "source": [
    "num = int(input())\n",
    "div = 2 \n",
    "\n",
    "collection = []\n",
    "while num >= div:\n",
    "    if num % div == 0:\n",
    "        \n",
    "        collection.append(div)\n",
    "        num /= div\n",
    "        div += 1\n",
    "    else:\n",
    "        num -= 1\n",
    "        \n",
    "collection"
   ]
  },
  {
   "cell_type": "code",
   "execution_count": 130,
   "metadata": {},
   "outputs": [
    {
     "name": "stdout",
     "output_type": "stream",
     "text": [
      "1\n",
      "2\n",
      "3\n",
      "4\n",
      "5\n",
      "6\n",
      "7\n",
      "8\n",
      "9\n",
      "근사값 차이= 1000000000 - 2**28 = 731564544\n"
     ]
    }
   ],
   "source": [
    "#2^28와 근사값으로 계산한 2^28의 차이를 구하시오.\n",
    "\n",
    "i=0\n",
    "while 2**28>10**i:\n",
    "    \n",
    "    i+=1\n",
    "    \n",
    "    print (i)\n",
    "\n",
    "    \n",
    "print(\"근사값 차이=\",10**i, \"-\", \"2**28\",\"=\",10**i-2**28)"
   ]
  },
  {
   "cell_type": "code",
   "execution_count": 27,
   "metadata": {},
   "outputs": [
    {
     "data": {
      "text/plain": [
       "12435456"
      ]
     },
     "execution_count": 27,
     "metadata": {},
     "output_type": "execute_result"
    }
   ],
   "source": [
    "## 선생님닶\n",
    "2**28-2**8*10**6"
   ]
  },
  {
   "cell_type": "code",
   "execution_count": 57,
   "metadata": {},
   "outputs": [
    {
     "name": "stdout",
     "output_type": "stream",
     "text": [
      "2 X 1 = 2\n",
      "2 X 2 = 4\n",
      "2 X 3 = 6\n",
      "2 X 4 = 8\n",
      "2 X 5 = 10\n",
      "2 X 6 = 12\n",
      "2 X 7 = 14\n",
      "2 X 8 = 16\n",
      "2 X 9 = 18\n",
      "3 X 1 = 3\n",
      "3 X 2 = 6\n",
      "3 X 3 = 9\n",
      "3 X 4 = 12\n",
      "3 X 5 = 15\n",
      "3 X 6 = 18\n",
      "3 X 7 = 21\n",
      "3 X 8 = 24\n",
      "3 X 9 = 27\n",
      "4 X 1 = 4\n",
      "4 X 2 = 8\n",
      "4 X 3 = 12\n",
      "4 X 4 = 16\n",
      "4 X 5 = 20\n",
      "4 X 6 = 24\n",
      "4 X 7 = 28\n",
      "4 X 8 = 32\n",
      "4 X 9 = 36\n",
      "5 X 1 = 5\n",
      "5 X 2 = 10\n",
      "5 X 3 = 15\n",
      "5 X 4 = 20\n",
      "5 X 5 = 25\n",
      "5 X 6 = 30\n",
      "5 X 7 = 35\n",
      "5 X 8 = 40\n",
      "5 X 9 = 45\n",
      "6 X 1 = 6\n",
      "6 X 2 = 12\n",
      "6 X 3 = 18\n",
      "6 X 4 = 24\n",
      "6 X 5 = 30\n",
      "6 X 6 = 36\n",
      "6 X 7 = 42\n",
      "6 X 8 = 48\n",
      "6 X 9 = 54\n",
      "7 X 1 = 7\n",
      "7 X 2 = 14\n",
      "7 X 3 = 21\n",
      "7 X 4 = 28\n",
      "7 X 5 = 35\n",
      "7 X 6 = 42\n",
      "7 X 7 = 49\n",
      "7 X 8 = 56\n",
      "7 X 9 = 63\n",
      "8 X 1 = 8\n",
      "8 X 2 = 16\n",
      "8 X 3 = 24\n",
      "8 X 4 = 32\n",
      "8 X 5 = 40\n",
      "8 X 6 = 48\n",
      "8 X 7 = 56\n",
      "8 X 8 = 64\n",
      "8 X 9 = 72\n",
      "9 X 1 = 9\n",
      "9 X 2 = 18\n",
      "9 X 3 = 27\n",
      "9 X 4 = 36\n",
      "9 X 5 = 45\n",
      "9 X 6 = 54\n",
      "9 X 7 = 63\n",
      "9 X 8 = 72\n",
      "9 X 9 = 81\n"
     ]
    }
   ],
   "source": [
    "'''다음과 같이 출력되도록 구구단 프로그램을 작성하시오.'''\n",
    "for i in range(2,10):\n",
    "    \n",
    "    for j in range (1,10):\n",
    "       \n",
    "        print (i,\"X\",j,\"=\",i*j)\n",
    "        \n"
   ]
  },
  {
   "cell_type": "code",
   "execution_count": null,
   "metadata": {
    "collapsed": true
   },
   "outputs": [],
   "source": []
  }
 ],
 "metadata": {
  "kernelspec": {
   "display_name": "Python 3",
   "language": "python",
   "name": "python3"
  },
  "language_info": {
   "codemirror_mode": {
    "name": "ipython",
    "version": 3
   },
   "file_extension": ".py",
   "mimetype": "text/x-python",
   "name": "python",
   "nbconvert_exporter": "python",
   "pygments_lexer": "ipython3",
   "version": "3.6.1"
  }
 },
 "nbformat": 4,
 "nbformat_minor": 1
}
