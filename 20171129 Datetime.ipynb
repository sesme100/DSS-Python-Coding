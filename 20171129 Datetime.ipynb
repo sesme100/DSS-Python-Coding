{
 "cells": [
  {
   "cell_type": "code",
   "execution_count": 1,
   "metadata": {
    "collapsed": true
   },
   "outputs": [],
   "source": [
    "from datetime import datetime"
   ]
  },
  {
   "cell_type": "code",
   "execution_count": 11,
   "metadata": {},
   "outputs": [
    {
     "data": {
      "text/plain": [
       "datetime.datetime(2017, 11, 30, 0, 20, 35, 121006)"
      ]
     },
     "execution_count": 11,
     "metadata": {},
     "output_type": "execute_result"
    }
   ],
   "source": [
    "now = datetime.datetime.now()\n",
    "now"
   ]
  },
  {
   "cell_type": "code",
   "execution_count": 53,
   "metadata": {},
   "outputs": [
    {
     "name": "stdout",
     "output_type": "stream",
     "text": [
      "2017-11-29\n"
     ]
    }
   ],
   "source": [
    "nowdate = now.strftime('%Y-%m-%d') ## %y가 소문자인경우 17 %Y 대문자: 2017로 표기\n",
    "print(nowdate)## string 으로 변경됨 "
   ]
  },
  {
   "cell_type": "code",
   "execution_count": 16,
   "metadata": {},
   "outputs": [
    {
     "data": {
      "text/plain": [
       "'00:20:35'"
      ]
     },
     "execution_count": 16,
     "metadata": {},
     "output_type": "execute_result"
    }
   ],
   "source": [
    "nowtime = now.strftime('%H:%M:%S')\n",
    "type(nowtime)## string\n",
    "nowtime"
   ]
  },
  {
   "cell_type": "code",
   "execution_count": 41,
   "metadata": {},
   "outputs": [
    {
     "data": {
      "text/plain": [
       "'2017-11-29 00:09:37'"
      ]
     },
     "execution_count": 41,
     "metadata": {},
     "output_type": "execute_result"
    }
   ],
   "source": [
    "nowdatetime = now.strftime('%Y-%m-%d %H:%M:%S')\n",
    "nowdatetime"
   ]
  },
  {
   "cell_type": "code",
   "execution_count": null,
   "metadata": {
    "collapsed": true
   },
   "outputs": [],
   "source": [
    "## 날짜 시간형식의 문자열을 datetime으로 만드려면 strptime 함수사용"
   ]
  },
  {
   "cell_type": "code",
   "execution_count": 40,
   "metadata": {},
   "outputs": [
    {
     "name": "stdout",
     "output_type": "stream",
     "text": [
      "2015-11-29 12:21:34\n"
     ]
    },
    {
     "data": {
      "text/plain": [
       "datetime.datetime(2015, 11, 29, 12, 21, 34)"
      ]
     },
     "execution_count": 40,
     "metadata": {},
     "output_type": "execute_result"
    }
   ],
   "source": [
    "import datetime\n",
    "\n",
    "mydatetimeSTR = '2015-11-29 12:21:34'## string 값 \n",
    "mydatetime = datetime.datetime.strptime(mydatetimeSTR, '%Y-%m-%d %H:%M:%S')## datetime으로 변경 \n",
    "## %Y 대문자표기\n",
    "print(mydatetime)\n",
    "mydatetime"
   ]
  },
  {
   "cell_type": "code",
   "execution_count": 60,
   "metadata": {},
   "outputs": [
    {
     "name": "stdout",
     "output_type": "stream",
     "text": [
      "2015-09-29 12:21:34\n"
     ]
    },
    {
     "data": {
      "text/plain": [
       "datetime.datetime(2015, 9, 29, 12, 21, 34)"
      ]
     },
     "execution_count": 60,
     "metadata": {},
     "output_type": "execute_result"
    }
   ],
   "source": [
    "yourdatetime = mydatetime.replace(month=9) ## 변경 \n",
    "print(yourdatetime)\n",
    "yourdatetime"
   ]
  },
  {
   "cell_type": "code",
   "execution_count": 65,
   "metadata": {},
   "outputs": [
    {
     "name": "stdout",
     "output_type": "stream",
     "text": [
      "2017-11-29 12:33:56\n"
     ]
    }
   ],
   "source": [
    "d =datetime.date(2017,11,29) ## date & time 합치기 \n",
    "t = datetime.time(12,33,56)\n",
    "dt = datetime.datetime.combine(d,t)\n",
    "print(dt)"
   ]
  },
  {
   "cell_type": "raw",
   "metadata": {},
   "source": [
    "timedelta 이용하기 ## 범위를 설정해주는것과 같음 \n",
    "– 1주 : datetime.timedelta(weeks=1) \n",
    "– 1일 : datetime.timedelta(days=1)\n",
    "– 1시간 : datetime.timedelta(hours=1)\n",
    "– 1분 : datetime.timedelta(minutes=1)\n",
    "– 1초 : datetime.timedelta(seconds=1)\n",
    "– 1밀리초 : datetime.timedelta(milliseconds=1)\n",
    "– 1마이크로초 : datetime.timedelta(microseconds=1)"
   ]
  },
  {
   "cell_type": "code",
   "execution_count": 31,
   "metadata": {},
   "outputs": [
    {
     "name": "stdout",
     "output_type": "stream",
     "text": [
      "2017-11-30 00:29:53.896942\n"
     ]
    }
   ],
   "source": [
    "now = datetime.datetime.now()\n",
    "print(now)"
   ]
  },
  {
   "cell_type": "code",
   "execution_count": 61,
   "metadata": {},
   "outputs": [
    {
     "name": "stdout",
     "output_type": "stream",
     "text": [
      "2017-12-01 00:29:53.896942\n"
     ]
    }
   ],
   "source": [
    "tomorrow = now+ datetime.timedelta(days = 1) ## 오늘 날짜에서 앞으로 1일 더하기\n",
    "print(tomorrow)"
   ]
  },
  {
   "cell_type": "code",
   "execution_count": 33,
   "metadata": {},
   "outputs": [
    {
     "name": "stdout",
     "output_type": "stream",
     "text": [
      "2017-11-30 00:29:55.896942\n"
     ]
    }
   ],
   "source": [
    "secondslater = now +datetime.timedelta(microseconds = 2000000)\n",
    "print(secondslater)"
   ]
  },
  {
   "cell_type": "code",
   "execution_count": 34,
   "metadata": {},
   "outputs": [
    {
     "data": {
      "text/plain": [
       "'2018년 2월 9일까지는 70일 23시간이 남았습니다'"
      ]
     },
     "execution_count": 34,
     "metadata": {},
     "output_type": "execute_result"
    }
   ],
   "source": [
    "## datetime에서는 연산자를 지원함 \n",
    "\n",
    "future = datetime.datetime(2018,2,9)\n",
    "how_long = future - datetime.datetime.now() ## 연산자 지원  \n",
    "how_long ## datetime.timedelta(70, 84758, 648982) 70일,84758 seconds남음 \n",
    "how_long.days # 70\n",
    "how_long.seconds ##84780  ## hours, months는 지원하지 않음 \n",
    "\n",
    "\"2018년 2월 9일까지는 {}일 {}시간이 남았습니다\".format(how_long.days,how_long.seconds//3600)\n"
   ]
  },
  {
   "cell_type": "code",
   "execution_count": 37,
   "metadata": {},
   "outputs": [
    {
     "name": "stdout",
     "output_type": "stream",
     "text": [
      "2030년 크리스마스는 앞으로 4772일 남았습니다\n"
     ]
    }
   ],
   "source": [
    "import datetime\n",
    "\n",
    "def days_until_christmas():\n",
    "    christmas_2030 = datetime.datetime(2030, 12, 25)\n",
    "    days = (christmas_2030 - datetime.datetime.now()).days\n",
    "    return days\n",
    "\n",
    "\n",
    "print(\"2030년 크리스마스는 앞으로 {}일 남았습니다\".format(days_until_christmas()))\n"
   ]
  },
  {
   "cell_type": "code",
   "execution_count": 59,
   "metadata": {},
   "outputs": [
    {
     "name": "stdout",
     "output_type": "stream",
     "text": [
      "2018/3/10\n"
     ]
    },
    {
     "data": {
      "text/plain": [
       "datetime.datetime(2018, 3, 10, 9, 0, 0, 317729)"
      ]
     },
     "execution_count": 59,
     "metadata": {},
     "output_type": "execute_result"
    }
   ],
   "source": [
    "import datetime\n",
    "## 오늘로 부터 100일 후의 날짜에 정각 9시로 맞춰서 출력할것 \n",
    "revised = datetime.datetime.now().replace(hour=9,minute = 0,second = 0)\n",
    "hundred_after = datetime.timedelta(days=100)+revised\n",
    "\n",
    "print(\"{}/{}/{}\".format(hundred_after.year,hundred_after.month, hundred_after.day))\n",
    "#datetime.datetime.now().month\n",
    "hundred_after"
   ]
  },
  {
   "cell_type": "markdown",
   "metadata": {},
   "source": [
    "2016년 1월 1일은 금요일입니다. 2016년 A월 B일은 무슨 요일일까요? 두 수 A,B를 입력받아 A월 B일이 무슨 요일인지 출력하는 getDayName 함수를 완성하세요. 요일의 이름은 일요일부터 토요일까지 각각\n",
    "\n",
    "SUN,MON,TUE,WED,THU,FRI,SAT\n",
    "\n",
    "를 출력해주면 됩니다. 예를 들어 A=5, B=24가 입력된다면 5월 24일은 화요일이므로 TUE를 반환하면 됩니다."
   ]
  },
  {
   "cell_type": "code",
   "execution_count": 62,
   "metadata": {},
   "outputs": [
    {
     "data": {
      "text/plain": [
       "'MON'"
      ]
     },
     "execution_count": 62,
     "metadata": {},
     "output_type": "execute_result"
    }
   ],
   "source": [
    "from datetime import datetime\n",
    "def getDayName(a,b):\n",
    "\n",
    "    weekdays = ['MON','TUE','WED','THU','FRI','SAT','SUN']\n",
    "    i = datetime(2016,a,b).weekday()\n",
    "    return weekdays[i]\n",
    "getDayName(3,14)"
   ]
  },
  {
   "cell_type": "code",
   "execution_count": 82,
   "metadata": {
    "collapsed": true
   },
   "outputs": [],
   "source": [
    "## datetime을 이용한 카테고리 데이터 분석"
   ]
  },
  {
   "cell_type": "code",
   "execution_count": 85,
   "metadata": {
    "collapsed": true
   },
   "outputs": [],
   "source": [
    "import statsmodels.api as sm\n",
    "df= sm.datasets.get_rdataset(\"nottem\").data"
   ]
  },
  {
   "cell_type": "code",
   "execution_count": 2,
   "metadata": {
    "collapsed": true
   },
   "outputs": [],
   "source": [
    "import datetime\n",
    "from calendar import isleap\n",
    "import pandas as pd\n",
    "\n",
    "def convert_year(number):\n",
    "    year = int(number)\n",
    "    d = datetime.timedelta(days = (number-year)*(365+isleap(year)))\n",
    "    day_one = datetime.datetime(year,1,1)\n",
    "    date = d + day_one\n",
    "    return date"
   ]
  },
  {
   "cell_type": "code",
   "execution_count": 14,
   "metadata": {},
   "outputs": [
    {
     "data": {
      "text/plain": [
       "datetime.datetime(2017, 1, 1, 0, 0)"
      ]
     },
     "execution_count": 14,
     "metadata": {},
     "output_type": "execute_result"
    }
   ],
   "source": [
    "datetime.datetime(2017,1,1)"
   ]
  },
  {
   "cell_type": "code",
   "execution_count": 100,
   "metadata": {},
   "outputs": [
    {
     "data": {
      "text/html": [
       "<div>\n",
       "<style>\n",
       "    .dataframe thead tr:only-child th {\n",
       "        text-align: right;\n",
       "    }\n",
       "\n",
       "    .dataframe thead th {\n",
       "        text-align: left;\n",
       "    }\n",
       "\n",
       "    .dataframe tbody tr th {\n",
       "        vertical-align: top;\n",
       "    }\n",
       "</style>\n",
       "<table border=\"1\" class=\"dataframe\">\n",
       "  <thead>\n",
       "    <tr style=\"text-align: right;\">\n",
       "      <th></th>\n",
       "      <th>time</th>\n",
       "      <th>nottem</th>\n",
       "      <th>month</th>\n",
       "    </tr>\n",
       "  </thead>\n",
       "  <tbody>\n",
       "    <tr>\n",
       "      <th>235</th>\n",
       "      <td>1939.583333</td>\n",
       "      <td>61.8</td>\n",
       "      <td>08</td>\n",
       "    </tr>\n",
       "    <tr>\n",
       "      <th>236</th>\n",
       "      <td>1939.666667</td>\n",
       "      <td>58.2</td>\n",
       "      <td>09</td>\n",
       "    </tr>\n",
       "    <tr>\n",
       "      <th>237</th>\n",
       "      <td>1939.750000</td>\n",
       "      <td>46.7</td>\n",
       "      <td>10</td>\n",
       "    </tr>\n",
       "    <tr>\n",
       "      <th>238</th>\n",
       "      <td>1939.833333</td>\n",
       "      <td>46.6</td>\n",
       "      <td>11</td>\n",
       "    </tr>\n",
       "    <tr>\n",
       "      <th>239</th>\n",
       "      <td>1939.916667</td>\n",
       "      <td>37.8</td>\n",
       "      <td>12</td>\n",
       "    </tr>\n",
       "  </tbody>\n",
       "</table>\n",
       "</div>"
      ],
      "text/plain": [
       "            time  nottem month\n",
       "235  1939.583333    61.8    08\n",
       "236  1939.666667    58.2    09\n",
       "237  1939.750000    46.7    10\n",
       "238  1939.833333    46.6    11\n",
       "239  1939.916667    37.8    12"
      ]
     },
     "execution_count": 100,
     "metadata": {},
     "output_type": "execute_result"
    }
   ],
   "source": [
    "df[\"date0\"] = df[[\"time\"]].applymap(convert_year)\n",
    "df[\"date\"] = pd.DatetimeIndex(df[\"date0\"]).round('60min') + datetime.timedelta(seconds=3600*24) \n",
    "df[\"month\"] = df[\"date\"].dt.strftime(\"%m\").astype('category')\n",
    "del df[\"date0\"], df[\"date\"]\n",
    "df.tail()"
   ]
  },
  {
   "cell_type": "code",
   "execution_count": 112,
   "metadata": {},
   "outputs": [
    {
     "data": {
      "text/plain": [
       "<matplotlib.axes._subplots.AxesSubplot at 0x27e1bc3b908>"
      ]
     },
     "execution_count": 112,
     "metadata": {},
     "output_type": "execute_result"
    },
    {
     "data": {
      "image/png": "[encoded data removed]",
      "text/plain": [
       "<matplotlib.figure.Figure at 0x27e1ba85390>"
      ]
     },
     "metadata": {},
     "output_type": "display_data"
    }
   ],
   "source": [
    "import matplotlib.pyplot as plt\n",
    "%matplotlib inline\n",
    "df.boxplot('nottem','month')"
   ]
  },
  {
   "cell_type": "code",
   "execution_count": null,
   "metadata": {
    "collapsed": true
   },
   "outputs": [],
   "source": []
  }
 ],
 "metadata": {
  "kernelspec": {
   "display_name": "Python 3",
   "language": "python",
   "name": "python3"
  },
  "language_info": {
   "codemirror_mode": {
    "name": "ipython",
    "version": 3
   },
   "file_extension": ".py",
   "mimetype": "text/x-python",
   "name": "python",
   "nbconvert_exporter": "python",
   "pygments_lexer": "ipython3",
   "version": "3.6.1"
  }
 },
 "nbformat": 4,
 "nbformat_minor": 2
}
