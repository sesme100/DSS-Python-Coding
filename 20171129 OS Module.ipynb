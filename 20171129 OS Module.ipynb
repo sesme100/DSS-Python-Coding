{
 "cells": [
  {
   "cell_type": "code",
   "execution_count": 3,
   "metadata": {},
   "outputs": [
    {
     "data": {
      "text/plain": [
       "'C:\\\\Users\\\\User\\\\DS School Course Materials\\\\python materials'"
      ]
     },
     "execution_count": 3,
     "metadata": {},
     "output_type": "execute_result"
    }
   ],
   "source": [
    "import os\n",
    "os.getcwd() ## 'C:\\\\Users\\\\User\\\\DS School Course Materials\\\\python materials' \n",
    "## 현재 파일 디렉토리 위치 설명"
   ]
  },
  {
   "cell_type": "markdown",
   "metadata": {},
   "source": [
    "## os.path\n",
    "* os.path는 파일 경로를 생성 및 수정하고 파일정보를 쉽게 다를수 있게 해주는 모듈"
   ]
  },
  {
   "cell_type": "code",
   "execution_count": 8,
   "metadata": {},
   "outputs": [
    {
     "data": {
      "text/plain": [
       "'C:\\\\Users\\\\User\\\\DS School Course Materials\\\\python materials\\\\python'"
      ]
     },
     "execution_count": 8,
     "metadata": {},
     "output_type": "execute_result"
    }
   ],
   "source": [
    "## 경로를 변경하고 싶을때 \n",
    "path = 'python'\n",
    "os.path.abspath(path)\n",
    "# 기존경로 'C:\\\\Users\\\\User\\\\DS School Course Materials\\\\python materials' 에서 \n",
    "## python 으로 추가변경 "
   ]
  },
  {
   "cell_type": "code",
   "execution_count": 12,
   "metadata": {},
   "outputs": [
    {
     "data": {
      "text/plain": [
       "'python'"
      ]
     },
     "execution_count": 12,
     "metadata": {},
     "output_type": "execute_result"
    }
   ],
   "source": [
    "os.path.basename('C:\\\\Users\\\\User\\\\DS School Course Materials\\\\python materials\\\\python')\n",
    "## 입력받은 경로의 기본이름을 return 해줌 \n",
    "## os.path.abspath(path)와 반대"
   ]
  },
  {
   "cell_type": "code",
   "execution_count": 14,
   "metadata": {},
   "outputs": [
    {
     "data": {
      "text/plain": [
       "'C:\\\\Users\\\\User\\\\'"
      ]
     },
     "execution_count": 14,
     "metadata": {},
     "output_type": "execute_result"
    }
   ],
   "source": [
    "path_list = ['C:\\\\Users\\\\User\\\\DS School Course Materials','C:\\\\Users\\\\User\\\\Mina']\n",
    "os.path.commonprefix(path_list)\n",
    "## 2개 파일 경로 있을경우 공통된 이전(prefix) 의 디렉토리 찾아줌 "
   ]
  },
  {
   "cell_type": "code",
   "execution_count": 18,
   "metadata": {},
   "outputs": [
    {
     "data": {
      "text/plain": [
       "'C:\\\\Users\\\\User'"
      ]
     },
     "execution_count": 18,
     "metadata": {},
     "output_type": "execute_result"
    }
   ],
   "source": [
    "os.path.dirname('C:\\\\Users\\\\User\\\\Mina') \n",
    "## 이전 prefix 디렉토리 찾아줌 "
   ]
  },
  {
   "cell_type": "code",
   "execution_count": 22,
   "metadata": {},
   "outputs": [
    {
     "data": {
      "text/plain": [
       "True"
      ]
     },
     "execution_count": 22,
     "metadata": {},
     "output_type": "execute_result"
    }
   ],
   "source": [
    "os.getcwd()\n",
    "path1 = 'C:\\\\Users\\\\User\\\\DS School Course Materials\\\\python materials'\n",
    "os.path.exists(path1)\n",
    "## 경로가 있으면 True, 없으면 False 반환 "
   ]
  },
  {
   "cell_type": "code",
   "execution_count": 29,
   "metadata": {},
   "outputs": [
    {
     "data": {
      "text/plain": [
       "'C:\\\\Users\\\\dev'"
      ]
     },
     "execution_count": 29,
     "metadata": {},
     "output_type": "execute_result"
    }
   ],
   "source": [
    "os.path.expanduser('~dev')\n",
    "## ~ 을 붙여서 절대경로 C:\\\\Users + dev로 반환 해줌 "
   ]
  },
  {
   "cell_type": "code",
   "execution_count": 39,
   "metadata": {},
   "outputs": [
    {
     "data": {
      "text/plain": [
       "'C:\\\\Program Files\\\\Java\\\\jdk1.8.0_151'"
      ]
     },
     "execution_count": 39,
     "metadata": {},
     "output_type": "execute_result"
    }
   ],
   "source": [
    "os.path.expandvars('$JAVA-HOME')\n",
    "## 환경변수 $JAVA-HOME 이라고 지정되어있으면 그 주소를 반환함 \n",
    "##(환경변수는 os.environ에 정의된 것을 참조)"
   ]
  },
  {
   "cell_type": "code",
   "execution_count": 36,
   "metadata": {
    "collapsed": true
   },
   "outputs": [
    {
     "data": {
      "text/plain": [
       "environ({'ALLUSERSPROFILE': 'C:\\\\ProgramData', 'APPDATA': 'C:\\\\Users\\\\User\\\\AppData\\\\Roaming', 'COMMONPROGRAMFILES': 'C:\\\\Program Files\\\\Common Files', 'COMMONPROGRAMFILES(X86)': 'C:\\\\Program Files (x86)\\\\Common Files', 'COMMONPROGRAMW6432': 'C:\\\\Program Files\\\\Common Files', 'COMPUTERNAME': 'DESKTOP-CV5522K', 'COMSPEC': 'C:\\\\WINDOWS\\\\system32\\\\cmd.exe', 'DOCKER_TOOLBOX_INSTALL_PATH': 'C:\\\\Program Files\\\\Docker Toolbox', 'GRAPHVIZ': 'C:/Program Files (x86)/Graphviz2.38/bin/', 'HOMEDRIVE': 'C:', 'HOMEPATH': '\\\\Users\\\\User', 'JAVA-HOME': 'C:\\\\Program Files\\\\Java\\\\jdk1.8.0_151', 'JAVA_HOME': 'C:\\\\Program Files\\\\Java\\\\jdk1.8.0_151', 'LOCALAPPDATA': 'C:\\\\Users\\\\User\\\\AppData\\\\Local', 'LOGONSERVER': '\\\\\\\\DESKTOP-CV5522K', 'MINGGW-W64': 'C:\\\\Program Files\\\\mingw-w64\\\\x86_64-7.2.0-posix-seh-rt_v5-rev0', 'NUMBER_OF_PROCESSORS': '4', 'ONEDRIVE': 'C:\\\\Users\\\\User\\\\OneDrive', 'OS': 'Windows_NT', 'PATH': 'C:\\\\Users\\\\User\\\\Anaconda3\\\\Library\\\\bin;C:\\\\Users\\\\User\\\\Anaconda3\\\\Library\\\\bin;C:\\\\Users\\\\User\\\\Anaconda3;C:\\\\Users\\\\User\\\\Anaconda3\\\\Library\\\\mingw-w64\\\\bin;C:\\\\Users\\\\User\\\\Anaconda3\\\\Library\\\\usr\\\\bin;C:\\\\Users\\\\User\\\\Anaconda3\\\\Library\\\\bin;C:\\\\Users\\\\User\\\\Anaconda3\\\\Scripts;C:\\\\Users\\\\User\\\\Anaconda3\\\\Library\\\\bin;C:\\\\ProgramData\\\\Oracle\\\\Java\\\\javapath;C:\\\\Program Files (x86)\\\\Intel\\\\iCLS Client\\\\;C:\\\\Program Files\\\\Intel\\\\iCLS Client\\\\;C:\\\\WINDOWS\\\\system32;C:\\\\WINDOWS;C:\\\\WINDOWS\\\\System32\\\\Wbem;C:\\\\WINDOWS\\\\System32\\\\WindowsPowerShell\\\\v1.0\\\\;C:\\\\Program Files\\\\Intel\\\\WiFi\\\\bin\\\\;C:\\\\Program Files\\\\Common Files\\\\Intel\\\\WirelessCommon\\\\;C:\\\\Program Files (x86)\\\\Intel\\\\Intel(R) Management Engine Components\\\\DAL;C:\\\\Program Files\\\\Intel\\\\Intel(R) Management Engine Components\\\\DAL;C:\\\\Program Files (x86)\\\\Intel\\\\Intel(R) Management Engine Components\\\\IPT;C:\\\\Program Files\\\\Intel\\\\Intel(R) Management Engine Components\\\\IPT;C:\\\\Program Files\\\\Git\\\\cmd;C:\\\\Users\\\\User\\\\Anaconda3;C:\\\\Users\\\\User\\\\Anaconda3\\\\Scripts;C:\\\\Program Files\\\\PuTTY\\\\;C:\\\\Program Files (x86)\\\\Windows Kits\\\\8.1\\\\Windows Performance Toolkit\\\\;C:\\\\Program Files\\\\mingw-w64\\\\x86_64-5.3.0-posix-seh-rt_v4-rev0\\\\mingw64\\\\bin\\\\;C:\\\\Program Files\\\\Docker Toolbox;C:\\\\Program Files\\\\Bandizip\\\\', 'PATHEXT': '.COM;.EXE;.BAT;.CMD;.VBS;.VBE;.JS;.JSE;.WSF;.WSH;.MSC', 'PROCESSOR_ARCHITECTURE': 'AMD64', 'PROCESSOR_IDENTIFIER': 'Intel64 Family 6 Model 78 Stepping 3, GenuineIntel', 'PROCESSOR_LEVEL': '6', 'PROCESSOR_REVISION': '4e03', 'PROGRAMDATA': 'C:\\\\ProgramData', 'PROGRAMFILES': 'C:\\\\Program Files', 'PROGRAMFILES(X86)': 'C:\\\\Program Files (x86)', 'PROGRAMW6432': 'C:\\\\Program Files', 'PSMODULEPATH': 'C:\\\\Program Files\\\\WindowsPowerShell\\\\Modules;C:\\\\WINDOWS\\\\system32\\\\WindowsPowerShell\\\\v1.0\\\\Modules', 'PUBLIC': 'C:\\\\Users\\\\Public', 'PYDOT': 'C:/Program Files (x86)/Graphviz2.38/bin/', 'SESSIONNAME': 'Console', 'SYSTEMDRIVE': 'C:', 'SYSTEMROOT': 'C:\\\\WINDOWS', 'TEMP': 'C:\\\\Users\\\\User\\\\AppData\\\\Local\\\\Temp', 'TMP': 'C:\\\\Users\\\\User\\\\AppData\\\\Local\\\\Temp', 'USERDOMAIN': 'DESKTOP-CV5522K', 'USERDOMAIN_ROAMINGPROFILE': 'DESKTOP-CV5522K', 'USERNAME': 'User', 'USERPROFILE': 'C:\\\\Users\\\\User', 'VBOX_MSI_INSTALL_PATH': 'C:\\\\Program Files\\\\Oracle\\\\VirtualBox\\\\', 'VS140COMNTOOLS': 'C:\\\\Program Files (x86)\\\\Microsoft Visual Studio 14.0\\\\Common7\\\\Tools\\\\', 'WINDIR': 'C:\\\\WINDOWS', 'CONDA_PREFIX': 'C:\\\\Users\\\\User\\\\Anaconda3', 'JPY_INTERRUPT_EVENT': '1896', 'IPY_INTERRUPT_EVENT': '1896', 'JPY_PARENT_PID': '1872', 'TERM': 'xterm-color', 'CLICOLOR': '1', 'PAGER': 'cat', 'GIT_PAGER': 'cat', 'MPLBACKEND': 'module://ipykernel.pylab.backend_inline'})"
      ]
     },
     "execution_count": 36,
     "metadata": {},
     "output_type": "execute_result"
    }
   ],
   "source": [
    "os.environ ## 환경변수 설정된 주소들 "
   ]
  },
  {
   "cell_type": "code",
   "execution_count": 50,
   "metadata": {},
   "outputs": [
    {
     "data": {
      "text/plain": [
       "time.struct_time(tm_year=2017, tm_mon=12, tm_mday=7, tm_hour=7, tm_min=7, tm_sec=19, tm_wday=3, tm_yday=341, tm_isdst=0)"
      ]
     },
     "execution_count": 50,
     "metadata": {},
     "output_type": "execute_result"
    }
   ],
   "source": [
    "os.path.getatime(path1)## 1512630354.0942118 입력받은 경로에 대한 최근 접근 시간을 반환\n",
    "import time\n",
    "\n",
    "time.gmtime(os.path.getatime(path1)) \n",
    "# 최근 접속 날짜 시간 나옴 "
   ]
  },
  {
   "cell_type": "code",
   "execution_count": 51,
   "metadata": {},
   "outputs": [
    {
     "data": {
      "text/plain": [
       "1512630541.9924884"
      ]
     },
     "execution_count": 51,
     "metadata": {},
     "output_type": "execute_result"
    }
   ],
   "source": [
    "os.path.getmtime(path1) ## modify 된 시간 반환 "
   ]
  },
  {
   "cell_type": "code",
   "execution_count": 52,
   "metadata": {},
   "outputs": [
    {
     "data": {
      "text/plain": [
       "1505231105.611457"
      ]
     },
     "execution_count": 52,
     "metadata": {},
     "output_type": "execute_result"
    }
   ],
   "source": [
    "os.path.getctime(path1) ## create 된시간 반환 "
   ]
  },
  {
   "cell_type": "code",
   "execution_count": 53,
   "metadata": {},
   "outputs": [
    {
     "data": {
      "text/plain": [
       "20480"
      ]
     },
     "execution_count": 53,
     "metadata": {},
     "output_type": "execute_result"
    }
   ],
   "source": [
    "os.path.getsize(path1) ##입력받은 경로에 대한 바이트 단위의 파일크기를 반환."
   ]
  },
  {
   "cell_type": "code",
   "execution_count": 55,
   "metadata": {},
   "outputs": [
    {
     "data": {
      "text/plain": [
       "True"
      ]
     },
     "execution_count": 55,
     "metadata": {},
     "output_type": "execute_result"
    }
   ],
   "source": [
    "os.path.isabs(path1) ##경로가 절대경로이면 True를 반환하고, 그 외의 경우에는 False를 반환.\n"
   ]
  },
  {
   "cell_type": "code",
   "execution_count": 63,
   "metadata": {},
   "outputs": [
    {
     "data": {
      "text/plain": [
       "False"
      ]
     },
     "execution_count": 63,
     "metadata": {},
     "output_type": "execute_result"
    }
   ],
   "source": [
    "os.path.isfile('C:\\\\Users\\\\User\\\\DS School Course Materials\\\\python materials\\\\OS Module.py') ##경로가 파일인지 아닌지 검사합니다. 파일인 경우에는 True를 반환하고, 그 외의 경우 False를 반환.\n"
   ]
  },
  {
   "cell_type": "code",
   "execution_count": 64,
   "metadata": {},
   "outputs": [
    {
     "data": {
      "text/plain": [
       "True"
      ]
     },
     "execution_count": 64,
     "metadata": {},
     "output_type": "execute_result"
    }
   ],
   "source": [
    "os.path.isdir(path1)"
   ]
  },
  {
   "cell_type": "code",
   "execution_count": 70,
   "metadata": {},
   "outputs": [
    {
     "data": {
      "text/plain": [
       "'D:\\\\Test\\\\test.py'"
      ]
     },
     "execution_count": 70,
     "metadata": {},
     "output_type": "execute_result"
    }
   ],
   "source": [
    "os.path.join('C:\\\\Python30', 'Script', 'test.py')\n",
    "os.path.join('C:\\\\Python30', 'D:\\\\Test', 'test.py')\n",
    "##해당 OS 형식에 맞도록 입력 받은 경로를 연결합니다. \n",
    "##(입력 중간에 절대경로가 나오면 이전에 취합된 경로는 제거하고 다시 연결합니다)\n",
    "\n"
   ]
  },
  {
   "cell_type": "code",
   "execution_count": 71,
   "metadata": {},
   "outputs": [
    {
     "data": {
      "text/plain": [
       "'c:\\\\python30\\\\python.exe'"
      ]
     },
     "execution_count": 71,
     "metadata": {},
     "output_type": "execute_result"
    }
   ],
   "source": [
    "os.path.normcase('C:/Python30/python.exe')\n",
    "##해당 OS에 맞도록 입력 받은 경로의 문자열을 정규화 합니다. \n",
    "##(윈도우와 같은 경우, 아래 예제와 같이 소문자로 바꾸고 '/'를 '\\\\'로 변경합니다)\n",
    "\n"
   ]
  },
  {
   "cell_type": "code",
   "execution_count": 72,
   "metadata": {},
   "outputs": [
    {
     "data": {
      "text/plain": [
       "('C:/Python30', 'python.exe')"
      ]
     },
     "execution_count": 72,
     "metadata": {},
     "output_type": "execute_result"
    }
   ],
   "source": [
    "os.path.split('C:/Python30/python.exe')\n",
    "##입력 받은 경로를 디렉터리 부분과 파일 부분으로 나눕니다."
   ]
  },
  {
   "cell_type": "code",
   "execution_count": 73,
   "metadata": {},
   "outputs": [
    {
     "data": {
      "text/plain": [
       "('C:', '\\\\Users\\\\User\\\\DS School Course Materials\\\\python materials')"
      ]
     },
     "execution_count": 73,
     "metadata": {},
     "output_type": "execute_result"
    }
   ],
   "source": [
    "os.path.splitdrive(path1)\n",
    "##입력 받은 경로를 드라이브 부분과 나머지 부분으로 나눕니다.\n"
   ]
  },
  {
   "cell_type": "code",
   "execution_count": 76,
   "metadata": {},
   "outputs": [
    {
     "data": {
      "text/plain": [
       "('C:/Python30/python', '.exe')"
      ]
     },
     "execution_count": 76,
     "metadata": {},
     "output_type": "execute_result"
    }
   ],
   "source": [
    "os.path.splitext('C:/Python30/python.exe')\n",
    "##입력 받은 경로를 확장자 부분과 그 외의 부분으로 나눕니다.\n"
   ]
  },
  {
   "cell_type": "code",
   "execution_count": null,
   "metadata": {
    "collapsed": true
   },
   "outputs": [],
   "source": [
    "## 출처: http://devanix.tistory.com/298 "
   ]
  }
 ],
 "metadata": {
  "kernelspec": {
   "display_name": "Python 3",
   "language": "python",
   "name": "python3"
  },
  "language_info": {
   "codemirror_mode": {
    "name": "ipython",
    "version": 3
   },
   "file_extension": ".py",
   "mimetype": "text/x-python",
   "name": "python",
   "nbconvert_exporter": "python",
   "pygments_lexer": "ipython3",
   "version": "3.6.1"
  }
 },
 "nbformat": 4,
 "nbformat_minor": 2
}
