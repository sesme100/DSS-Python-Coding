{
 "cells": [
  {
   "cell_type": "code",
   "execution_count": null,
   "metadata": {
    "collapsed": true
   },
   "outputs": [],
   "source": [
    "def nomal_year (year):\n",
    "    if year %100==0 or year%400==0:\n",
    "        print (\"greatest big year in every 4000 years \")\n",
    "    elif year % 4==0:\n",
    "        print (\"it's a leap year\")\n",
    "    else:\n",
    "        print (\"nothing year\")\n",
    "\n",
    "nomal_year(39)\n",
    "nomal_year(400)\n",
    "nomal_year(1000)"
   ]
  },
  {
   "cell_type": "code",
   "execution_count": null,
   "metadata": {
    "collapsed": true
   },
   "outputs": [],
   "source": [
    "def id_check(id):\n",
    "    if id== \"admin\" or \"Admin\":\n",
    "        print(\"invalid id:admin\")\n",
    "    \n",
    "    else:\n",
    "        print(\"valid id: %s\", id)\n",
    "\n",
    "\n",
    "id_check(id = \"mina\")"
   ]
  },
  {
   "cell_type": "code",
   "execution_count": null,
   "metadata": {
    "collapsed": true
   },
   "outputs": [],
   "source": [
    "def conversation(name=\"mina\", nickname= True):\n",
    "    print(name,\"hi\")\n",
    "    if nickname== True: \n",
    "        print(\"you are welcome\")\n",
    "    else:\n",
    "        print(\" you are not mina\")\n",
    "        \n",
    "conversation(name=\"seono\", nickname= False )"
   ]
  },
  {
   "cell_type": "code",
   "execution_count": null,
   "metadata": {
    "collapsed": true
   },
   "outputs": [],
   "source": [
    "a = \"hello \"\n",
    "def glob_test(a):\n",
    "    a += \"world\"\n",
    "    return(a)\n",
    "\n",
    "glob_test(a)\n",
    "\n"
   ]
  },
  {
   "cell_type": "code",
   "execution_count": null,
   "metadata": {
    "collapsed": true
   },
   "outputs": [],
   "source": [
    "a=[1,2,3,4]\n",
    "\n",
    "while a:\n",
    "\n",
    "    print(a)\n",
    "    break "
   ]
  },
  {
   "cell_type": "code",
   "execution_count": null,
   "metadata": {
    "collapsed": true
   },
   "outputs": [],
   "source": [
    "a= [1,2,3,4,5,6]\n",
    "\n",
    "count= count(a)\n",
    "while a: \n",
    "    count()\n",
    "    break\n",
    "\n"
   ]
  },
  {
   "cell_type": "code",
   "execution_count": null,
   "metadata": {
    "collapsed": true
   },
   "outputs": [],
   "source": [
    "num=int(input())\n",
    "if (num>3):\n",
    "    print(\"있다\")\n",
    "else:\n",
    "    print(\"없다\")"
   ]
  },
  {
   "cell_type": "code",
   "execution_count": null,
   "metadata": {
    "collapsed": true
   },
   "outputs": [],
   "source": []
  },
  {
   "cell_type": "code",
   "execution_count": 29,
   "metadata": {},
   "outputs": [
    {
     "name": "stdout",
     "output_type": "stream",
     "text": [
      "3\n",
      "3\n",
      "3\n",
      "3\n",
      "3\n",
      "3\n",
      "3\n",
      "3\n",
      "3\n",
      "3\n",
      "3\n"
     ]
    }
   ],
   "source": [
    "def go(n):\n",
    "    n*=2\n",
    "for i in range(1,12) :\n",
    "  \n",
    "    \n",
    "    n=i+1\n",
    "    print (3)"
   ]
  },
  {
   "cell_type": "code",
   "execution_count": 18,
   "metadata": {},
   "outputs": [
    {
     "name": "stdout",
     "output_type": "stream",
     "text": [
      "[3, 6, 9, 12, 15, 18, 21, 24, 27]\n"
     ]
    }
   ],
   "source": [
    "\n",
    "def gugu(n):\n",
    "    result=[]\n",
    "    i=1\n",
    "    while i<10:\n",
    "        result.append(i*n)\n",
    "        i=i+1\n",
    "    return result\n",
    "print(gugu(3))\n",
    "    "
   ]
  },
  {
   "cell_type": "code",
   "execution_count": 6,
   "metadata": {},
   "outputs": [
    {
     "name": "stdout",
     "output_type": "stream",
     "text": [
      "[2, 4, 6, 8, 10, 12, 14, 16, 18]\n"
     ]
    }
   ],
   "source": [
    "def GuGu(n):\n",
    "    result = []\n",
    "    i = 1\n",
    "    while i < 10:\n",
    "        result.append(n * i)\n",
    "        i = i + 1\n",
    "    return result\n",
    "\n",
    "print(GuGu(2))"
   ]
  },
  {
   "cell_type": "code",
   "execution_count": 11,
   "metadata": {},
   "outputs": [
    {
     "ename": "ModuleNotFoundError",
     "evalue": "No module named 'tensorflow'",
     "output_type": "error",
     "traceback": [
      "\u001b[1;31m---------------------------------------------------------------------------\u001b[0m",
      "\u001b[1;31mModuleNotFoundError\u001b[0m                       Traceback (most recent call last)",
      "\u001b[1;32m<ipython-input-11-1e2fed4601e9>\u001b[0m in \u001b[0;36m<module>\u001b[1;34m()\u001b[0m\n\u001b[1;32m----> 1\u001b[1;33m \u001b[1;32mimport\u001b[0m \u001b[0mtensorflow\u001b[0m \u001b[1;32mas\u001b[0m \u001b[0mtf\u001b[0m\u001b[1;33m\u001b[0m\u001b[0m\n\u001b[0m\u001b[0;32m      2\u001b[0m \u001b[1;33m\u001b[0m\u001b[0m\n\u001b[0;32m      3\u001b[0m \u001b[0mxData\u001b[0m\u001b[1;33m=\u001b[0m\u001b[1;33m[\u001b[0m\u001b[1;36m1\u001b[0m\u001b[1;33m,\u001b[0m\u001b[1;36m2\u001b[0m\u001b[1;33m,\u001b[0m\u001b[1;36m3\u001b[0m\u001b[1;33m,\u001b[0m\u001b[1;36m4\u001b[0m\u001b[1;33m,\u001b[0m\u001b[1;36m5\u001b[0m\u001b[1;33m,\u001b[0m\u001b[1;36m6\u001b[0m\u001b[1;33m,\u001b[0m\u001b[1;36m7\u001b[0m\u001b[1;33m]\u001b[0m\u001b[1;33m\u001b[0m\u001b[0m\n\u001b[0;32m      4\u001b[0m \u001b[0myData\u001b[0m\u001b[1;33m=\u001b[0m\u001b[1;33m[\u001b[0m\u001b[1;36m25000\u001b[0m\u001b[1;33m,\u001b[0m\u001b[1;36m55000\u001b[0m\u001b[1;33m,\u001b[0m\u001b[1;36m75000\u001b[0m\u001b[1;33m,\u001b[0m\u001b[1;36m110000\u001b[0m\u001b[1;33m,\u001b[0m\u001b[1;36m128000\u001b[0m\u001b[1;33m,\u001b[0m\u001b[1;36m155000\u001b[0m\u001b[1;33m,\u001b[0m\u001b[1;36m180000\u001b[0m\u001b[1;33m]\u001b[0m\u001b[1;33m\u001b[0m\u001b[0m\n\u001b[0;32m      5\u001b[0m \u001b[0mW\u001b[0m\u001b[1;33m=\u001b[0m\u001b[0mtf\u001b[0m\u001b[1;33m.\u001b[0m\u001b[0mVariable\u001b[0m\u001b[1;33m(\u001b[0m\u001b[0mtf\u001b[0m\u001b[1;33m.\u001b[0m\u001b[0mrandom_uniform\u001b[0m\u001b[1;33m[\u001b[0m\u001b[1;36m1\u001b[0m\u001b[1;33m]\u001b[0m\u001b[1;33m,\u001b[0m \u001b[1;33m-\u001b[0m\u001b[1;36m100\u001b[0m\u001b[1;33m,\u001b[0m\u001b[1;36m100\u001b[0m\u001b[1;33m)\u001b[0m\u001b[1;33m\u001b[0m\u001b[0m\n",
      "\u001b[1;31mModuleNotFoundError\u001b[0m: No module named 'tensorflow'"
     ]
    }
   ],
   "source": [
    "import tensorflow as tf\n",
    "\n",
    "xData=[1,2,3,4,5,6,7]\n",
    "yData=[25000,55000,75000,110000,128000,155000,180000]\n",
    "W=tf.Variable(tf.random_uniform[1], -100,100)\n",
    "b=tf.Variable(tf.random_uniform[1], -100,100)\n",
    "\n"
   ]
  },
  {
   "cell_type": "markdown",
   "metadata": {
    "collapsed": true
   },
   "source": [
    "관계 연산자\n",
    "\n",
    "관계 연산자는 두 개의 피연산자를 비교하는 연산자를 말합니다. 결과값이 1이면 참이고 0이면 거짓을 뜻합니다.\n",
    "\n",
    "x==y  :  x와 y가 같은가?\n",
    "\n",
    "x!=y   :  x와 y가 다른가?\n",
    "\n",
    "x > y  :  x와 y보다 큰가?\n",
    "\n",
    "x < y  :  x와 y보다 작은가?\n",
    "\n",
    "x>=y  :  x와 y보다 크거나 같은가?\n",
    "\n",
    "x<=y  :  x와 y보다 작거나 같은가?\n",
    "\n",
    "서식 문자 \n",
    "\n",
    "int 정수\n",
    "%d : 10진 정수\n",
    "\n",
    "%f : 10진 부동소수점수\n",
    "\n",
    "%c : 단일 문자\n",
    "\n",
    "%s : 문자열\n",
    "\n",
    "%o : 8진 정수\n",
    "\n",
    "%x : 16진 정수\n",
    "논리 연산자\n",
    "\n",
    "논리 연산자는 여러 개의 조건을 조합하여 참과 거짓을 따지는 연산자를 말합니다. 결과값이 1이면 참이고 0이면 거짓을 뜻합니다.\n",
    "\n",
    "x&&y : AND연산, x와y가 모두 참이면 참 하나라도 다르면 거짓\n",
    "\n",
    "x || y  : OR연산, x나y중에서 하나라도 참이라면 참 모두 거짓이면 거짓\n",
    "\n",
    "!x      : NOT연산, x가 참이면 거짓 x가 거짓이면 참"
   ]
  },
  {
   "cell_type": "code",
   "execution_count": null,
   "metadata": {
    "collapsed": true
   },
   "outputs": [],
   "source": []
  }
 ],
 "metadata": {
  "kernelspec": {
   "display_name": "Python 3",
   "language": "python",
   "name": "python3"
  },
  "language_info": {
   "codemirror_mode": {
    "name": "ipython",
    "version": 3
   },
   "file_extension": ".py",
   "mimetype": "text/x-python",
   "name": "python",
   "nbconvert_exporter": "python",
   "pygments_lexer": "ipython3",
   "version": "3.6.1"
  }
 },
 "nbformat": 4,
 "nbformat_minor": 2
}
