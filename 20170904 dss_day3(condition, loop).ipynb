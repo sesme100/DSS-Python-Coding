{
 "cells": [
  {
   "cell_type": "markdown",
   "metadata": {},
   "source": [
    "# Condition & Loop"
   ]
  },
  {
   "cell_type": "markdown",
   "metadata": {},
   "source": [
    "## 학습목표\n",
    " * 조건문의 이해 및 활용 (if)\n",
    " * 반복문의 이해 및 활용 (while, for)"
   ]
  },
  {
   "cell_type": "raw",
   "metadata": {},
   "source": []
  },
  {
   "cell_type": "markdown",
   "metadata": {},
   "source": [
    "* condition (조건문)\n",
    " + 특정 조건을 만족하는 경우에만 수행할 작업이 있는 경우 사용\n",
    " + 모든 조건은 boolean으로 표현 됨 (예외 사항은 아래 배울 예정) ## if 는 무조건 불린, 만약 값을 얻고 싶으면 if 안에 종속절에 조건을 달아줌\n",
    " + if, elif, else 키워드가 사용\n",
    " + 조건문의 경우 if, elif, else 블록에 종속된 코드는 들여쓰기로 표현 가능\n",
    " + 즉 아래코드에서와 같이, 조건문 아래에 들여쓰기된 2줄의 코드만이 조건문의 조건에 따라 수행될 수도, 수행되지 않을 수도 있는 코드라고 할 수 있음\n",
    " + 들여쓰기 된 코드를 블록(block), 또는 코드블록이라고 함 (종속절)\n",
    " + python에서 모든 블록의 시작점의 마지막에는 :(콜론, colon) 추가가 필요\n",
    "\n",
    "```python\n",
    "if 6 >= 5:\n",
    "    print ('6 is greater than 5')\n",
    "    print ('Yeah, it is true')\n",
    "print ('This code is not belongs to if statements')\n",
    "```"
   ]
  },
  {
   "cell_type": "code",
   "execution_count": null,
   "metadata": {
    "collapsed": true
   },
   "outputs": [],
   "source": [
    "if 5 == 6: \n",
    "    print('5 is equal to 6')\n",
    "    print('hahah is it really true?')\n",
    "    print('I do not think so') ## 코드블록에만 존재하므로 조건이 안맞으면 실행 안함, 조건을 붙일때 꼭 indentation 제대로 해줘야함 \n",
    "\n",
    "    \n",
    "print('This is always printed...')"
   ]
  },
  {
   "cell_type": "code",
   "execution_count": null,
   "metadata": {
    "collapsed": true
   },
   "outputs": [],
   "source": [
    "if 2 + 3 == 5:\n",
    "    print('hahaha')\n",
    "    print('hey')\n",
    "    \n",
    "a = 10\n",
    "print(a)"
   ]
  },
  {
   "cell_type": "code",
   "execution_count": null,
   "metadata": {
    "collapsed": true
   },
   "outputs": [],
   "source": [
    "if 5 > 6:\n",
    "    print('never printed') # false이면 if 의 조건이 실행안됨 "
   ]
  },
  {
   "cell_type": "code",
   "execution_count": null,
   "metadata": {
    "collapsed": true
   },
   "outputs": [],
   "source": [
    "a = 100\n",
    "if a % 9 == 0:\n",
    "    print('!!!')\n",
    "    \n",
    "    if a % 9 == 1: # 만약 첫번째 IF 의 종속절이 되면 실행이 안됨 , FALSE 인데 if 로 또 들어와서 실행하는것이므로 \n",
    "        print('???')"
   ]
  },
  {
   "cell_type": "code",
   "execution_count": null,
   "metadata": {
    "collapsed": true
   },
   "outputs": [],
   "source": [
    "a = 100\n",
    "if a % 9 == 0:\n",
    "    print('!!!')\n",
    "    \n",
    "if a % 9 == 1:\n",
    "    print('???') # 중첩조건문이 아니므로 수행됨 "
   ]
  },
  {
   "cell_type": "markdown",
   "metadata": {},
   "source": [
    "* 중첩 조건문\n",
    "  - 조건문의 경우 중첩하여 작성 가능\n",
    "  - 중첩의 의미는 depth(깊이)로 생각할 수 있으며, depth의 제한은 없음"
   ]
  },
  {
   "cell_type": "code",
   "execution_count": null,
   "metadata": {
    "collapsed": true
   },
   "outputs": [],
   "source": [
    "a = 99\n",
    "\n",
    "# 중첩 nested\n",
    "if a % 9 == 0:\n",
    "    if a % 11  == 0:\n",
    "        print('!!!')\n",
    "    if a - 1  == 98:\n",
    "        print('OK')"
   ]
  },
  {
   "cell_type": "markdown",
   "metadata": {},
   "source": [
    "* Logical AND, OR, NOT \n",
    "  - 조건문에 사용되는 조건의 경우, boolean이기 때문에, 논리식 AND, OR, NOT 이 사용가능\n",
    "  - AND : and\n",
    "  - OR : or\n",
    "  - NOT : not\n",
    "  \n",
    "* 논리표 \n",
    "  - AND \n",
    "      - T AND T : T\n",
    "      - T AND F : F\n",
    "      - F AND T : F\n",
    "      - F AND F : F\n",
    "  - OR \n",
    "      - T OR T : T\n",
    "      - T OR F : T\n",
    "      - F OR T : T\n",
    "      - F OR F : F\n",
    "      \n",
    "  - NOT \n",
    "      - NOT T : F\n",
    "      - NOT F : T\n",
    "* 우선순위\n",
    "  - NOT > AND > OR"
   ]
  },
  {
   "cell_type": "code",
   "execution_count": null,
   "metadata": {
    "collapsed": true
   },
   "outputs": [],
   "source": [
    "# and\n",
    "x = 7\n",
    "if (5 < x) and (x < 10):\n",
    "    print('It is true')"
   ]
  },
  {
   "cell_type": "code",
   "execution_count": null,
   "metadata": {
    "collapsed": true
   },
   "outputs": [],
   "source": [
    "# or\n",
    "x = 7\n",
    "if (5 > x) or (x < 10):\n",
    "    print('It is true')"
   ]
  },
  {
   "cell_type": "code",
   "execution_count": null,
   "metadata": {
    "collapsed": true
   },
   "outputs": [],
   "source": [
    "# not\n",
    "x = 7\n",
    "if not (5 > x):\n",
    "    print('It is true')"
   ]
  },
  {
   "cell_type": "code",
   "execution_count": null,
   "metadata": {
    "collapsed": true
   },
   "outputs": [],
   "source": [
    "# combination\n",
    "x = 7\n",
    "if not (5 > x) and not (x > 10): ##  실행의 우선순위가 not 이기 때문에 not 에 걸려있는거 먼저 하고 그다음에 and 를 실행 \n",
    "    print('It is true')"
   ]
  },
  {
   "cell_type": "code",
   "execution_count": null,
   "metadata": {
    "collapsed": true
   },
   "outputs": [],
   "source": [
    "x = 7 # 위 식과 논리적으로 같음, 이렇게 쉽게 표현 가능함 \n",
    "if 5 < x < 10:\n",
    "    print('True')"
   ]
  },
  {
   "cell_type": "code",
   "execution_count": null,
   "metadata": {
    "collapsed": true
   },
   "outputs": [],
   "source": [
    "# combination\n",
    "# and 가 or 보다 우선순위가 높음을 확인\n",
    "# or를 먼저 수행하기 위해 아래 조건에서는 괄호 사용\n",
    "x = 7\n",
    "y = 9\n",
    "\n",
    "if (5 > x) and not (x < 10) or y == 9: ## or이 제일 마지막에 실행됨 \n",
    "    print('It is true1')\n",
    "    \n",
    "if (5 > x) and (not (x < 10) or y == 9):\n",
    "    print('It is true2')"
   ]
  },
  {
   "cell_type": "markdown",
   "metadata": {},
   "source": [
    "+ if의 조건이 bool이 아닌 경우\n",
    " * 일반적으로는 조건문에는 bool이 주로 위치 함\n",
    " * 하지만, 정수, 실수, 문자열 리스트 등 기본 타입도 조건에 사용 가능\n",
    " * False로 간주되는 값 (각 타입의 기본값)\n",
    "     * None\n",
    "     * 0 ## 정수 intgent\n",
    "     * 0.0 ## 실수 float\n",
    "     * '' ## 비어있는 string\n",
    "     * [] -> 빈 리스트\n",
    "     * () -> 빈 튜플\n",
    "     * {} -> 빈 딕셔너리\n",
    "     * set() -> 빈 집합\n",
    " * 그밖에는 모두 True로 간주"
   ]
  },
  {
   "cell_type": "code",
   "execution_count": null,
   "metadata": {
    "collapsed": true
   },
   "outputs": [],
   "source": [
    "a = []\n",
    "\n",
    "if a: \n",
    "    print(True)\n",
    "else:\n",
    "    print(False) \n",
    "    \n",
    "print(a)"
   ]
  },
  {
   "cell_type": "code",
   "execution_count": null,
   "metadata": {
    "collapsed": true
   },
   "outputs": [],
   "source": [
    "a = [1, 2, 3, 4]\n",
    "\n",
    "if len(a) > 0:\n",
    "    print('haha')\n",
    "    \n",
    "if a:\n",
    "    print('heheh') ## 만약 a가 빈리스트면 출력안됨 \n",
    "    \n",
    "    \n",
    "if 'python': ## a 리스트와 상관없고 ''안에 str 이 있으므로 true, 그래서 프린트 출력 \n",
    "    print('python')\n",
    "    \n",
    "if '':\n",
    "    print('python2') ## 빈문자열이므로 false 그래서 출력안됨  "
   ]
  },
  {
   "cell_type": "code",
   "execution_count": null,
   "metadata": {
    "collapsed": true
   },
   "outputs": [],
   "source": [
    "a = [] \n",
    "if a: # 빈 리스트 이므로 조건이 False로 해석, 출력이 안됨 \n",
    "    print('not empty')"
   ]
  },
  {
   "cell_type": "code",
   "execution_count": null,
   "metadata": {
    "collapsed": true
   },
   "outputs": [],
   "source": [
    "a = [1]\n",
    "if a: ## a가 빈리스트냐 아니냐? 를 물어봄\n",
    "    print('not empty')"
   ]
  },
  {
   "cell_type": "markdown",
   "metadata": {},
   "source": [
    "* if, else\n",
    "  - if가 아닌 경우, 나머지 조건을 표현하고 싶다면 바로 아래 else 블락 사용\n",
    "  - 이 경우, if조건이 True인 경우, if 블락의 코드가 수행, 거짓인 경우 else 블락의 코드가 수행\n",
    "  - 주의 할 점 : if와 else사이에 다른 코드 삽입 불가"
   ]
  },
  {
   "cell_type": "code",
   "execution_count": null,
   "metadata": {
    "collapsed": true
   },
   "outputs": [],
   "source": [
    "# 올바른 if, else 코드의 예\n",
    "a = [1]\n",
    "if a:\n",
    "    print('not empty')\n",
    "else:\n",
    "    print('empty')"
   ]
  },
  {
   "cell_type": "code",
   "execution_count": null,
   "metadata": {
    "collapsed": true
   },
   "outputs": [],
   "source": [
    "# 올바른 if, else 코드의 올바르지 않은 예\n",
    "# if, else 사이에 다른 코드가 추가됨\n",
    "a = [1]\n",
    "if a:\n",
    "    print ('not empty')\n",
    "print ('another code') ## if 와  else 사이에 다른코드가 들어가있으면 출력안됨, 에러남 종속절로 써야함 \n",
    "else:\n",
    "    print ('empty')"
   ]
  },
  {
   "cell_type": "markdown",
   "metadata": {},
   "source": [
    "* if, elif, else\n",
    "  - 조건이 여러개인 경우, 다음 조건을 elif 블록에 명시 가능\n",
    "  - 이 경우, 각 조건을 확인 후, True인 조건의 코드 블락을 실행 한 후, 전체 if, elif, else 구문을 종료\n",
    "  - 조건문을 사용할 때는, if 이후, 0개 이상의 elif를 사용 가능하며 0개 또는 1개의 else를 사용 가능함\n",
    "\n",
    "```python\n",
    "a = 17\n",
    "if a % 4 == 0:\n",
    "    print 'a is divisible by 4'\n",
    "elif a % 4 == 1:\n",
    "    print 'a % 4 is 1'\n",
    "elif a % 4 == 2:\n",
    "    print 'a % 4 is 2'\n",
    "else:\n",
    "    print 'a % 4 is 3'\n",
    "```"
   ]
  },
  {
   "cell_type": "code",
   "execution_count": null,
   "metadata": {
    "collapsed": true
   },
   "outputs": [],
   "source": [
    "a = 17\n",
    "if a % 4 == 0:\n",
    "    print('a is divisible by 4')\n",
    "elif a % 4 == 1:\n",
    "    print('a % 4 is 1')\n",
    "elif a % 4 == 2:\n",
    "    print('a % 4 is 2')\n",
    "else: ## 위의 if 와 elif 가 조건이 맞아서 실행되면 실행을 멈추고 if 값만 줌 , elif 와 else 조건을 또 실행해서 확인하지 않음 \n",
    "    print('a % 4 is 3')"
   ]
  },
  {
   "cell_type": "code",
   "execution_count": null,
   "metadata": {
    "collapsed": true
   },
   "outputs": [],
   "source": [
    "a = 17\n",
    "if a % 4 == 0:\n",
    "    print('a is divisible by 4')\n",
    "elif a % 4 == 1:\n",
    "    print('a % 4 is 1')\n",
    "elif a % 4 == 2:\n",
    "    print('a % 4 is 2')\n",
    "elif a % 4 == 3: #위의 else블록을 변경하여 사용\n",
    "    print('a % 4 is 3')"
   ]
  },
  {
   "cell_type": "markdown",
   "metadata": {},
   "source": [
    "* **quiz)** 바로 위의 코드와 아래 코드의 차이점은?"
   ]
  },
  {
   "cell_type": "code",
   "execution_count": null,
   "metadata": {
    "collapsed": true
   },
   "outputs": [],
   "source": [
    "a = 17 ## 독립적인 if 들이므로 모든 if 조건을 실행 (끝까지 모두 실행 )\n",
    "if a % 4 == 0:\n",
    "    print('a is divisible by 4')\n",
    "if a % 4 == 1:\n",
    "    print('a % 4 is 1')\n",
    "if a % 4 == 2:\n",
    "    print('a % 4 is 2')\n",
    "if a % 4 == 3: #위의 else블록을 변경하여 사용해야함 \n",
    "    print('a % 4 is 3')"
   ]
  },
  {
   "cell_type": "markdown",
   "metadata": {},
   "source": [
    "* loop (반복문)\n",
    " + 반복적인 작업을 가능하게 해주는 도구\n",
    " + 특정 조건을 만족하는 경우 수행할 수 있음 (while)\n",
    " + 리스트, 문자열, 튜플 등 컬렉션 타입의 아이템을 하나씩 순회하면서 사용 가능 (for)\n",
    " + 코드 작업에서, 가장 많이 사용하는 구문 중 하나\n",
    " + 주의할점: while을 사용할 경우, 반복을 멈추게 하는 장치가 필요\n",
    "   + 그렇지 않으면 셀이 무한히 수행되며, jupyter notebook의 재부팅이 필요"
   ]
  },
  {
   "cell_type": "markdown",
   "metadata": {},
   "source": [
    "* while 조건문\n",
    "  - while 뒤의 조건이 True일 경우, while 코드 블록을 계속 수행\n",
    "  - while 코드 블록\n",
    "    - if와 마찬가지로 while문 아래의 들여쓰기로 작성 된 부분을 의미\n",
    "  - 조건이 False가 되면 블록 수행을 멈추고 이후 코드를 실행"
   ]
  },
  {
   "cell_type": "code",
   "execution_count": null,
   "metadata": {
    "collapsed": true
   },
   "outputs": [],
   "source": [
    "count = 1\n",
    "while count <= 3:  # 해당 조건이 True이면 코드 블록 계속 반복 수행, 아니면 코드 블록 종료\n",
    "    print(count)\n",
    "    count += 1\n",
    "    \n",
    "print('while loop Finished')\n",
    "print(count)"
   ]
  },
  {
   "cell_type": "code",
   "execution_count": null,
   "metadata": {
    "collapsed": true
   },
   "outputs": [],
   "source": [
    "num = 3\n",
    "\n",
    "a =[1,3,5,7,9]\n",
    "while num <= 10:\n",
    "    for i in a:\n",
    "        num += i\n",
    "\n",
    "print (num)"
   ]
  },
  {
   "cell_type": "code",
   "execution_count": null,
   "metadata": {
    "collapsed": true
   },
   "outputs": [],
   "source": [
    "a = 'Python'  ## i 경우 for 구문에서는 인덱스가 아닌 인덱스의 값을 주지만, while의 구문에서는 a[i] 처럼 i 는 인덱스 a 그룹의 i 번째 인덱스를 표현해야함 \n",
    "\n",
    "i = 0\n",
    "while i < len(a):\n",
    "     # 한글자씩 출력\n",
    "    print(a[i])\n",
    "    \n",
    "    i += 1\n",
    "    print(i)"
   ]
  },
  {
   "cell_type": "markdown",
   "metadata": {},
   "source": [
    "* 무한루프\n",
    " - while의 경우 종료가 되지 않도록 코드를 작성하면 블록에서 빠져나올 수 없음"
   ]
  },
  {
   "cell_type": "code",
   "execution_count": null,
   "metadata": {
    "collapsed": true
   },
   "outputs": [],
   "source": [
    "# 무한루프 주의\n",
    "a = 'Python'\n",
    "\n",
    "i = 0\n",
    "while i < len(a):\n",
    "    print(a[i])\n",
    "    break # 위조건 충족하면 종료"
   ]
  },
  {
   "cell_type": "markdown",
   "metadata": {},
   "source": [
    "* 조건문을 추가하여 짝수와 홀수 분리하기"
   ]
  },
  {
   "cell_type": "code",
   "execution_count": null,
   "metadata": {
    "collapsed": true
   },
   "outputs": [],
   "source": [
    "a = [2, 5, 6, 8, 9, 7, 8, 10, 12, 13, 19, 18]\n",
    "odds = []\n",
    "evens = []\n",
    "\n",
    "i = 0\n",
    "while i < len(a):\n",
    "    if a[i] % 2 == 0:\n",
    "        evens.append(a[i])\n",
    "    else:\n",
    "        odds.append(a[i])\n",
    "    \n",
    "    i += 1 ## 인덱스 i 이고 인덱스 해당하는 벨류값은 a[i] 이다 \n",
    "    \n",
    "print(evens)\n",
    "print(odds)\n",
    "len(a)"
   ]
  },
  {
   "cell_type": "markdown",
   "metadata": {},
   "source": [
    "* 연습문제) 위의 코드와 아래의 수행 결과 차이점은?"
   ]
  },
  {
   "cell_type": "code",
   "execution_count": null,
   "metadata": {
    "collapsed": true
   },
   "outputs": [],
   "source": [
    "a = [2, 5, 6, 8, 9, 7]\n",
    "odds = []\n",
    "evens = []\n",
    "\n",
    "i = 0\n",
    "while i < len(a):\n",
    "    if a[i] % 2 == 0:\n",
    "        evens.append(a[i])\n",
    "    odds.append(a[i])\n",
    "    \n",
    "    i += 1\n",
    "    \n",
    "print(evens)\n",
    "print(odds)"
   ]
  },
  {
   "cell_type": "code",
   "execution_count": null,
   "metadata": {
    "collapsed": true
   },
   "outputs": [],
   "source": [
    "a = [101,102,104,108,119,140,130,120,178] ## 연습 \n",
    "odds = []\n",
    "evens = []\n",
    "\n",
    "i=0\n",
    "while i < len(a):\n",
    "    if a[i] % 2 == 0:\n",
    "        evens.append(a[i])\n",
    "        print(evens) \n",
    "        ## 프린트의 위치도 중요함 종속절이기 때문에 처음엔 빈리스트만 나옴 \n",
    "        \n",
    "    else:\n",
    "        odds.append(i)\n",
    "        print(odds)\n",
    "    i += 1 ## if else  와 동등한 위치, while 의 종속 ==> if, else 조건이 끝나면 while 로 돌아가기전에 i+1하고 돌아감 \n",
    "\n",
    "print (odds)\n",
    "print (evens)\n"
   ]
  },
  {
   "cell_type": "markdown",
   "metadata": {},
   "source": [
    "* break \n",
    " + loop를 중단할 때 사용\n",
    " + 보통 조건문 안에서 수행되며, 조건을 만족하는 경우 loop를 탈출하기 위해 사용\n",
    " + loop를 중단 하는 경우, while 이후의 코드를 수행"
   ]
  },
  {
   "cell_type": "code",
   "execution_count": null,
   "metadata": {
    "collapsed": true
   },
   "outputs": [],
   "source": [
    "count = 1\n",
    "while True: # 무한 루프\n",
    "    print(count)\n",
    "    count += 1\n",
    "    \n",
    "    if count > 3 : # 해당 조건을 만족하면 반복 블록을 종료\n",
    "        break\n",
    "\n",
    "print('while finished')"
   ]
  },
  {
   "cell_type": "code",
   "execution_count": null,
   "metadata": {
    "collapsed": true
   },
   "outputs": [],
   "source": [
    "a = [1, 6, 8, 9, 7]\n",
    "\n",
    "i = 0\n",
    "while i < len(a):\n",
    "    print(a[i])\n",
    "    i += 1\n",
    "    if a[i] > 7:\n",
    "        \n",
    "        break\n"
   ]
  },
  {
   "cell_type": "markdown",
   "metadata": {},
   "source": [
    "* 연습문제) 아래 문자열을 순회하면서 한글자씩 출력하시오. 단, 모음을 만나면 반복을 종료하도록 하세요."
   ]
  },
  {
   "cell_type": "code",
   "execution_count": null,
   "metadata": {
    "collapsed": true
   },
   "outputs": [],
   "source": [
    "a = 'python'\n",
    "b = list(a)\n",
    "\n",
    "vowels=['a','e','i','o','u']\n",
    "i=0\n",
    "while i < len(a):\n",
    "    if a[i] in 'aeiou':\n",
    "        break\n",
    "    print(a[i])\n",
    "    i+=1\n",
    "    "
   ]
  },
  {
   "cell_type": "code",
   "execution_count": null,
   "metadata": {
    "collapsed": true
   },
   "outputs": [],
   "source": [
    "a = 'python'\n",
    "b = 'aeiou'\n",
    "\n",
    "for i in a:\n",
    "    if i not in b:\n",
    "        print(i)"
   ]
  },
  {
   "cell_type": "code",
   "execution_count": null,
   "metadata": {
    "collapsed": true
   },
   "outputs": [],
   "source": [
    "a= list(range(0,101))\n",
    "a[-1]"
   ]
  },
  {
   "cell_type": "markdown",
   "metadata": {},
   "source": [
    "* continue\n",
    " + break 처럼 반복을 중단하진 하여 빠져나오지 않고, 다시 while조건으로 점프함\n",
    " + 특정한 경우에는 코드를 수행하지 않고 다음으로 건너 뛰기 위해 사용"
   ]
  },
  {
   "cell_type": "code",
   "execution_count": null,
   "metadata": {
    "collapsed": true
   },
   "outputs": [],
   "source": [
    "var = 7                    \n",
    "while var > 0:              \n",
    "    var -= 1\n",
    "    if var == 5:\n",
    "        continue ## var 값이 5일때 true 이므로 컨티뉴로 들어감, 그러면 while로 다시 돌아감 , 프린트를 실행하지 않고 바로 while 로 돌아감 \n",
    "    \n",
    "    print('Current value :', var)\n",
    "    \n",
    "print(\"while finished\")"
   ]
  },
  {
   "cell_type": "code",
   "execution_count": null,
   "metadata": {
    "collapsed": true
   },
   "outputs": [],
   "source": [
    "# 주어진 문자열을 문자열의 끝부분부터 출력하는데, 모음을 만나면 무시, 자음은 출력\n",
    "a = 'python'\n",
    "i=len(a)\n",
    "\n",
    "while i >= 0:\n",
    "    i -= 1\n",
    "    if a[i] in 'aeiou':\n",
    "        continue\n",
    "    print(a[i])\n",
    "        "
   ]
  },
  {
   "cell_type": "markdown",
   "metadata": {},
   "source": [
    "* **연습문제)**\n",
    "nums = [1, 3, 2, 5, 4, 6, 7, 9, 8]\n",
    "라는 숫자 리스트가 있습니다. while문을 이용하여 리스트를 순회하면서 각 아이템을 출력하세요"
   ]
  },
  {
   "cell_type": "code",
   "execution_count": null,
   "metadata": {
    "collapsed": true
   },
   "outputs": [],
   "source": [
    "nums = [1, 3, 2, 5, 4, 6, 7, 9, 8] ## 9개 \n",
    "\n",
    "i=0\n",
    "while i <len(nums): \n",
    "    print(nums[i])\n",
    "    i+=1\n",
    "\n"
   ]
  },
  {
   "cell_type": "markdown",
   "metadata": {},
   "source": [
    "* while - else\n",
    " + break 문에 걸리지 않고 while 종료 시, else문 호출"
   ]
  },
  {
   "cell_type": "code",
   "execution_count": null,
   "metadata": {
    "collapsed": true
   },
   "outputs": [],
   "source": [
    "\n",
    "nums = [1, 3, 4, 5]\n",
    "\n",
    "position = 0 # 인덱스 변수로 사용\n",
    "\n",
    "while position < len(nums):\n",
    "    number = nums[position]\n",
    "    \n",
    "    if number % 2 == 0: # 짝수 체크\n",
    "        print('even number')\n",
    "        \n",
    "    else:\n",
    "        print('no even number')\n",
    "    position += 1 "
   ]
  },
  {
   "cell_type": "markdown",
   "metadata": {},
   "source": [
    "+ for \n",
    " - 리스트, 문자열 등등 순회 가능한 객체를 순회하면서 값을 처리할 때 사용\n",
    " - 아래와 같은 문법으로 사용\n",
    " - 여기서 i는 매번 수행 될 때마다, a의 아이템으로 순차적으로 변경 됨\n",
    " - 모든 아이템이 순회되면 for 블록 종료\n",
    " \n",
    "```python\n",
    "a = [1, 2, 4, 3, 5]\n",
    "for i in a:\n",
    "    print i,\n",
    "    print i * 2\n",
    "```\n",
    " - 클래스 수업 이후, for에 적용가능한 커스텀 객체 생성 예정"
   ]
  },
  {
   "cell_type": "code",
   "execution_count": null,
   "metadata": {
    "collapsed": true
   },
   "outputs": [],
   "source": [
    "a = [1, 2, 3, 4, 5]\n",
    "\n",
    "for i in a:\n",
    "    print(i)\n",
    "    \n",
    "print(i*2)"
   ]
  },
  {
   "cell_type": "code",
   "execution_count": null,
   "metadata": {
    "collapsed": true
   },
   "outputs": [],
   "source": [
    "# 순회하는 변수의 이름은 커스텀하게 작성 가능\n",
    "# 아래의 예처럼, val, i, num등 다양한 상황에 맞게 작명 가능\n",
    "# 주로 실무에서는 다음과 같이 단수형으로 쓰거나 (nums -> num)\n",
    "# 정수형의 경우, i 혹은 x로 많이 사용\n",
    "\n",
    "nums = [1, 3, 2, 5, 4, 6, 7, 9, 8] ## 리스트 \n",
    "for val in nums: ## for 구문안에서는 순회하는 변수 i 아무거나 써줌 , i는 인덱스 번호가 아니라 여기서는 변수값 \n",
    "    print(val, end=' ') ## end는 스페이스 바 그래서 한칸씩 띄어짐\n",
    "    \n"
   ]
  },
  {
   "cell_type": "code",
   "execution_count": null,
   "metadata": {
    "collapsed": true
   },
   "outputs": [],
   "source": [
    "print() # 빈리스트 이므로 빈공간 출력 \n",
    "for i in nums:\n",
    "    print(i, end=' ')\n"
   ]
  },
  {
   "cell_type": "code",
   "execution_count": null,
   "metadata": {
    "collapsed": true
   },
   "outputs": [],
   "source": [
    "\n",
    "print(nums[4], end=' ')\n"
   ]
  },
  {
   "cell_type": "code",
   "execution_count": null,
   "metadata": {
    "collapsed": true
   },
   "outputs": [],
   "source": [
    "print()\n",
    "for num in nums:\n",
    "    print(num)\n",
    "    \n",
    "\n",
    "    \n"
   ]
  },
  {
   "cell_type": "code",
   "execution_count": null,
   "metadata": {
    "collapsed": true
   },
   "outputs": [],
   "source": [
    "student_names = ['Tracy', 'Michael', 'Byun'] ## 리스트 튜플 둘다가능 \n",
    "for sn in student_names:\n",
    "    print(sn)\n",
    "\n",
    "tuple(student_names)"
   ]
  },
  {
   "cell_type": "markdown",
   "metadata": {},
   "source": [
    "* 문자열의 순회\n",
    " - 문자열의 경우 순회 가능, 리스트의 유사하게 순회 가능"
   ]
  },
  {
   "cell_type": "code",
   "execution_count": null,
   "metadata": {
    "collapsed": true
   },
   "outputs": [],
   "source": [
    "str = 'hello world' ## 스트링도 for 또는 While, if 구문에 모두 사용가능함 \n",
    "for char in str:\n",
    "    print(char, end=' ')"
   ]
  },
  {
   "cell_type": "markdown",
   "metadata": {},
   "source": [
    "* dict 순회\n",
    "  - dictionary의 경우 기본적으로 순회 하게 되면 key값을 참조\n",
    "  - keys()함수를 이용하여 key 값만 순회 가능\n",
    "  - values()함수를 이용하여 value 값만 순회 가능\n",
    "  - items()함수를 이용하여 tuple형태로 key, value 순회 가능"
   ]
  },
  {
   "cell_type": "code",
   "execution_count": null,
   "metadata": {
    "collapsed": true
   },
   "outputs": [],
   "source": [
    "capitals = {'korea' : 'seoul', 'japan' : 'tokyo', 'usa' : 'Washington D.C'}\n",
    "\n",
    "for value in capitals:\n",
    "    print(value, capitals[value])\n",
    "print()\n",
    "\n",
    "for key in list(capitals.keys()):\n",
    "    print(key)\n",
    "print()\n",
    "    \n",
    "for val in list(capitals.values()):\n",
    "    print(val)\n",
    "print()\n",
    "    \n",
    "for k, v in list(capitals.items()):\n",
    "    print(k, v)\n",
    "    \n",
    "capitals.keys()"
   ]
  },
  {
   "cell_type": "code",
   "execution_count": null,
   "metadata": {
    "collapsed": true
   },
   "outputs": [],
   "source": [
    "capitals = {'korea' : 'seoul', 'japan' : 'tokyo', 'usa' : 'Washington D.C'}\n",
    "\n",
    "capitals.keys()\n",
    "capitals.items()\n"
   ]
  },
  {
   "cell_type": "code",
   "execution_count": null,
   "metadata": {
    "collapsed": true
   },
   "outputs": [],
   "source": [
    "for k, v in list(capitals.items()): ## a.items()함수 의 경우 키와 벨류값을 튜플로 만들어서 다시 출력해줌 \n",
    "    print(k, v)\n",
    "    \n",
    "for item in list(capitals.items()):\n",
    "    print(item) ## 튜플로 출력 "
   ]
  },
  {
   "cell_type": "code",
   "execution_count": null,
   "metadata": {
    "collapsed": true
   },
   "outputs": [],
   "source": [
    "print(capitals.get('korea'))\n"
   ]
  },
  {
   "cell_type": "markdown",
   "metadata": {},
   "source": [
    "+ for에서 index 사용하기\n",
    "  - 기본적으로 for에 리스트를 순회하는 경우, 값만 추출 함\n",
    "  - 아래와 같은 코드로 인덱스와 값 모두 사용 가능\n",
    "\n",
    "```python\n",
    "a = [1, 2, 4, 3, 5]\n",
    "for i, val in enumerate(a):\n",
    "    print (i, val)\n",
    "```"
   ]
  },
  {
   "cell_type": "code",
   "execution_count": null,
   "metadata": {
    "collapsed": true
   },
   "outputs": [],
   "source": [
    "nums = [1, 3, 2, 5, 4, 6, 7, 9, 8]\n",
    "\n",
    "for val in nums:\n",
    "    print(val, end=' ')\n",
    "print('\\n')\n",
    "\n",
    "for i, val in enumerate(nums):\n",
    "    print('index:', i, 'value:', val)"
   ]
  },
  {
   "cell_type": "markdown",
   "metadata": {},
   "source": [
    "* for break\n",
    "  - for의 경우에도 특정 조건일 때, loop 종료가 가능\n",
    "  - 이때, break을 수행하지 않았다면 else 블록이 수행됨"
   ]
  },
  {
   "cell_type": "code",
   "execution_count": null,
   "metadata": {
    "collapsed": true
   },
   "outputs": [],
   "source": [
    "nums = [1, 3, 2, 5, 4, 6, 7, 9, 8]\n",
    "\n",
    "for i, val in enumerate(nums):\n",
    "    print(i, val)"
   ]
  },
  {
   "cell_type": "code",
   "execution_count": null,
   "metadata": {
    "collapsed": true
   },
   "outputs": [],
   "source": [
    "nums = [1, 3, 2, 5, 4, 6, 7, 9, 8]\n",
    "for i, val in enumerate(nums):\n",
    "    if i > 3: # if i > 10\n",
    "        \n",
    "        print('value at index', i, 'is', val)\n",
    "        break ## if 조건이 하나라도 만족하면 for 코드블록 바로 빠져나옴     \n",
    "    else:\n",
    "        print('all done')"
   ]
  },
  {
   "cell_type": "code",
   "execution_count": null,
   "metadata": {
    "collapsed": true
   },
   "outputs": [],
   "source": [
    "nums = [1, 3, 2, 4, 5, 6, 100, 101] ## n개의 원소를 가지고 있는경우 \n",
    "evens = []\n",
    "odds = []\n",
    "\n",
    "for n in nums:\n",
    "    if n % 2 == 0: ## 중첩인경우 빅오는 N*N = N**2 \n",
    "        evens.append(n)\n",
    "    else:\n",
    "        odds.append(n) ## 여기도 빅오는 N*N = N**2 => 총 빅오는 2(N**2) 그런데 상수는 떼어버리므로 근사값 N**2 로 표기 \n",
    "        \n",
    "print(evens) \n",
    "print(odds)"
   ]
  },
  {
   "cell_type": "markdown",
   "metadata": {},
   "source": [
    "* loop 중첩\n",
    "  - 반복문의 경우에도 중첩하여 사용 가능\n",
    "  - 중첩이라는 것은 반복문 블록의 코드안에 또 반복문의 코드가 작성되는 것을 의미\n",
    "  - 이런 경우, 내부 루프는 외부 루프가 수행되는 만큼 반복 수행 됨\n",
    "  - 또한 중첩의 경우 무한히 가능\n",
    "\n",
    "```python\n",
    "a = [1, 2, 4]\n",
    "for i in a:\n",
    "    for j in a:\n",
    "        print i * j\n",
    "```"
   ]
  },
  {
   "cell_type": "code",
   "execution_count": null,
   "metadata": {
    "collapsed": true
   },
   "outputs": [],
   "source": [
    "a = [1, 2, 4, 5]\n",
    "for i in a: # 최초 진입\n",
    "    for j in a: # 각각 i가 1, 2, 4, 5로 변경되면서 내부 루프가 수행 됨\n",
    "        print(i * j, end=' ')"
   ]
  },
  {
   "cell_type": "markdown",
   "metadata": {},
   "source": [
    "* **연습문제**) 아래 각 코드의 Big O notation을 계산하시오\n",
    "단, 출력과 각 연산에 드는 비용은 1이라고 합니다. (a의 길이는 n이라고 가정)"
   ]
  },
  {
   "cell_type": "code",
   "execution_count": null,
   "metadata": {
    "collapsed": true
   },
   "outputs": [],
   "source": [
    "a = [1, 2, 4, 5] ## a가 n개의 요소를 가지고 있을때 \n",
    "for i in a: \n",
    "    print(i) ## 빅오 n**2번 \n",
    "    print(i + 2, i ** 3) ## 빅오 n**2번 \n",
    "    ## 빅오  2(n**2) 번 이지만 쉽게 상수를 지우고 근사값 (n**2) 번으로 나타냄 \n"
   ]
  },
  {
   "cell_type": "code",
   "execution_count": null,
   "metadata": {
    "collapsed": true
   },
   "outputs": [],
   "source": [
    "a = [1, 2, 4, 5]\n",
    "for i in a:\n",
    "    print(i)\n",
    "\n",
    "for j in a:\n",
    "    print(j + 2)\n",
    "    \n",
    "for k in a:\n",
    "    print(k ** 3)\n",
    "    \n",
    "    ## 총 빅오 3번의 n**2 = 3n**2  그러나 근사값 n으로 표현 "
   ]
  },
  {
   "cell_type": "code",
   "execution_count": null,
   "metadata": {
    "collapsed": true
   },
   "outputs": [],
   "source": [
    "a = [1, 2, 4, 5]\n",
    "for i in a: # 빅오 n번 \n",
    "    for j in a: # 빅오 n 번이지만 중첩이므로 곱하기 \n",
    "        print(i * j, end=' ') \n",
    "        ## 총 빅오 n번 세번 중첩 =n *3 "
   ]
  },
  {
   "cell_type": "code",
   "execution_count": null,
   "metadata": {
    "collapsed": true
   },
   "outputs": [],
   "source": [
    "a = [1, 2, 4, 5] \n",
    "for i in a:\n",
    "    for j in a:\n",
    "        for k in a:\n",
    "            print(i * j + k, end=' ')"
   ]
  },
  {
   "cell_type": "code",
   "execution_count": null,
   "metadata": {
    "collapsed": true
   },
   "outputs": [],
   "source": [
    "a = [1, 2, 3, 4]\n",
    "b = [2, 3, 4, 5] \n",
    "\n",
    "for i in a:\n",
    "    for j in b:\n",
    "        print(i, j)"
   ]
  },
  {
   "cell_type": "markdown",
   "metadata": {},
   "source": [
    "* collection의 길이\n",
    " - len() 내장함수로 계산 가능\n",
    " - 내장함수란 파이썬 내부에 구현되어 있어서, import하지 않고도 사용 가능한 함수를 의미\n",
    " - abs, len, type, range 등이 있음 (과정 진행하면서 필요할 때마다 다룰 예정)"
   ]
  },
  {
   "cell_type": "code",
   "execution_count": null,
   "metadata": {
    "collapsed": true
   },
   "outputs": [],
   "source": [
    "print(a)\n",
    "print(len(a))"
   ]
  },
  {
   "cell_type": "markdown",
   "metadata": {},
   "source": [
    "* range 함수\n",
    "  - 리스트를 쉽게 만들 수 있는 내장함수\n",
    "  - 주어진 값에 따라 다양한 결과를 반환\n",
    " \n",
    "```python\n",
    "range(10)       -> [0, 1, 2, 3, 4, 5, 6, 7, 8, 9]\n",
    "range(2, 10)    -> [2, 3, 4, 5, 6, 7, 8, 9] \n",
    "range(2, 10, 3) -> [2, 5, 8] \n",
    "```"
   ]
  },
  {
   "cell_type": "markdown",
   "metadata": {},
   "source": [
    "* 1 - 100까지의 리스트 생성하기"
   ]
  },
  {
   "cell_type": "code",
   "execution_count": null,
   "metadata": {
    "collapsed": true
   },
   "outputs": [],
   "source": [
    "list(range(1,101,8))\n",
    "range(1,101)"
   ]
  },
  {
   "cell_type": "code",
   "execution_count": null,
   "metadata": {
    "collapsed": true
   },
   "outputs": [],
   "source": [
    "a = []\n",
    "i = 1\n",
    "while i <= 100:\n",
    "    a.append(i)\n",
    "    i += 1\n",
    "    \n",
    "print(a)"
   ]
  },
  {
   "cell_type": "code",
   "execution_count": null,
   "metadata": {
    "collapsed": true
   },
   "outputs": [],
   "source": [
    "print(list(range(10)))"
   ]
  },
  {
   "cell_type": "code",
   "execution_count": null,
   "metadata": {
    "collapsed": true
   },
   "outputs": [],
   "source": [
    "print(list(range(2, 10)))"
   ]
  },
  {
   "cell_type": "code",
   "execution_count": null,
   "metadata": {
    "collapsed": true
   },
   "outputs": [],
   "source": [
    "print(list(range(2, 10, 3)))"
   ]
  },
  {
   "cell_type": "code",
   "execution_count": null,
   "metadata": {
    "collapsed": true
   },
   "outputs": [],
   "source": [
    "print(list(range(2, 101, 2)))"
   ]
  },
  {
   "cell_type": "markdown",
   "metadata": {
    "collapsed": true
   },
   "source": [
    "* **quiz)** 1부터 100사이의 5의 배수만을 갖는 리스트를 생성하시오"
   ]
  },
  {
   "cell_type": "code",
   "execution_count": null,
   "metadata": {
    "collapsed": true
   },
   "outputs": [],
   "source": [
    "print(list(range(5, 101, 5)))"
   ]
  },
  {
   "cell_type": "markdown",
   "metadata": {},
   "source": [
    " + if & for 연습문제\n",
    "   \n",
    "  1. 구구단을 2 - 9단까지 출력하시오.\n",
    "  2. 1 - 100까지 정수 중 2의 배수 또는 11의 배수를 모두 출력하시오. \n",
    "  4. a = [22, 1, 3, 4, 7, 98, 21, 55, 87, 99, 19, 20, 45] 에서 최대값과 최소값을 찾으시오. (sorted, sort 사용 금지)\n",
    "  5. a = [22, 1, 3, 4, 7, 98, 21, 55, 87, 99, 19, 20, 45] 에서 평균을 구하세요.\n",
    "  "
   ]
  },
  {
   "cell_type": "code",
   "execution_count": null,
   "metadata": {
    "collapsed": true
   },
   "outputs": [],
   "source": [
    " '''1. 구구단을 2 - 9단까지 출력하시오.'''\n",
    "for i in range(2,10):\n",
    "    \n",
    "    for j in range (1,10):\n",
    "       \n",
    "        print (i,\"X\",j,\"=\",i*j) ## for 구문은 2부터 10까지 range의 순차 회전을 하기때문에 i+=1 의 조건을 붙일 필요 없음, 알아서 잘 돌아감\n",
    "         "
   ]
  },
  {
   "cell_type": "code",
   "execution_count": null,
   "metadata": {
    "collapsed": true
   },
   "outputs": [],
   "source": [
    " ## 2. 1 - 100까지 정수 중 2의 배수 또는 11의 배수를 모두 출력하시오\n",
    "\n",
    "for i in range (1,101):\n",
    "    if i%2 == 0:\n",
    "        print(i)\n",
    "    elif i % 11 == 0:\n",
    "        print(i)"
   ]
  },
  {
   "cell_type": "code",
   "execution_count": null,
   "metadata": {
    "collapsed": true
   },
   "outputs": [],
   "source": [
    "## 위와 같은 조건 \n",
    "\n",
    "for i in range (1,101):\n",
    "    if i%2 == 0 or i%11 == 0:\n",
    "        \n",
    "        print(i)"
   ]
  },
  {
   "cell_type": "code",
   "execution_count": null,
   "metadata": {
    "collapsed": true
   },
   "outputs": [],
   "source": [
    "## a = [22, 1, 3, 4, 7, 98, 21, 55, 87, 99, 19, 20, 45] 에서 최대값과 최소값을 찾으시오. (sorted, sort 사용 금지)\n",
    "a = [22, 1, 3, 4, 7, 98, 21, 55, 87, 99, 19, 20, 45] ## i 와 그다음수 비교후 큰수 업데이트해서 집어넣기 \n",
    "\n",
    "min_val = a[0] ## 인덱싱 해줌 0 번째 부터 시작 \n",
    "max_val = a[0]\n",
    "for i in a [1:]: ## 1부터 전체까지 \n",
    "    if min_val > i : ## for 의 i 값은 벨류값 ,,,, min_val 첫번째 값> i의 벨류값 \n",
    "        min_val = i ## 엎어쓰기 \n",
    "    \n",
    "    if max_val < i :\n",
    "        max_val = i \n",
    "print (min_val, max_val)\n",
    "\n"
   ]
  },
  {
   "cell_type": "code",
   "execution_count": null,
   "metadata": {
    "collapsed": true
   },
   "outputs": [],
   "source": [
    "a= [1, 3, 22, 4, 7, 98, 21, 55, 87, 99, 19, 20, 45]\n",
    "\n",
    "minnum = a[0]\n",
    "maxnum = a[0]\n",
    "\n",
    "for i in a[1:] :\n",
    "    if minnum > i:\n",
    "        minnum = i\n",
    "    elif maxnum < i:\n",
    "        maxnum = i ## 두가지 조건을 넣기 위해 elif를 씀 \n",
    "print(minnum)\n",
    "print(maxnum)\n",
    "\n",
    "        \n"
   ]
  },
  {
   "cell_type": "code",
   "execution_count": null,
   "metadata": {
    "collapsed": true
   },
   "outputs": [],
   "source": [
    "#a = [22, 1, 3, 4, 7, 98, 21, 55, 87, 99, 19, 20, 45] 에서 평균을 구하세요.\n",
    "\n",
    "a = [22, 1, 3, 4, 7, 98, 21, 55, 87, 99, 19, 20, 45]\n",
    "\n",
    "total = 0  ## 변수 default 값 정의 \n",
    "for i in a:\n",
    "\n",
    "    total += i  ## total + i = total \n",
    "\n",
    "print(total)\n",
    "\n",
    "avg = total /len(a)    \n",
    "\n",
    "avg\n"
   ]
  },
  {
   "cell_type": "code",
   "execution_count": null,
   "metadata": {
    "collapsed": true
   },
   "outputs": [],
   "source": [
    "import numpy as np\n",
    "\n"
   ]
  },
  {
   "cell_type": "code",
   "execution_count": null,
   "metadata": {
    "collapsed": true
   },
   "outputs": [],
   "source": [
    "a = [22, 1, 3, 4, 7, 98, 21, 55, 87, 99, 19, 20, 45]\n",
    "\n",
    "np.mean(a)"
   ]
  },
  {
   "cell_type": "markdown",
   "metadata": {},
   "source": [
    "* 연습문제 2)\n",
    "\n",
    " 알고리즘의 설명을 듣고 아래 코드를 작성하세요\n",
    " 1. 주어진 정수를 담는 리스트를 정렬하는 코드를 작성하세요. (selection sort)\n",
    " 2. 다음과 같은 점화식을 만족하는 수열을 피보나치 수열이라고 합니다. f0 = 1, f1 = 1, fn = fn-1 + fn-2 \n",
    "    이때, 15번째까지 피보나치 수열을 출력하시오. \n",
    " 3. 몬테 카를로 방법을 이용하여 파이의 근사값을 계산하시오. "
   ]
  },
  {
   "cell_type": "code",
   "execution_count": null,
   "metadata": {
    "collapsed": true
   },
   "outputs": [],
   "source": [
    "###########################################################################################\n",
    "##주어진 정수를 담는 리스트를 정렬하는 코드를 작성하세요. (selection sort, 선택정렬)\n",
    "\n",
    "list1 = [3, 6, 0, 19, 47, 29, 95, 8, 7]\n",
    "\n",
    "for i in range (0,len(list1)): ## i는 0부터 9 까지의 범위 , 인덱스임 , 벨류값 아님 \n",
    "        mini = i\n",
    "        for j in range (i+1,len(list1)): ## j는 i+1이므로 1부터 시작 9까지의 범위 - 인덱스임, 벨류값아님 \n",
    "            if list1[mini] > list1[j]: ## 미니의 벨류값이 j의 벨류값 보다 크면 아래 조건으로 출력\n",
    "                mini = j ## j는 자기 있는 자리 위치에 그대로 있고 미니가 가서 마크를 해줌 \n",
    "        list1[mini],list1[i] = list1[i],list1[mini] ## 미니가 있는 자리와 i가 있는 자리를 변경 \n",
    "              \n",
    "list1\n",
    "                "
   ]
  },
  {
   "cell_type": "code",
   "execution_count": null,
   "metadata": {
    "collapsed": true
   },
   "outputs": [],
   "source": [
    "fibo = [1,1]\n",
    "for i in range (2, 16): \n",
    "    fibo.append(fibo[i-1]+fibo[i-2])\n",
    "\n",
    "\n",
    "print(fibo)\n",
    "fibo[15]"
   ]
  },
  {
   "cell_type": "code",
   "execution_count": null,
   "metadata": {
    "collapsed": true
   },
   "outputs": [],
   "source": [
    "\n",
    "## index=(0,1,2,3,4,5,6,7,8,9,10,11,12,13,14,15,16,17,18,19)\n",
    "square = [1,1]\n",
    "for i in range (2,20):\n",
    "    square.append(square[i-1]+square[i-2])\n",
    "    \n",
    "square  \n",
    "square[0:15]"
   ]
  },
  {
   "cell_type": "code",
   "execution_count": null,
   "metadata": {
    "collapsed": true
   },
   "outputs": [],
   "source": [
    "########################################################################################\n",
    "##몬테 카를로 방법을 이용하여 파이의 근사값을 계산하시오. \n",
    "\n",
    "import random \n",
    "\n",
    "total = 10 ** 7 ## 임의로 넣은 값 \n",
    "hit = 0 ## 0번 치고 1번치고 .... 총 10**7만큼 침 \n",
    "\n",
    "for i in range(total):\n",
    "    x, y = random.random(), random.random()\n",
    "    if x**2 + y**2 <= 1 :\n",
    "        hit += 1\n",
    "\n",
    "4* hit / total ## 10**7번을 쳤을때 X^2+Y^2 = 1 보다 작을 확률 을 말한다, 그럼 파이 값이 나옴 \n"
   ]
  },
  {
   "cell_type": "markdown",
   "metadata": {},
   "source": [
    "* zip 내장 함수\n",
    " - 주어진 2개 이상의 컬렉션을 튜플 형태로 생성"
   ]
  },
  {
   "cell_type": "code",
   "execution_count": 2,
   "metadata": {},
   "outputs": [
    {
     "data": {
      "text/plain": [
       "[('korea', 'seoul'), ('japan', 'tokyo'), ('usa', 'Washington D.C')]"
      ]
     },
     "execution_count": 2,
     "metadata": {},
     "output_type": "execute_result"
    }
   ],
   "source": [
    "capitals = {'korea' : 'seoul', 'japan' : 'tokyo', 'usa' : 'Washington D.C'}\n",
    "countries = list(capitals.keys())\n",
    "cities = capitals.values()\n",
    "list(zip(countries,cities))\n",
    "\n"
   ]
  },
  {
   "cell_type": "code",
   "execution_count": 3,
   "metadata": {},
   "outputs": [
    {
     "name": "stdout",
     "output_type": "stream",
     "text": [
      "korea seoul\n",
      "japan tokyo\n",
      "usa Washington D.C\n",
      "korea seoul\n",
      "japan tokyo\n",
      "usa Washington D.C\n"
     ]
    }
   ],
   "source": [
    "for country, city in zip(countries, cities):\n",
    "    print(country, city)\n",
    "    \n",
    "for k, v in list(capitals.items()):\n",
    "    print(k, v)"
   ]
  },
  {
   "cell_type": "code",
   "execution_count": 4,
   "metadata": {},
   "outputs": [
    {
     "name": "stdout",
     "output_type": "stream",
     "text": [
      "1 2 1 1\n",
      "2 4 4 4\n",
      "3 6 9 9\n",
      "1 2 1 1\n",
      "2 4 4 4\n",
      "3 6 9 9\n"
     ]
    }
   ],
   "source": [
    "aa = [1, 2, 3, 10]\n",
    "bb = [2, 4, 6]\n",
    "cc = [1, 4, 9]\n",
    "dd = [1, 4, 9]\n",
    "\n",
    "for i in range(len(bb)):\n",
    "    print(aa[i], bb[i], cc[i], dd[i])\n",
    "\n",
    "for a, b, c, d in zip(aa, bb, cc, dd):\n",
    "    print(a, b, c, d) ## 리스트의 길이가 다 다른경우 같은 길이까지만 답출력 "
   ]
  },
  {
   "cell_type": "markdown",
   "metadata": {},
   "source": [
    "* comprehension\n",
    " + python만의 간결한 문법을 이용하여 컬렉션을 생성하는 방법\n",
    " + 간결하게 생성 가능하기 때문에, 실무에서 많이 사용\n",
    " + 나중에 배울 generator를 이해하기 위해 **반드시** 숙지 필요"
   ]
  },
  {
   "cell_type": "markdown",
   "metadata": {},
   "source": [
    "### 주어진 리스트에서 짝수만 추출하여 새로운 리스트 생성"
   ]
  },
  {
   "cell_type": "markdown",
   "metadata": {},
   "source": [
    "* **quiz)** * 주어진 리스트에서 짝수만 추출하여 새로운 리스트를 만드세요"
   ]
  },
  {
   "cell_type": "code",
   "execution_count": 6,
   "metadata": {},
   "outputs": [
    {
     "ename": "SyntaxError",
     "evalue": "invalid syntax (<ipython-input-6-b37ebed8f7b3>, line 2)",
     "output_type": "error",
     "traceback": [
      "\u001b[1;36m  File \u001b[1;32m\"<ipython-input-6-b37ebed8f7b3>\"\u001b[1;36m, line \u001b[1;32m2\u001b[0m\n\u001b[1;33m    [i  if i % 2 ==0 for i in range (1, 101)]\u001b[0m\n\u001b[1;37m                       ^\u001b[0m\n\u001b[1;31mSyntaxError\u001b[0m\u001b[1;31m:\u001b[0m invalid syntax\n"
     ]
    }
   ],
   "source": [
    "\n",
    "[i for i in range (1, 101) if i % 2 ==0] ## 출력할 값, for 구문, if 구문순서대로 나옴 \n"
   ]
  },
  {
   "cell_type": "code",
   "execution_count": null,
   "metadata": {
    "collapsed": true
   },
   "outputs": [],
   "source": [
    "print(list(range (0,101,2)))\n"
   ]
  },
  {
   "cell_type": "code",
   "execution_count": null,
   "metadata": {
    "collapsed": true
   },
   "outputs": [],
   "source": [
    "[i**2 for i in range(21)]\n"
   ]
  },
  {
   "cell_type": "code",
   "execution_count": null,
   "metadata": {
    "collapsed": true
   },
   "outputs": [],
   "source": [
    "list([i for i in range(1,101) if i%2 == 0])"
   ]
  },
  {
   "cell_type": "markdown",
   "metadata": {},
   "source": [
    "* list comprehension을 사용하여 생성"
   ]
  },
  {
   "cell_type": "code",
   "execution_count": null,
   "metadata": {
    "collapsed": true
   },
   "outputs": [],
   "source": [
    "nums = [1, 2, 3, 4, 5, 6]\n",
    "\n",
    "even_nums2 = [i for i in nums if i % 2 == 0] ## 필터링, 만약 i가 짝수일때 num에서 그에 맞는 i 값을 찾아와라\n",
    "even_nums3 = [i + 3 for i in nums if i % 2 == 0] ## i가 짝수인 값i에서  i+3 을 해와라 \n",
    "\n",
    "print(even_nums2)\n",
    "print(even_nums3)"
   ]
  },
  {
   "cell_type": "code",
   "execution_count": null,
   "metadata": {
    "collapsed": true
   },
   "outputs": [],
   "source": [
    "nums = [1, 2, 3, 4, 5, 6]\n",
    "\n",
    "new_nums = [i if i % 2 == 0 else i * 2 for i in nums]\n",
    "print(new_nums)"
   ]
  },
  {
   "cell_type": "markdown",
   "metadata": {},
   "source": [
    "* list comprehension 작성 요령\n",
    "  - [expression for element in collections] -> 기본 포맷\n",
    "  1. [ ] 빈리스트 작성\n",
    "  2. [for i in a] 루프와 순회할 대상, 순회 변수 작성\n",
    "  3. [i * 2 for i in a] for 앞에 새로 생성 될 아이템의 값을 작성, 여기서는 i*2로 작성\n",
    "   > 조건이 존재 하는 경우 [i \\* 2 for i in a if 조건 ]\n",
    "   \n",
    "   > 조건의 if, else를 표현하고 싶은 경우 [i \\* 2 if 조건 else 다른 값 for i in a]"
   ]
  },
  {
   "cell_type": "code",
   "execution_count": null,
   "metadata": {
    "collapsed": true
   },
   "outputs": [],
   "source": [
    "nums = [1, 6, 8, 3, 4, 7, 9, 10, 12]\n",
    "\n",
    "# 짝수 : 해당 value 값에 제곱, 홀수 : -1\n",
    "aa = [i ** 2 if i % 2 == 0 else -1 for i in nums]\n",
    "\n",
    "# 인덱스가 3보다 작거나 같으면 해당 값에 3승, 나머지 : 해당 값 + 7\n",
    "bb = [i**3 if i <= 3 else i+7 for i in range(len(nums))] ## range 값은 인덱스를 나타낸다, nums의 벨류 값을 나타내지 않는다 \n",
    "\n",
    "\n",
    "## for 구문에서 i는 벨류 값, 만약 for 구문에서 in range()하면 인덱스 번호를 가리킨다 \n",
    "\n",
    "\n",
    "\n",
    "aa\n",
    "bb"
   ]
  },
  {
   "cell_type": "code",
   "execution_count": null,
   "metadata": {
    "collapsed": true
   },
   "outputs": [],
   "source": [
    "# 인덱스가 3보다 작거나 같으면 해당 값에 3승\n",
    "bb = [print(i**3,nums[i]) for i in range(len(nums)) if i <= 3]\n",
    "print(bb)"
   ]
  },
  {
   "cell_type": "code",
   "execution_count": null,
   "metadata": {
    "collapsed": true
   },
   "outputs": [],
   "source": [
    "nums4 = [i for i in nums if i < 4]\n",
    "\n",
    "#nums41 = [i for i in nums if i < 4 else 0]\n",
    "\n",
    "nums5 = [i**2 if i < 4 else i*2 for i in nums]\n",
    "\n",
    "print(nums4)\n",
    "print(nums5)"
   ]
  },
  {
   "cell_type": "code",
   "execution_count": null,
   "metadata": {
    "collapsed": true
   },
   "outputs": [],
   "source": [
    "rows = list(range(1, 4))\n",
    "cols = list(range(1, 3))\n",
    "\n",
    "for row in rows:\n",
    "    for col in cols:\n",
    "        print(row, col)"
   ]
  },
  {
   "cell_type": "markdown",
   "metadata": {},
   "source": [
    "* 중첩 list comprehension\n",
    "  - for문의 중첩이 허용됨, 이때 먼저 사용하는 루프가 외부 루프로 동작"
   ]
  },
  {
   "cell_type": "code",
   "execution_count": null,
   "metadata": {
    "collapsed": true
   },
   "outputs": [],
   "source": []
  },
  {
   "cell_type": "code",
   "execution_count": 7,
   "metadata": {},
   "outputs": [
    {
     "name": "stdout",
     "output_type": "stream",
     "text": [
      "1 1\n",
      "1 2\n",
      "2 1\n",
      "2 2\n",
      "3 1\n",
      "3 2\n",
      "--------------------\n",
      "1 1\n",
      "1 2\n",
      "2 1\n",
      "2 2\n",
      "3 1\n",
      "3 2\n"
     ]
    }
   ],
   "source": [
    "rows = list(range(1, 4))\n",
    "cols = list(range(1, 3))\n",
    "\n",
    "for row in rows:\n",
    "    for col in cols:\n",
    "        print(row, col)\n",
    "        \n",
    "print('-' * 20)\n",
    "        \n",
    "cells = [(row, col) for row in rows for col in cols]\n",
    "for row, col in cells:\n",
    "    print(row, col)"
   ]
  },
  {
   "cell_type": "markdown",
   "metadata": {},
   "source": [
    "* dictionary comprehension\n",
    "  - list comprehension과 거의 동일하게 생성\n",
    "  - {}를 이용하여 생성하며, key, value를 k:v 형식으로 작성\n",
    " "
   ]
  },
  {
   "cell_type": "code",
   "execution_count": null,
   "metadata": {
    "collapsed": true
   },
   "outputs": [],
   "source": [
    "words = ['apple', 'banana', 'chicago', 'do', 'elephant']\n",
    "\n",
    "# dict comprehension을 사용하지 않는 경우\n",
    "dict1 = {}\n",
    "for w in words:\n",
    "    dict1[w] = len(w)\n",
    "    \n",
    "print(dict1)\n",
    "\n"
   ]
  },
  {
   "cell_type": "code",
   "execution_count": 8,
   "metadata": {},
   "outputs": [
    {
     "data": {
      "text/plain": [
       "{'apple': 5, 'banana': 6, 'chicago': 7, 'do': 2, 'elephant': 8}"
      ]
     },
     "execution_count": 8,
     "metadata": {},
     "output_type": "execute_result"
    }
   ],
   "source": [
    "# dict comprehension을 사용하는 경우\n",
    "words = ['apple', 'banana', 'chicago', 'do', 'elephant']\n",
    "words_dict = {w : len(w) for w in words} ## 딕셔너리 형태로 반환 \n",
    "\n",
    "words_dict"
   ]
  },
  {
   "cell_type": "code",
   "execution_count": null,
   "metadata": {
    "collapsed": true
   },
   "outputs": [],
   "source": [
    "# generator ## 튜플아님 \n",
    "a = (i for i in nums)\n",
    "print(a)\n",
    "\n",
    "print(words_dict)"
   ]
  },
  {
   "cell_type": "markdown",
   "metadata": {},
   "source": [
    "* comprehension 연습문제\n",
    " 1. Celsius = [39.2, 36.5, 37.3, 37.8] F = (9/5) * C + 32 일 때, 리스트의 각 값을 화씨로 바꾼 리스트를 만드시오.\n",
    " 2. 주어진 문자열에서 띄어쓰기의 개수는? 'Today is very nice and I want to go out for dinner'\n",
    " 3. 주어진 문자열에서 모음을 모두 제거하시오. 'Today is very nice and I want to go out for dinner'"
   ]
  },
  {
   "cell_type": "code",
   "execution_count": null,
   "metadata": {
    "collapsed": true
   },
   "outputs": [],
   "source": [
    "Celsius = [39.2, 36.5, 37.3, 37.8] \n",
    "Feh = (9/5) * i + 32\n",
    "\n",
    "\n",
    "list([(9/5) * i + 32 for i in Celsius])"
   ]
  },
  {
   "cell_type": "code",
   "execution_count": 9,
   "metadata": {},
   "outputs": [
    {
     "data": {
      "text/plain": [
       "11"
      ]
     },
     "execution_count": 9,
     "metadata": {},
     "output_type": "execute_result"
    }
   ],
   "source": [
    "## 주어진 문자열에서 띄어쓰기의 개수는? 'Today is very nice and I want to go out for dinner'\n",
    "a = 'Today is very nice and I want to go out for dinner'\n",
    "list([i for i in a if i == \" \"])\n",
    "len([i for i in a if i == \" \"])"
   ]
  },
  {
   "cell_type": "code",
   "execution_count": 12,
   "metadata": {},
   "outputs": [
    {
     "data": {
      "text/plain": [
       "\"['T', 'd', 'y', ' ', 's', ' ', 'v', 'r', 'y', ' ', 'n', 'c', ' ', 'n', 'd', ' ', 'I', ' ', 'w', 'n', 't', ' ', 't', ' ', 'g', ' ', 't', ' ', 'f', 'r', ' ', 'd', 'n', 'n', 'r']\""
      ]
     },
     "execution_count": 12,
     "metadata": {},
     "output_type": "execute_result"
    }
   ],
   "source": [
    "str1 = 'Today is very nice and I want to go out for dinner'\n",
    "str([i for i in str1 if not i in 'aeiou'])"
   ]
  },
  {
   "cell_type": "markdown",
   "metadata": {},
   "source": [
    "* **과제)**\n",
    " 1. 6277이 소수인지 아닌지 판별하는 코드를 작성하시오. 이 경우 해당 코드의 big o notation은?\n",
    " 1. 1 - 1000까지 정수 중 소수만 출력하시오.\n",
    "      1.1 - 에라토네스의 체 (소수 구하는 방법중 하나) \n",
    " 2. 1 - 9000까지 정수 중 palindrome의 개수는? palindrome은 11, 121, 1331, 999 등 앞으로 읽으나 뒤로 읽으나 같은 수를 의미 합니다. ## 1~9 제외\n",
    " 3. 정렬된 주어진 리스트가 있을 때, 각각 순차탐색(linear search)과, 이진탐색(binary,중앙값을 찾아서 비교 )으로 특정 숫자를 검새하는 프로그램을 작성하시오\n"
   ]
  },
  {
   "cell_type": "code",
   "execution_count": null,
   "metadata": {
    "collapsed": true
   },
   "outputs": [],
   "source": [
    "## 6277이 소수인지 아닌지 판별하는 코드를 작성하시오. 이 경우 해당 코드의 big o notation은?\n",
    "number = 6277\n",
    "\n",
    "for i in range (2, number):\n",
    "    if number % i == 0:\n",
    "      \n",
    "        print (\"False\")\n",
    "        break\n",
    "    else: \n",
    "        print (\"True!!\")\n",
    "        break\n",
    "\n",
    "        \n",
    "        \n"
   ]
  },
  {
   "cell_type": "code",
   "execution_count": null,
   "metadata": {
    "collapsed": true
   },
   "outputs": [],
   "source": [
    "def prime(num):\n",
    "    for div in range (2,num):\n",
    "        if num %div == 0:\n",
    "            return False \n",
    "    return True     \n",
    "\n",
    "\n",
    "prime(6277)"
   ]
  },
  {
   "cell_type": "code",
   "execution_count": null,
   "metadata": {
    "collapsed": true
   },
   "outputs": [],
   "source": [
    "##### ##1~1000까지 정수 중 소수만 출력하시오.\n",
    "\n",
    "import math \n",
    "\n",
    "nums = range (3,1001)\n",
    "primes = [2]\n",
    "\n",
    "for i in nums:\n",
    "    is_prime = True\n",
    "    for j in range (2, int(math.sqrt(i)+1)):\n",
    "        if i % j ==0:\n",
    "            is_prime = False\n",
    "            break\n",
    "        if is_"
   ]
  },
  {
   "cell_type": "code",
   "execution_count": null,
   "metadata": {
    "collapsed": true
   },
   "outputs": [],
   "source": [
    "##### ##1~1000까지 정수 중 소수만 출력하시오.\n",
    "\n",
    "a = list(range(1,1001))\n",
    "\n",
    "for i in range (2,1000):\n",
    "    for x in a:\n",
    "        if x % i == 0:\n",
    "            a.remove(x)\n",
    "           \n",
    "a\n",
    "      \n"
   ]
  },
  {
   "cell_type": "code",
   "execution_count": null,
   "metadata": {
    "collapsed": true
   },
   "outputs": [],
   "source": [
    "num = 1000\n",
    "div = 2\n",
    "\n",
    "a = range(2,1001)\n",
    "while num >= div:\n",
    "    if num % div == 0:\n",
    "        a.remove(num)\n",
    "        num /= div\n",
    "        div += 1\n",
    "    else:\n",
    "        num -= 1\n",
    "list(a)          \n",
    "    "
   ]
  },
  {
   "cell_type": "code",
   "execution_count": null,
   "metadata": {
    "collapsed": true
   },
   "outputs": [],
   "source": [
    "## 1 - 9000까지 정수 중 palindrome의 개수는? palindrome은 11, 121, 1331, 999 등 앞으로 읽으나 뒤로 읽으나 같은 수를 의미 합니다. \n",
    "## 1~9 제외\n",
    "\n",
    "a= list(str(i))\n",
    "b=[]\n",
    "for i in range(10,9001):\n",
    "    if len(i) == 2 and a[0] == a[1]:\n",
    "        b.append(i)\n",
    "    elif len(a) == 3 and a[0] == a[2]:    \n",
    "        print(i)\n",
    "    elif len(a) ==4 and a[0] == a[3] :\n",
    "        print(i)\n",
    "i"
   ]
  },
  {
   "cell_type": "code",
   "execution_count": null,
   "metadata": {
    "collapsed": true
   },
   "outputs": [],
   "source": [
    "## 답\n",
    "\n",
    "def is_palindrome(num):\n",
    "    str_num = str(num)\n",
    "    \n",
    "    rev_str = ''\n",
    "    i = len(str_num) - 1\n",
    "    while i >= 0:\n",
    "        rev_str += str_num[i]\n",
    "        i-= l\n",
    "    return rev_str == str_num\n",
    "\n",
    "is_palindrome(100)"
   ]
  },
  {
   "cell_type": "code",
   "execution_count": null,
   "metadata": {
    "collapsed": true
   },
   "outputs": [],
   "source": [
    "##  3. 정렬된 주어진 리스트가 있을 때, 각각 순차탐색(linear search)과, 이진탐색(binary,중앙값을 찾아서 비교 )으로 특정 숫자를 검새하는 프로그램을 작성하시오\n",
    "\n",
    "'hello world' [0:5:2] ## 인덱스 0부터 5까지 2번씩 띄어서 나타내라 \n",
    "'hello world' [::-1] ## 전체 str 에 대하여 역으로 나타내라 \n"
   ]
  },
  {
   "cell_type": "code",
   "execution_count": 6,
   "metadata": {},
   "outputs": [
    {
     "data": {
      "text/plain": [
       "[7, 17, 12, 1, 2, 20, 0, 5, 13, 18, 3, 15, 6, 10, 9, 14]"
      ]
     },
     "execution_count": 6,
     "metadata": {},
     "output_type": "execute_result"
    }
   ],
   "source": [
    "import random\n",
    "nums = random.sample(range(21),16) ## 범위 0~19까지 임의의 숫자 15개 리스트로 만들기 \n",
    "nums"
   ]
  },
  {
   "cell_type": "code",
   "execution_count": 7,
   "metadata": {
    "collapsed": true
   },
   "outputs": [],
   "source": [
    "def linear_search(nums, k): ## nums 는 리스트 k 는 키숫자\n",
    "    for i, n in enumerate(nums):## 내가 찾고자 하는 번호 = n \n",
    "        if k == n :\n",
    "            return i\n",
    "    return None"
   ]
  },
  {
   "cell_type": "code",
   "execution_count": 11,
   "metadata": {},
   "outputs": [
    {
     "data": {
      "text/plain": [
       "9"
      ]
     },
     "execution_count": 11,
     "metadata": {},
     "output_type": "execute_result"
    }
   ],
   "source": [
    "linear_search(nums, 18) ## 답 인덱스 %d 번째에 있다 "
   ]
  },
  {
   "cell_type": "code",
   "execution_count": 18,
   "metadata": {
    "collapsed": true
   },
   "outputs": [],
   "source": [
    "def binary_search (nums, k):\n",
    "    s, e = 0, len(nums)-1 \n",
    "    \n",
    "    while s <= e:\n",
    "        m = int ((s+e) // 2)\n",
    "            \n",
    "        if k == nums[m]:\n",
    "            return m\n",
    "            \n",
    "        elif k < nums[m]:\n",
    "            e = m - 1\n",
    "        else:\n",
    "            s = m + 1\n",
    "        \n",
    "    return None"
   ]
  },
  {
   "cell_type": "code",
   "execution_count": 19,
   "metadata": {
    "collapsed": true
   },
   "outputs": [],
   "source": [
    "binary_search (nums, 18)"
   ]
  },
  {
   "cell_type": "markdown",
   "metadata": {},
   "source": [
    "** project 1**\n",
    "숫자 맞추기 게임!\n",
    "[1, 100] 사이의 랜덤한 숫자를 맞추는 게임\n",
    "\n",
    "> 요구사항\n",
    " 1. 사용자는 7번의 시도를 할 수 있으며 7번 내에 생성된 숫자를 맞추어야 한다!\n",
    " 2. 사용자가 매번 시도를 할 때마다, 생성 된 숫자가 큰지, 작은지 같은지를 표시해준다.\n",
    " 3. 만약 7번 내에 맞출 경우, 해당 숫자 출력 후, 프로그램 종료\n",
    " 4. 만약 7번 내에 못맞출 경우, 숫자 찾기에 실패했음을 알리고 프로그램 종료\n",
    " \n",
    "> 필요 모듈\n",
    " 1. random\n",
    "    random.randint(a, b) -> [a, b] 랜덤한 숫자 생성\n",
    " 2. input() -> 사용자의 입력을 받아 문자열로 저장"
   ]
  },
  {
   "cell_type": "code",
   "execution_count": null,
   "metadata": {
    "collapsed": true
   },
   "outputs": [],
   "source": [
    "import random\n",
    "\n",
    "\n",
    "hidden = random.randint(1, 101)# 1 line of code \n",
    "\n",
    "\n",
    "i = 0\n",
    "while i < 7:\n",
    "   \n",
    "    guess = int(input())\n",
    "\n",
    "    if guess == hidden:\n",
    "        print( 'you nailed it!', guess)\n",
    "       \n",
    "        \n",
    "    elif guess > hidden:\n",
    "       \n",
    "        print('my number is smaller than your answer')\n",
    "        \n",
    "    elif guess < hidden:\n",
    "       \n",
    "        print('my number is bigger than yours ')\n",
    "\n",
    "    i += 1\n",
    "else:\n",
    "    print('failed to guess a number in 7 times!')"
   ]
  },
  {
   "cell_type": "markdown",
   "metadata": {},
   "source": [
    "* 1 - 100사이의 랜덤한 정수 얻기"
   ]
  },
  {
   "cell_type": "code",
   "execution_count": null,
   "metadata": {
    "collapsed": true
   },
   "outputs": [],
   "source": [
    "import random\n",
    "hidden = random.randint(1, 100)\n",
    "print(hidden)\n",
    "\n",
    "random.random()"
   ]
  },
  {
   "cell_type": "markdown",
   "metadata": {},
   "source": [
    "* 키보드 입력으로 값 생성"
   ]
  },
  {
   "cell_type": "code",
   "execution_count": null,
   "metadata": {
    "collapsed": true
   },
   "outputs": [],
   "source": [
    "a = int(input()) # 정수로 변경\n",
    "print(a, type(a))"
   ]
  },
  {
   "cell_type": "markdown",
   "metadata": {},
   "source": [
    "* **project template code**\n",
    " - your code here 아래 부분을 모두 완성하여 실행하면 숫자 맞추기 게임 완성!"
   ]
  },
  {
   "cell_type": "code",
   "execution_count": null,
   "metadata": {
    "collapsed": true
   },
   "outputs": [],
   "source": [
    "import random\n",
    "\n",
    "\n",
    "hidden = random.randint(1, 101)# 1 line of code \n",
    "\n",
    "\n",
    "i = 0\n",
    "while i < 7:\n",
    "    # your code here \n",
    "    # 사용자가 입력한 정수를 guess에 할당\n",
    "    guess = int(input())\n",
    "\n",
    "    if guess == hidden:\n",
    "        print( 'you nailed it!', guess)\n",
    "        # your code here \n",
    "        # while loop 종료\n",
    "        \n",
    "    elif guess > hidden:\n",
    "        # your code here\n",
    "        # 적절한 출력 문\n",
    "        print('my number is smaller than your answer')\n",
    "    else:\n",
    "        # your code here\n",
    "        # 적절한 출력 문\n",
    "        print('try again ')\n",
    "\n",
    "    i += 1\n",
    "else:\n",
    "    print('failed to guess a number in 7 times!')"
   ]
  },
  {
   "cell_type": "code",
   "execution_count": null,
   "metadata": {
    "collapsed": true
   },
   "outputs": [],
   "source": []
  }
 ],
 "metadata": {
  "kernelspec": {
   "display_name": "Python 3",
   "language": "python",
   "name": "python3"
  },
  "language_info": {
   "codemirror_mode": {
    "name": "ipython",
    "version": 3
   },
   "file_extension": ".py",
   "mimetype": "text/x-python",
   "name": "python",
   "nbconvert_exporter": "python",
   "pygments_lexer": "ipython3",
   "version": "3.6.1"
  }
 },
 "nbformat": 4,
 "nbformat_minor": 1
}
