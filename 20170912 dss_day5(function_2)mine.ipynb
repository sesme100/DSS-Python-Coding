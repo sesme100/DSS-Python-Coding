{
 "cells": [
  {
   "cell_type": "markdown",
   "metadata": {},
   "source": [
    "# Function 2\n",
    "\n",
    "## 학습목표\n",
    " 2. Lambda 함수 이해 및 사용\n",
    " 3. 모듈 임포트 후, 해당 모듈의 함수 사용법 "
   ]
  },
  {
   "cell_type": "markdown",
   "metadata": {},
   "source": [
    "* **Lambda 함수**\n",
    " + 단일문으로 표현되는 익명함수 ## 일종의 장치 \n",
    " + 익명함수란 이름이 없는 구현체만 존재하는 간단한 함수를 의미\n",
    " + 코드 상에서 한번만 사용되는 기능이 있을 때, 굳이 함수로 만들지 않고 1회성으로 만들어서 쓸 때 사용."
   ]
  },
  {
   "cell_type": "code",
   "execution_count": null,
   "metadata": {
    "collapsed": true
   },
   "outputs": [],
   "source": [
    "def square(x): \n",
    "    return x ** 2\n",
    "\n",
    "lambda x : x ** 2 ## 위 식을 간단하게 해줌 input : output  이렇게 씀 \n",
    "\n",
    "lambda x : x + 2\n",
    "\n",
    "square2 = lambda x : x ** 2 ## 쓰는 이유 , 일회성으로 간편하게 씀 \n",
    "\n",
    "print(square) ## 속성에 대하여 이야기해줌\n",
    "\n",
    "print(square2)\n",
    "\n",
    "print(square(4), square2(4))"
   ]
  },
  {
   "cell_type": "code",
   "execution_count": null,
   "metadata": {
    "collapsed": true
   },
   "outputs": [],
   "source": [
    "nums = [91, 29, 14, 72, 83, 45]\n",
    "\n",
    "print(sorted(nums)) ## sorted 함수 의 키를 정해줘서 키가 함수가 되게 할수 있음 \n",
    "\n",
    "def digit(n):\n",
    "    return n % 10 ## 나머지값 작은 순 부터 큰 순서대로 정렬 \n",
    "\n",
    "print(sorted(nums, key=digit)) ## 디짓 함수 씀 \n",
    "print(sorted(nums, key=lambda x : x%10)) ## 위의 식과 같음  ## 람다는 일회성 한번쓰고 버림 \n",
    "\n",
    "\n"
   ]
  },
  {
   "cell_type": "code",
   "execution_count": null,
   "metadata": {
    "collapsed": true
   },
   "outputs": [],
   "source": [
    "## day 3 연습\n",
    "\n",
    "nums = [(1, 2), (9, 5), (8, 4), (7, 6), (10, 2), (4, 5)] ## 튜플의 리스트 형태 \n",
    "list(dict(nums)) ## 키값만 줌 \n",
    "b = dict(nums) ## 뙥같이 nums 와 같이 출력\n",
    "b[7] ## 키값을 찾아서 벨류값 출력 \n",
    "print(b.values())\n",
    "print(b.keys())\n",
    "print(b.items())\n",
    "\n",
    "list3 = {3, 18, 48, 9, 40 ,5} \n",
    "for k , v in enumerate(list3): ## enumerate는 리스트, 튜플,셋, 딕셔너리 다됨 , 딕셔너리의 경우에는 인덱스위치와 키값을 알려줌 \n",
    "    print (k, v)"
   ]
  },
  {
   "cell_type": "code",
   "execution_count": null,
   "metadata": {
    "collapsed": true
   },
   "outputs": [],
   "source": [
    "nums = [(1, 2), (9, 5), (8, 4), (7, 6), (10, 2), (4, 5)] ## 튜플의 리스트 형태 \n",
    "\n",
    "def get_key(item):\n",
    "    return item[0] ## x튜플의 리스트에서는 o또는 1의 자리만 가능 \n",
    "\n",
    "print(sorted(nums, key = get_key)) ## 겟키 함수에서 item의 인덱스 0자리에 있는 수를 작은 수부터 큰수로 정렬 \n",
    "print(sorted(nums, key = lambda nums : nums[1], reverse = True)) ## 그룹에 있는 튜플들의 인덱싱[1] 번들이 거꾸로 sorting하여 반환 ## nums를 item 이라고 바꿔보자 "
   ]
  },
  {
   "cell_type": "markdown",
   "metadata": {},
   "source": [
    "* **filter, map, reduce**\n",
    " + lambda가 유용하게 사용되는 3가지 대표적 함수\n",
    " + 함수형 프로그래밍의 기본 요소이기도 함\n",
    " + filter : 특정 조건을 만족하는 요소만 남기고 필터링## list로 만들어서 반환 필요\n",
    " + map    : 각 원소를 주어진 수식에 따라 변형하여 새로운 리스트를 반환 ## 1:1 로 대입 ## list로 만들어서 반환 필요\n",
    " + reduce : 차례대로 앞 2개의 원소를 가지고 연산. 연산의 결과가 또 다음 연산의 입력으로 진행됨. 따라서 마지막까지 진행되면 최종 출력은 한개의 값만 남게 됨 ## list 함수 붙여주면 안됨 "
   ]
  },
  {
   "cell_type": "code",
   "execution_count": null,
   "metadata": {
    "collapsed": true
   },
   "outputs": [],
   "source": [
    "nums = list(range(2, 100))\n",
    "\n",
    "print([_f for _f in nums if _f]) ##if 만약 _f 가존재한다면 넘스그룹에 있는 _f에 대해 프린트 \n",
    "print([x for x in nums if x % 2 == 0])"
   ]
  },
  {
   "cell_type": "markdown",
   "metadata": {},
   "source": [
    "* filter를 이용하여 문자열의 길이가 5이하인 문자열만 필터링 하시오.\n",
    " - 그런데, 혹시 또 다른 방법이 생각나지 않나요?\n",
    " "
   ]
  },
  {
   "cell_type": "code",
   "execution_count": null,
   "metadata": {
    "collapsed": true
   },
   "outputs": [],
   "source": [
    "str1 = ['banana', 'apple', 'cat', 'hahahahahah', 'hahahahah']\n",
    "print([x for x in str1 if len(x) <= 5])\n",
    "\n",
    "print([x for x in str1 if len(x) <= 5]) ## comprehension의 경우 딕셔너리와 리스트만 가능 "
   ]
  },
  {
   "cell_type": "code",
   "execution_count": null,
   "metadata": {
    "collapsed": true
   },
   "outputs": [],
   "source": [
    "str1 = ['banana', 'apple', 'cat', 'hahahahahah', 'hahahahah']\n",
    "\n",
    "list(filter(lambda x: len(x)<=5, str1)) ## filter 함수 ## 필요한 값만 요소남기고 필터링\n",
    "\n"
   ]
  },
  {
   "cell_type": "markdown",
   "metadata": {},
   "source": [
    "* map을 이용하여 섭씨/화씨 변환을 다시 해보죠.\n",
    " - 그런데, 혹시 또 다른 방법이 생각나진 않나요?\n",
    " \n"
   ]
  },
  {
   "cell_type": "code",
   "execution_count": null,
   "metadata": {
    "collapsed": true
   },
   "outputs": [],
   "source": [
    "nums = list(range(2, 10))\n",
    "print([2**x for x in nums]) ## comprehension\n",
    "\n",
    "print(list(map(lambda x : 2**x, nums)))\n",
    "\n"
   ]
  },
  {
   "cell_type": "code",
   "execution_count": null,
   "metadata": {
    "collapsed": true
   },
   "outputs": [],
   "source": [
    "nums = list(range(2, 10))\n",
    "\n",
    "nums2 = list(map(lambda x : x**2, nums )) ## 꼭 맵핑을 해주어야 함, 안그러면 nums 그대로 나옴 , 맵핑은 람다로 쓴 정의를 새로운리스트로 반환 \n",
    "nums2"
   ]
  },
  {
   "cell_type": "code",
   "execution_count": null,
   "metadata": {
    "collapsed": true
   },
   "outputs": [],
   "source": [
    "a = [1,2,3,4] ## 맵핑 ## 새로운 리스트로 반환 \n",
    "b = [17,12,11,10]\n",
    "c = [-1,-4,5,9]\n",
    "\n",
    "print (list(map(lambda x, y, z : x + y + z, a, b, c))) ## input은 xyz out put은 x + y + z 라고 정의됨 , abc 리스트에서 ..."
   ]
  },
  {
   "cell_type": "markdown",
   "metadata": {},
   "source": [
    "* reduce 이용하여 원소의 합 구하기"
   ]
  },
  {
   "cell_type": "code",
   "execution_count": null,
   "metadata": {
    "collapsed": true
   },
   "outputs": [],
   "source": [
    "from functools import reduce\n",
    "nums = [1, 2, 9, 8, 5, 4, 7, 10, 3]\n",
    "\n",
    "print(sum(nums))\n",
    "print(reduce(lambda x, y: x + y, nums)) ## xy는 리스트의 원소 맨처음 두개 값 , 그 두개를 덧샘하라, 그후 3번째 있는 애랑 더해라, 그후에 있는 애랑 더해라 "
   ]
  },
  {
   "cell_type": "markdown",
   "metadata": {},
   "source": [
    "* reduce로 리스트의 최대값을 구해봅시다.\n"
   ]
  },
  {
   "cell_type": "code",
   "execution_count": null,
   "metadata": {
    "collapsed": true
   },
   "outputs": [],
   "source": [
    "from functools import reduce\n",
    "print(reduce(lambda x, y : x if x > y else y, nums)) ## xy두개의 첫번째 원소들을 비교하여 큰거는 남고 작은건은 없앰 \n",
    "nums"
   ]
  },
  {
   "cell_type": "code",
   "execution_count": null,
   "metadata": {
    "collapsed": true
   },
   "outputs": [],
   "source": [
    "from functools import reduce\n",
    "list1 = [1, 5, 4, 7, 9, 2, 7]\n",
    "list2 = reduce(lambda x, y : x**2 +y, list1) ## 리듀스 함수는 list를 껴서 나오지 않는다 \n",
    "## 'int' object is not iterable : iterable 자료형 type이 다름, 리스트함수 끼면 안됨\n",
    "\n",
    "list2"
   ]
  },
  {
   "cell_type": "markdown",
   "metadata": {},
   "source": [
    "* 연습문제\n",
    " 1. filter를 직접 구현해봅시다. filter2(func, iterable):\n",
    " 2. map을 직접 구현해봅시다. map2(func, iterable):\n",
    " 3. reduce를 직접 구현해 봅시다. reduce2(func, iterable):\n"
   ]
  },
  {
   "cell_type": "code",
   "execution_count": null,
   "metadata": {
    "collapsed": true
   },
   "outputs": [],
   "source": [
    "def filter2(func, iterable): ## func 조건 , iterable 은 리스트 \n",
    "    return [x for x in iterable if func(x)]\n",
    "    \n",
    "filter2(lambda x : x > 3, [1, 4, 2, 3, 5])"
   ]
  },
  {
   "cell_type": "code",
   "execution_count": null,
   "metadata": {
    "collapsed": true
   },
   "outputs": [],
   "source": [
    "def map2(func, iterable):\n",
    "    result = []\n",
    "    for x in iterable:\n",
    "        result.append(func(x))\n",
    "    return result\n",
    "\n",
    "map2(lambda x : x + 1, [30, 20, 10]) ## 여기서 labmda는 func(x)를 지칭한다 , iterable은 리스트[30,20,10]"
   ]
  },
  {
   "cell_type": "code",
   "execution_count": null,
   "metadata": {
    "collapsed": true
   },
   "outputs": [],
   "source": [
    "def map3(func, *iterable): \n",
    "    result = []\n",
    "    for t in zip(*iterable):\n",
    "        result.append(func(*t))\n",
    "\n",
    "    return result\n",
    "\n",
    "x = [1, 2, 3]\n",
    "y = [4, 5, 6]\n",
    "\n",
    "map3(lambda a, b : a * b, x, y)"
   ]
  },
  {
   "cell_type": "code",
   "execution_count": null,
   "metadata": {
    "collapsed": true
   },
   "outputs": [],
   "source": [
    "def reduce2(func, iterable): \n",
    "    accumulate = iterable[0]\n",
    "    \n",
    "    for x in iterable[1:]:\n",
    "        accumulate = func(accumulate,x)  ##  accumulate + x = accumulate 이렇게 for 안에서 반복, 여기서 func은 lambda를 지칭함 \n",
    "        \n",
    "    return accumulate \n",
    "\n",
    "reduce2(lambda x, y : x+y , [1, 2, 4, 5]) ## lambda accumulate, x : accumulate + x , [1,2,4,5]"
   ]
  },
  {
   "cell_type": "code",
   "execution_count": null,
   "metadata": {
    "collapsed": true
   },
   "outputs": [],
   "source": [
    "list1 = [ 3,6,7,2,8,16]\n",
    "print(list(map(lambda i: i**2 , list1)))"
   ]
  },
  {
   "cell_type": "code",
   "execution_count": null,
   "metadata": {
    "collapsed": true
   },
   "outputs": [],
   "source": [
    "list1 = [ 3,6,7,2,8,16]\n",
    "def filter2(list1): ## 기능을 넣고 필터링 하여 필요한 요소만 내놔라  , 리스트 안에서 수행하라 \n",
    "    return (filter(lambda x: x>=6 , list1))\n",
    "\n",
    "\n",
    "list(filter2(list1))"
   ]
  },
  {
   "cell_type": "markdown",
   "metadata": {},
   "source": [
    "* **예외처리** \n",
    " + try, except 키워드 사용\n",
    "   + try : 예외가 발생할 수 도 있는 코드 작성\n",
    "   + except: 해당 코드 블록에서 예외 발생 시, 프로그램이 종료되지 않고, except 블록 실행\n",
    " + 예외 상황 발생 시, 적절한 대처를 위해 필요함\n",
    " + 함수 작성시, 발생할 수 있는 에러에 대해 처리하는 것이 필요\n"
   ]
  },
  {
   "cell_type": "markdown",
   "metadata": {},
   "source": [
    "* **정상적으로 동작하는 코드**"
   ]
  },
  {
   "cell_type": "code",
   "execution_count": null,
   "metadata": {
    "collapsed": true
   },
   "outputs": [],
   "source": [
    "nums = [1, 2, 3]\n",
    "pos = 2 \n",
    "\n",
    "try:\n",
    "    print(nums[pos]) ## 만약 첫번째 조건이 에러나면 뒤의 함수 나 조건을 뛰어넘어서 except로 들어감 \n",
    "    print(nums[0])\n",
    "    print(nums[6]) ## 에러이므로 바로 except 로 넘어감 \n",
    "   \n",
    "except:\n",
    "    print('error occurred')\n",
    "\n",
    "print('hahaha again')"
   ]
  },
  {
   "cell_type": "markdown",
   "metadata": {},
   "source": [
    "* **예외가 발생하는 코드**"
   ]
  },
  {
   "cell_type": "code",
   "execution_count": null,
   "metadata": {
    "collapsed": true
   },
   "outputs": [],
   "source": [
    "nums = [1, 2, 3]\n",
    "pos = 4\n",
    "\n",
    "try:\n",
    "    print(nums[pos]) # index out of range 예외 발생\n",
    "    print(1, 2, 3) \n",
    "    print(4, 5, 6)\n",
    "except:\n",
    "    print('need a index between 0 and len(nums)-1', 'but got', pos)\n",
    "    \n",
    "print(nums[0])"
   ]
  },
  {
   "cell_type": "markdown",
   "metadata": {},
   "source": [
    "* **finally**\n",
    " + 예외처리 코드에서 항상 마지막에 위치\n",
    " + 예외 발생 여부에 관계 없이 항상 실행해야할 코드"
   ]
  },
  {
   "cell_type": "code",
   "execution_count": null,
   "metadata": {
    "collapsed": true
   },
   "outputs": [],
   "source": [
    "nums = [1, 2, 3]\n",
    "pos = 5 ## pos가 2처럼 정답이 있는 경우 finally 조건 실행 \n",
    "\n",
    "try:\n",
    "    print(nums[pos])\n",
    "except:\n",
    "    print('need a index between 0 and len(nums)-1', 'but got', pos)\n",
    "finally: ## try , exception실현 하면 바로 finally로 들어감 \n",
    "    print('task done')\n",
    "    \n",
    "print(nums[0])"
   ]
  },
  {
   "cell_type": "markdown",
   "metadata": {},
   "source": [
    "* 예외 처리 세분화 \n",
    " + Exception으로 보편적으로 다 처리할 수 있다\n",
    " + 세분화하여 처리하면, 각 예외 상황에 따라 다른 처리를 할 수 있다."
   ]
  },
  {
   "cell_type": "code",
   "execution_count": null,
   "metadata": {
    "collapsed": true
   },
   "outputs": [],
   "source": [
    "nums = [0, 1, 2, 3]\n",
    "pos1 = 'f'\n",
    "pos2 = 3\n",
    "\n",
    "try:\n",
    "    print(nums[pos1] / nums[pos2])\n",
    "except IndexError as err :  ## 에러타입을 여러가지로 분류하여 실행 , exception에서 하나라도 걸리면 수행후 finally 로 바로 점프 \n",
    "    print('need a index between 0 and len(nums)-1', 'but got', pos)\n",
    "    print(str(err))\n",
    "except ZeroDivisionError as other: \n",
    "    print('something else broke', other)\n",
    "except Exception as e: ## 모든 에러의 부모, 모든 예외는 execption에 걸림 \n",
    "    print(e)\n",
    "    \n",
    "finally:\n",
    "    print('task done')\n",
    "    \n",
    "print(nums[0])\n"
   ]
  },
  {
   "cell_type": "code",
   "execution_count": null,
   "metadata": {
    "collapsed": true
   },
   "outputs": [],
   "source": [
    "nums = [1, 2, 3, 5, 6] ## index 함수는 value 값을 주고 그에 해당하는 index 번호를 반환하는것 \n",
    "print(nums.index(3))\n",
    "print(nums.index(5))\n",
    "\n",
    "def get_index(nums, value):\n",
    "    try:\n",
    "        index = nums.index(value)\n",
    "        return index\n",
    "    except:\n",
    "        return -1\n",
    "\n",
    "print(get_index(nums, 6))"
   ]
  },
  {
   "cell_type": "code",
   "execution_count": null,
   "metadata": {
    "collapsed": true
   },
   "outputs": [],
   "source": [
    "\n",
    "    "
   ]
  },
  {
   "cell_type": "markdown",
   "metadata": {},
   "source": [
    "* **모듈 임포트**\n",
    " + 그동안 사용했던 함수들 처럼, 다양한 기능들이 미리 함수로 구현되어 모듈 형태로 제공\n",
    " + 대표적으로 추후 과정에서 사용하게 될 아래의 모듈들이 존재\n",
    " \n",
    " + numpy - pip install numpy\n",
    " + scipy - pip install scipy \n",
    "   - windows의 경우, 설치 되지 않을 경우 아래의 경로에서 차례대로 설치\n",
    "    - http://aka.ms/vcpython27\n",
    "    - https://sourceforge.net/projects/scipy/files/scipy/0.16.1/scipy-0.16.1-win32-superpack-python2.7.exe/download \n",
    "    \n",
    " \n",
    " + pandas - pip install pandas\n",
    " + sklearn  - pip install scikit-learn\n",
    " + matplotlib pip install matplotlib\n",
    " + statsmodels - pip install statsmodels\n",
    " + seaborn - pip install seaborn"
   ]
  },
  {
   "cell_type": "code",
   "execution_count": null,
   "metadata": {
    "collapsed": true
   },
   "outputs": [],
   "source": []
  },
  {
   "cell_type": "markdown",
   "metadata": {
    "collapsed": true
   },
   "source": [
    "* import / from import"
   ]
  },
  {
   "cell_type": "code",
   "execution_count": null,
   "metadata": {
    "collapsed": true
   },
   "outputs": [],
   "source": [
    "import numpy # 모듈 임포트\n",
    "print(numpy.random.randint(100)) ## 0~ 99까지 중에서 아무거나 하나 "
   ]
  },
  {
   "cell_type": "code",
   "execution_count": null,
   "metadata": {
    "collapsed": true
   },
   "outputs": [],
   "source": [
    "import numpy.random\n",
    "\n",
    "import numpy as np # 모듈 임포트 후 alias(별명) 붙임\n",
    " \n",
    "print(random.randint(0,100)) ## 무한대로 붙여서 사용가능 \n",
    "np.random.rand(1,2,3) ## array로 반환 "
   ]
  },
  {
   "cell_type": "code",
   "execution_count": null,
   "metadata": {
    "collapsed": true
   },
   "outputs": [],
   "source": [
    "from numpy import random as rd # numpy 모듈에서 하위 모듈인 random만을 import ## 넘파이 안에 랜덤만 사용하겠다고 하는것 \n",
    "\n",
    "print(rd.randint(100)) # 모듈.함수\n",
    "\n",
    "import random\n",
    "random.sample(range(30),15)"
   ]
  },
  {
   "cell_type": "code",
   "execution_count": null,
   "metadata": {
    "collapsed": true
   },
   "outputs": [],
   "source": [
    "import numpy.random as random # numpy의 하위모듈인 random만을 import 후, alias 붙임\n",
    "\n",
    "\n",
    "print(random.randint(100))\n",
    "print(random.rand(100))## 소수점단위의 랜덤 숫자 100개 뽑아라 "
   ]
  },
  {
   "cell_type": "code",
   "execution_count": null,
   "metadata": {
    "collapsed": true
   },
   "outputs": [],
   "source": [
    "from numpy.random import randint as np_randint\n",
    "\n",
    "print(np_randint(100))\n",
    "\n",
    "\n",
    "    "
   ]
  },
  {
   "cell_type": "code",
   "execution_count": null,
   "metadata": {
    "collapsed": true
   },
   "outputs": [],
   "source": [
    "import numpy as np\n",
    "print(np.random.rand())"
   ]
  },
  {
   "cell_type": "code",
   "execution_count": null,
   "metadata": {
    "collapsed": true
   },
   "outputs": [],
   "source": [
    "np.random.binomial(8,0)"
   ]
  },
  {
   "cell_type": "markdown",
   "metadata": {},
   "source": [
    "* matplotlib 모듈\n",
    " - 시각화 담당 모듈\n",
    " - 2차원, 3차원 그래프(선, 막대, 파이차트 등등)"
   ]
  },
  {
   "cell_type": "code",
   "execution_count": null,
   "metadata": {
    "collapsed": true
   },
   "outputs": [],
   "source": [
    "%matplotlib inline\n",
    "import matplotlib.pyplot as plt\n",
    "\n",
    "x = [1, 2, 3, 4]\n",
    "y = [2, 4, 6, 8]\n",
    "\n",
    "plt.plot(x, y)\n",
    "plt.show()"
   ]
  },
  {
   "cell_type": "markdown",
   "metadata": {},
   "source": [
    "* request module\n",
    " - http를 통한 web resource에 접근할 때 사용"
   ]
  },
  {
   "cell_type": "code",
   "execution_count": null,
   "metadata": {
    "collapsed": true
   },
   "outputs": [],
   "source": [
    "import requests\n",
    "response = requests.get('http://www.naver.com')\n",
    "print(response.text)\n",
    "\n",
    "f = open('naver.html', 'w') ## 내 기본파일에 네이버 html 파일이 생김\n",
    "\n",
    "f.write(response.text) ## 생성된 파일에 내용을 집어넣음 \n",
    "\n",
    "f.close()\n"
   ]
  },
  {
   "cell_type": "markdown",
   "metadata": {},
   "source": [
    "* **collections module **\n",
    " - 리스트, 튜플, 딕셔너리, 셋을 제외한 다른 유용한 data structure를 제공하는 모듈\n",
    " - 아래의 링크에서 문서 확인\n",
    " https://docs.python.org/2/library/collections.html#module-collections"
   ]
  },
  {
   "cell_type": "markdown",
   "metadata": {
    "collapsed": true
   },
   "source": [
    "* Counter \n",
    "  - counting을 목적으로 하는 객체\n",
    "* defaultdict\n",
    "  - 기본값을 갖는 dictionary\n",
    "* OrderedDict\n",
    "  - 순서를 갖는 dictionary (key가 삽입된 순서)"
   ]
  },
  {
   "cell_type": "code",
   "execution_count": null,
   "metadata": {
    "collapsed": true
   },
   "outputs": [],
   "source": [
    "from collections import Counter\n",
    "\n",
    "a = [1, 1, 2, 1, 2, 3, 3, 2, 4, 5, 5, 1]\n",
    "b = Counter(a)\n",
    "print(b)\n",
    "print(b.most_common())\n",
    "print(b[1])\n",
    "print(b[5])\n"
   ]
  },
  {
   "cell_type": "code",
   "execution_count": null,
   "metadata": {
    "collapsed": true
   },
   "outputs": [],
   "source": [
    "from collections import defaultdict\n",
    "\n",
    "a = [1, 1, 2, 1, 2, 3, 3, 2, 4, 5, 5, 1]\n",
    "\n",
    "temp = {}\n",
    "for i in a:\n",
    "    if i in temp:\n",
    "        temp[i] += 1 ## temp[1] 은 키값이 1인 벨류값\n",
    "    else:\n",
    "        temp[i] = 1\n",
    "\n",
    "print(temp)\n",
    "temp"
   ]
  },
  {
   "cell_type": "code",
   "execution_count": null,
   "metadata": {
    "collapsed": true
   },
   "outputs": [],
   "source": [
    "temp={1:3,2:2,3:1,4:0,5:1}"
   ]
  },
  {
   "cell_type": "code",
   "execution_count": null,
   "metadata": {
    "collapsed": true
   },
   "outputs": [],
   "source": [
    "from collections import defaultdict\n",
    "\n",
    "list2 = [5,6,7,8,9,10]\n",
    "defaultdict(int,{5,6,7,8,9,10})"
   ]
  },
  {
   "cell_type": "code",
   "execution_count": null,
   "metadata": {
    "collapsed": true
   },
   "outputs": [],
   "source": [
    "{1: 4, 2: 3, 3: 2, 4: 1, 5: 2}\n",
    "\n",
    "num_dict = defaultdict(int)\n",
    "for i in a:\n",
    "    num_dict[i] += 1\n",
    "        \n",
    "print(num_dict)"
   ]
  },
  {
   "cell_type": "code",
   "execution_count": null,
   "metadata": {
    "collapsed": true
   },
   "outputs": [],
   "source": [
    "a = [1, 1, 2, 1, 2, 3, 3, 2, 4, 5, 5, 1]\n",
    "\n",
    "for i in a: \n",
    "    print (i)\n"
   ]
  },
  {
   "cell_type": "code",
   "execution_count": null,
   "metadata": {
    "collapsed": true
   },
   "outputs": [],
   "source": [
    "from collections import OrderedDict\n",
    "\n",
    "dict1 = OrderedDict() ## dic은 원래 순서가 없는데 여기서 순서를 정해주기로 함 \n",
    "dict1['aaa'] = 1 ## 키값이 'aaa' 이고 값은 1 \n",
    "dict1['aac'] = 2 \n",
    "dict1['ab'] = 100\n",
    "dict1['dd'] = 100\n",
    "\n",
    "dict2 = {}\n",
    "dict2['aaa'] = 1\n",
    "dict2['aac'] = 2\n",
    "dict2['ab'] = 100\n",
    "dict2['dd'] = 100\n",
    "\n",
    "print(dict1)## 튜플의 리스트 형태로 출력 (OrderDict)\n",
    "print(list(dict1.keys()))\n",
    "\n",
    "\n",
    "print() \n",
    "\n",
    "print(dict2) ## 딕셔너리로 나옴 \n",
    "print(list(dict2.keys()))"
   ]
  },
  {
   "cell_type": "markdown",
   "metadata": {},
   "source": [
    "* 과제 \n",
    " 1. reduce를 직접 구현하세요 reduce2(func, iterable)\n",
    " 2. 이진탐색을 재귀함수로 구현해보세요."
   ]
  },
  {
   "cell_type": "code",
   "execution_count": null,
   "metadata": {
    "collapsed": true
   },
   "outputs": [],
   "source": [
    "## reduce를 직접 구현하세요 reduce2(func, iterable) 미나 답\n",
    "list3 = [ 3,6,1,67]\n",
    "def reduce2(func, iterable):\n",
    "    return [x for x in iterable if func(x)]\n",
    "\n",
    "\n",
    "reduce2(lambda x: x>3, list3)"
   ]
  },
  {
   "cell_type": "code",
   "execution_count": null,
   "metadata": {
    "collapsed": true
   },
   "outputs": [],
   "source": [
    "import random\n",
    "nums = random.sample(range(1000), 200)\n",
    "def sum_list(nums, s, e):\n",
    "    if s == e:\n",
    "        return nums[s]\n",
    "    \n",
    "    return sum_list(nums, s, (s+e)//2) + \\\n",
    "            sum_list(nums, (s+e)//2 + 1, e)\n",
    "\n",
    "sum_list(nums, 0, len(nums)-1)"
   ]
  },
  {
   "cell_type": "code",
   "execution_count": null,
   "metadata": {
    "collapsed": true
   },
   "outputs": [],
   "source": [
    "import random\n",
    "nums = random.sample(range(100), 20)\n",
    "\n",
    "len(nums)\n",
    "nums"
   ]
  },
  {
   "cell_type": "code",
   "execution_count": null,
   "metadata": {
    "collapsed": true
   },
   "outputs": [],
   "source": [
    "def binary2(nums, key, start, end): ## 내가 임의로 정해줌\n",
    "    mid = (start + end) // 2\n",
    "    if nums[mid] == key:\n",
    "        return mid \n",
    "    elif nums[mid] > key:\n",
    "        return binary2(nums, key, start, mid-1)\n",
    "    else: \n",
    "        return binary2(nums, key, mid+1, end)\n",
    "\n",
    "binary2(nums, 24 ,1, len(nums)-1)"
   ]
  },
  {
   "cell_type": "code",
   "execution_count": null,
   "metadata": {
    "collapsed": true
   },
   "outputs": [],
   "source": [
    "def binary_search(nums, k, start=0, end=len(nums)-1):\n",
    "    if start > end:\n",
    "        return None\n",
    "    \n",
    "    mid = (start + end) // 2 ## 몫은 항상 정수로 나옴 \n",
    "    if nums[mid] == k:\n",
    "        return mid\n",
    "    \n",
    "    if nums[mid] > k:\n",
    "        return binary_search(nums, k, start, mid-1)\n",
    "    else:\n",
    "        return binary_search(nums, k, mid+1, end)\n",
    "    \n",
    "print(binary_search(nums, 888))\n"
   ]
  },
  {
   "cell_type": "markdown",
   "metadata": {},
   "source": [
    "* **과제**\n",
    "  - 미니 그림판\n",
    "  - 그림판 색칠하기 시뮬레이션\n",
    "  - 6 * 6 2차원 문자열 리스트 생성\n",
    "  - 각 리스트의 값에는 문자열이 들어간다고 가정\n",
    "  - 같은 문자열은 같은 색을 나타냄\n",
    "  - 어떤 위치에 색을 칠하면, 그 위치와 인접한 위치의 색도 모두 변경 됨\n",
    "  - 인접한 위치란, 위 아래 좌 우 의 픽셀을 의미함"
   ]
  },
  {
   "cell_type": "code",
   "execution_count": null,
   "metadata": {
    "collapsed": true
   },
   "outputs": [],
   "source": [
    "## 오리지널 포멧\n",
    "board = [[1, 1, 2, 2, 2, 2], \n",
    "         [1, 1, 1, 3, 3, 2],\n",
    "         [1, 1, 3, 3, 3, 2],\n",
    "         [4, 5, 5, 3, 3, 2],\n",
    "         [4, 1, 1, 3, 2, 2],\n",
    "         [4, 4, 1, 3, 3, 2]]\n",
    "\n",
    "for row in board:\n",
    "    for item in row:\n",
    "        print(item, end=' ')\n",
    "    print() \n",
    "\n"
   ]
  },
  {
   "cell_type": "code",
   "execution_count": null,
   "metadata": {},
   "outputs": [],
   "source": [
    "import numpy as np\n",
    "\n",
    "board = np.array([[1, 1, 2, 2, 2, 2], \n",
    "         [1, 1, 1, 3, 3, 2],\n",
    "         [1, 1, 3, 3, 3, 2],\n",
    "         [4, 5, 5, 3, 3, 2],\n",
    "         [4, 1, 1, 3, 2, 2],\n",
    "         [4, 4, 1, 3, 3, 2]])\n",
    "\n",
    "b=str(board)\n",
    "\n",
    "board[2,3]\n",
    "print(b.replace(str(board[2,3]),'r'))\n"
   ]
  },
  {
   "cell_type": "code",
   "execution_count": null,
   "metadata": {},
   "outputs": [],
   "source": [
    "\n",
    "# mini_board : 2차원 리스트(리스트의 리스트)로 그림판을 나타냄\n",
    "# x, y : 각각 그림판에서 선택한 픽셀의 행과 열을 나타냄\n",
    "# color : 새로 칠하게 될 색 값을 나타냄\n",
    "# 모든 인접한 주변의 같은 색깔을 새로운 color로 칠함\n",
    "board = [[1, 1, 2, 2, 2, 2],\n",
    "         [1, 1, 1, 3, 3, 2],\n",
    "         [1, 1, 3, 3, 3, 2],\n",
    "         [4, 5, 5, 3, 3, 2],\n",
    "         [4, 1, 1, 3, 2, 2],\n",
    "         [4, 4, 1, 3, 3, 2]]\n",
    "\n",
    "def fill_bfs(mini_board, x, y, color):\n",
    "     if not (0 <= x < len(mini_board) \\ ## 행개수 \n",
    "         and 0 <= y < len(mini_board[0])): ## 열의 길이 = 유효한 길이에 있는지를 확인 \n",
    "         raise Exception('invalid index')\n",
    "\n",
    "     org_color = mini_board[x][y]\n",
    "     queue = [(x, y)]\n",
    "\n",
    "    while queue:\n",
    "         cx, cy = queue.pop(0)\n",
    "         mini_board[cx][cy] = color\n",
    "\n",
    "         for dx, dy in ((1,0), (0,1), (-1,0), (0,-1)):\n",
    "             new_x = cx + dx ## 기존점에 행렬로 +1 -1 씩 움직인다 = 새로운 점\n",
    "             new_y = cy + dy\n",
    "\n",
    "             if 0 <= new_x < len(mini_board) and 0 <= new_y < len(mini_board[0]) \\\n",
    "                and org_color == mini_board[new_x][new_y]:\n",
    "                queue.append((new_x, new_y))\n",
    "\n",
    "\n"
   ]
  },
  {
   "cell_type": "code",
   "execution_count": null,
   "metadata": {
    "collapsed": true
   },
   "outputs": [],
   "source": [
    "def fill_dfs(mini_board, x, y, color): ## 두번째 방법 \n",
    "    if not (0 <= x < len(mini_board) \\\n",
    "        and 0 <= y < len(mini_board[0])):\n",
    "        raise Exception('invalid index')\n",
    "\n",
    "    org_color = mini_board[x][y]\n",
    "    mini_board[x][y] = color\n",
    "\n",
    "    for dx, dy in ((1,0), (0,1), (-1,0), (0,-1)):\n",
    "        new_x = x + dx\n",
    "        new_y = y + dy\n",
    "\n",
    "        if 0 <= new_x < len(mini_board) and 0 <= new_y < len(mini_board[0]) \\\n",
    "            and org_color == mini_board[new_x][new_y]:\n",
    "            fill(mini_board, new_x, new_y, color)\n",
    "\n",
    "def show(mini_board):\n",
    "    for row in mini_board:\n",
    "        for item in row:\n",
    "            print(item, sep=' ', end='')\n",
    "        print()\n",
    "\n",
    "show(board)\n",
    "\n",
    "while True:\n",
    "    print('please intert key..')\n",
    "    print('f -> fill q -> quit')\n",
    "\n",
    "    cmd = input()\n",
    "    if cmd == 'f':\n",
    "        print('insert x, y index & color')\n",
    "        index = input()\n",
    "        x, y, color = map(int, index.split(' '))\n",
    "\n",
    "        try:\n",
    "            fill_bfs(board, x, y, color)\n",
    "        except:\n",
    "            print('invalid index')\n",
    "\n",
    "        show(board)\n",
    "\n",
    "    elif cmd == 'q':\n",
    "        break\n",
    "    else:\n",
    "        print('no command available')\n"
   ]
  },
  {
   "cell_type": "code",
   "execution_count": null,
   "metadata": {},
   "outputs": [],
   "source": [
    "import numpy as np\n",
    "\n",
    "b = np.array([[1, 1, 2, 2, 2, 2], \n",
    "         [1, 1, 1, 3, 3, 2],\n",
    "         [1, 1, 3, 3, 3, 2],\n",
    "         [4, 5, 5, 3, 3, 2],\n",
    "         [4, 1, 1, 3, 2, 2],\n",
    "         [4, 4, 1, 3, 3, 2]])\n",
    "\n",
    "\n",
    "\n",
    "\n",
    "x = input('색칠하고자 하는 행을 입력하세요')\n",
    "y = input('색칠하고자 하는 열을 입력하세요')\n",
    "color = input('색칠하고자 하는 색깔을 입력하세요,빨강은 r,초록은 g, 파랑은 b로 입력하세요')\n",
    "\n",
    "\n",
    "\n",
    "def fill(b, x, y, color):\n",
    "   \n",
    "    ##x_array = mini_board[x,:]\n",
    "    ##y_array = mini_board[:,y]\n",
    "    if color == r:  \n",
    "        b.replace(str(b[x,y]),'r')\n",
    "    elif color == g:\n",
    "        b.replace(str(b[x,y]),'g')\n",
    "    elif color == b: \n",
    "        b.replace(str(b[x,y]),'b')\n",
    "\n",
    "    \n",
    "    return fill(b,x,y,color)\n",
    "    \n",
    "\n",
    "\n",
    "print(board)\n",
    "print(b,3,4,r)\n",
    "\n",
    "    \n",
    "\n",
    "\n"
   ]
  },
  {
   "cell_type": "markdown",
   "metadata": {},
   "source": [
    "* ** 2nd project **\n",
    "  - 직쏘 퍼즐 프로그램\n",
    "  - n * n 직쏘 퍼즐을 판을 생성하여 차례대로 숫자를 맞추면 끝나는 게임\n",
    "  - e.g 4 * 4의 경우 아래와 같으면 퍼즐 종료\n",
    "  - proejct2_starter.py 코드가 제공\n",
    "  - 여러분이 각 함수를 알맞게 구현하면 게임이 완성!"
   ]
  },
  {
   "cell_type": "raw",
   "metadata": {},
   "source": [
    "01 02 03 04 \n",
    "05 06 07 08\n",
    "09 10 11 12\n",
    "13 14 15 "
   ]
  },
  {
   "cell_type": "code",
   "execution_count": 1,
   "metadata": {
    "collapsed": true
   },
   "outputs": [],
   "source": [
    "import random\n",
    "import numpy as np\n",
    "\n",
    "\n",
    "def show_puzzle(puzzle):\n",
    "    for i in range(len(puzzle)):\n",
    "        for j in range(len(puzzle[0])):\n",
    "            print('{:3}'.format(puzzle[i][j]), sep=' ', end='')\n",
    "        print()\n",
    "\n",
    "def initiate_puzzle(size):\n",
    "    puzzle = []\n",
    "    for i in range(size):\n",
    "        row = []\n",
    "        for j in range(size):\n",
    "            row.append(i*size + j+1) ## 사이즈 지정 \n",
    "        puzzle.append(row)\n",
    "\n",
    "    puzzle[-1][-1] = '' ## 마지막은 빈공간\n",
    "    return puzzle"
   ]
  },
  {
   "cell_type": "code",
   "execution_count": 2,
   "metadata": {},
   "outputs": [
    {
     "name": "stdout",
     "output_type": "stream",
     "text": [
      " -> please insert puzzle size : 3\n",
      "  8  2  7\n",
      "  5  6  3\n",
      "  1     4\n",
      " -> select a number to move : 6\n",
      "  8  2  7\n",
      "  5     3\n",
      "  1  6  4\n",
      " -> select a number to move : 5\n",
      "  8  2  7\n",
      "     5  3\n",
      "  1  6  4\n",
      " -> select a number to move : 1\n",
      "  8  2  7\n",
      "  1  5  3\n",
      "     6  4\n",
      " -> select a number to move : 6\n",
      "  8  2  7\n",
      "  1  5  3\n",
      "  6     4\n",
      " -> select a number to move : 5\n",
      "  8  2  7\n",
      "  1     3\n",
      "  6  5  4\n",
      " -> select a number to move : 3\n",
      "  8  2  7\n",
      "  1  3   \n",
      "  6  5  4\n",
      " -> select a number to move : 7\n",
      "  8  2   \n",
      "  1  3  7\n",
      "  6  5  4\n",
      " -> select a number to move : 2\n",
      "  8     2\n",
      "  1  3  7\n",
      "  6  5  4\n",
      " -> select a number to move : 8\n",
      "     8  2\n",
      "  1  3  7\n",
      "  6  5  4\n",
      " -> select a number to move : 1\n",
      "  1  8  2\n",
      "     3  7\n",
      "  6  5  4\n",
      " -> select a number to move : 3\n",
      "  1  8  2\n",
      "  3     7\n",
      "  6  5  4\n",
      " -> select a number to move : 8\n",
      "  1     2\n",
      "  3  8  7\n",
      "  6  5  4\n",
      " -> select a number to move : 2\n",
      "  1  2   \n",
      "  3  8  7\n",
      "  6  5  4\n",
      " -> select a number to move : 7\n",
      "  1  2  7\n",
      "  3  8   \n",
      "  6  5  4\n",
      " -> select a number to move : 4\n",
      "  1  2  7\n",
      "  3  8  4\n",
      "  6  5   \n",
      " -> select a number to move : 5\n",
      "  1  2  7\n",
      "  3  8  4\n",
      "  6     5\n",
      " -> select a number to move : 8\n",
      "  1  2  7\n",
      "  3     4\n",
      "  6  8  5\n",
      " -> select a number to move : 3\n",
      "  1  2  7\n",
      "     3  4\n",
      "  6  8  5\n",
      " -> select a number to move : 1\n",
      "     2  7\n",
      "  1  3  4\n",
      "  6  8  5\n",
      " -> select a number to move : 2\n",
      "  2     7\n",
      "  1  3  4\n",
      "  6  8  5\n",
      " -> select a number to move : 3\n",
      "  2  3  7\n",
      "  1     4\n",
      "  6  8  5\n",
      " -> select a number to move : 4\n",
      "  2  3  7\n",
      "  1  4   \n",
      "  6  8  5\n",
      " -> select a number to move : 7\n",
      "  2  3   \n",
      "  1  4  7\n",
      "  6  8  5\n",
      " -> select a number to move : 3\n",
      "  2     3\n",
      "  1  4  7\n",
      "  6  8  5\n",
      " -> select a number to move : 2\n",
      "     2  3\n",
      "  1  4  7\n",
      "  6  8  5\n",
      " -> select a number to move : 1\n",
      "  1  2  3\n",
      "     4  7\n",
      "  6  8  5\n",
      " -> select a number to move : 4\n",
      "  1  2  3\n",
      "  4     7\n",
      "  6  8  5\n",
      " -> select a number to move : 7\n",
      "  1  2  3\n",
      "  4  7   \n",
      "  6  8  5\n",
      " -> select a number to move : 5\n",
      "  1  2  3\n",
      "  4  7  5\n",
      "  6  8   \n",
      " -> select a number to move : 8\n",
      "  1  2  3\n",
      "  4  7  5\n",
      "  6     8\n",
      " -> select a number to move : 7\n",
      "  1  2  3\n",
      "  4     5\n",
      "  6  7  8\n",
      " -> select a number to move : 5\n",
      "  1  2  3\n",
      "  4  5   \n",
      "  6  7  8\n",
      " -> select a number to move : 8\n",
      "  1  2  3\n",
      "  4  5  8\n",
      "  6  7   \n",
      " -> select a number to move : 7\n",
      "  1  2  3\n",
      "  4  5  8\n",
      "  6     7\n",
      " -> select a number to move : 6\n",
      "  1  2  3\n",
      "  4  5  8\n",
      "     6  7\n",
      " -> select a number to move : 4\n",
      "  1  2  3\n",
      "     5  8\n",
      "  4  6  7\n",
      " -> select a number to move : 5\n",
      "  1  2  3\n",
      "  5     8\n",
      "  4  6  7\n",
      " -> select a number to move : 6\n",
      "  1  2  3\n",
      "  5  6  8\n",
      "  4     7\n",
      " -> select a number to move : 7\n",
      "  1  2  3\n",
      "  5  6  8\n",
      "  4  7   \n",
      " -> select a number to move : 8\n",
      "  1  2  3\n",
      "  5  6   \n",
      "  4  7  8\n",
      " -> select a number to move : 6\n",
      "  1  2  3\n",
      "  5     6\n",
      "  4  7  8\n",
      " -> select a number to move : 5\n",
      "  1  2  3\n",
      "     5  6\n",
      "  4  7  8\n",
      " -> select a number to move : 4\n",
      "  1  2  3\n",
      "  4  5  6\n",
      "     7  8\n",
      " -> select a number to move : 7\n",
      "  1  2  3\n",
      "  4  5  6\n",
      "  7     8\n",
      " -> select a number to move : 8\n",
      "  1  2  3\n",
      "  4  5  6\n",
      "  7  8   \n",
      "\n",
      "you solved the puzzle!\n"
     ]
    }
   ],
   "source": [
    "# list comprehension\n",
    "def initiate_puzzle2(size): ## 퍼즐의 사이즈 정해서 만들기 \n",
    "    sl = range(size)\n",
    "    puzzle = [[i * size + j + 1 for i in sl] for j in sl]\n",
    "    puzzle[-1][-1] = ''\n",
    "    return puzzle\n",
    "\n",
    "# numpy\n",
    "def initiate_puzzle3(size):\n",
    "    puzzle = np.arange(1, size**2+1).reshape(size, size).tolist()\n",
    "    puzzle[-1][-1] = ''\n",
    "    return puzzle\n",
    "\n",
    "def shuffle_puzzle(puzzle): \n",
    "    dxs = [1, 0, -1,  0]\n",
    "    dys = [0, 1,  0, -1]\n",
    "\n",
    "    cnt = 0\n",
    "    while cnt <= 300:\n",
    "        rnd = random.randint(0, 3)\n",
    "        dx = dxs[rnd]\n",
    "        dy = dys[rnd]\n",
    "\n",
    "        i, j = get_index(puzzle, '')\n",
    "        ni = i + dx\n",
    "        nj = j + dy\n",
    "\n",
    "        if 0 <= ni < len(puzzle) and 0 <= nj < len(puzzle[0]):\n",
    "            puzzle[ni][nj], puzzle[i][j] = puzzle[i][j], puzzle[ni][nj]\n",
    "        cnt += 1\n",
    "\n",
    "def is_done(puzzle, complete):\n",
    "    return puzzle == complete\n",
    "\n",
    "def get_index(puzzle, n):\n",
    "    for i in range(len(puzzle)):\n",
    "        try:\n",
    "            index = puzzle[i].index(n) # 몇행 몇열에 있는지? \n",
    "            return i, index\n",
    "        except:\n",
    "            continue\n",
    "    return -1, -1\n",
    "\n",
    "def move_by_number(puzzle, n):\n",
    "    i, j = get_index(puzzle, n)\n",
    "    move_by_index(puzzle, i, j)\n",
    "\n",
    "def move_by_index(puzzle, i, j):\n",
    "    # movable condition\n",
    "    # 좌우위아래 한방향중 하나가 '' 값이라면 이동 가능\n",
    "    for dx, dy in ((1, 0), (0, 1), (-1, 0), (0, -1)):\n",
    "        new_i = i + dx\n",
    "        new_j = j + dy\n",
    "\n",
    "        if not (0 <= new_i < len(puzzle) and 0 <= new_j < len(puzzle[0])):\n",
    "            continue\n",
    "\n",
    "        if puzzle[new_i][new_j] == '':\n",
    "            puzzle[i][j], puzzle[new_i][new_j] = puzzle[new_i][new_j], puzzle[i][j]\n",
    "            break\n",
    "    else:\n",
    "        print('sorry, you cannot move that number')\n",
    "\n",
    "# 퍼즐 생성\n",
    "size = int(input(' -> please insert puzzle size : '))\n",
    "puzzle = initiate_puzzle3(size)\n",
    "complete = [row[:] for row in puzzle]\n",
    "\n",
    "# 퍼즐 섞기\n",
    "shuffle_puzzle(puzzle)\n",
    "\n",
    "# 섞인 퍼즐 보기\n",
    "show_puzzle(puzzle)\n",
    "\n",
    "# 퍼즐 풀기\n",
    "while not is_done(puzzle, complete):\n",
    "    try:\n",
    "        num = int(input(' -> select a number to move : '))\n",
    "    except:\n",
    "        print('give me a valid number!')\n",
    "        continue\n",
    "    # 움직일 수 선택하기\n",
    "    move_by_number(puzzle, num)\n",
    "\n",
    "\n",
    "    # 화면 clear\n",
    "    import os\n",
    "    cls = lambda: os.system('clear') # windows cls\n",
    "    cls()\n",
    "\n",
    "    # 움직인 이후 퍼즐 상태 보기\n",
    "    show_puzzle(puzzle)\n",
    "\n",
    "print('\\nyou solved the puzzle!')"
   ]
  },
  {
   "cell_type": "code",
   "execution_count": null,
   "metadata": {
    "collapsed": true
   },
   "outputs": [],
   "source": []
  }
 ],
 "metadata": {
  "kernelspec": {
   "display_name": "Python 3",
   "language": "python",
   "name": "python3"
  },
  "language_info": {
   "codemirror_mode": {
    "name": "ipython",
    "version": 3
   },
   "file_extension": ".py",
   "mimetype": "text/x-python",
   "name": "python",
   "nbconvert_exporter": "python",
   "pygments_lexer": "ipython3",
   "version": "3.6.1"
  }
 },
 "nbformat": 4,
 "nbformat_minor": 1
}
