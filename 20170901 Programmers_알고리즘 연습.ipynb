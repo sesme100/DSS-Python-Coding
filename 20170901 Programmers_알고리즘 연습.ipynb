{
 "cells": [
  {
   "cell_type": "markdown",
   "metadata": {},
   "source": [
    "nextSqaure함수는 정수 n을 매개변수로 입력받습니다.\n",
    "n이 임의의 정수 x의 제곱이라면 x+1의 제곱을 리턴하고, n이 임의의 정수 x의 제곱이 아니라면 'no'을 리턴하는 함수를 완성하세요.\n",
    "예를들어 n이 121이라면 이는 정수 11의 제곱이므로 (11+1)의 제곱인 144를 리턴하고, 3이라면 'no'을 리턴하면 됩니다"
   ]
  },
  {
   "cell_type": "code",
   "execution_count": 44,
   "metadata": {
    "collapsed": true
   },
   "outputs": [],
   "source": [
    "def nextSqure(n):\n",
    "    for i in range(2,n):\n",
    "        if n == i**2: \n",
    "            return (i+1)**2\n",
    "    return 'no'\n"
   ]
  },
  {
   "cell_type": "code",
   "execution_count": 45,
   "metadata": {},
   "outputs": [
    {
     "name": "stdout",
     "output_type": "stream",
     "text": [
      "결과 : 144\n"
     ]
    }
   ],
   "source": [
    "print(\"결과 : {}\".format(nextSqure(121)))"
   ]
  },
  {
   "cell_type": "markdown",
   "metadata": {},
   "source": [
    "딕셔너리는 들어있는 값에 순서가 없지만, 키를 기준으로 정렬하고 싶습니다. 그래서 키와 값을 튜플로 구성하고, 이를 순서대로 리스트에 넣으려고 합니다.\n",
    "예를들어 {\"김철수\":78, \"이하나\":97, \"정진원\":88}이 있다면 각각의 키와 값을\n",
    "\n",
    "(\"김철수\", 78)\n",
    "(\"이하나\", 97)\n",
    "(\"정진원\", 88)\n",
    "과 같이 튜플로 분리하고 키를 기준으로 정렬해서 다음과 같은 리스트를 만들면 됩니다.\n",
    "[ (\"김철수\", 78), (\"이하나\", 97), (\"정진원\", 88) ]\n",
    "\n",
    "다음 sort_dictionary 함수를 완성해 보세요."
   ]
  },
  {
   "cell_type": "code",
   "execution_count": 89,
   "metadata": {},
   "outputs": [
    {
     "name": "stdout",
     "output_type": "stream",
     "text": [
      "dict_items([('김철수', 78), ('이하나', 97), ('정진원', 88)])\n"
     ]
    }
   ],
   "source": [
    "def sort_dictionary(dic):\n",
    "    dic.items()\n",
    "    \n",
    "    return \n",
    "\n",
    "# 아래는 테스트로 출력해 보기 위한 코드입니다.\n",
    "print( sort_dictionary( {\"김철수\":78, \"이하나\":97, \"정진원\":88} ))"
   ]
  },
  {
   "cell_type": "code",
   "execution_count": 108,
   "metadata": {},
   "outputs": [
    {
     "data": {
      "text/plain": [
       "['김철수', '이하나', '정진원']"
      ]
     },
     "execution_count": 108,
     "metadata": {},
     "output_type": "execute_result"
    }
   ],
   "source": [
    "dic = {\"김철수\":78, \"이하나\":97, \"정진원\":88} \n",
    "dic1 = dic.items()\n",
    "sorting = sorted(dic.keys())\n",
    "sorting"
   ]
  },
  {
   "cell_type": "code",
   "execution_count": null,
   "metadata": {
    "collapsed": true
   },
   "outputs": [],
   "source": []
  },
  {
   "cell_type": "code",
   "execution_count": 171,
   "metadata": {
    "collapsed": true
   },
   "outputs": [],
   "source": [
    "def number_generator(x, n):\n",
    "  \n",
    "    list1=[]\n",
    "    for i in range(x,x*n+1):\n",
    "        list1.append(i)\n",
    "    return list1[x-x:x*n+1:x]\n",
    "\n"
   ]
  },
  {
   "cell_type": "code",
   "execution_count": 172,
   "metadata": {},
   "outputs": [
    {
     "name": "stdout",
     "output_type": "stream",
     "text": [
      "[3, 6, 9, 12, 15]\n"
     ]
    }
   ],
   "source": [
    "# 아래는 테스트로 출력해 보기 위한 코드입니다.\n",
    "print(number_generator(3,5))"
   ]
  },
  {
   "cell_type": "code",
   "execution_count": 174,
   "metadata": {
    "collapsed": true
   },
   "outputs": [],
   "source": [
    "## 다른사람 답 \n",
    "def number_generator(x, n):\n",
    "    # 함수를 완성하세요\n",
    "    return [i * x + x for i in range(n)]"
   ]
  },
  {
   "cell_type": "code",
   "execution_count": 175,
   "metadata": {},
   "outputs": [
    {
     "name": "stdout",
     "output_type": "stream",
     "text": [
      "[3, 6, 9, 12, 15]\n"
     ]
    }
   ],
   "source": [
    "print(number_generator(3,5))"
   ]
  },
  {
   "cell_type": "markdown",
   "metadata": {},
   "source": [
    "rm_small함수는 list타입 변수 mylist을 매개변수로 입력받습니다.\n",
    "mylist 에서 가장 작은 수를 제거한 리스트를 리턴하고, mylist의 원소가 1개 이하인 경우는 []를 리턴하는 함수를 완성하세요.\n",
    "예를들어 mylist가 [4,3,2,1]인 경우는 [4,3,2]를 리턴 하고, [10, 8, 22]면 [10, 22]를 리턴 합니다."
   ]
  },
  {
   "cell_type": "code",
   "execution_count": 218,
   "metadata": {
    "collapsed": true
   },
   "outputs": [],
   "source": [
    "def rm_small(mylist):\n",
    "    if len(mylist)>1:\n",
    "        minimum = min(mylist)\n",
    "        i = mylist.index(minimum)\n",
    "        del mylist[i]\n",
    "               \n",
    "        return mylist\n",
    "    return []"
   ]
  },
  {
   "cell_type": "code",
   "execution_count": 219,
   "metadata": {},
   "outputs": [
    {
     "name": "stdout",
     "output_type": "stream",
     "text": [
      "결과 [4, 3, 2] \n"
     ]
    }
   ],
   "source": [
    "my_list = [4, 3, 2, 1]\n",
    "print(\"결과 {} \".format(rm_small(my_list)))"
   ]
  },
  {
   "cell_type": "code",
   "execution_count": null,
   "metadata": {
    "collapsed": true
   },
   "outputs": [],
   "source": [
    "## 다른사람 결과값 \n",
    "def rm_small(mylist):\n",
    "    return [i for i in mylist if i > min(mylist)]"
   ]
  },
  {
   "cell_type": "markdown",
   "metadata": {},
   "source": [
    "피보나치 수열\n",
    "피보나치 수는 F(0) = 0, F(1) = 1일 때, 2 이상의 n에 대하여 F(n) = F(n-1) + F(n-2) 가 적용되는 점화식입니다. 2 이상의 n이 입력되었을 때, fibonacci 함수를 제작하여 n번째 피보나치 수를 반환해 주세요. 예를 들어 n = 3이라면 2를 반환해주면 됩니다."
   ]
  },
  {
   "cell_type": "code",
   "execution_count": 243,
   "metadata": {
    "collapsed": true
   },
   "outputs": [],
   "source": [
    "def fibonacci(n):\n",
    "    fibo =[0,1]\n",
    "    for i in range(2,n+1):\n",
    "        fibo.append(fibo[i-1]+fibo[i-2])\n",
    "        \n",
    "    return fibo[-1]"
   ]
  },
  {
   "cell_type": "code",
   "execution_count": 244,
   "metadata": {},
   "outputs": [
    {
     "data": {
      "text/plain": [
       "7778742049"
      ]
     },
     "execution_count": 244,
     "metadata": {},
     "output_type": "execute_result"
    }
   ],
   "source": [
    "fibonacci(49)"
   ]
  },
  {
   "cell_type": "code",
   "execution_count": 242,
   "metadata": {},
   "outputs": [
    {
     "name": "stdout",
     "output_type": "stream",
     "text": [
      "7778742049\n"
     ]
    }
   ],
   "source": [
    "## 다른사람의 답 \n",
    "def fibonacci(num):\n",
    "    a, b = 0, 1\n",
    "    for i in range(num):\n",
    "        a, b = b, a+b\n",
    "    return a\n",
    "\n",
    "# 아래는 테스트로 출력해 보기 위한 코드입니다.\n",
    "print(fibonacci(49))"
   ]
  },
  {
   "cell_type": "markdown",
   "metadata": {},
   "source": [
    "getMiddle메소드는 하나의 단어를 입력 받습니다. 단어를 입력 받아서 가운데 글자를 반환하도록 getMiddle메소드를 만들어 보세요. 단어의 길이가 짝수일경우 가운데 두글자를 반환하면 됩니다.\n",
    "예를들어 입력받은 단어가 power이라면 w를 반환하면 되고, 입력받은 단어가 test라면 es를 반환하면 됩니다."
   ]
  },
  {
   "cell_type": "code",
   "execution_count": 250,
   "metadata": {},
   "outputs": [
    {
     "name": "stdout",
     "output_type": "stream",
     "text": [
      "de\n"
     ]
    }
   ],
   "source": [
    "def string_middle(string):\n",
    "    target = int(len(string)/2)\n",
    "    if len(string)% 2 ==0:\n",
    "        return string[target-1:target+1]\n",
    "    else: return string[target]\n",
    "\n",
    "# 아래는 테스트로 출력해 보기 위한 코드입니다.\n",
    "print(string_middle(\"abcdefgh\"))"
   ]
  },
  {
   "cell_type": "code",
   "execution_count": 254,
   "metadata": {},
   "outputs": [
    {
     "name": "stdout",
     "output_type": "stream",
     "text": [
      "45\n"
     ]
    }
   ],
   "source": [
    "## 다른사람 답\n",
    "def string_middle(string):\n",
    "    return string[(len(string)-1)//2:len(string)//2+1]\n",
    "\n",
    "# 아래는 테스트로 출력해 보기 위한 코드입니다.\n",
    "print(string_middle(\"po345wer\"))"
   ]
  },
  {
   "cell_type": "markdown",
   "metadata": {},
   "source": [
    "행렬의 덧셈은 행과 열의 크기가 같은 두 행렬의 같은 행, 같은 열의 값을 서로 더한 결과가 됩니다. 2개의 행렬을 입력받는 sumMatrix 함수를 완성하여 행렬 덧셈의 결과를 반환해 주세요.\n",
    "\n",
    "예를 들어 2x2 행렬인 A = ((1, 2), (2, 3)), B = ((3, 4), (5, 6)) 가 주어지면, 같은 2x2 행렬인 ((4, 6), (7, 9))를 반환하면 됩니다.(어떠한 행렬에도 대응하는 함수를 완성해주세요.)"
   ]
  },
  {
   "cell_type": "code",
   "execution_count": 279,
   "metadata": {
    "collapsed": true
   },
   "outputs": [],
   "source": [
    "def MulMatrix(A,B):\n",
    "    a = A[0][0]\n",
    "    b = A[0][1]\n",
    "    c = A[1][0]\n",
    "    d = A[1][1]\n",
    "    e = B[0][0]\n",
    "    f = B[0][1]\n",
    "    g = B[1][0]\n",
    "    h = B[1][1]\n",
    "    \n",
    "    return [[a*e+b*g,e*f+b*h],[c*e+d*g,c*f+d*h]]"
   ]
  },
  {
   "cell_type": "code",
   "execution_count": 280,
   "metadata": {},
   "outputs": [
    {
     "name": "stdout",
     "output_type": "stream",
     "text": [
      "[[13, 24], [21, 26]]\n"
     ]
    }
   ],
   "source": [
    "# 아래는 테스트로 출력해 보기 위한 코드입니다.\n",
    "print(MulMatrix([[1,2], [2,3]], [[3,4],[5,6]]))"
   ]
  },
  {
   "cell_type": "code",
   "execution_count": 282,
   "metadata": {},
   "outputs": [
    {
     "name": "stdout",
     "output_type": "stream",
     "text": [
      "[[4, 6], [7, 9]]\n"
     ]
    }
   ],
   "source": [
    "def sumMatrix(A,B):\n",
    "    a = A[0][0]\n",
    "    b = A[0][1]\n",
    "    c = A[1][0]\n",
    "    d = A[1][1]\n",
    "    e = B[0][0]\n",
    "    f = B[0][1]\n",
    "    g = B[1][0]\n",
    "    h = B[1][1]\n",
    "    \n",
    "    return [[a+e,b+f],[c+g,d+h]]\n",
    "\n",
    "print(sumMatrix([[1,2], [2,3]], [[3,4],[5,6]]))"
   ]
  },
  {
   "cell_type": "code",
   "execution_count": null,
   "metadata": {
    "collapsed": true
   },
   "outputs": [],
   "source": []
  },
  {
   "cell_type": "markdown",
   "metadata": {},
   "source": [
    "evenOrOdd 메소드는 int형 num을 매개변수로 받습니다.\n",
    "num이 짝수일 경우 \"Even\"을 반환하고 홀수인 경우 \"Odd\"를 반환하도록 evenOrOdd에 코드를 작성해 보세요.\n",
    "num은 0이상의 정수이며, num이 음수인 경우는 없습니다"
   ]
  },
  {
   "cell_type": "code",
   "execution_count": 291,
   "metadata": {
    "collapsed": true
   },
   "outputs": [],
   "source": [
    "def everOrOdd(num):\n",
    "    if num %2 == 0:\n",
    "        return \"Even\"\n",
    "    return \"Odd\""
   ]
  },
  {
   "cell_type": "code",
   "execution_count": 293,
   "metadata": {
    "collapsed": true
   },
   "outputs": [],
   "source": [
    "def everOrOdd(num):\n",
    "    return \"Even\" if num % 2 == 0 else \"Odd\""
   ]
  },
  {
   "cell_type": "code",
   "execution_count": 292,
   "metadata": {},
   "outputs": [
    {
     "data": {
      "text/plain": [
       "'Odd'"
      ]
     },
     "execution_count": 292,
     "metadata": {},
     "output_type": "execute_result"
    }
   ],
   "source": [
    "## 다른사람답\n",
    "def evenOrOdd(num):\n",
    "    return num % 2 and \"Odd\" or \"Even\"\n",
    "## num % 2 가 0인경우 False에 해당하므로 and랑 걸려있는 \"Odd\"는 실행되지 않음 > or 에 걸려있는 \"Even \n",
    "## "
   ]
  },
  {
   "cell_type": "code",
   "execution_count": 302,
   "metadata": {},
   "outputs": [
    {
     "data": {
      "text/plain": [
       "False"
      ]
     },
     "execution_count": 302,
     "metadata": {},
     "output_type": "execute_result"
    }
   ],
   "source": [
    "False and \"odd\""
   ]
  },
  {
   "cell_type": "code",
   "execution_count": 304,
   "metadata": {},
   "outputs": [
    {
     "data": {
      "text/plain": [
       "'Odd'"
      ]
     },
     "execution_count": 304,
     "metadata": {},
     "output_type": "execute_result"
    }
   ],
   "source": [
    "True and \"Odd\" ## 인경우 \"Odd\" 뒷조건은 보지 않고 \"Odd\" 반환 "
   ]
  },
  {
   "cell_type": "code",
   "execution_count": 305,
   "metadata": {},
   "outputs": [
    {
     "data": {
      "text/plain": [
       "'Even'"
      ]
     },
     "execution_count": 305,
     "metadata": {},
     "output_type": "execute_result"
    }
   ],
   "source": [
    "False or \"Even\""
   ]
  },
  {
   "cell_type": "code",
   "execution_count": 334,
   "metadata": {
    "collapsed": true
   },
   "outputs": [],
   "source": [
    "def alpha_string46(s):\n",
    "    if len(s)==4 or len(s)==6:\n",
    "        for i in s: \n",
    "            if i in 'abcdefghijklmnopqrstuvwxyz':\n",
    "                return False \n",
    "            return True\n"
   ]
  },
  {
   "cell_type": "code",
   "execution_count": 335,
   "metadata": {},
   "outputs": [
    {
     "data": {
      "text/plain": [
       "True"
      ]
     },
     "execution_count": 335,
     "metadata": {},
     "output_type": "execute_result"
    }
   ],
   "source": [
    "alpha_string46('46l6')"
   ]
  },
  {
   "cell_type": "markdown",
   "metadata": {},
   "source": [
    "sum_digit함수는 자연수를 전달 받아서 숫자의 각 자릿수의 합을 구해서 return합니다.\n",
    "예를들어 number = 123이면 1 + 2 + 3 = 6을 return하면 됩니다.\n",
    "sum_digit함수를 완성해보세요."
   ]
  },
  {
   "cell_type": "code",
   "execution_count": 385,
   "metadata": {
    "collapsed": true
   },
   "outputs": [],
   "source": [
    "def sum_digits(n):\n",
    "    s = 0\n",
    "    while n:\n",
    "        s = n % 10 + s ## 나머지\n",
    "        n =n//10 ## 몫\n",
    "    return s"
   ]
  },
  {
   "cell_type": "code",
   "execution_count": 386,
   "metadata": {},
   "outputs": [
    {
     "data": {
      "text/plain": [
       "10"
      ]
     },
     "execution_count": 386,
     "metadata": {},
     "output_type": "execute_result"
    }
   ],
   "source": [
    "n = 1234\n",
    "sum_digits(n)"
   ]
  },
  {
   "cell_type": "code",
   "execution_count": 388,
   "metadata": {},
   "outputs": [
    {
     "data": {
      "text/plain": [
       "(4, 0)"
      ]
     },
     "execution_count": 388,
     "metadata": {},
     "output_type": "execute_result"
    }
   ],
   "source": [
    "divmod(16,4) ## 나누기 함수 \n",
    "## input a, b \n",
    "## output a//b, a%b"
   ]
  },
  {
   "cell_type": "code",
   "execution_count": 391,
   "metadata": {
    "collapsed": true
   },
   "outputs": [],
   "source": [
    "## 다른사람 정답 \n",
    "def sum_digit(number):\n",
    "    if number < 10:\n",
    "        return number;\n",
    "    return (number % 10) + sum_digit(number // 10) "
   ]
  },
  {
   "cell_type": "code",
   "execution_count": 399,
   "metadata": {
    "collapsed": true
   },
   "outputs": [],
   "source": [
    "def sum_digit(number):\n",
    "    return sum(map(int,str(number)))"
   ]
  },
  {
   "cell_type": "code",
   "execution_count": null,
   "metadata": {
    "collapsed": true
   },
   "outputs": [],
   "source": []
  },
  {
   "cell_type": "markdown",
   "metadata": {},
   "source": [
    "딕셔너리는 들어있는 값에 순서가 없지만, 키를 기준으로 정렬하고 싶습니다. 그래서 키와 값을 튜플로 구성하고, 이를 순서대로 리스트에 넣으려고 합니다.\n",
    "예를들어 {\"김철수\":78, \"이하나\":97, \"정진원\":88}이 있다면 각각의 키와 값을\n",
    "\n",
    "(\"김철수\", 78)\n",
    "(\"이하나\", 97)\n",
    "(\"정진원\", 88)\n",
    "과 같이 튜플로 분리하고 키를 기준으로 정렬해서 다음과 같은 리스트를 만들면 됩니다.\n",
    "[ (\"김철수\", 78), (\"이하나\", 97), (\"정진원\", 88) ]\n",
    "\n",
    "다음 sort_dictionary 함수를 완성해 보세요."
   ]
  },
  {
   "cell_type": "code",
   "execution_count": null,
   "metadata": {
    "collapsed": true
   },
   "outputs": [],
   "source": [
    "def sort_dictionary(dic):\n",
    "    return sorted(dic.items(), key=lambda x: x[0])\n",
    "\n",
    "# 아래는 테스트로 출력해 보기 위한 코드입니다.\n",
    "print( sort_dictionary( {\"김철수\":78, \"이하나\":97, \"정진원\":88} ))"
   ]
  },
  {
   "cell_type": "code",
   "execution_count": 405,
   "metadata": {},
   "outputs": [
    {
     "data": {
      "text/plain": [
       "dict_items([('김철수', 78), ('이하나', 97), ('정진원', 88)])"
      ]
     },
     "execution_count": 405,
     "metadata": {},
     "output_type": "execute_result"
    }
   ],
   "source": [
    "dict1 = {\"김철수\":78, \"이하나\":97, \"정진원\":88}\n",
    "dict.items(dict1)"
   ]
  },
  {
   "cell_type": "markdown",
   "metadata": {},
   "source": [
    "strange_sort함수는 strings와 n이라는 매개변수를 받아들입니다.\n",
    "strings는 문자열로 구성된 리스트인데, 각 문자열을 인덱스 n인 글자를 기준으로 정렬하면 됩니다.\n",
    "\n",
    "예를들어 strings가 [\"sun\", \"bed\", \"car\"]이고 n이 1이면 각 단어의 인덱스 1인 문자 u, e ,a를 기준으로 정렬해야 하므로 결과는 [\"car\", \"bed\", \"sun\"]이 됩니다.\n",
    "strange_sort함수를 완성해 보세요."
   ]
  },
  {
   "cell_type": "code",
   "execution_count": null,
   "metadata": {
    "collapsed": true
   },
   "outputs": [],
   "source": [
    "def strange_sort(strings, n): \n",
    "    '''strings의 문자열들을 n번째 글자를 기준으로 정렬해서 return하세요'''\n",
    "    return sorted(strings, key = lambda x : x[n])\n",
    "\n",
    "\n",
    "\n",
    "# 아래는 테스트로 출력해 보기 위한 코드입니다.\n",
    "print( strange_sort([\"sun\", \"bed\", \"car\"], 1) )"
   ]
  },
  {
   "cell_type": "markdown",
   "metadata": {},
   "source": [
    "별이는 헬로월드텔레콤에서 고지서를 보내는 일을 하고 있습니다. 개인정보 보호를 위해 고객들의 전화번호는 맨 뒷자리 4자리를 제외한 나머지를 \"*\"으로 바꿔야 합니다.\n",
    "전화번호를 문자열 s로 입력받는 hide_numbers함수를 완성해 별이를 도와주세요\n",
    "예를들어 s가 \"01033334444\"면 \"*******4444\"를 리턴하고, \"027778888\"인 경우는 \"*****8888\"을 리턴하면 됩니다."
   ]
  },
  {
   "cell_type": "code",
   "execution_count": 414,
   "metadata": {
    "collapsed": true
   },
   "outputs": [],
   "source": [
    "s = '010283945789384'\n",
    "def hide_number(s):\n",
    "    return '*'*(len(s)-4)+s[-4:]\n"
   ]
  },
  {
   "cell_type": "code",
   "execution_count": 415,
   "metadata": {},
   "outputs": [
    {
     "data": {
      "text/plain": [
       "'***********9384'"
      ]
     },
     "execution_count": 415,
     "metadata": {},
     "output_type": "execute_result"
    }
   ],
   "source": [
    "hide_number(s)"
   ]
  },
  {
   "cell_type": "code",
   "execution_count": null,
   "metadata": {
    "collapsed": true
   },
   "outputs": [],
   "source": [
    "## 다른사람 답\n",
    "import re\n",
    "\n",
    "def hide_numbers(s):\n",
    "    p = re.compile(r'\\d(?=\\d{4})')\n",
    "    return p.sub(\"*\", s, count = 0)"
   ]
  },
  {
   "cell_type": "markdown",
   "metadata": {},
   "source": [
    "findKim 함수(메소드)는 String형 배열 seoul을 매개변수로 받습니다.\n",
    "\n",
    "seoul의 element중 \"Kim\"의 위치 x를 찾아, \"김서방은 x에 있다\"는 String을 반환하세요.\n",
    "seoul에 \"Kim\"은 오직 한 번만 나타나며 잘못된 값이 입력되는 경우는 없습니다."
   ]
  },
  {
   "cell_type": "code",
   "execution_count": 419,
   "metadata": {},
   "outputs": [
    {
     "name": "stdout",
     "output_type": "stream",
     "text": [
      "김서방은 2에 있다\n"
     ]
    }
   ],
   "source": [
    "def findKim(seoul):\n",
    "    for i in range(len(seoul)):\n",
    "        if seoul[i]==\"Kim\":\n",
    "            return \"김서방은 {}에 있다\".format(i)\n",
    "\n",
    "\n",
    "# 실행을 위한 테스트코드입니다.\n",
    "print(findKim([\"Queen\", \"Tod\", \"Kim\"]))"
   ]
  },
  {
   "cell_type": "code",
   "execution_count": 421,
   "metadata": {},
   "outputs": [
    {
     "name": "stdout",
     "output_type": "stream",
     "text": [
      "김서방은 2에 있다\n"
     ]
    }
   ],
   "source": [
    "def findKim(seoul):\n",
    "    return \"김서방은 {}에 있다\".format(seoul.index('Kim'))\n",
    "print(findKim([\"Queen\", \"Tod\", \"Kim\"]))"
   ]
  },
  {
   "cell_type": "code",
   "execution_count": null,
   "metadata": {
    "collapsed": true
   },
   "outputs": [],
   "source": []
  },
  {
   "cell_type": "markdown",
   "metadata": {},
   "source": [
    "no_continuous함수는 스트링 s를 매개변수로 입력받습니다.\n",
    "\n",
    "s의 글자들의 순서를 유지하면서, 글자들 중 연속적으로 나타나는 아이템은 제거된 배열(파이썬은 list)을 리턴하도록 함수를 완성하세요.\n",
    "예를들어 다음과 같이 동작하면 됩니다.\n",
    "\n",
    "s가 '133303'이라면 ['1', '3', '0', '3']를 리턴\n",
    "s가 '47330'이라면 [4, 7, 3, 0]을 리턴"
   ]
  },
  {
   "cell_type": "code",
   "execution_count": 462,
   "metadata": {},
   "outputs": [
    {
     "name": "stdout",
     "output_type": "stream",
     "text": [
      "['1']\n"
     ]
    }
   ],
   "source": [
    "def no_continuous(s):\n",
    "    for i in range(len(s)):\n",
    "        n = []\n",
    "        if s[i] != s[i+1:i+2]:\n",
    "            n.append(s[i])\n",
    "        \n",
    "        return n\n",
    "\n",
    "# 아래는 테스트로 출력해 보기 위한 코드입니다.\n",
    "print( no_continuous( \"133303\" ))"
   ]
  },
  {
   "cell_type": "code",
   "execution_count": 460,
   "metadata": {},
   "outputs": [
    {
     "name": "stdout",
     "output_type": "stream",
     "text": [
      "['1', '3', '0', '3']\n"
     ]
    }
   ],
   "source": [
    "def no_continuous(s):\n",
    "    return [s[i] for i in range(len(s)) if s[i] != s[i+1:i+2]]\n",
    "print( no_continuous( \"133303\" ))"
   ]
  },
  {
   "cell_type": "code",
   "execution_count": null,
   "metadata": {
    "collapsed": true
   },
   "outputs": [],
   "source": [
    "def no_continuous(s):\n",
    "    a = []\n",
    "    for i in s:\n",
    "        if a[-1:] == [i]: continue\n",
    "        a.append(i)\n",
    "    return a"
   ]
  },
  {
   "cell_type": "markdown",
   "metadata": {},
   "source": [
    "2016년 1월 1일은 금요일입니다. 2016년 A월 B일은 무슨 요일일까요? 두 수 A,B를 입력받아 A월 B일이 무슨 요일인지 출력하는 getDayName 함수를 완성하세요. 요일의 이름은 일요일부터 토요일까지 각각\n",
    "\n",
    "SUN,MON,TUE,WED,THU,FRI,SAT\n",
    "\n",
    "를 출력해주면 됩니다. 예를 들어 A=5, B=24가 입력된다면 5월 24일은 화요일이므로 TUE를 반환하면 됩니다."
   ]
  },
  {
   "cell_type": "code",
   "execution_count": 478,
   "metadata": {
    "collapsed": true
   },
   "outputs": [],
   "source": [
    "from datetime import datetime\n",
    "def getDayName(a,b):\n",
    "\n",
    "    weekdays = ['MON','TUE','WED','THU','FRI','SAT','SUN']\n",
    "    i = datetime(2016,a,b).weekday()\n",
    "    return weekdays[i]"
   ]
  },
  {
   "cell_type": "code",
   "execution_count": 479,
   "metadata": {},
   "outputs": [
    {
     "data": {
      "text/plain": [
       "'MON'"
      ]
     },
     "execution_count": 479,
     "metadata": {},
     "output_type": "execute_result"
    }
   ],
   "source": [
    "getDayName(3,14)"
   ]
  },
  {
   "cell_type": "raw",
   "metadata": {},
   "source": [
    "printTriangle 메소드는 양의 정수 num을 매개변수로 입력받습니다.\n",
    "다음을 참고해 *(별)로 높이가 num인 삼각형을 문자열로 리턴하는 printTriangle 메소드를 완성하세요\n",
    "printTriangle이 return하는 String은 개행문자('\\n')로 끝나야 합니다."
   ]
  },
  {
   "cell_type": "code",
   "execution_count": 494,
   "metadata": {
    "collapsed": true
   },
   "outputs": [],
   "source": [
    "def printTriangle(num):\n",
    "    s =''\n",
    "    for i in range(num):\n",
    "        s += '*'*(i+1)+'\\n'\n",
    "    return s"
   ]
  },
  {
   "cell_type": "code",
   "execution_count": 496,
   "metadata": {},
   "outputs": [
    {
     "name": "stdout",
     "output_type": "stream",
     "text": [
      "*\n",
      "**\n",
      "***\n",
      "****\n",
      "\n"
     ]
    }
   ],
   "source": [
    "print(printTriangle(4))"
   ]
  },
  {
   "cell_type": "code",
   "execution_count": 497,
   "metadata": {
    "collapsed": true
   },
   "outputs": [],
   "source": [
    "## 다른사람 답\n",
    "def printTriangle(num):\n",
    "    return ''.join(['*'*i + '\\n' for i in range(1,num+1)])\n",
    "print(printTriangle(4))"
   ]
  },
  {
   "cell_type": "code",
   "execution_count": 509,
   "metadata": {},
   "outputs": [
    {
     "name": "stdout",
     "output_type": "stream",
     "text": [
      "*\n",
      "**\n",
      "***\n",
      "****\n",
      "\n"
     ]
    }
   ],
   "source": [
    "''.join('...')\n",
    "''.join(['1,2,3,4,5']) ## string만 가능 \n",
    "print(''.join(['*\\n**\\n***\\n****\\n']))"
   ]
  },
  {
   "cell_type": "raw",
   "metadata": {},
   "source": [
    "numPY함수는 대문자와 소문자가 섞여있는 문자열 s를 매개변수로 입력받습니다.\n",
    "s에 'p'의 개수와 'y'의 개수를 비교해 같으면 True, 다르면 False를 리턴하도록 함수를 완성하세요. 'p', 'y' 모두 하나도 없는 경우는 항상 True를 리턴합니다.\n",
    "예를들어 s가 \"pPoooyY\"면 True를 리턴하고 \"Pyy\"라면 False를 리턴합니다."
   ]
  },
  {
   "cell_type": "code",
   "execution_count": 510,
   "metadata": {},
   "outputs": [
    {
     "name": "stdout",
     "output_type": "stream",
     "text": [
      "True\n",
      "False\n"
     ]
    }
   ],
   "source": [
    "def numPY(s):\n",
    "\n",
    "    return s.lower().count('p')==s.lower().count('y')\n",
    "\n",
    "# 아래는 테스트로 출력해 보기 위한 코드입니다.\n",
    "print( numPY(\"pPoooyY\") )\n",
    "print( numPY(\"Pyy\") )"
   ]
  },
  {
   "cell_type": "code",
   "execution_count": null,
   "metadata": {
    "collapsed": true
   },
   "outputs": [],
   "source": [
    "소수 찾기 "
   ]
  },
  {
   "cell_type": "code",
   "execution_count": 515,
   "metadata": {
    "collapsed": true
   },
   "outputs": [],
   "source": [
    "def prime(n):\n",
    "    for i in range(2,n):\n",
    "        if n % i == 0: return False \n",
    "            \n",
    "        return True"
   ]
  },
  {
   "cell_type": "code",
   "execution_count": 516,
   "metadata": {},
   "outputs": [
    {
     "data": {
      "text/plain": [
       "True"
      ]
     },
     "execution_count": 516,
     "metadata": {},
     "output_type": "execute_result"
    }
   ],
   "source": [
    "prime(345)"
   ]
  },
  {
   "cell_type": "raw",
   "metadata": {},
   "source": [
    "어떤 수를 입력받아 그 수의 약수를 모두 더한 수 sumDivisor 함수를 완성해 보세요. 예를 들어 12가 입력된다면 12의 약수는 [1, 2, 3, 4, 6, 12]가 되고, 총 합은 28이 되므로 28을 반환해 주면 됩니다."
   ]
  },
  {
   "cell_type": "code",
   "execution_count": 519,
   "metadata": {
    "collapsed": true
   },
   "outputs": [],
   "source": [
    "def sumDivisor(num):\n",
    "    div =[]\n",
    "    for i in range(1,num+1):\n",
    "        if num % i ==0:\n",
    "              div.append(i)\n",
    "    return sum(div)"
   ]
  },
  {
   "cell_type": "code",
   "execution_count": 521,
   "metadata": {},
   "outputs": [
    {
     "data": {
      "text/plain": [
       "28"
      ]
     },
     "execution_count": 521,
     "metadata": {},
     "output_type": "execute_result"
    }
   ],
   "source": [
    "sumDivisor(12)"
   ]
  },
  {
   "cell_type": "code",
   "execution_count": 522,
   "metadata": {
    "collapsed": true
   },
   "outputs": [],
   "source": [
    "## 다른사람 답 \n",
    "def sumDivisor(num):\n",
    "    # num / 2 의 수들만 검사하면 성능 약 2배 향상잼\n",
    "    return num + sum([i for i in range(1, (num // 2) + 1) if num % i == 0])"
   ]
  },
  {
   "cell_type": "code",
   "execution_count": 535,
   "metadata": {},
   "outputs": [
    {
     "name": "stdout",
     "output_type": "stream",
     "text": [
      "[[ 1  6]\n",
      " [ 2  7]\n",
      " [ 3  8]\n",
      " [ 4  9]\n",
      " [ 5 10]]\n",
      "[[ 1  2  3  4  5]\n",
      " [ 6  7  8  9 10]]\n",
      "[[ 1  2  3  4  5]\n",
      " [ 6  7  8  9 10]]\n"
     ]
    }
   ],
   "source": [
    "a = np.array([[1,6],[2,7],[3,8],[4,9],[5,10]])\n",
    "print(np.stack(a, axis = 0))\n",
    "print(np.stack(a, axis = 1))## Transpose 한것처럼 쌓아줌  \n",
    "print(a.T)"
   ]
  },
  {
   "cell_type": "code",
   "execution_count": 549,
   "metadata": {},
   "outputs": [
    {
     "data": {
      "text/plain": [
       "True"
      ]
     },
     "execution_count": 549,
     "metadata": {},
     "output_type": "execute_result"
    }
   ],
   "source": [
    "s = '344565'\n",
    "s.isdigit()"
   ]
  },
  {
   "cell_type": "raw",
   "metadata": {},
   "source": [
    "alpha_string46함수는 문자열 s를 매개변수로 입력받습니다.\n",
    "s의 길이가 4혹은 6이고, 숫자로만 구성되있는지 확인해주는 함수를 완성하세요.\n",
    "예를들어 s가 \"a234\"이면 False를 리턴하고 \"1234\"라면 True를 리턴하면 됩니다"
   ]
  },
  {
   "cell_type": "code",
   "execution_count": 550,
   "metadata": {
    "collapsed": true
   },
   "outputs": [],
   "source": [
    "def alpha_string46(s):\n",
    "    return s.isdigit() and (len(s)==4 or len(s)==6)\n",
    "alpha_string46(s)"
   ]
  },
  {
   "cell_type": "code",
   "execution_count": null,
   "metadata": {
    "collapsed": true
   },
   "outputs": [],
   "source": [
    "## 다른사람 풀이\n",
    "def alpha_string46(s):\n",
    "    return s.isdigit() and len(s) in [4, 6]"
   ]
  },
  {
   "cell_type": "raw",
   "metadata": {},
   "source": [
    "water_melon함수는 정수 n을 매개변수로 입력받습니다.\n",
    "길이가 n이고, 수박수박수...와 같은 패턴을 유지하는 문자열을 리턴하도록 함수를 완성하세요.\n",
    "\n",
    "예를들어 n이 4이면 '수박수박'을 리턴하고 3이라면 '수박수'를 리턴하면 됩니다."
   ]
  },
  {
   "cell_type": "code",
   "execution_count": 3,
   "metadata": {},
   "outputs": [
    {
     "name": "stdout",
     "output_type": "stream",
     "text": [
      "n이 13인 경우: 수박수박수박수박수박수박수\n",
      "n이 4인 경우: 수박수박\n"
     ]
    }
   ],
   "source": [
    "def water_melon(n):\n",
    "    s = \"수박\" * n\n",
    "    return s[:n]\n",
    "\n",
    "\n",
    "# 실행을 위한 테스트코드입니다.\n",
    "print(\"n이 13인 경우: \" + water_melon(13));\n",
    "print(\"n이 4인 경우: \" + water_melon(4));\n"
   ]
  },
  {
   "cell_type": "raw",
   "metadata": {},
   "source": [
    "행렬의 덧셈"
   ]
  },
  {
   "cell_type": "code",
   "execution_count": 4,
   "metadata": {
    "collapsed": true
   },
   "outputs": [],
   "source": [
    "def sumMatrix(A,B):\n",
    "    answer = [[c + d for c, d in zip(a, b)] for a, b in zip(A,B)]\n",
    "    return answer\n"
   ]
  },
  {
   "cell_type": "code",
   "execution_count": 5,
   "metadata": {},
   "outputs": [
    {
     "data": {
      "text/plain": [
       "[[6, 8], [10, 12]]"
      ]
     },
     "execution_count": 5,
     "metadata": {},
     "output_type": "execute_result"
    }
   ],
   "source": [
    "A = [[1,2],[3,4]]\n",
    "B = [[5,6],[7,8]]\n",
    "sumMatrix(A,B)"
   ]
  },
  {
   "cell_type": "code",
   "execution_count": 12,
   "metadata": {},
   "outputs": [
    {
     "name": "stdout",
     "output_type": "stream",
     "text": [
      "1 5\n",
      "2 6\n",
      "3 7\n",
      "4 8\n"
     ]
    }
   ],
   "source": [
    "for a,b in zip(A,B):\n",
    "    for c,d in zip(a,b):\n",
    "        print(c,d)"
   ]
  },
  {
   "cell_type": "code",
   "execution_count": 13,
   "metadata": {},
   "outputs": [
    {
     "name": "stdout",
     "output_type": "stream",
     "text": [
      "[[4, 6], [7, 9]]\n"
     ]
    }
   ],
   "source": [
    "def sumMatrix(A,B):\n",
    "    answer = [[] for j in range(len(A))]  \n",
    "    for i in range(len(A)):\n",
    "        for x in range(len(A[i])):\n",
    "            answer[i].append(A[i][x] + B[i][x])\n",
    "    return answer\n",
    "\n",
    "# 아래는 테스트로 출력해 보기 위한 코드입니다.\n",
    "print(sumMatrix([[1,2], [2,3]], [[3,4],[5,6]]))"
   ]
  },
  {
   "cell_type": "code",
   "execution_count": 21,
   "metadata": {},
   "outputs": [
    {
     "name": "stdout",
     "output_type": "stream",
     "text": [
      "12\n"
     ]
    }
   ],
   "source": [
    "numbers2 = []\n",
    "for i in range(3,5+1):\n",
    "    numbers2.append(i)\n",
    "print(sum(numbers2))"
   ]
  },
  {
   "cell_type": "code",
   "execution_count": 27,
   "metadata": {},
   "outputs": [
    {
     "name": "stdout",
     "output_type": "stream",
     "text": [
      "12\n"
     ]
    }
   ],
   "source": [
    "from functools import reduce\n",
    "list1 = [3,4,5]\n",
    "print(reduce(lambda x, y: x+y ,list1 ))"
   ]
  },
  {
   "cell_type": "markdown",
   "metadata": {},
   "source": [
    "adder함수는 정수 a, b를 매개변수로 입력받습니다.\n",
    "두 수와 두 수 사이에 있는 모든 정수를 더해서 리턴하도록 함수를 완성하세요. a와 b가 같은 경우는 둘 중 아무 수나 리턴하세요.\n",
    "예를들어 a가 3, b가 5이면 12를 리턴하면 됩니다.\n",
    "\n",
    "a, b는 음수나 0, 양수일 수 있으며 둘의 대소 관계도 정해져 있지 않습니다."
   ]
  },
  {
   "cell_type": "code",
   "execution_count": 40,
   "metadata": {
    "collapsed": true
   },
   "outputs": [],
   "source": [
    "def adder(a,b):\n",
    "    if a == b: return a\n",
    "    elif a>b: return sum([i for i in range(b,a+1)])\n",
    "    else: return sum([i for i in range(a,b+1)])\n",
    "    "
   ]
  },
  {
   "cell_type": "code",
   "execution_count": 45,
   "metadata": {},
   "outputs": [
    {
     "data": {
      "text/plain": [
       "-15"
      ]
     },
     "execution_count": 45,
     "metadata": {},
     "output_type": "execute_result"
    }
   ],
   "source": [
    "adder(-6,3)"
   ]
  },
  {
   "cell_type": "code",
   "execution_count": null,
   "metadata": {
    "collapsed": true
   },
   "outputs": [],
   "source": [
    "## 다른사람 풀이 \n",
    "def adder(a, b):\n",
    "    # 함수를 완성하세요\n",
    "    if a > b: a, b = b, a\n",
    "\n",
    "    return sum(range(a,b+1))"
   ]
  },
  {
   "cell_type": "code",
   "execution_count": 44,
   "metadata": {},
   "outputs": [
    {
     "data": {
      "text/plain": [
       "18"
      ]
     },
     "execution_count": 44,
     "metadata": {},
     "output_type": "execute_result"
    }
   ],
   "source": [
    "## 다른사람 풀이 \n",
    "def adder(a, b):\n",
    "    return sum([i for i in range(min(a,b),max(a,b)+1)])\n",
    "    \n",
    "adder(6,3)  "
   ]
  },
  {
   "cell_type": "code",
   "execution_count": null,
   "metadata": {
    "collapsed": true
   },
   "outputs": [],
   "source": []
  },
  {
   "cell_type": "code",
   "execution_count": 63,
   "metadata": {
    "collapsed": true
   },
   "outputs": [],
   "source": [
    "def is_pair(s):\n",
    "    if s[0]=='(' and (s.count('(')==s.count(')') ):return True\n",
    "    elif s[-1]=='(': return False"
   ]
  },
  {
   "cell_type": "code",
   "execution_count": 64,
   "metadata": {},
   "outputs": [
    {
     "name": "stdout",
     "output_type": "stream",
     "text": [
      "True\n",
      "False\n"
     ]
    }
   ],
   "source": [
    "print( is_pair(\"(hello)()\"))\n",
    "print( is_pair(\")(\"))"
   ]
  },
  {
   "cell_type": "code",
   "execution_count": null,
   "metadata": {
    "collapsed": true
   },
   "outputs": [],
   "source": []
  },
  {
   "cell_type": "code",
   "execution_count": null,
   "metadata": {
    "collapsed": true
   },
   "outputs": [],
   "source": [
    "def longest_palindrom(s):\n",
    "    \n",
    "    return 0\n",
    "\n",
    "\n",
    "# 아래는 테스트로 출력해 보기 위한 코드입니다.\n",
    "print(longest_palindrom(\"토마토맛토마토\"))\n",
    "print(longest_palindrom(\"토마토맛있어\"))"
   ]
  },
  {
   "cell_type": "code",
   "execution_count": null,
   "metadata": {
    "collapsed": true
   },
   "outputs": [],
   "source": []
  },
  {
   "cell_type": "code",
   "execution_count": null,
   "metadata": {
    "collapsed": true
   },
   "outputs": [],
   "source": []
  },
  {
   "cell_type": "code",
   "execution_count": null,
   "metadata": {
    "collapsed": true
   },
   "outputs": [],
   "source": []
  },
  {
   "cell_type": "code",
   "execution_count": null,
   "metadata": {
    "collapsed": true
   },
   "outputs": [],
   "source": []
  },
  {
   "cell_type": "code",
   "execution_count": null,
   "metadata": {
    "collapsed": true
   },
   "outputs": [],
   "source": []
  },
  {
   "cell_type": "code",
   "execution_count": null,
   "metadata": {
    "collapsed": true
   },
   "outputs": [],
   "source": []
  },
  {
   "cell_type": "code",
   "execution_count": null,
   "metadata": {
    "collapsed": true
   },
   "outputs": [],
   "source": []
  },
  {
   "cell_type": "code",
   "execution_count": null,
   "metadata": {
    "collapsed": true
   },
   "outputs": [],
   "source": []
  },
  {
   "cell_type": "code",
   "execution_count": null,
   "metadata": {
    "collapsed": true
   },
   "outputs": [],
   "source": []
  },
  {
   "cell_type": "code",
   "execution_count": null,
   "metadata": {
    "collapsed": true
   },
   "outputs": [],
   "source": []
  },
  {
   "cell_type": "code",
   "execution_count": null,
   "metadata": {
    "collapsed": true
   },
   "outputs": [],
   "source": []
  },
  {
   "cell_type": "code",
   "execution_count": null,
   "metadata": {
    "collapsed": true
   },
   "outputs": [],
   "source": []
  }
 ],
 "metadata": {
  "kernelspec": {
   "display_name": "Python 3",
   "language": "python",
   "name": "python3"
  },
  "language_info": {
   "codemirror_mode": {
    "name": "ipython",
    "version": 3
   },
   "file_extension": ".py",
   "mimetype": "text/x-python",
   "name": "python",
   "nbconvert_exporter": "python",
   "pygments_lexer": "ipython3",
   "version": "3.6.1"
  }
 },
 "nbformat": 4,
 "nbformat_minor": 2
}
