{
 "cells": [
  {
   "cell_type": "markdown",
   "metadata": {
    "collapsed": true
   },
   "source": [
    "## 학습목표\n",
    " * pickle 모듈 이해 및 실습"
   ]
  },
  {
   "cell_type": "markdown",
   "metadata": {},
   "source": [
    "### pickle\n",
    " - python serialization module\n",
    "   + 객체를 다시 해당객체로 변환이 가능한 문자열로 변환\n",
    "   + 네트워크로 전송 혹은 파일에 저장하기 위해 사용\n",
    "     + 객체 자체를 네트워크, 파일에 저장할 수 없음 ## 직렬화하기위해서 피클사용 \n",
    " - https://docs.python.org/3/library/pickle.html"
   ]
  },
  {
   "cell_type": "code",
   "execution_count": 7,
   "metadata": {
    "collapsed": true
   },
   "outputs": [],
   "source": [
    "import pickle\n",
    "persons = {'aaron' : 1, 'bob' : 2, 'cathy' : 3}\n",
    "\n",
    "# 파일에 객체를 저장\n",
    "pickle.dump(persons, open('obj', 'wb')) ## 같은 디렉토리에 파일 생성 "
   ]
  },
  {
   "cell_type": "code",
   "execution_count": 9,
   "metadata": {},
   "outputs": [
    {
     "name": "stdout",
     "output_type": "stream",
     "text": [
      "{'aaron': 1, 'bob': 2, 'cathy': 3}\n"
     ]
    }
   ],
   "source": [
    "import pickle\n",
    "\n",
    "# 파일에서 객체를 읽어옴\n",
    "p2 = pickle.load(open('obj', 'rb'))\n",
    "print (p2)"
   ]
  },
  {
   "cell_type": "code",
   "execution_count": 11,
   "metadata": {},
   "outputs": [
    {
     "name": "stdout",
     "output_type": "stream",
     "text": [
      "b'\\x80\\x03}q\\x00(X\\x05\\x00\\x00\\x00aaronq\\x01K\\x01X\\x03\\x00\\x00\\x00bobq\\x02K\\x02X\\x05\\x00\\x00\\x00cathyq\\x03K\\x03u.'\n"
     ]
    }
   ],
   "source": [
    "# 객체를 문자열로 저장 ## 컴퓨터가 이해할수 있는 string 값으로 저장하고 내가 load 했을때 다시 이정보가 나와서 나에게 보일때는 pickle.loads() 사용\n",
    "string = pickle.dumps(persons)\n",
    "print (string)"
   ]
  },
  {
   "cell_type": "code",
   "execution_count": 14,
   "metadata": {},
   "outputs": [
    {
     "name": "stdout",
     "output_type": "stream",
     "text": [
      "{'aaron': 1, 'bob': 2, 'cathy': 3}\n"
     ]
    }
   ],
   "source": [
    "# 문자열을 객체로 변환\n",
    "print (pickle.loads(string))"
   ]
  },
  {
   "cell_type": "code",
   "execution_count": 15,
   "metadata": {},
   "outputs": [
    {
     "data": {
      "text/plain": [
       "{'aaron': 1, 'bob': 2, 'cathy': 3}"
      ]
     },
     "execution_count": 15,
     "metadata": {},
     "output_type": "execute_result"
    }
   ],
   "source": [
    "import json ## 참고만 하기 \n",
    "\n",
    "## object to json string\n",
    "temp= json.dumps(persons)\n",
    "\n",
    "json.loads(temp)"
   ]
  },
  {
   "cell_type": "code",
   "execution_count": null,
   "metadata": {
    "collapsed": true
   },
   "outputs": [],
   "source": []
  }
 ],
 "metadata": {
  "kernelspec": {
   "display_name": "Python 3",
   "language": "python",
   "name": "python3"
  },
  "language_info": {
   "codemirror_mode": {
    "name": "ipython",
    "version": 3
   },
   "file_extension": ".py",
   "mimetype": "text/x-python",
   "name": "python",
   "nbconvert_exporter": "python",
   "pygments_lexer": "ipython3",
   "version": "3.6.1"
  }
 },
 "nbformat": 4,
 "nbformat_minor": 1
}
