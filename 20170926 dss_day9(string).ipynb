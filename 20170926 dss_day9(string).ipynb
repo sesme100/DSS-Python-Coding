{
 "cells": [
  {
   "cell_type": "markdown",
   "metadata": {
    "collapsed": true
   },
   "source": [
    "# Text & Byte"
   ]
  },
  {
   "cell_type": "markdown",
   "metadata": {},
   "source": [
    "## 학습목표\n",
    " 1. python3 str의 이해\n",
    " 2. unicode, code point의 이해\n",
    " \n",
    " ## 처음엔 연산만 하게끔 컴퓨터 코드를 만듬\n",
    " 영어 알파벳 52개 숫자 10개 특수기호등등 100개미만의 str 을 7비트(128개표현가능)안에 저장   = ASCII 코드로 전환 \n",
    " 한문서에 여러가지 언어를 쓰는것이 불가능 하였음. \n",
    " \n",
    " "
   ]
  },
  {
   "cell_type": "markdown",
   "metadata": {},
   "source": [
    "### Unicode = 정리된 언어, 전세계 모든 언어 코드셋으로 정의 \n",
    " - 세계에서 사용되는 모든 문자를 일관되게 표현하기 위한 문자 표기 방식\n",
    " - code point라는 값이 각 문자마다 할당되어 있음\n",
    " - 영어의 경우 ASCII코드값에 1바이트(0) 패딩이 추가되어있음\n",
    " - python3에서 str은 유니코드 사용\n",
    " \n",
    " UTF-8 인코딩 방식 \n",
    " 코드포인트(가상의값)을 컴퓨터가 이해할수있도록 바이트로 만듬 - 인코딩\n",
    " 컴퓨터 언어를 가상의 값, 코드 포인트로(언어)로 만듬-디코딩\n",
    " \n",
    " \n",
    " #### 웹페이지에서 크롤링할때, 주로 html 의 인코딩이 UTF-8로 되어있으나 다른 코드로 되어있으면 다시 인코딩하여 디코딩 해야 우리가 데이터 다룰때 필요 "
   ]
  },
  {
   "cell_type": "markdown",
   "metadata": {},
   "source": [
    "HANGUL SYLLABLES (U+AC00-U+D7A3)\n",
    "\n",
    "In the table underneath are all 11.172 Hangul Syllables.\n",
    "\n",
    "        0\t 1\t  2\t   3\t4\t 5\t  6\t   7\t8\t 9\t  A\t   B\tC\t D\t  E\t   F\n",
    "AC0x\t가\t각\t갂\t갃\t간\t갅\t갆\t갇\t갈\t갉\t갊\t갋\t갌\t갍\t갎\t갏\n",
    "AC1x\t감\t갑\t값\t갓\t갔\t강\t갖\t갗\t갘\t같\t갚\t갛\t개\t객\t갞\t갟\n",
    "AC2x\t갠\t갡\t갢\t갣\t갤\t갥\t갦\t갧\t갨\t갩\t갪\t갫\t갬\t갭\t갮\t갯\n",
    "AC3x\t갰\t갱\t갲\t갳\t갴\t갵\t갶\t갷\t갸\t갹\t갺\t갻\t갼\t갽\t갾\t갿\n",
    "AC4x\t걀\t걁\t걂\t걃\t걄\t걅\t걆\t걇\t걈\t걉\t걊\t걋\t걌\t걍\t걎\t걏\n",
    "AC5x\t걐\t걑\t걒\t걓\t걔\t걕\t걖\t걗\t걘\t걙\t걚\t걛\t걜\t걝\t걞\t걟\n",
    "AC6x\t걠\t걡\t걢\t걣\t걤\t걥\t걦\t걧\t걨\t걩\t걪\t걫\t걬\t걭\t걮\t걯\n",
    "AC7x\t거\t걱\t걲\t걳\t건\t걵\t걶\t걷\t걸\t걹\t걺\t걻\t걼\t걽\t걾\t걿\n",
    "AC8x\t검\t겁\t겂\t것\t겄\t겅\t겆\t겇\t겈\t겉\t겊\t겋\t게\t겍\t겎\t겏\n",
    "AC9x\t겐\t겑\t겒\t겓\t겔\t겕\t겖\t겗\t겘\t겙\t겚\t겛\t겜\t겝\t겞\t겟\n",
    "ACAx\t겠\t겡\t겢\t겣\t겤\t겥\t겦\t겧\t겨\t격\t겪\t겫\t견\t겭\t겮\t겯\n",
    "ACBx\t결\t겱\t겲\t겳\t겴\t겵\t겶\t겷\t겸\t겹\t겺\t겻\t겼\t경\t겾\t겿\n",
    "ACCx\t곀\t곁\t곂\t곃\t계\t곅\t곆\t곇\t곈\t곉\t곊\t곋\t곌\t곍\t곎\t곏\n",
    "ACDx\t곐\t곑\t곒\t곓\t곔\t곕\t곖\t곗\t곘\t곙\t곚\t곛\t곜\t곝\t곞\t곟\n",
    "ACEx\t고\t곡\t곢\t곣\t곤\t곥\t곦\t곧\t골\t곩\t곪\t곫\t곬\t곭\t곮\t곯\n",
    "ACFx\t곰\t곱\t곲\t곳\t곴\t공\t곶\t곷\t곸\t곹\t곺\t곻\t과\t곽\t곾\t곿"
   ]
  },
  {
   "cell_type": "code",
   "execution_count": 7,
   "metadata": {},
   "outputs": [
    {
     "data": {
      "text/plain": [
       "('A', str, '0x41', 1, 65)"
      ]
     },
     "execution_count": 7,
     "metadata": {},
     "output_type": "execute_result"
    }
   ],
   "source": [
    "a = 'A'\n",
    "a, type(a), hex(ord(a)), len(a), ord(a)\n"
   ]
  },
  {
   "cell_type": "code",
   "execution_count": 6,
   "metadata": {},
   "outputs": [
    {
     "data": {
      "text/plain": [
       "('가', str, '0xac00', 1, 44032)"
      ]
     },
     "execution_count": 6,
     "metadata": {},
     "output_type": "execute_result"
    }
   ],
   "source": [
    "a = '가'\n",
    "a, type(a), hex(ord(a)), len(a), ord(a)"
   ]
  },
  {
   "cell_type": "markdown",
   "metadata": {},
   "source": [
    " ### Encoding, Decoding\n",
    "  - encoding : code point to bytes\n",
    "  - decoding : bytes to code point"
   ]
  },
  {
   "cell_type": "markdown",
   "metadata": {},
   "source": [
    "### bytes, bytearray\n",
    " - byte(0-255) container"
   ]
  },
  {
   "cell_type": "markdown",
   "metadata": {},
   "source": [
    "* **bytes**\n",
    " - immutable(불변 타입) ## 한번만들면 다시 덮어쓸수 없음 \n",
    " - 0 - 255사이의 값\n",
    " - 유니코드가 code point값이 아닌 인코딩된 문자열"
   ]
  },
  {
   "cell_type": "code",
   "execution_count": 2,
   "metadata": {},
   "outputs": [
    {
     "data": {
      "text/plain": [
       "(b'A\\xff\\xc8\\x00', bytes)"
      ]
     },
     "execution_count": 2,
     "metadata": {},
     "output_type": "execute_result"
    }
   ],
   "source": [
    "b1 = bytes([65, 255, 200, 0])\n",
    "b1, type(b1)"
   ]
  },
  {
   "cell_type": "code",
   "execution_count": 8,
   "metadata": {},
   "outputs": [
    {
     "data": {
      "text/plain": [
       "(65, 255)"
      ]
     },
     "execution_count": 8,
     "metadata": {},
     "output_type": "execute_result"
    }
   ],
   "source": [
    "b1[0], b1[1]"
   ]
  },
  {
   "cell_type": "code",
   "execution_count": 10,
   "metadata": {},
   "outputs": [
    {
     "ename": "NameError",
     "evalue": "name 'b' is not defined",
     "output_type": "error",
     "traceback": [
      "\u001b[1;31m---------------------------------------------------------------------------\u001b[0m",
      "\u001b[1;31mNameError\u001b[0m                                 Traceback (most recent call last)",
      "\u001b[1;32m<ipython-input-10-7d4addf3082d>\u001b[0m in \u001b[0;36m<module>\u001b[1;34m()\u001b[0m\n\u001b[1;32m----> 1\u001b[1;33m \u001b[0mb\u001b[0m\u001b[1;33m[\u001b[0m\u001b[1;36m0\u001b[0m\u001b[1;33m]\u001b[0m \u001b[1;33m=\u001b[0m \u001b[1;36m244\u001b[0m \u001b[1;31m# immutable ## 덮어 쓸수 없음\u001b[0m\u001b[1;33m\u001b[0m\u001b[0m\n\u001b[0m",
      "\u001b[1;31mNameError\u001b[0m: name 'b' is not defined"
     ]
    }
   ],
   "source": [
    "b[0] = 244 # immutable ## 덮어 쓸수 없음"
   ]
  },
  {
   "cell_type": "code",
   "execution_count": 11,
   "metadata": {},
   "outputs": [
    {
     "name": "stdout",
     "output_type": "stream",
     "text": [
      "65 255 200 0 "
     ]
    }
   ],
   "source": [
    "for b in b1:\n",
    "    print(b, end=' ')"
   ]
  },
  {
   "cell_type": "code",
   "execution_count": 12,
   "metadata": {},
   "outputs": [
    {
     "data": {
      "text/plain": [
       "b'hello'"
      ]
     },
     "execution_count": 12,
     "metadata": {},
     "output_type": "execute_result"
    }
   ],
   "source": [
    "b1 = bytes(b'hello')\n",
    "b1"
   ]
  },
  {
   "cell_type": "code",
   "execution_count": 13,
   "metadata": {},
   "outputs": [
    {
     "name": "stdout",
     "output_type": "stream",
     "text": [
      "104 101 108 108 111 "
     ]
    }
   ],
   "source": [
    "for b in b1:\n",
    "    print(b, end=' ')"
   ]
  },
  {
   "cell_type": "markdown",
   "metadata": {},
   "source": [
    "* **bytearray**\n",
    " - mutable byte array"
   ]
  },
  {
   "cell_type": "code",
   "execution_count": 14,
   "metadata": {},
   "outputs": [
    {
     "data": {
      "text/plain": [
       "(bytearray(b'A\\xff\\xc8\\x00'), bytearray)"
      ]
     },
     "execution_count": 14,
     "metadata": {},
     "output_type": "execute_result"
    }
   ],
   "source": [
    "b2 = bytearray([65, 255, 200, 0])\n",
    "b2, type(b2)"
   ]
  },
  {
   "cell_type": "code",
   "execution_count": 15,
   "metadata": {},
   "outputs": [
    {
     "data": {
      "text/plain": [
       "(65, 255)"
      ]
     },
     "execution_count": 15,
     "metadata": {},
     "output_type": "execute_result"
    }
   ],
   "source": [
    "b2[0], b2[1]"
   ]
  },
  {
   "cell_type": "code",
   "execution_count": 16,
   "metadata": {},
   "outputs": [
    {
     "data": {
      "text/plain": [
       "bytearray(b'C\\xff\\xc8\\x00')"
      ]
     },
     "execution_count": 16,
     "metadata": {},
     "output_type": "execute_result"
    }
   ],
   "source": [
    "b2[0] = 67\n",
    "b2"
   ]
  },
  {
   "cell_type": "markdown",
   "metadata": {},
   "source": [
    "### Unicode(str)와 bytes변환 "
   ]
  },
  {
   "cell_type": "code",
   "execution_count": 17,
   "metadata": {},
   "outputs": [
    {
     "data": {
      "text/plain": [
       "(b'hello', bytes)"
      ]
     },
     "execution_count": 17,
     "metadata": {},
     "output_type": "execute_result"
    }
   ],
   "source": [
    "a = 'hello' ## 유니코드 문자열 \n",
    "b = a.encode('utf-8') ## utf-8코드로 인코딩하여 bytes로 전환 \n",
    "b, type(b) ## 타입이 bytes로 전환 "
   ]
  },
  {
   "cell_type": "code",
   "execution_count": 19,
   "metadata": {},
   "outputs": [
    {
     "data": {
      "text/plain": [
       "('hello', str)"
      ]
     },
     "execution_count": 19,
     "metadata": {},
     "output_type": "execute_result"
    }
   ],
   "source": [
    "c = b.decode('utf-8') ## 동일한코드로 디코딩 \n",
    "c, type(c)"
   ]
  },
  {
   "cell_type": "code",
   "execution_count": 20,
   "metadata": {},
   "outputs": [
    {
     "data": {
      "text/plain": [
       "(b'\\xed\\x95\\x9c\\xea\\xb8\\x80', bytes)"
      ]
     },
     "execution_count": 20,
     "metadata": {},
     "output_type": "execute_result"
    }
   ],
   "source": [
    "a = '한글'\n",
    "b = a.encode('utf-8')\n",
    "b, type(b)"
   ]
  },
  {
   "cell_type": "code",
   "execution_count": 21,
   "metadata": {},
   "outputs": [
    {
     "data": {
      "text/plain": [
       "'한글'"
      ]
     },
     "execution_count": 21,
     "metadata": {},
     "output_type": "execute_result"
    }
   ],
   "source": [
    "b.decode('utf-8')"
   ]
  },
  {
   "cell_type": "code",
   "execution_count": 22,
   "metadata": {},
   "outputs": [
    {
     "data": {
      "text/plain": [
       "(b'\\xc7\\xd1\\xb1\\xdb', bytes)"
      ]
     },
     "execution_count": 22,
     "metadata": {},
     "output_type": "execute_result"
    }
   ],
   "source": [
    "b = a.encode('euc-kr') ## 다른 방식으로 인코딩을 하게 되면 하기와 같이 값이 달라짐 (euc-kr은 한글만 표현하는 인코딩 방식 )\n",
    "b, type(b)"
   ]
  },
  {
   "cell_type": "markdown",
   "metadata": {},
   "source": [
    "### Web, Database에서 한글 사용하는 경우\n",
    " - b'\\xc0\\xa5\\xbf\\xa1\\xbc\\xad \\xc5\\xa9\\xb7\\xd1\\xb8\\xb5\\xc7\\xd1 \\xb5\\xa5\\xc0\\xcc\\xc5\\xcd'\n",
    " - 외부에서 데이터를 읽어왔는데 위와 같이 표시 된다면, 이것은 인코딩된 byte형태\n",
    " - 해당 데이터는 문자열(unicode)로 다시 디코딩하여 사용가능"
   ]
  },
  {
   "cell_type": "code",
   "execution_count": 24,
   "metadata": {},
   "outputs": [
    {
     "data": {
      "text/plain": [
       "'웹에서 크롤링한 데이터'"
      ]
     },
     "execution_count": 24,
     "metadata": {},
     "output_type": "execute_result"
    }
   ],
   "source": [
    "data = b'\\xc0\\xa5\\xbf\\xa1\\xbc\\xad \\xc5\\xa9\\xb7\\xd1\\xb8\\xb5\\xc7\\xd1 \\xb5\\xa5\\xc0\\xcc\\xc5\\xcd'\n",
    "\n",
    "# 문자열이 인코딩된 방식은 web page에서 확인 가능- 개별적으로 확인필요 \n",
    "data_str = data.decode('euc-kr')\n",
    "data_str"
   ]
  },
  {
   "cell_type": "code",
   "execution_count": 30,
   "metadata": {},
   "outputs": [
    {
     "data": {
      "text/plain": [
       "b'\\xec\\x9b\\xb9\\xec\\x97\\x90\\xec\\x84\\x9c \\xed\\x81\\xac\\xeb\\xa1\\xa4\\xeb\\xa7\\x81\\xed\\x95\\x9c \\xeb\\x8d\\xb0\\xec\\x9d\\xb4\\xed\\x84\\xb0'"
      ]
     },
     "execution_count": 30,
     "metadata": {},
     "output_type": "execute_result"
    }
   ],
   "source": [
    "data_str.encode('utf-8')"
   ]
  },
  {
   "cell_type": "code",
   "execution_count": 31,
   "metadata": {},
   "outputs": [
    {
     "data": {
      "text/plain": [
       "'웹에서 크롤링한 데이터'"
      ]
     },
     "execution_count": 31,
     "metadata": {},
     "output_type": "execute_result"
    }
   ],
   "source": [
    "data7 = b'\\xec\\x9b\\xb9\\xec\\x97\\x90\\xec\\x84\\x9c \\xed\\x81\\xac\\xeb\\xa1\\xa4\\xeb\\xa7\\x81\\xed\\x95\\x9c \\xeb\\x8d\\xb0\\xec\\x9d\\xb4\\xed\\x84\\xb0'\n",
    "data7.decode('utf-8')"
   ]
  },
  {
   "cell_type": "markdown",
   "metadata": {
    "collapsed": true
   },
   "source": [
    "### 정규표현식 한글 선택하기"
   ]
  },
  {
   "cell_type": "code",
   "execution_count": 25,
   "metadata": {
    "collapsed": true
   },
   "outputs": [],
   "source": [
    "import re"
   ]
  },
  {
   "cell_type": "code",
   "execution_count": 26,
   "metadata": {},
   "outputs": [
    {
     "data": {
      "text/plain": [
       "['한글이', '숨어있다', '여기도', '있다']"
      ]
     },
     "execution_count": 26,
     "metadata": {},
     "output_type": "execute_result"
    }
   ],
   "source": [
    "pattern = r'[가-힣]+'\n",
    "re.findall(pattern, 'this is a english string 한글이 숨어있다. haha python good 여기도 있다 gogo')"
   ]
  },
  {
   "cell_type": "code",
   "execution_count": 29,
   "metadata": {},
   "outputs": [
    {
     "data": {
      "text/plain": [
       "['한글이', '숨어있다', '한글만', '추출됩니다']"
      ]
     },
     "execution_count": 29,
     "metadata": {},
     "output_type": "execute_result"
    }
   ],
   "source": [
    "# 혹은 유니코드 포인트 범위로 명시 가능\n",
    "pattern = '[\\uac00-\\ud7a3]+' ## 범위가 가~힣까지임 , 자음범위 찾아서 유니코드 범위를 지정 필요 \n",
    "re.findall(pattern, 'this is a english string 한글이 숨어있다. haha ㄱㄱㄴㄴpython good 한글만 추출됩니다 gogo')"
   ]
  },
  {
   "cell_type": "code",
   "execution_count": 46,
   "metadata": {},
   "outputs": [
    {
     "data": {
      "text/plain": [
       "['한글이', '숨어있다', 'ㅏㄱㄱ', 'ㄴㄴ', 'ㅔ이오ㅜ', '과호링', '한글만', '추출됩니다']"
      ]
     },
     "execution_count": 46,
     "metadata": {},
     "output_type": "execute_result"
    }
   ],
   "source": [
    "# 혹은 유니코드 포인트 범위로 명시 가능\n",
    "pattern = '[\\u3131-\\uffdc]+' ## 범위가 가~힣까지임 , 자음범위 찾아서 유니코드 범위를 지정 필요 \n",
    "re.findall(pattern, 'this is a english string 한글이 숨어있다. haha ㅏㄱㄱ ㄴㄴ ㅔ이오ㅜ 과호링python good 한글만 추출됩니다 gogo')"
   ]
  },
  {
   "cell_type": "code",
   "execution_count": null,
   "metadata": {
    "collapsed": true
   },
   "outputs": [],
   "source": []
  }
 ],
 "metadata": {
  "kernelspec": {
   "display_name": "Python 3",
   "language": "python",
   "name": "python3"
  },
  "language_info": {
   "codemirror_mode": {
    "name": "ipython",
    "version": 3
   },
   "file_extension": ".py",
   "mimetype": "text/x-python",
   "name": "python",
   "nbconvert_exporter": "python",
   "pygments_lexer": "ipython3",
   "version": "3.6.1"
  }
 },
 "nbformat": 4,
 "nbformat_minor": 2
}
