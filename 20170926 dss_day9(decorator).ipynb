{
 "cells": [
  {
   "cell_type": "markdown",
   "metadata": {},
   "source": [
    "# Decorator"
   ]
  },
  {
   "cell_type": "markdown",
   "metadata": {},
   "source": [
    "## 학습목표 ## 함수의 기능추가 \n",
    " - 함수 revisited\n",
    " - 중첩함수의 이해\n",
    " - decorator 이해\n",
    " - decorator 구현 실습 "
   ]
  },
  {
   "cell_type": "markdown",
   "metadata": {},
   "source": [
    "## function\n",
    " - python에서의 함수는 1st citizen, 즉 객체로 존재함\n",
    " - 객체이기 때문에, 변수 대입, 함수 파라미터 전달 등이 가능"
   ]
  },
  {
   "cell_type": "code",
   "execution_count": 1,
   "metadata": {},
   "outputs": [
    {
     "name": "stdout",
     "output_type": "stream",
     "text": [
      "<class 'function'>\n",
      "<function hello at 0x0000026FF58E6EA0>\n",
      "say hello\n"
     ]
    }
   ],
   "source": [
    "def hello():\n",
    "    print('say hello')\n",
    "    \n",
    "\n",
    "# 함수를 변수에 대입\n",
    "hi = hello ## hi라는 변수에 hello 함수 집어넣음 \n",
    "print(type(hi)) ## function으로 타입\n",
    "print(hi)\n",
    "\n",
    "\n",
    "hi()"
   ]
  },
  {
   "cell_type": "code",
   "execution_count": 2,
   "metadata": {},
   "outputs": [
    {
     "name": "stdout",
     "output_type": "stream",
     "text": [
      "say hello world\n"
     ]
    }
   ],
   "source": [
    "def hello(word):\n",
    "    print(word)\n",
    "    \n",
    "def call_hello(fn, args):\n",
    "    fn(args)\n",
    "    \n",
    "\n",
    "# 함수가 다른 함수의 파라미터로 전달\n",
    "call_hello(hello, 'say hello world')"
   ]
  },
  {
   "cell_type": "markdown",
   "metadata": {},
   "source": [
    "## 중첩함수 (Nested function)\n",
    " - 함수 내부에 다른 함수를 정의 가능\n",
    " - 내부에서 정의된 함수를 중첩함수라고 함\n",
    "   - 중첩함수는 해당 함수가 정의된 함수 내에서 호출 및 반환 가능"
   ]
  },
  {
   "cell_type": "code",
   "execution_count": 3,
   "metadata": {},
   "outputs": [
    {
     "name": "stdout",
     "output_type": "stream",
     "text": [
      "outer_func call\n",
      "innter_func\n"
     ]
    }
   ],
   "source": [
    "def outer_func(): ## callee \n",
    "    print('outer_func call')\n",
    "    \n",
    "    # 중첩 함수의 정의\n",
    "    def inner_func():\n",
    "        return 'innter_func' \n",
    "    \n",
    "    # 중첩 함수 호출 \n",
    "    print(inner_func()) ## 2번째 수행 inner_func 부름 \n",
    "    \n",
    "outer_func() ## 첫번째 수행, Caller 가 callee 를 부름 "
   ]
  },
  {
   "cell_type": "code",
   "execution_count": 4,
   "metadata": {},
   "outputs": [
    {
     "ename": "NameError",
     "evalue": "name 'inner_func' is not defined",
     "output_type": "error",
     "traceback": [
      "\u001b[1;31m---------------------------------------------------------------------------\u001b[0m",
      "\u001b[1;31mNameError\u001b[0m                                 Traceback (most recent call last)",
      "\u001b[1;32m<ipython-input-4-9eabf10036c6>\u001b[0m in \u001b[0;36m<module>\u001b[1;34m()\u001b[0m\n\u001b[0;32m      1\u001b[0m \u001b[1;31m# 중첩함수의 경우 외부에서 호출 불가\u001b[0m\u001b[1;33m\u001b[0m\u001b[1;33m\u001b[0m\u001b[0m\n\u001b[1;32m----> 2\u001b[1;33m \u001b[0minner_func\u001b[0m\u001b[1;33m(\u001b[0m\u001b[1;33m)\u001b[0m\u001b[1;33m\u001b[0m\u001b[0m\n\u001b[0m",
      "\u001b[1;31mNameError\u001b[0m: name 'inner_func' is not defined"
     ]
    }
   ],
   "source": [
    "# 중첩함수의 경우 외부에서 호출 불가\n",
    "inner_func()"
   ]
  },
  {
   "cell_type": "code",
   "execution_count": 6,
   "metadata": {},
   "outputs": [
    {
     "name": "stdout",
     "output_type": "stream",
     "text": [
      "<function outer_func.<locals>.inner_func at 0x0000026FF5978BF8>\n",
      "func\n"
     ]
    }
   ],
   "source": [
    "def outer_func():\n",
    "    def inner_func():\n",
    "        return 'func'\n",
    "    return inner_func ## 펑션 실행 \n",
    "\n",
    "fn = outer_func() ## 첫번째 실행이 됨 \n",
    "\n",
    "print(fn) \n",
    "print(fn())"
   ]
  },
  {
   "cell_type": "code",
   "execution_count": 7,
   "metadata": {},
   "outputs": [
    {
     "name": "stdout",
     "output_type": "stream",
     "text": [
      "10\n",
      "inner_func\n"
     ]
    }
   ],
   "source": [
    "def outer_func(num):\n",
    "    # 중첩 함수에서 외부 함수의 변수에 접근 가능\n",
    "    def inner_func():\n",
    "        print(num)\n",
    "        return 'inner_func'\n",
    "    \n",
    "    return inner_func \n",
    "\n",
    "fn = outer_func(10)\n",
    "print(fn()) #이미실행되어서 끝나도 기록을 해서 기억을 하게 해놓음 "
   ]
  },
  {
   "cell_type": "markdown",
   "metadata": {},
   "source": [
    "## Closure or Closure function\n",
    " - enclosing scope(외부 함수)의 변수가 소멸되더라도 해당 변수의 값을 기억하고 사용할 수 있는 함수\n",
    " - 위의 예제에서 inner_func은 closure\n",
    " - outer_func이 이미 호출 종료되어 num의 scope이 소멸되었는데도 해당 값을 기억\n",
    " \n",
    " - closure의 사용\n",
    "   - class를 사용하지 않고 객체지향적인 솔루션을 제공 \n",
    "   - 일반적으로 제공해야할 기능(method)이 적은 경우, closure를 사용하여 기능을 제공함\n",
    "   - 그 이외의 경우 class를 사용하여 구현"
   ]
  },
  {
   "cell_type": "code",
   "execution_count": 8,
   "metadata": {},
   "outputs": [
    {
     "name": "stdout",
     "output_type": "stream",
     "text": [
      "32\n",
      "256\n"
     ]
    }
   ],
   "source": [
    "# closure를 사용할 수 도 있음\n",
    "def get_power_of(n):\n",
    "    def power(x):\n",
    "        return x ** n\n",
    "    return power\n",
    "\n",
    "\n",
    "power5 = get_power_of(5) ## 한번 called 되었음에도 불구하고 값을 기억하여 하기의 power5(2)를 실행해도 에러나지 않음 \n",
    "power8 = get_power_of(8)\n",
    "\n",
    "print(power5(2))\n",
    "print(power8(2))"
   ]
  },
  {
   "cell_type": "markdown",
   "metadata": {},
   "source": [
    "## Decorator\n",
    " - 함수에 기능을 추가하여 다시 그 함수를 반환하는 함수\n",
    " - Closure function을 활용\n",
    " - https://www.python.org/dev/peps/pep-0318/\n",
    " - 고급 파이썬 개발자로 가는 길목 중 하나"
   ]
  },
  {
   "cell_type": "code",
   "execution_count": 12,
   "metadata": {},
   "outputs": [
    {
     "name": "stdout",
     "output_type": "stream",
     "text": [
      "decoration added\n",
      "simple function\n"
     ]
    }
   ],
   "source": [
    "# decorator 함수 정의\n",
    "def decorate_func(fn):\n",
    "    def inner():\n",
    "        print('decoration added')\n",
    "        fn() ## 들어가는 파라미터를 출력해줌 \n",
    "    return inner\n",
    "\n",
    "def simple():\n",
    "    print('simple function')\n",
    "    \n",
    "# simple 함수에 기능을 추가한(decorate 한) decorated 함수\n",
    "decorated = decorate_func(simple) ## 파라미터가 simple로 들어가야지만 실행이 됨-> fn=simple로 파라미터됨 그후 fn()이 simple()로 불리면서 수행됨 \n",
    "\n",
    "# 결과가 decoration됨!\n",
    "decorated()"
   ]
  },
  {
   "cell_type": "code",
   "execution_count": 15,
   "metadata": {},
   "outputs": [
    {
     "name": "stdout",
     "output_type": "stream",
     "text": [
      "simple function\n"
     ]
    }
   ],
   "source": [
    "# 일반 함수 호출\n",
    "simple()\n"
   ]
  },
  {
   "cell_type": "code",
   "execution_count": 16,
   "metadata": {},
   "outputs": [
    {
     "name": "stdout",
     "output_type": "stream",
     "text": [
      "decoration added\n",
      "simple function\n"
     ]
    }
   ],
   "source": [
    "decorated = decorate_func(simple)\n",
    "decorated()"
   ]
  },
  {
   "cell_type": "code",
   "execution_count": 17,
   "metadata": {},
   "outputs": [
    {
     "name": "stdout",
     "output_type": "stream",
     "text": [
      "decoration added\n",
      "simple function\n"
     ]
    }
   ],
   "source": [
    "# 보통 구현 시, 새로운 변수를 생성하지 않고 원래 함수에 재할당하여 사용\n",
    "simple = decorate_func(simple)\n",
    "\n",
    "# 결과가 decoration됨!\n",
    "simple()"
   ]
  },
  {
   "cell_type": "markdown",
   "metadata": {},
   "source": [
    "* decorator 사용 이유\n",
    " - 함수, 혹은 메쏘드에 새로운 기능을 추가\n",
    " - 그렇다면 왜 소스 코드를 수정하지 않는가?\n",
    "   - 여러 함수에 동일한 기능을 추가할 수도 있음\n",
    "   - 예를들어, 모든 함수에 전달된 파라미터의 유효성 검사가 필요하다고 가정\n",
    "   - 유효성 검사 코드가 각 함수마다 복사되면 수정의 어려움이 존재"
   ]
  },
  {
   "cell_type": "code",
   "execution_count": 23,
   "metadata": {},
   "outputs": [
    {
     "name": "stdout",
     "output_type": "stream",
     "text": [
      "decoration added\n",
      "simple function\n"
     ]
    }
   ],
   "source": [
    "# decorator 함수 정의\n",
    "def decorate_func(fn): ## 데코레이션 ## 데코레이션 내용물을 변경하지 않고 simple()fuction 의 내용물만 바꿔서(소스코드 수정)해도 복잡하지 않고 꼬이지 않게 변경된 기능을 쓸수 있다 \n",
    "    def inner():\n",
    "        print('decoration added')\n",
    "        fn()\n",
    "    return inner\n",
    "\n",
    "def simple(): ## 주기능\n",
    "    print('simple function')\n",
    "    \n",
    "# 사실 귀찮고, python 답지 않은 문법임\n",
    "simple = decorate_func(simple)\n",
    "\n",
    "simple()"
   ]
  },
  {
   "cell_type": "markdown",
   "metadata": {},
   "source": [
    "* @ 심볼 사용\n",
    " - decorator를 생성하기 위한 syntactic sugar (문법적인 편의성)"
   ]
  },
  {
   "cell_type": "code",
   "execution_count": 21,
   "metadata": {},
   "outputs": [
    {
     "name": "stdout",
     "output_type": "stream",
     "text": [
      "decoration added\n",
      "simple function\n"
     ]
    }
   ],
   "source": [
    "# decorator 함수 정의\n",
    "def decorate_func(fn): ## 데코레이션을 정의해주기 위해 만듬 ## 데코레이션 함수\n",
    "    def inner(): ## 내장함수(nested function)\n",
    "        print('decoration added')\n",
    "        fn() ## 파라미터를 함수로 받음, 대신 파라미터가 함수로 먼저 정의 되어있어야 함 \n",
    "    return inner\n",
    "\n",
    "# 아래와 같이 @를 사용하여 decoration 가능!\n",
    "@decorate_func ## 명시를 정확하게 해주기 위해서 사용 -문법적인 편의성 \n",
    "def simple(): ## 주기능 함수 \n",
    "    print('simple function')\n",
    "    \n",
    "# 결과가 decorated됨!\n",
    "simple()"
   ]
  },
  {
   "cell_type": "code",
   "execution_count": 25,
   "metadata": {},
   "outputs": [
    {
     "name": "stdout",
     "output_type": "stream",
     "text": [
      "decoration added\n",
      "simple function\n"
     ]
    }
   ],
   "source": [
    "# 순서변경해도 상관없으나 주기능의 함수를 확실하게 명시해줄 필요 있음 \n",
    "@decorate_func ## 명시를 정확하게 해주기 위해서 사용 -문법적인 편의성 \n",
    "def simple(): ## 주기능 \n",
    "    print('simple function')\n",
    "\n",
    "def decorate_func(fn): ## 데코레이션을 정의해주기 위해 만듬 \n",
    "    def inner():\n",
    "        print('decoration added')\n",
    "        fn()\n",
    "    return inner\n",
    "\n",
    "# 아래와 같이 @를 사용하여 decoration 가능!\n",
    "\n",
    "    \n",
    "# 결과가 decorated됨!\n",
    "simple()"
   ]
  },
  {
   "cell_type": "markdown",
   "metadata": {},
   "source": [
    "## 파라미터가 있는 함수 Decorator"
   ]
  },
  {
   "cell_type": "code",
   "execution_count": 26,
   "metadata": {
    "collapsed": true
   },
   "outputs": [],
   "source": [
    "def divide(a, b):\n",
    "    return a / b"
   ]
  },
  {
   "cell_type": "code",
   "execution_count": 27,
   "metadata": {},
   "outputs": [
    {
     "data": {
      "text/plain": [
       "1.5"
      ]
     },
     "execution_count": 27,
     "metadata": {},
     "output_type": "execute_result"
    }
   ],
   "source": [
    "divide(3, 2)"
   ]
  },
  {
   "cell_type": "code",
   "execution_count": 28,
   "metadata": {},
   "outputs": [
    {
     "ename": "ZeroDivisionError",
     "evalue": "division by zero",
     "output_type": "error",
     "traceback": [
      "\u001b[1;31m---------------------------------------------------------------------------\u001b[0m",
      "\u001b[1;31mZeroDivisionError\u001b[0m                         Traceback (most recent call last)",
      "\u001b[1;32m<ipython-input-28-ecf8fbb65270>\u001b[0m in \u001b[0;36m<module>\u001b[1;34m()\u001b[0m\n\u001b[1;32m----> 1\u001b[1;33m \u001b[0mdivide\u001b[0m\u001b[1;33m(\u001b[0m\u001b[1;36m3\u001b[0m\u001b[1;33m,\u001b[0m \u001b[1;36m0\u001b[0m\u001b[1;33m)\u001b[0m\u001b[1;33m\u001b[0m\u001b[0m\n\u001b[0m",
      "\u001b[1;32m<ipython-input-26-5c74f9fd7706>\u001b[0m in \u001b[0;36mdivide\u001b[1;34m(a, b)\u001b[0m\n\u001b[0;32m      1\u001b[0m \u001b[1;32mdef\u001b[0m \u001b[0mdivide\u001b[0m\u001b[1;33m(\u001b[0m\u001b[0ma\u001b[0m\u001b[1;33m,\u001b[0m \u001b[0mb\u001b[0m\u001b[1;33m)\u001b[0m\u001b[1;33m:\u001b[0m\u001b[1;33m\u001b[0m\u001b[0m\n\u001b[1;32m----> 2\u001b[1;33m     \u001b[1;32mreturn\u001b[0m \u001b[0ma\u001b[0m \u001b[1;33m/\u001b[0m \u001b[0mb\u001b[0m\u001b[1;33m\u001b[0m\u001b[0m\n\u001b[0m",
      "\u001b[1;31mZeroDivisionError\u001b[0m: division by zero"
     ]
    }
   ],
   "source": [
    "divide(3, 0)"
   ]
  },
  {
   "cell_type": "markdown",
   "metadata": {},
   "source": [
    "* 중첩함수에 꾸미고자 하는 함수와 동일하게 파라미터를 가져가면 됨"
   ]
  },
  {
   "cell_type": "code",
   "execution_count": 61,
   "metadata": {
    "collapsed": true
   },
   "outputs": [],
   "source": [
    "def decorate_divide(fn):\n",
    "    def wrapper(a, b): ## 중첩함수에 꾸미고자 하는 함수와 동일하게 파라미터를 가져감 \n",
    "        if b == 0:\n",
    "            print('zero cannot be divided!')\n",
    "            return ## 아무것도 출력을 안하는게 아니라 None 값 출력 \n",
    "        return fn(a, b)\n",
    "    return wrapper\n",
    "\n",
    "def divide(a, b):\n",
    "    return a / b\n"
   ]
  },
  {
   "cell_type": "code",
   "execution_count": 30,
   "metadata": {},
   "outputs": [
    {
     "name": "stdout",
     "output_type": "stream",
     "text": [
      "3.0\n",
      "zero cannot be divided!\n",
      "None\n"
     ]
    }
   ],
   "source": [
    "divide = decorate_divide(divide) \n",
    "print(divide(9, 3)) ## 파라미터가 있는경우 inner 함수를 동일하게해주기 \n",
    "print(divide(9, 0))"
   ]
  },
  {
   "cell_type": "code",
   "execution_count": 62,
   "metadata": {
    "collapsed": true
   },
   "outputs": [],
   "source": [
    "def decorate_divide(fn): ## 데코레이션 펑션 \n",
    "    def wrapper(a, b):\n",
    "        if b == 0:\n",
    "            print('zero cannot be divided!')\n",
    "            return \n",
    "        return fn(a, b)\n",
    "    return wrapper\n",
    "\n",
    "# 추후, 아래와 같이 사용할 것!\n",
    "@decorate_divide\n",
    "def divide(a, b): ## 주기능 펑션 \n",
    "    return a / b"
   ]
  },
  {
   "cell_type": "code",
   "execution_count": 63,
   "metadata": {},
   "outputs": [
    {
     "name": "stdout",
     "output_type": "stream",
     "text": [
      "zero cannot be divided!\n",
      "None\n",
      "11.571428571428571\n"
     ]
    }
   ],
   "source": [
    "print(divide(9, 0))\n",
    "print(divide(81, 7))"
   ]
  },
  {
   "cell_type": "markdown",
   "metadata": {},
   "source": [
    "## 모든 함수에 대한 Decorator"
   ]
  },
  {
   "cell_type": "raw",
   "metadata": {},
   "source": [
    " - 모든 함수의 파라미터는 (*args, ***kwargs)로 표현 가능\n",
    " - 따라서 내부함수의 파라미터를 (*args, ***kwargs)로 구성하면 어떠한 함수도 decoration 가능"
   ]
  },
  {
   "cell_type": "code",
   "execution_count": 67,
   "metadata": {},
   "outputs": [
    {
     "name": "stdout",
     "output_type": "stream",
     "text": [
      "function is decorated..\n"
     ]
    },
    {
     "data": {
      "text/plain": [
       "<function __main__.general_decorator.<locals>.wrapper>"
      ]
     },
     "execution_count": 67,
     "metadata": {},
     "output_type": "execute_result"
    }
   ],
   "source": [
    "def general_decorator(fn):\n",
    "    def wrapper(*args, **kwargs):\n",
    "        print('function is decorated..')\n",
    "        \n",
    "        return fn(*args, **kwargs)\n",
    "    return wrapper\n",
    "\n",
    "\n",
    "@general_decorator\n",
    "def add(a, b):\n",
    "    return a + b\n",
    "\n",
    "@general_decorator\n",
    "def print_hello():\n",
    "    print('hello')\n",
    "    \n",
    "general_decorator(add(4,5))\n"
   ]
  },
  {
   "cell_type": "code",
   "execution_count": 69,
   "metadata": {},
   "outputs": [
    {
     "name": "stdout",
     "output_type": "stream",
     "text": [
      "function is decorated..\n"
     ]
    },
    {
     "data": {
      "text/plain": [
       "13"
      ]
     },
     "execution_count": 69,
     "metadata": {},
     "output_type": "execute_result"
    }
   ],
   "source": [
    "add(6,7)\n"
   ]
  },
  {
   "cell_type": "code",
   "execution_count": 70,
   "metadata": {},
   "outputs": [
    {
     "name": "stdout",
     "output_type": "stream",
     "text": [
      "function is decorated..\n",
      "hello\n"
     ]
    }
   ],
   "source": [
    "print_hello()"
   ]
  },
  {
   "cell_type": "code",
   "execution_count": 71,
   "metadata": {},
   "outputs": [
    {
     "name": "stdout",
     "output_type": "stream",
     "text": [
      "function is decorated..\n",
      "9\n",
      "function is decorated..\n",
      "hello\n"
     ]
    }
   ],
   "source": [
    "print(add(4, 5))\n",
    "print_hello()"
   ]
  },
  {
   "cell_type": "markdown",
   "metadata": {},
   "source": [
    "## Decorator Chaining\n",
    " - 복수개의 decorator 적용 가능\n",
    " - decorated된 순서가 중요"
   ]
  },
  {
   "cell_type": "code",
   "execution_count": 49,
   "metadata": {
    "collapsed": true
   },
   "outputs": [],
   "source": [
    "def star(fn):\n",
    "    def wrapper(*args, **kwargs):\n",
    "        print('function is decorated with ******************')\n",
    "        return fn(*args, **kwargs)\n",
    "    return wrapper\n",
    "\n",
    "def at(fn):\n",
    "    def wrapper(*args, **kwargs):\n",
    "        print('function is decorated with @@@@@@@@@@@@@@@@@@')\n",
    "        return fn(*args, **kwargs)\n",
    "    return wrapper\n",
    "\n"
   ]
  },
  {
   "cell_type": "code",
   "execution_count": 50,
   "metadata": {},
   "outputs": [
    {
     "name": "stdout",
     "output_type": "stream",
     "text": [
      "function is decorated with @@@@@@@@@@@@@@@@@@\n",
      "function is decorated with ******************\n",
      "hello\n"
     ]
    }
   ],
   "source": [
    "@at\n",
    "@star ## 데코레이션 된 순서 중요 순서가 @at 이 먼저 들어오기 때문에 at 펑션이 먼저 실행 그후 star 펑션 실행 \n",
    "def print_hello():\n",
    "    print('hello')\n",
    "    \n",
    "print_hello()"
   ]
  },
  {
   "cell_type": "code",
   "execution_count": 51,
   "metadata": {},
   "outputs": [
    {
     "name": "stdout",
     "output_type": "stream",
     "text": [
      "function is decorated with ******************\n",
      "function is decorated with @@@@@@@@@@@@@@@@@@\n",
      "hello\n"
     ]
    }
   ],
   "source": [
    "@star\n",
    "@at\n",
    "def print_hello():\n",
    "    print('hello')\n",
    "    \n",
    "print_hello()"
   ]
  },
  {
   "cell_type": "markdown",
   "metadata": {},
   "source": [
    "## Method decoration\n",
    " - 객체의 method도 decorating 가능\n",
    " - 객체의 경우 중첩 함수에서 최초의 파라미터를 self를 추가"
   ]
  },
  {
   "cell_type": "code",
   "execution_count": 52,
   "metadata": {},
   "outputs": [
    {
     "name": "stdout",
     "output_type": "stream",
     "text": [
      "10 100\n",
      "10 10 10 100\n",
      "100 10\n",
      "aaaa cccc\n"
     ]
    }
   ],
   "source": [
    "print('{} {}'.format(10, 100))\n",
    "print('{0} {0} {0} {1}'.format(10, 100))\n",
    "print('{1} {0}'.format(10, 100))\n",
    "\n",
    "print('{aa} {bb}'.format(aa = 'aaaa', bb = 'cccc'))"
   ]
  },
  {
   "cell_type": "code",
   "execution_count": 58,
   "metadata": {
    "collapsed": true
   },
   "outputs": [],
   "source": [
    "def h1_tag(func):\n",
    "    def func_wrapper(self, *args, **kwargs):\n",
    "        return \"<h1>{0}</h1>\".format(func(self, *args, **kwargs)) ## 클래스 내장함수에서 @h1-tag 로 펑션을 걸어놓음, 펑션은 주기능 펑션을 걸어놓음 \n",
    "    return func_wrapper\n",
    "\n",
    "class Person(object):\n",
    "    def __init__(self):\n",
    "        self.firt_name = 'Aaron'\n",
    "        self.last_name = 'Byun'\n",
    "\n",
    "    @h1_tag\n",
    "    def get_name(self):\n",
    "        return self.firt_name + ' ' + self.last_name\n",
    "    \n",
    "    @h1_tag\n",
    "    def get_x(self, x):\n",
    "        return x * 2\n",
    "\n",
    "aaron = Person()\n",
    "\n"
   ]
  },
  {
   "cell_type": "code",
   "execution_count": 55,
   "metadata": {},
   "outputs": [
    {
     "name": "stdout",
     "output_type": "stream",
     "text": [
      "<h1>HoHo</h1>\n"
     ]
    }
   ],
   "source": [
    "print(aaron.get_x('Ho'))"
   ]
  },
  {
   "cell_type": "code",
   "execution_count": 73,
   "metadata": {},
   "outputs": [
    {
     "name": "stdout",
     "output_type": "stream",
     "text": [
      "<h1>Aaron Byun</h1>\n"
     ]
    }
   ],
   "source": [
    "print(aaron.get_name())"
   ]
  },
  {
   "cell_type": "markdown",
   "metadata": {},
   "source": [
    "## Decorator with parameters\n",
    " - decorator에 파라미터를 추가 가능"
   ]
  },
  {
   "cell_type": "code",
   "execution_count": 74,
   "metadata": {},
   "outputs": [],
   "source": [
    "def h1_tag(func):\n",
    "    def func_wrapper(self, *args, **kwargs):\n",
    "        return \"<h1>{0}</h1>\".format(func(self, *args, **kwargs))\n",
    "    return func_wrapper\n",
    "\n",
    "print_hello = h1_tag(print_hello)\n",
    "\n",
    "# 중첩 함수의 뎁스를 하나 더 두어서 생성\n",
    "def star(star_num=20):\n",
    "    def callable(fn):\n",
    "        def wrapper(*args, **kwargs):\n",
    "            print('function is decorated with {}'.format('*' * star_num ))\n",
    "            return fn(*args, **kwargs)\n",
    "        return wrapper\n",
    "    return callable\n",
    "\n",
    "def print_hello():\n",
    "    print('hello')\n",
    "\n",
    "print_hello = star(5)(print_hello) ## 변수에 대입 그러나 출력은 아직 안됨 \n",
    "\n"
   ]
  },
  {
   "cell_type": "code",
   "execution_count": 75,
   "metadata": {},
   "outputs": [
    {
     "name": "stdout",
     "output_type": "stream",
     "text": [
      "function is decorated with *****\n",
      "hello\n"
     ]
    }
   ],
   "source": [
    "print_hello()\n"
   ]
  },
  {
   "cell_type": "code",
   "execution_count": 60,
   "metadata": {},
   "outputs": [
    {
     "name": "stdout",
     "output_type": "stream",
     "text": [
      "function is decorated with ****************************************\n",
      "hello\n"
     ]
    }
   ],
   "source": [
    "#위의 코드를 parameter가 있는 decorator화 할 수 있다\n",
    "@star(star_num=40)\n",
    "def print_hello():\n",
    "    print('hello')\n",
    "\n",
    "    \n",
    "print_hello()"
   ]
  },
  {
   "cell_type": "code",
   "execution_count": null,
   "metadata": {
    "collapsed": true
   },
   "outputs": [],
   "source": []
  }
 ],
 "metadata": {
  "kernelspec": {
   "display_name": "Python 3",
   "language": "python",
   "name": "python3"
  },
  "language_info": {
   "codemirror_mode": {
    "name": "ipython",
    "version": 3
   },
   "file_extension": ".py",
   "mimetype": "text/x-python",
   "name": "python",
   "nbconvert_exporter": "python",
   "pygments_lexer": "ipython3",
   "version": "3.6.1"
  }
 },
 "nbformat": 4,
 "nbformat_minor": 2
}
