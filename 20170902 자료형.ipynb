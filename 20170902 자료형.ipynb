{
 "cells": [
  {
   "cell_type": "markdown",
   "metadata": {},
   "source": [
    "기본적으로 dtype은 자료형 이름과 원소가 차지하는 비트수로 이루어진다.\n",
    "\n",
    "\n",
    "|종류|Type Code |설명\n",
    "|--|--|\n",
    "|int8, uint8|i1, u1 |부호가 있는 8비트(1바이트) 정수형과 부호가 없는 8비트 정수형| \n",
    "|int16, uint16|i2, u2|부호가 있는 16비트 정수형과 부호가 없는 16비트 정수형|\n",
    "|int32, uint32|i4, u4 |~ |\n",
    "|int64, uint64|i8, u8 |~ |\n",
    "|float16|f2 |반정밀도 부동소수점| \n",
    "|float32|f4 또는 f |단정밀도 부동소수점, C언어의 float과 호환|\n",
    "|float64|f8 또는 d|배정밀도 부동소수점, C언어의 double형과 파이썬 float객체와 호환 \n",
    "|float128|f16 또는 g |확장 정밀도 부동소수점 |\n",
    "|complex64,complex 128,complex 256|c8, c16, c32|각각 2개의 32, 64, 128비트 부동소수점형을 가지는 복소수| \n",
    "|bool| ? |True, False를 저장하는 불리언형|\n",
    "|object|0| 파이썬 객체형| \n",
    "|string_ |S |고정길이 문자열형(각 글자는 1바이트), 길이가 10인 문자열의 dtype = S10 |\n",
    "|unicode_|U| 고정 길이 유니코드형(플랫폼에 따라 글자별 바이트수 다름) string_형과 같은형식  씀(ex) U10) |\n",
    "\n",
    "\n"
   ]
  },
  {
   "cell_type": "code",
   "execution_count": null,
   "metadata": {
    "collapsed": true
   },
   "outputs": [],
   "source": [
    "np.array는 새로운 배열을 생성하기 위한 여러 함수를 가지고 있다.\n",
    "numpy는 산술연산에 초점이 맞춰져 있기 때문에, 만약 자료형이 명시되지 않는다면 float64(부동소수점)이 된다.\n",
    " 함수\n",
    " 설명 \n",
    " array\n",
    " 입력 데이터(리스트, 튜플, 배열 똔느 다른 순차형 데이터)를 ndarray로 변환하며  dtype이 명시되지 않은 경우\n",
    " 엔 자료형을 추론하여 저장한다. 기본적으로 입력 데이터는 복사된다.\n",
    " asarray\n",
    " 입력 데이터를 ndarray로 변환하지만 입력 데이터가 이미 ndarray일 경우, 복사가 되지 않는다\n",
    " arange\n",
    " 내장 range 함수와 유사하지만 리스트 대신 ndarray를 반환한다\n",
    " ones, ones_like\n",
    " 주어진 dtype과 주어진 모양을 가지는 배열을 생성하고, 내용을 모두 1로 초기화 한다. ones_like는 주어진 배\n",
    " 열과 동일한 모양과 dtype을 가지는 배열을 새로 생성하여 내용을 모두 1로 초기화 한다\n",
    " zeroes, zeros_like\n",
    " 위와 같지만 내용을 0으로\n",
    " empty, empty_like\n",
    " 메모리를 할당하여 새로운 배열을 생성하지만, 위와 같이 값을 초기화 하지는 않음\n",
    " eye, identity\n",
    " N x N 크기의 단위 행렬을 생성한다 (좌상단에서 우하단을 잇는 대각선은 1로 채워지고 나머지는 0) \n"
   ]
  },
  {
   "cell_type": "code",
   "execution_count": null,
   "metadata": {
    "collapsed": true
   },
   "outputs": [],
   "source": [
    "## 출처: http://blog.naver.com/wpdls6012/220786855825"
   ]
  }
 ],
 "metadata": {
  "kernelspec": {
   "display_name": "Python 3",
   "language": "python",
   "name": "python3"
  },
  "language_info": {
   "codemirror_mode": {
    "name": "ipython",
    "version": 3
   },
   "file_extension": ".py",
   "mimetype": "text/x-python",
   "name": "python",
   "nbconvert_exporter": "python",
   "pygments_lexer": "ipython3",
   "version": "3.6.1"
  }
 },
 "nbformat": 4,
 "nbformat_minor": 2
}
