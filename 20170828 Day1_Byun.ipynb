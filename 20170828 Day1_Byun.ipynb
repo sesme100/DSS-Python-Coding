{
 "cells": [
  {
   "cell_type": "code",
   "execution_count": null,
   "metadata": {
    "collapsed": true
   },
   "outputs": [],
   "source": [
    "print(\"Hello\")"
   ]
  },
  {
   "cell_type": "code",
   "execution_count": null,
   "metadata": {
    "collapsed": true
   },
   "outputs": [],
   "source": [
    "print(\"구구단을 하겠습니다\")\n"
   ]
  },
  {
   "cell_type": "markdown",
   "metadata": {},
   "source": [
    "# introduction (markdown) 에서 글쓰기 \n",
    "## introduction\n",
    "### 샵이 여러개일수록 글자 작아짐  \n",
    "\n",
    "* 별표는 리스트 ***\n",
    "* python\n",
    "  * variable (띄어쓰기 두번하고 별 쓰고 리스트 만들수 있음)\n",
    "     * 띄어쓰기 세번후 별표 \n",
    "       * 신기\n",
    "  * for **loop ** ( 볼드체는 앞뒤로 별표 두번씩)\n",
    "  * if * condition * (앞뒤로 별표 하나씩 이텔릭체)\n",
    "* java\n",
    "* C++\n",
    "\n",
    "> python is good  (> 는 들여쓰기)\n",
    "\n",
    "[Big O 표현법 링크] (https://search.naver.com/search.naver?sm=tab_hty.top&where=nexearch&query=Big+O+%ED%91%9C%ED%98%84%EB%B2%95&oquery=%EC%95%8C%EA%B3%A0%EB%A6%AC%EB%93%AC+%EC%97%B0%EC%82%B0%EC%9E%90&ie=utf8&tqi=TjnnudpVuElssavDiR0ssssssE4-021680)\n"
   ]
  },
  {
   "cell_type": "code",
   "execution_count": null,
   "metadata": {
    "collapsed": true
   },
   "outputs": [],
   "source": [
    "a= 10\n",
    "b= 20\n",
    "\n",
    "print (a+b)\n",
    "    "
   ]
  },
  {
   "cell_type": "code",
   "execution_count": null,
   "metadata": {
    "collapsed": true
   },
   "outputs": [],
   "source": [
    "numbers= int(input(\"구구단 몇단 하고 싶으세요?:\"))\n",
    "for i in range (1,2):\n",
    "      \n",
    "    for j in range (1,10):\n",
    "        print (numbers*j)\n",
    "        j+=1\n",
    "    i+=1 "
   ]
  },
  {
   "cell_type": "code",
   "execution_count": null,
   "metadata": {
    "collapsed": true
   },
   "outputs": [],
   "source": [
    "for i in range(2,5):\n",
    "    for j in range(1,10):\n",
    "        print (i,\"X\",j,\"=\",i*j)"
   ]
  },
  {
   "cell_type": "code",
   "execution_count": 11,
   "metadata": {},
   "outputs": [
    {
     "name": "stdout",
     "output_type": "stream",
     "text": [
      "몇단을 출력하고 싶으신가요?: 2\n",
      "2 X 1 = 2\n",
      "2 X 2 = 4\n",
      "2 X 3 = 6\n",
      "2 X 4 = 8\n",
      "2 X 5 = 10\n",
      "2 X 6 = 12\n",
      "2 X 7 = 14\n",
      "2 X 8 = 16\n",
      "2 X 9 = 18\n",
      "3 X 1 = 3\n",
      "3 X 2 = 6\n",
      "3 X 3 = 9\n",
      "3 X 4 = 12\n",
      "3 X 5 = 15\n",
      "3 X 6 = 18\n",
      "3 X 7 = 21\n",
      "3 X 8 = 24\n",
      "3 X 9 = 27\n"
     ]
    }
   ],
   "source": [
    "gogo= int(input(\"몇단을 출력하고 싶으신가요?: \"))\n",
    "\n",
    "for j in range (1,3): # 범위 지정 1~3 단을 정하는게 아니라 1~3 의 범위인 2개 로 지정 \n",
    "    for i in range(1,10):\n",
    "        print(gogo,\"X\",i,\"=\",gogo*i)\n",
    "    gogo+=1 # gogo 위치에 따라 구구단이바뀜 \n"
   ]
  },
  {
   "cell_type": "markdown",
   "metadata": {},
   "source": [
    "## while 연습"
   ]
  },
  {
   "cell_type": "code",
   "execution_count": 15,
   "metadata": {},
   "outputs": [
    {
     "name": "stdout",
     "output_type": "stream",
     "text": [
      "2\n",
      "3\n",
      "4\n"
     ]
    }
   ],
   "source": [
    "gogo=1\n",
    "while gogo<4:\n",
    "    gogo+=1\n",
    "    print (gogo)"
   ]
  },
  {
   "cell_type": "code",
   "execution_count": 27,
   "metadata": {},
   "outputs": [
    {
     "name": "stdout",
     "output_type": "stream",
     "text": [
      "곱하고 싶은 단수를 출력하세요: 8\n",
      "8 X 0 = 0\n",
      "8 X 1 = 8\n",
      "8 X 2 = 16\n",
      "8 X 3 = 24\n",
      "8 X 4 = 32\n",
      "8 X 5 = 40\n",
      "8 X 6 = 48\n",
      "8 X 7 = 56\n",
      "8 X 8 = 64\n",
      "8 X 9 = 72\n",
      "9 X 0 = 0\n",
      "9 X 1 = 9\n",
      "9 X 2 = 18\n",
      "9 X 3 = 27\n",
      "9 X 4 = 36\n",
      "9 X 5 = 45\n",
      "9 X 6 = 54\n",
      "9 X 7 = 63\n",
      "9 X 8 = 72\n",
      "9 X 9 = 81\n"
     ]
    }
   ],
   "source": [
    "gogo= int(input(\"곱하고 싶은 단수를 출력하세요: \"))\n",
    "while gogo<10:\n",
    "    i=0\n",
    "    while i<10:\n",
    "        print (gogo,\"X\",i,\"=\",gogo*i)\n",
    "        i+=1\n",
    "    gogo+=1\n"
   ]
  },
  {
   "cell_type": "markdown",
   "metadata": {},
   "source": [
    "# 평균값 구하기 "
   ]
  },
  {
   "cell_type": "code",
   "execution_count": 39,
   "metadata": {},
   "outputs": [
    {
     "name": "stdout",
     "output_type": "stream",
     "text": [
      "4.5\n"
     ]
    }
   ],
   "source": [
    "list=(1,2,3,4,5,6,7,8)\n",
    "len(list)\n",
    "\n",
    "mean=sum(list)/len(list)\n",
    "print(mean)"
   ]
  },
  {
   "cell_type": "code",
   "execution_count": 37,
   "metadata": {},
   "outputs": [
    {
     "data": {
      "text/plain": [
       "8"
      ]
     },
     "execution_count": 37,
     "metadata": {},
     "output_type": "execute_result"
    }
   ],
   "source": [
    "list=(1,2,3,4,5,6,7,8)\n",
    "len(list)\n"
   ]
  },
  {
   "cell_type": "code",
   "execution_count": null,
   "metadata": {
    "collapsed": true
   },
   "outputs": [],
   "source": []
  }
 ],
 "metadata": {
  "kernelspec": {
   "display_name": "Python 3",
   "language": "python",
   "name": "python3"
  },
  "language_info": {
   "codemirror_mode": {
    "name": "ipython",
    "version": 3
   },
   "file_extension": ".py",
   "mimetype": "text/x-python",
   "name": "python",
   "nbconvert_exporter": "python",
   "pygments_lexer": "ipython3",
   "version": "3.6.1"
  }
 },
 "nbformat": 4,
 "nbformat_minor": 2
}
