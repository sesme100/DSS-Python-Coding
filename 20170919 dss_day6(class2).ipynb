{
 "cells": [
  {
   "cell_type": "markdown",
   "metadata": {},
   "source": [
    "# Class 설계"
   ]
  },
  {
   "cell_type": "markdown",
   "metadata": {},
   "source": [
    "## 학습목표\n",
    "\n",
    " - 클래스 복습 및 활용\n",
    " - 클래스 설계기본 이해\n",
    " - 요구사항에 대한 클래스 설계"
   ]
  },
  {
   "cell_type": "markdown",
   "metadata": {},
   "source": [
    "1. Calculator class를 작성하세요\n",
    " - a, b 두개의 정수를 속성으로 갖습니다.\n",
    " - func이라는 함수를 속성으로 갖습니다.\n",
    " - 속성으로 갖고있는 func을 a,b를 인자로 호출하여 결과를 반환하는 메소드를 갖습니다. apply(self) \n",
    " \n",
    "\n",
    "2. 여러분이 멜론에서 일한다고 합시다.\n",
    " - 요구사항 : 일간 음악 랭킹(사람들이 많이 들을 수록 순위가 높음)을 구하는 class를 만들어 보세요."
   ]
  },
  {
   "cell_type": "code",
   "execution_count": null,
   "metadata": {
    "collapsed": true
   },
   "outputs": [],
   "source": []
  },
  {
   "cell_type": "code",
   "execution_count": null,
   "metadata": {
    "collapsed": true
   },
   "outputs": [],
   "source": []
  },
  {
   "cell_type": "markdown",
   "metadata": {},
   "source": [
    "* **named tuple**\n",
    " - tuple의 자식 클래스 \n",
    " - 클래스없이 객체를 생성할 수 있는 방법제공"
   ]
  },
  {
   "cell_type": "code",
   "execution_count": 2,
   "metadata": {
    "collapsed": true
   },
   "outputs": [],
   "source": [
    "from collections import namedtuple"
   ]
  },
  {
   "cell_type": "code",
   "execution_count": 7,
   "metadata": {},
   "outputs": [
    {
     "name": "stdout",
     "output_type": "stream",
     "text": [
      "Car(engine='super power', style='ultra')\n"
     ]
    }
   ],
   "source": [
    "Car = namedtuple('Car', 'engine door') ## 튜플로 키&벨류값을 가짐 \n",
    "\n",
    "car1 = Car('super power', 'ultra')\n",
    "print(car1)\n",
    "\n",
    "car2 = Car(engine = 'super2', door = 'side')\n",
    "\n",
    "print(car2, car1, type(car2))"
   ]
  },
  {
   "cell_type": "code",
   "execution_count": 9,
   "metadata": {},
   "outputs": [
    {
     "name": "stdout",
     "output_type": "stream",
     "text": [
      "Car(engine='super power', style='ultra')\n"
     ]
    }
   ],
   "source": [
    "Car = namedtuple('Car', 'engine style') ## 튜플로 키&벨류값을 가짐 Car라는 클라스에 engine, style 키값을 가짐 \n",
    "\n",
    "car1 = Car('super power', 'ultra')\n",
    "print(car1)\n"
   ]
  },
  {
   "cell_type": "code",
   "execution_count": 10,
   "metadata": {},
   "outputs": [
    {
     "name": "stdout",
     "output_type": "stream",
     "text": [
      "Pet(name='allen', age=10) allen 10\n",
      "Pet(name='doggy', age=3)\n"
     ]
    }
   ],
   "source": [
    "Pet = namedtuple('Pet', ['name', 'age']) ## 클라스 Pet , name age키값 \n",
    "\n",
    "cat = Pet('allen', 10)\n",
    "dog = Pet('doggy', 3)\n",
    "\n",
    "print(cat, cat[0], cat[1])\n",
    "print(dog)\n"
   ]
  },
  {
   "cell_type": "code",
   "execution_count": 12,
   "metadata": {},
   "outputs": [
    {
     "name": "stdout",
     "output_type": "stream",
     "text": [
      "allen 10\n"
     ]
    }
   ],
   "source": [
    "name, age = cat\n",
    "print(name, age)"
   ]
  },
  {
   "cell_type": "markdown",
   "metadata": {},
   "source": [
    "* 연습문제 \n",
    " 1. 학생의 이름, 나이, 전공을 속성으로 갖는 class를 정의하세요\n",
    " 2. Namedtuple을 이용하여, 학생의 이름, 나이, 전공을 속성으로 갖는 class를 정의하세요"
   ]
  },
  {
   "cell_type": "code",
   "execution_count": 15,
   "metadata": {},
   "outputs": [
    {
     "name": "stdout",
     "output_type": "stream",
     "text": [
      "my name isMark and I am 13 years old, \n",
      " majoring Management\n"
     ]
    }
   ],
   "source": [
    "class Student: ## 내가 만듬\n",
    "    def __init__(self,name,age,major):\n",
    "        self.name = name\n",
    "        self.age = age\n",
    "        self.major = major\n",
    "        \n",
    "    def __str__ (self):\n",
    "        return 'my name is{} and I am {} years old, \\n majoring {}'.format(self.name, self.age, self.major)\n",
    "\n",
    "Mark = Student('Mark','13','Management')\n",
    "print(Mark)"
   ]
  },
  {
   "cell_type": "code",
   "execution_count": 11,
   "metadata": {},
   "outputs": [
    {
     "name": "stdout",
     "output_type": "stream",
     "text": [
      "Student(name='Mark', age='13', major='Management')\n"
     ]
    }
   ],
   "source": [
    "Student = namedtuple('Student',['name','age','major'])\n",
    "\n",
    "Mark = Student('Mark','13','Management')\n",
    "print(Mark)"
   ]
  },
  {
   "cell_type": "markdown",
   "metadata": {},
   "source": [
    "* **5가지 클래스 설계의 원칙 (S.O.L.I.D)**\n",
    " - single responsibility principle\n",
    " - open-closed principle\n",
    " - Liskov substitutio principle\n",
    " - Interface segregation\n",
    " - Dependency Inversion\n",
    " \n",
    " 출처) https://scotch.io/bar-talk/s-o-l-i-d-the-first-five-principles-of-object-oriented-design\n",
    " \n",
    " 객체지향과 디자인 패턴 관련 책 : http://www.aladin.co.kr/shop/wproduct.aspx?ItemId=28301535\n",
    " 파이썬은 아니나, Object Oriendted design과 Design pattern에 관심있으신분은 해당 서적을 참고하시면 좋습니다."
   ]
  },
  {
   "cell_type": "code",
   "execution_count": null,
   "metadata": {
    "collapsed": true
   },
   "outputs": [],
   "source": []
  },
  {
   "cell_type": "markdown",
   "metadata": {},
   "source": [
    "* **Single Responsibility**\n",
    " - 클래스는 단 한개의 책임을 가져야 함 ## 논리적으로 분리하여 묶기 \n",
    " - 클래스가 여러 책임을 가지면, 각 책임지는 기능마다 변경되는 이유가 발생하기 때문에, 클래스가 한개의 이유만으로 변경되려면 클래스는 단 한개의 책임만을 가져야 함"
   ]
  },
  {
   "cell_type": "code",
   "execution_count": null,
   "metadata": {
    "collapsed": true
   },
   "outputs": [],
   "source": [
    "# 실습 코드\n",
    "# 나쁜예\n",
    "\n",
    "# 학생성적과 수강하는 코스를 한개의 class에서 다루는 예\n",
    "# 한 클래스에서 두개의 책임을 갖기 때문에, 수정이 용이하지 않다.\n",
    "\n",
    "class StudentScoreAndCourseManager(object):\n",
    "    def __init__(self):\n",
    "        scores = {}\n",
    "        courses = {}\n",
    "        \n",
    "    def get_score(self, student_name, course):\n",
    "        pass\n",
    "    \n",
    "    def get_courses(self, student_name):\n",
    "        pass\n",
    "    \n",
    "    \n",
    "# 각각의 책임을 한개로 줄여서, 각각 수정이 다른 것에 영향을 미치지 않도록 함\n",
    "class ScoreManager(object):\n",
    "    def __init__(self):\n",
    "        scores = {}\n",
    "        \n",
    "    def get_score(self, student_name, course):\n",
    "        pass\n",
    "    \n",
    "    \n",
    "class CourseManager(object):\n",
    "    def __init__(self):\n",
    "        courses = {}\n",
    "    \n",
    "    def get_courses(self, student_name):\n",
    "        pass\n",
    "    "
   ]
  },
  {
   "cell_type": "markdown",
   "metadata": {},
   "source": [
    "* **Open-Closed**\n",
    "  - 확장에는 열려있어야 하고, 변경에는 닫혀있어야 함 ## 기능을 추가할때는 쉬워야 하나 기존 코드를 바꿀때는 쉽지 않아야함 \n",
    "  - 기능을 변경하거나 확장 가능하면서, 그 기능을 사용하는 코드는 수정을 하지 말아야 함"
   ]
  },
  {
   "cell_type": "code",
   "execution_count": null,
   "metadata": {
    "collapsed": true
   },
   "outputs": [],
   "source": [
    "# 실습 코드\n",
    "# 나쁜 예\n",
    "class Rectangle(object):\n",
    "\n",
    "    def __init__(self, width, height):\n",
    "        self.width = width\n",
    "        self.height = height\n",
    "\n",
    "class AreaCalculator(object):\n",
    "\n",
    "    def __init__(self, shapes): ## 초기화하면서 \n",
    "\n",
    "        assert isinstance(shapes, list), \"`shapes` should be of type `list`.\"\n",
    "        self.shapes = shapes\n",
    "\n",
    "    def total_area(self):\n",
    "        total = 0\n",
    "        for shape in self.shapes:\n",
    "            total += shape.width * shape.height\n",
    "\n",
    "        return total\n",
    "\n",
    "shapes = [Rectangle(2, 3), Rectangle(1, 6)]\n",
    "calculator = AreaCalculator(shapes)\n",
    "print(\"The total area is: \", calculator.total_area())"
   ]
  },
  {
   "cell_type": "code",
   "execution_count": 16,
   "metadata": {},
   "outputs": [
    {
     "name": "stdout",
     "output_type": "stream",
     "text": [
      "The total area is:  244.36\n"
     ]
    }
   ],
   "source": [
    "# 좋은 예 (클라스 분리 하는것이 좋음 )\n",
    "class Shape(object):\n",
    "    \n",
    "    def area(self):\n",
    "        pass\n",
    "\n",
    "class Rectangle(Shape):\n",
    "\n",
    "    def __init__(self, width, height):\n",
    "        self.width = width\n",
    "        self.height = height\n",
    "\n",
    "    def area(self):\n",
    "        return self.width * self.height\n",
    "    \n",
    "class Circle(Shape):\n",
    "    def __init__(self, radius):\n",
    "        self.radius = radius\n",
    "        \n",
    "    def area(self):\n",
    "        return 3.14 * self.radius ** 2\n",
    "    \n",
    "    \n",
    "\n",
    "'''다른 도형에 대해 확장하기 위해서,\n",
    "AreaCalculator는 수정이 필요 없음\n",
    "단지, Shape을 상속받은 다른 class를 정의하기만 하면 됨\n",
    "'''\n",
    "class AreaCalculator(object):\n",
    "\n",
    "    def __init__(self, shapes):\n",
    "        self.shapes = shapes\n",
    "\n",
    "    def total_area(self):\n",
    "        total = 0\n",
    "        for shape in self.shapes:\n",
    "            total += shape.area()\n",
    "        return total\n",
    "\n",
    "\n",
    "\n",
    "shapes = [Rectangle(1, 6), Rectangle(2, 3), Circle(5), Circle(7)]\n",
    "calculator = AreaCalculator(shapes)\n",
    "\n",
    "print(\"The total area is: \", calculator.total_area())\n"
   ]
  },
  {
   "cell_type": "markdown",
   "metadata": {},
   "source": [
    "* **Liskov substitution**\n",
    "  - 상위 타입의 객체를 하위타입의 객체로 치환해도 상위 타입을 사용하는 프로그램은 정상적으로 동작해야 함\n",
    "  - 쉽게 말하면, isinstance를 사용하면 조건을 주어 판단하면 추후 빈번한 수정에 취약해진다는 의미\n",
    "  - 상위클래스만을 이용하여 호출하는 쪽에서 완벽히 대처할 수 있어야 함"
   ]
  },
  {
   "cell_type": "code",
   "execution_count": null,
   "metadata": {
    "collapsed": true
   },
   "outputs": [],
   "source": [
    "# 실습 코드\n",
    "\n",
    "class Item(object):\n",
    "    def get_price(self):\n",
    "        return 1000\n",
    "\n",
    "# 어떤 아이템은 할인을 해주지 않는 정책이 추가됨.\n",
    "class SpecialItem(Item):\n",
    "    def get_price(self):\n",
    "        return 10000\n",
    "    \n",
    "class UltraItem(Item):\n",
    "    def get_price(self):\n",
    "        return 20000\n",
    "\n",
    "class Coupon(object):\n",
    "    discount_rate = 0.5\n",
    "    def calculate_discount_amount(self, item):\n",
    "        if isinstance(item, SpecialItem): # 해당 코드를 사용하면서 Liskov 원칙이 깨짐, \n",
    "            #즉 해당 코드는 하위타입의 존재에 관해 알지 못하고 Item만 알아야 하는데, 그것이 깨져버림\n",
    "            return 0\n",
    "        elif isinstance(item, UltraItem):\n",
    "            return 10\n",
    "        \n",
    "        return item.get_price() * 0.5\n",
    "    \n"
   ]
  },
  {
   "cell_type": "code",
   "execution_count": 17,
   "metadata": {
    "collapsed": true
   },
   "outputs": [],
   "source": [
    "# 좋은 예\n",
    "class Item(object):\n",
    "    def is_discount_available(self):\n",
    "        return True\n",
    "    \n",
    "    def get_price(self):\n",
    "        return 1000\n",
    "\n",
    "# 어떤 아이템은 할인을 해주지 않는 정책이 추가됨.\n",
    "class SpecialItem(Item): # object 여도 duck typing을 지원하기 떄문에 관계없다.\n",
    "    def is_discount_available(self):\n",
    "        return False\n",
    "    \n",
    "    def get_price(self):\n",
    "        return 10000\n",
    "    \n",
    "class UltraItem(Item):\n",
    "    def is_discount_available(self):\n",
    "        return False\n",
    "    \n",
    "    def get_price(self):\n",
    "        return 20000\n",
    "\n",
    "class Coupon(object):\n",
    "    discount_rate = 0.5\n",
    "    def calculate_discount_amount(self, item):\n",
    "        if not item.is_discount_available():\n",
    "            return 0\n",
    "        \n",
    "        return item.get_price() * Coupon.discount_rate"
   ]
  },
  {
   "cell_type": "markdown",
   "metadata": {},
   "source": [
    "* **Interface segregation**\n",
    "  - 인터페이스는 그 인터페이스를 사용하는 클라이언트 기준으로 분리해야함 ## 유저와의 약속 유저 인터페이스 User interface UI \n",
    "  ## 여기서는 클래스의 함수를 의미함 (caller 와 callee의 약속) "
   ]
  },
  {
   "cell_type": "code",
   "execution_count": null,
   "metadata": {
    "collapsed": true
   },
   "outputs": [],
   "source": [
    "# 실습 코드\n",
    "# 나쁜 예\n",
    "\n",
    "from abc import abstractmethod\n",
    "import time\n",
    "\n",
    "\n",
    "class AbstractWorker(object):\n",
    "\n",
    "    def work(self):\n",
    "        pass\n",
    "    \n",
    "    def eat(self):\n",
    "        pass\n",
    "\n",
    "class Worker(AbstractWorker):\n",
    "\n",
    "    def work(self):\n",
    "        print(\"I'm normal worker. I'm working.\")\n",
    "\n",
    "    def eat(self):\n",
    "        print(\"Lunch break....(5 secs)\")\n",
    "        time.sleep(5)\n",
    "\n",
    "class SuperWorker(AbstractWorker):\n",
    "\n",
    "    def work(self):\n",
    "        print(\"I'm super worker. I work very hard!\")\n",
    "\n",
    "    def eat(self):\n",
    "        print(\"Lunch break....(3 secs)\")\n",
    "        time.sleep(3)\n",
    "\n",
    "\n",
    "class Manager(object):\n",
    "\n",
    "    def __init__(self):\n",
    "        self.worker = None\n",
    "\n",
    "    def set_worker(self, worker):\n",
    "        assert isinstance(worker, AbstractWorker), \"`worker` must be of type {}\".format(AbstractWorker)\n",
    "\n",
    "        self.worker = worker\n",
    "\n",
    "    def manage(self):\n",
    "        self.worker.work()\n",
    "\n",
    "    def lunch_break(self):\n",
    "        self.worker.eat()\n",
    "\n",
    "\n",
    "# Robot의 경우, eat은 불필요한 메쏘드임에도 구현 해주어야 한다.\n",
    "class Robot(AbstractWorker):\n",
    "\n",
    "    def work(self):\n",
    "        print(\"I'm a robot. I'm working....\")\n",
    "\n",
    "    def eat(self):\n",
    "        print(\"I don't need to eat....\")   \n",
    "\n",
    "\n",
    "\n",
    "manager = Manager()\n",
    "manager.set_worker(Worker())\n",
    "\n",
    "manager.manage()\n",
    "manager.lunch_break()\n",
    "\n",
    "manager.set_worker(SuperWorker())\n",
    "manager.manage()\n",
    "manager.lunch_break()\n",
    "\n",
    "manager.set_worker(Robot())\n",
    "manager.manage()\n",
    "manager.lunch_break()"
   ]
  },
  {
   "cell_type": "code",
   "execution_count": null,
   "metadata": {
    "collapsed": true
   },
   "outputs": [],
   "source": [
    "# 좋은 예\n",
    "from abc import abstractmethod\n",
    "import time\n",
    "\n",
    "class Workable(object):\n",
    "\n",
    "    @abstractmethod\n",
    "    def work(self):\n",
    "        pass\n",
    "\n",
    "# 인터페이스를 분리함\n",
    "class Eatable(object):\n",
    "\n",
    "    @abstractmethod\n",
    "    def eat(self):\n",
    "        pass\n",
    "\n",
    "class AbstractWorker(Workable, Eatable):\n",
    "    pass\n",
    "\n",
    "class Worker(AbstractWorker):\n",
    "\n",
    "    def work(self):\n",
    "        print(\"I'm normal worker. I'm working.\")\n",
    "\n",
    "    def eat(self):\n",
    "        print(\"Lunch break....(5 secs)\")\n",
    "        time.sleep(5)\n",
    "\n",
    "class SuperWorker(AbstractWorker):\n",
    "\n",
    "    def work(self):\n",
    "        print(\"I'm super worker. I work very hard!\")\n",
    "\n",
    "    def eat(self):\n",
    "        print(\"Lunch break....(3 secs)\")\n",
    "        time.sleep(3)\n",
    "\n",
    "\n",
    "class Manager(object):\n",
    "\n",
    "    def __init__(self):\n",
    "        self.worker = None\n",
    "\n",
    "class WorkManager(Manager):\n",
    "\n",
    "    def set_worker(self, worker):\n",
    "        assert isinstance(worker, Workable), \"`worker` must be of type {}\".format(Workable)\n",
    "\n",
    "        self.worker = worker\n",
    "\n",
    "    def manage(self):\n",
    "        self.worker.work()\n",
    "\n",
    "class BreakManager(Manager):\n",
    "\n",
    "    def set_worker(self, worker):\n",
    "        assert isinstance(worker, Eatable), \"`worker` must be of type {}\".format(Eatable)\n",
    "        self.worker = worker\n",
    "\n",
    "    def lunch_break(self):\n",
    "        self.worker.eat()\n",
    "\n",
    "class Robot(Workable):\n",
    "\n",
    "    def work(self):\n",
    "        print(\"I'm a robot. I'm working....\")\n",
    "\n",
    "\n",
    "work_manager = WorkManager()\n",
    "break_manager = BreakManager()\n",
    "work_manager.set_worker(Worker())\n",
    "break_manager.set_worker(Worker())\n",
    "\n",
    "\n",
    "work_manager.manage()\n",
    "break_manager.lunch_break()\n",
    "\n",
    "work_manager.set_worker(SuperWorker())\n",
    "break_manager.set_worker(SuperWorker())\n",
    "\n",
    "work_manager.manage()\n",
    "break_manager.lunch_break()\n",
    "\n",
    "work_manager.set_worker(Robot())\n",
    "work_manager.manage()\n"
   ]
  },
  {
   "cell_type": "markdown",
   "metadata": {},
   "source": [
    "* **Dependency Inversion**\n",
    "  - 의존성 주입\n",
    "  - 객체를 생성하는 코드를 클래스의 외부로 책임을 넘겨서, 해당 클래스의 수정이 용이해지도록 함"
   ]
  },
  {
   "cell_type": "code",
   "execution_count": null,
   "metadata": {
    "collapsed": true
   },
   "outputs": [],
   "source": [
    "class Bill(object):\n",
    "    def __init__(self, desc):\n",
    "        self.desc = desc\n",
    "        \n",
    "    def drink(self):\n",
    "        pass\n",
    "        \n",
    "class Tail(object):\n",
    "    def __init__(self, length):\n",
    "        self.length = length\n",
    "        \n",
    "class Duck(object):\n",
    "    \n",
    "    def __init__(self, bill, tail, name):\n",
    "        self.bill = bill\n",
    "        self.tail = tail\n",
    "        self.name = name\n",
    "        \n",
    "    def eat(self):\n",
    "        self.bill.eat()\n",
    "        \n",
    "    def about(self):\n",
    "        print(self.name, 'has a bill and it is', self.bill.desc, 'and a tail length of', self.tail.length)\n",
    "        \n",
    "tail = Tail(8)\n",
    "bill = Bill('very good')\n",
    "\n",
    "duck = Duck(bill, tail, 'aaron')\n",
    "duck.eat()"
   ]
  },
  {
   "cell_type": "code",
   "execution_count": null,
   "metadata": {
    "collapsed": true
   },
   "outputs": [],
   "source": [
    "# 실습 코드\n",
    "\n",
    "class BubbleSort(object):\n",
    "    def sort(self):\n",
    "        # sorting algorithms\n",
    "        pass\n",
    "    \n",
    "class QuickSort(object):\n",
    "    def sort(self):\n",
    "        # sorting algorithms\n",
    "        pass\n",
    "\n",
    "# 나쁜예\n",
    "class BadSortManager(object):\n",
    "    def __init__(self):\n",
    "        self.sort_method = BubbleSort() # 의존적이다\n",
    "        \n",
    "    def begin_sort(self):\n",
    "        self.sort_method.sort()\n",
    "    \n",
    "\n",
    "# 좋은 예\n",
    "class SortManager(object):\n",
    "    def __init__(self, sort_method): # 의존성을 주입시킴, 유연하게 동적으로 변경 가능\n",
    "        self.set_sort_method(sort_method)\n",
    "        \n",
    "    def set_sort_method(self, sort_method):\n",
    "        self.sort_method = sort_method\n",
    "        \n",
    "    def begin_sort(self):\n",
    "        self.sort_method.sort()\n",
    "        \n",
    "        \n",
    "bubble_sort = BubbleSort()\n",
    "quick_sort  = QuickSort()\n",
    "\n",
    "# 의존적임. 소스 코드의 수정이 필요함\n",
    "bad_sort_manager = BadSortManager()\n",
    "bad_sort_manager.begin_sort()\n",
    "\n",
    "# 유연하게 개발 가능\n",
    "sort_manager = SortManager(bubble_sort)\n",
    "sort_manager.begin_sort()        \n",
    "\n",
    "sort_manager.set_sort_method(quick_sort)\n",
    "sort_manager.begin_sort()\n"
   ]
  },
  {
   "cell_type": "code",
   "execution_count": null,
   "metadata": {
    "collapsed": true
   },
   "outputs": [],
   "source": []
  },
  {
   "cell_type": "markdown",
   "metadata": {},
   "source": [
    "* 설계 패턴 실습)\n",
    " - 소프트웨어 개발이 고도화 되면서, 대가들이 그동안의 개발에 사용되었던 정형화된 패턴을 모아놓은 방법론 \n",
    " - https://en.wikipedia.org/wiki/Design_Patterns 디자인 패턴 관련한 최초의 서적\n",
    " - 이 중, 이해하기 쉽고 자주 사용되는 패턴들 몇개를 실습 해보겠습니다."
   ]
  },
  {
   "cell_type": "markdown",
   "metadata": {},
   "source": [
    "* **observer 패턴**\n",
    " - 관찰자 / 비관찰자 관계에서 관찰자에게 특정 이벤트의 발생의 알림을 전달하는 패턴\n",
    " - SMS / Email / Push 로 각각 알려야 하는 경우 구현해보기"
   ]
  },
  {
   "cell_type": "code",
   "execution_count": null,
   "metadata": {
    "collapsed": true
   },
   "outputs": [],
   "source": [
    "# 실습코드\n",
    "\n",
    "class SMSObserver(object):\n",
    "    def notify(self, event_data):\n",
    "        print(event_data, 'received..')\n",
    "        print('send sms')\n",
    "        \n",
    "class EmailObserver(object):\n",
    "    def notify(self, event_data):\n",
    "        print(event_data, 'received..')\n",
    "        print('send email')\n",
    "        \n",
    "class PushObserver(object):\n",
    "    def notify(self, event_data):\n",
    "        print(event_data, 'received..')\n",
    "        print('send push notification')\n",
    "        \n",
    "class Notifier(object):\n",
    "    def __init__(self):\n",
    "        self.observers = []\n",
    "        \n",
    "    def register(self, observer):\n",
    "        self.observers.append(observer)\n",
    "        \n",
    "    def unregister(self, observer):\n",
    "        self.observers.remove(observer)\n",
    "        \n",
    "    def notify(self, event_data):\n",
    "        for observer in self.observers:\n",
    "            observer.notify(event_data)\n",
    "    \n",
    "    \n",
    "notifier = Notifier()\n",
    "\n",
    "sms_observer = SMSObserver()\n",
    "email_observer = EmailObserver()\n",
    "push_observer = PushObserver()\n",
    "\n",
    "notifier.register(sms_observer)\n",
    "notifier.register(email_observer)\n",
    "notifier.register(push_observer)\n",
    "\n",
    "notifier.notify('user activation event')\n"
   ]
  },
  {
   "cell_type": "markdown",
   "metadata": {},
   "source": [
    "* **Builder pattern**\n",
    "  - 복잡한 객체를 생성하는 패턴 "
   ]
  },
  {
   "cell_type": "code",
   "execution_count": null,
   "metadata": {
    "collapsed": true
   },
   "outputs": [],
   "source": [
    "#실습 코드\n",
    "class Student(object):\n",
    "    \n",
    "    def __init__(self, name, age, height, weight, major, courses):\n",
    "        self.name = name\n",
    "        self.age = age\n",
    "        self.height = height\n",
    "        self.weight = weight\n",
    "        self.major = self.courses\n",
    "        \n",
    "# 생성자에서 많은 작업을 함\n",
    "# 새로 필드가 추가되면 생성자를 수정해야 함\n",
    "s1 = Student('aaron', 20, 180, 180, 'cs', ['data structures', 'artificial intelligence'])"
   ]
  },
  {
   "cell_type": "code",
   "execution_count": null,
   "metadata": {
    "collapsed": true
   },
   "outputs": [],
   "source": [
    "class Student(object):\n",
    "    \n",
    "    def set_name(self, name):\n",
    "        self.name = name\n",
    "        return self ## 항상 self를 반환 시킴 \n",
    "    \n",
    "    \n",
    "    def set_age(self, age):\n",
    "        self.age = age\n",
    "        return self\n",
    "    \n",
    "    def set_height(self, height):\n",
    "        self.height = height\n",
    "        return self\n",
    "    \n",
    "    \n",
    "s1 = Student()\n",
    "s1 = s1.set_name('baron').set_age(30).set_height(180)\n",
    "print(s1.name)\n",
    "print(s1.age)\n",
    "print(s1.height)\n"
   ]
  },
  {
   "cell_type": "markdown",
   "metadata": {},
   "source": [
    "* **Factory pattern**\n",
    "  - 객체를 생성하는 객체(Factory)를 만드는 패턴\n",
    "  - 안드로이드, 아이폰, 윈도우폰에 각각 push 메시지를 전송해야한다. \n",
    "  해당 기능을 이용하는 쪽에서는 각각 호출하게 될 폰의 종류를 알 수 있는데, 어떻게 설계 할 수 있을까?"
   ]
  },
  {
   "cell_type": "code",
   "execution_count": null,
   "metadata": {
    "collapsed": true
   },
   "outputs": [],
   "source": [
    "\n",
    "# 실습 코드 ## 객체를 생성하는 클라스 \n",
    "class BasicNotifier(object):\n",
    "    def __init__(self):\n",
    "        pass \n",
    "    \n",
    "    def send(self, push_key, push_obj):\n",
    "        pass\n",
    "    \n",
    "    \n",
    "class WindowsPhoneNotifier(BasicNotifier):\n",
    "    def __init__(self):\n",
    "        pass \n",
    "    \n",
    "    def send(self, push_key, push_obj):\n",
    "        a = 0\n",
    "        \n",
    "class iOSNotifier(BasicNotifier):\n",
    "    def __init__(self):\n",
    "        pass \n",
    "    \n",
    "    def send(self, push_key, push_obj):\n",
    "        b = 0\n",
    "        \n",
    "\n",
    "class NotifierFactory(object):\n",
    "    def __init__(self):\n",
    "        pass\n",
    "    \n",
    "    def create_notifier(slef, devicetype):\n",
    "        notifier = BasicNotifier()\n",
    "        if devicetype == 'windwos':\n",
    "            notifier = WindowsPhoneNotifier()\n",
    "        elif devicetype == 'ios':\n",
    "            notifier = iOSNotifier()\n",
    "        elif devicetype == 'android':\n",
    "            notifier = Andrpod()\n",
    "            \n",
    "        return notifier\n",
    "\n",
    "    \n",
    "## client\n",
    "notifier_factory = NotifierFactory()\n",
    "notifier = notifier_factory.create_notifier('android')\n",
    "notifier.send()\n",
    "\n",
    "notifier = notifier_factory.create_notifier('ios')\n",
    "notifier.send()"
   ]
  }
 ],
 "metadata": {
  "kernelspec": {
   "display_name": "Python 3",
   "language": "python",
   "name": "python3"
  },
  "language_info": {
   "codemirror_mode": {
    "name": "ipython",
    "version": 3
   },
   "file_extension": ".py",
   "mimetype": "text/x-python",
   "name": "python",
   "nbconvert_exporter": "python",
   "pygments_lexer": "ipython3",
   "version": "3.6.1"
  }
 },
 "nbformat": 4,
 "nbformat_minor": 1
}
