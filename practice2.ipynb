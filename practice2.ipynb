{
 "cells": [
  {
   "cell_type": "code",
   "execution_count": 10,
   "metadata": {},
   "outputs": [
    {
     "name": "stdout",
     "output_type": "stream",
     "text": [
      "hello,World\n",
      "Welcome to 30 Days of Code!\n"
     ]
    }
   ],
   "source": [
    "input_string=\"Welcome to 30 Days of Code!\"\n",
    "print (\"hello,World\")\n",
    "print (input_string)\n"
   ]
  },
  {
   "cell_type": "code",
   "execution_count": 11,
   "metadata": {},
   "outputs": [
    {
     "name": "stdout",
     "output_type": "stream",
     "text": [
      "2017-08-23 21:58:22.437670\n"
     ]
    }
   ],
   "source": [
    "from datetime import datetime\n",
    "now= datetime.now()\n",
    "print(now)"
   ]
  },
  {
   "cell_type": "code",
   "execution_count": 58,
   "metadata": {},
   "outputs": [
    {
     "name": "stdout",
     "output_type": "stream",
     "text": [
      "2017-08-24 00:05:57.088491\n"
     ]
    }
   ],
   "source": [
    "from datetime import datetime\n",
    "now= datetime.now()\n",
    "print(now)\n"
   ]
  },
  {
   "cell_type": "code",
   "execution_count": 41,
   "metadata": {},
   "outputs": [
    {
     "name": "stdout",
     "output_type": "stream",
     "text": [
      "i am still hungry\n"
     ]
    }
   ],
   "source": [
    "def hungry():\n",
    "    return (\"i am still hungry\")\n",
    "\n",
    "hungry()\n",
    "print(hungry())\n",
    "#함수 값이 나왔을경우 '' 표시 되며 print 로 뽑았을 경우 '' 또는 \"\" 가나오지 않는다 "
   ]
  },
  {
   "cell_type": "code",
   "execution_count": 82,
   "metadata": {},
   "outputs": [
    {
     "data": {
      "text/plain": [
       "7"
      ]
     },
     "execution_count": 82,
     "metadata": {},
     "output_type": "execute_result"
    }
   ],
   "source": [
    "def number(a,b) :\n",
    "    return a+b\n",
    "    print(\"감사합니다\")\n",
    "    \n",
    "number(3,4)\n"
   ]
  },
  {
   "cell_type": "code",
   "execution_count": 88,
   "metadata": {},
   "outputs": [
    {
     "ename": "SyntaxError",
     "evalue": "invalid syntax (<ipython-input-88-95ab14a21a30>, line 6)",
     "output_type": "error",
     "traceback": [
      "\u001b[1;36m  File \u001b[1;32m\"<ipython-input-88-95ab14a21a30>\"\u001b[1;36m, line \u001b[1;32m6\u001b[0m\n\u001b[1;33m    if number(a,b) = 0:\u001b[0m\n\u001b[1;37m                   ^\u001b[0m\n\u001b[1;31mSyntaxError\u001b[0m\u001b[1;31m:\u001b[0m invalid syntax\n"
     ]
    }
   ],
   "source": [
    "def number(a,b) :\n",
    "    return a+b\n",
    "    print(\"감사합니다\")\n",
    "\n",
    "a,b=3,4\n",
    "\n",
    "if number(a,b) = 0:\n",
    "    print (\"error\")\n",
    "elif number(a,b) > 5:\n",
    "    print(\"a+b 의 합은 5보다 크다\")\n",
    "else :\n",
    "    print(\"당연하지\")\n",
    "    \n",
    "number(3,4)"
   ]
  },
  {
   "cell_type": "code",
   "execution_count": 112,
   "metadata": {},
   "outputs": [
    {
     "name": "stdout",
     "output_type": "stream",
     "text": [
      "80점이상\n"
     ]
    }
   ],
   "source": [
    "grade = 88\n",
    "\n",
    "if grade>60 and grade<70:\n",
    "    print(\"60점이상\")\n",
    "elif grade>=70 and grade<80:\n",
    "    print(\"70점이상\")\n",
    "elif grade>=80 and grade<90:\n",
    "    print(\"80점이상\")\n",
    "else:\n",
    "    print(\"미수강\")\n",
    "\n",
    "\n"
   ]
  },
  {
   "cell_type": "code",
   "execution_count": 116,
   "metadata": {},
   "outputs": [
    {
     "name": "stdout",
     "output_type": "stream",
     "text": [
      "세에엣\n"
     ]
    }
   ],
   "source": [
    "count = 3\n",
    "if count == 1:\n",
    "    print(\"하나\")\n",
    "elif count == 2:\n",
    "    print(\"두울\")\n",
    "elif count == 3:\n",
    "    print (\"세에엣\")\n",
    "else :\n",
    "    print (\" 넌 뭐니?\")"
   ]
  },
  {
   "cell_type": "code",
   "execution_count": 130,
   "metadata": {},
   "outputs": [
    {
     "name": "stdout",
     "output_type": "stream",
     "text": [
      "candies\n",
      "cotten candy\n",
      "chocolate\n",
      "fizzy drinks\n",
      "fruite juice\n"
     ]
    }
   ],
   "source": [
    "my_favorite_sweets = [\"candies\",\"cotten candy\",\"chocolate\",\"fizzy drinks\",\"fruite juice\"]\n",
    "\n",
    "for i in my_favorite_sweets :\n",
    "    print (i)\n",
    "# 튜플 [] 안에 들어가 있는 것이 집합개념 리스트 , 튜플은 모든 것을 리스트로 나열한 개념, for 은 반복문 명령, "
   ]
  },
  {
   "cell_type": "code",
   "execution_count": 132,
   "metadata": {},
   "outputs": [
    {
     "name": "stdout",
     "output_type": "stream",
     "text": [
      "여러분 중에 0 번 손드세요\n",
      "여러분 중에 1 번 손드세요\n",
      "여러분 중에 2 번 손드세요\n",
      "여러분 중에 3 번 손드세요\n",
      "여러분 중에 4 번 손드세요\n",
      "여러분 중에 5 번 손드세요\n",
      "여러분 중에 6 번 손드세요\n",
      "여러분 중에 7 번 손드세요\n",
      "여러분 중에 8 번 손드세요\n",
      "여러분 중에 9 번 손드세요\n"
     ]
    }
   ],
   "source": [
    "for i in range (0,10) :\n",
    "    print (\"여러분 중에 %s 번 손드세요\" %i)\n",
    "    "
   ]
  },
  {
   "cell_type": "code",
   "execution_count": 152,
   "metadata": {
    "scrolled": true
   },
   "outputs": [
    {
     "name": "stdout",
     "output_type": "stream",
     "text": [
      "안녕하세요 나 자식아, 방문해 줘서 감사합니다. 행복한 하루 되셔요~\n",
      "********************************************************************************\n",
      "안녕하세요 친구1 자식아, 방문해 줘서 감사합니다. 행복한 하루 되셔요~\n",
      "********************************************************************************\n",
      "안녕하세요 친구2 자식아, 방문해 줘서 감사합니다. 행복한 하루 되셔요~\n",
      "********************************************************************************\n",
      "안녕하세요 친구3 자식아, 방문해 줘서 감사합니다. 행복한 하루 되셔요~\n",
      "********************************************************************************\n"
     ]
    }
   ],
   "source": [
    "messages ='''안녕하세요 %s 자식아, 방문해 줘서 감사합니다. 행복한 하루 되셔요~'''\n",
    "\n",
    "for x in list:\n",
    "    list=[\"나\",'친구1','친구2','친구3']\n",
    "    print(messages %x)\n",
    "    print (\"*\" *80)"
   ]
  },
  {
   "cell_type": "code",
   "execution_count": 159,
   "metadata": {},
   "outputs": [
    {
     "name": "stdout",
     "output_type": "stream",
     "text": [
      "3\n",
      "5\n",
      "7\n",
      "9\n",
      "11\n",
      "13\n",
      "15\n",
      "17\n",
      "19\n"
     ]
    }
   ],
   "source": [
    "# while 조건문 = 정의를 내려주고 그 안에서 계속 반복 \n",
    "내가_세고싶어하는_숫자 = 3\n",
    "# 처음 시작하는 숫자를 정의 \n",
    "while 내가_세고싶어하는_숫자 <30 :\n",
    "        print (내가_세고싶어하는_숫자)\n",
    "        내가_세고싶어하는_숫자+=2\n",
    "        # 조건+=2 라는 명령은 2만큼 더한다 \n",
    "        if 내가_세고싶어하는_숫자>=20:\n",
    "            break\n",
    "            "
   ]
  },
  {
   "cell_type": "code",
   "execution_count": 162,
   "metadata": {},
   "outputs": [
    {
     "name": "stdout",
     "output_type": "stream",
     "text": [
      "what's your name?철수\n",
      "Hi, 철수So, where is she?\n",
      "what's your name?Hengel\n",
      "Hi, HengelSo, where is she?\n"
     ]
    }
   ],
   "source": [
    "name=[\"철수\",\"민수\",\"정수\",\"헬수\",\"알라뷰님\",\"Hengel\",\"Gretel\"]\n",
    "while name != \"Hengel\":\n",
    "    name= input(\"what's your name?\")\n",
    "    print(\"Hi, \"+name+\"So, where is she?\")\n",
    "    "
   ]
  },
  {
   "cell_type": "code",
   "execution_count": 169,
   "metadata": {},
   "outputs": [
    {
     "name": "stdout",
     "output_type": "stream",
     "text": [
      "type the number: 30\n",
      "1\n",
      "2\n",
      "fizz\n",
      "4\n",
      "buzz\n",
      "fizz\n",
      "7\n",
      "8\n",
      "fizz\n",
      "buzz\n",
      "11\n",
      "fizz\n",
      "13\n",
      "14\n",
      "fizzbuzz\n",
      "16\n",
      "17\n",
      "fizz\n",
      "19\n",
      "buzz\n",
      "fizz\n",
      "22\n",
      "23\n",
      "fizz\n",
      "buzz\n",
      "26\n",
      "fizz\n",
      "28\n",
      "29\n",
      "fizzbuzz\n"
     ]
    }
   ],
   "source": [
    "num = eval(input(\"type the number: \"))\n",
    "\n",
    "for i in range(1, num + 1):\n",
    "    if i % 15 == 0:\n",
    "        print(\"fizzbuzz\")\n",
    "    elif i % 3 == 0:\n",
    "        print(\"fizz\")\n",
    "    elif i % 5 == 0:\n",
    "        print(\"buzz\")\n",
    "    else:\n",
    "        print(i)"
   ]
  },
  {
   "cell_type": "code",
   "execution_count": 171,
   "metadata": {},
   "outputs": [
    {
     "name": "stdout",
     "output_type": "stream",
     "text": [
      "5\n"
     ]
    }
   ],
   "source": [
    "def awe_sum(a,b):\n",
    "    result = a + b\n",
    "    return result\n",
    "a = 2\n",
    "b = 3\n",
    "print(awe_sum(a,b))\n"
   ]
  },
  {
   "cell_type": "code",
   "execution_count": 172,
   "metadata": {},
   "outputs": [
    {
     "name": "stdout",
     "output_type": "stream",
     "text": [
      "hello\n"
     ]
    }
   ],
   "source": [
    "def 나라말싸미듕국에다라():\n",
    "    return \"hello\"\n",
    "\n",
    "훈민정음=나라말싸미듕국에다라()\n",
    "print(훈민정음)"
   ]
  },
  {
   "cell_type": "code",
   "execution_count": 188,
   "metadata": {},
   "outputs": [
    {
     "name": "stdout",
     "output_type": "stream",
     "text": [
      "This is function without return for 7 times.\n"
     ]
    }
   ],
   "source": [
    "def func_wo_return(a):\n",
    "    print(\"This is function without return for \" + str(4+3) + \" times.\")\n",
    "func_wo_return(a)"
   ]
  },
  {
   "cell_type": "code",
   "execution_count": null,
   "metadata": {
    "collapsed": true
   },
   "outputs": [],
   "source": [
    "# 4로 나뉘어 떨어지면 윤년, 100 으로 나누어 떨어지면 평년, 400으로 나뉘어 떨어지면 이상한년\n",
    "num=0\n",
    "while i <100:\n",
    "    if i%400==0:\n",
    "        print (\"이상한년\")\n",
    "    elif i % 100==0:\n",
    "        print(\"평년\")\n",
    "    elif i %4==0:\n",
    "        print (\"윤년\")\n",
    "    else:\n",
    "        print (i)"
   ]
  },
  {
   "cell_type": "code",
   "execution_count": null,
   "metadata": {
    "collapsed": true
   },
   "outputs": [],
   "source": [
    "for i in range (1,100):\n",
    "    if i%400==0:\n",
    "            print (\"이상한년\")\n",
    "        elif i % 100==0:\n",
    "            print(\"평년\")\n",
    "        elif i %4==0:\n",
    "            print (\"윤년\")\n",
    "        else:\n",
    "            print (i)"
   ]
  },
  {
   "cell_type": "code",
   "execution_count": null,
   "metadata": {
    "collapsed": true
   },
   "outputs": [],
   "source": []
  }
 ],
 "metadata": {
  "kernelspec": {
   "display_name": "Python 3",
   "language": "python",
   "name": "python3"
  },
  "language_info": {
   "codemirror_mode": {
    "name": "ipython",
    "version": 3
   },
   "file_extension": ".py",
   "mimetype": "text/x-python",
   "name": "python",
   "nbconvert_exporter": "python",
   "pygments_lexer": "ipython3",
   "version": "3.6.2"
  }
 },
 "nbformat": 4,
 "nbformat_minor": 2
}
