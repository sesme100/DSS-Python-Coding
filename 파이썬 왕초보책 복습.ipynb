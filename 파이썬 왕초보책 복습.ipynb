{
 "cells": [
  {
   "cell_type": "code",
   "execution_count": 1,
   "metadata": {},
   "outputs": [
    {
     "data": {
      "text/plain": [
       "' hello, World.'"
      ]
     },
     "execution_count": 1,
     "metadata": {},
     "output_type": "execute_result"
    }
   ],
   "source": [
    "str(\" hello, World.\")"
   ]
  },
  {
   "cell_type": "code",
   "execution_count": 2,
   "metadata": {},
   "outputs": [
    {
     "name": "stdout",
     "output_type": "stream",
     "text": [
      "hello,WorldI love you\n"
     ]
    },
    {
     "data": {
      "text/plain": [
       "'I love you'"
      ]
     },
     "execution_count": 2,
     "metadata": {},
     "output_type": "execute_result"
    }
   ],
   "source": [
    "input(str(\"hello,World\"))"
   ]
  },
  {
   "cell_type": "code",
   "execution_count": 4,
   "metadata": {},
   "outputs": [
    {
     "name": "stdout",
     "output_type": "stream",
     "text": [
      "hello, Wolrd\n"
     ]
    }
   ],
   "source": [
    "print(\"hello, Wolrd\")\n"
   ]
  },
  {
   "cell_type": "code",
   "execution_count": 12,
   "metadata": {},
   "outputs": [
    {
     "name": "stdout",
     "output_type": "stream",
     "text": [
      "I love youfrom the above to the below\n",
      "I love you\n"
     ]
    }
   ],
   "source": [
    "input(str(\"I love you\"))\n",
    "print(\"I love you\")"
   ]
  },
  {
   "cell_type": "code",
   "execution_count": 10,
   "metadata": {},
   "outputs": [
    {
     "name": "stdout",
     "output_type": "stream",
     "text": [
      "hello,World\n",
      "Welcome to 30 Days of Code!\n"
     ]
    }
   ],
   "source": [
    "input_string=\"Welcome to 30 Days of Code!\"\n",
    "print (\"hello,World\")\n",
    "print (input_string)\n"
   ]
  },
  {
   "cell_type": "code",
   "execution_count": 11,
   "metadata": {},
   "outputs": [
    {
     "name": "stdout",
     "output_type": "stream",
     "text": [
      "2017-08-23 21:58:22.437670\n"
     ]
    }
   ],
   "source": [
    "from datetime import datetime\n",
    "now= datetime.now()\n",
    "print(now)"
   ]
  },
  {
   "cell_type": "code",
   "execution_count": 58,
   "metadata": {},
   "outputs": [
    {
     "name": "stdout",
     "output_type": "stream",
     "text": [
      "2017-08-24 00:05:57.088491\n"
     ]
    }
   ],
   "source": [
    "from datetime import datetime\n",
    "now= datetime.now()\n",
    "print(now)\n"
   ]
  },
  {
   "cell_type": "code",
   "execution_count": 41,
   "metadata": {},
   "outputs": [
    {
     "name": "stdout",
     "output_type": "stream",
     "text": [
      "i am still hungry\n"
     ]
    }
   ],
   "source": [
    "def hungry():\n",
    "    return (\"i am still hungry\")\n",
    "\n",
    "hungry()\n",
    "print(hungry())\n",
    "#함수 값이 나왔을경우 '' 표시 되며 print 로 뽑았을 경우 '' 또는 \"\" 가나오지 않는다 "
   ]
  },
  {
   "cell_type": "code",
   "execution_count": 82,
   "metadata": {},
   "outputs": [
    {
     "data": {
      "text/plain": [
       "7"
      ]
     },
     "execution_count": 82,
     "metadata": {},
     "output_type": "execute_result"
    }
   ],
   "source": [
    "def number(a,b) :\n",
    "    return a+b\n",
    "    print(\"감사합니다\")\n",
    "    \n",
    "number(3,4)\n"
   ]
  },
  {
   "cell_type": "code",
   "execution_count": 11,
   "metadata": {},
   "outputs": [
    {
     "ename": "SyntaxError",
     "evalue": "invalid syntax (<ipython-input-11-8b154a356c7a>, line 5)",
     "output_type": "error",
     "traceback": [
      "\u001b[1;36m  File \u001b[1;32m\"<ipython-input-11-8b154a356c7a>\"\u001b[1;36m, line \u001b[1;32m5\u001b[0m\n\u001b[1;33m    if number(a,b) =< 5 :\u001b[0m\n\u001b[1;37m                   ^\u001b[0m\n\u001b[1;31mSyntaxError\u001b[0m\u001b[1;31m:\u001b[0m invalid syntax\n"
     ]
    }
   ],
   "source": [
    "def number(a,b) :\n",
    "    result= a+b\n",
    "    return result\n",
    "  \n",
    "    if number(a,b) =< 5 :\n",
    "        print (\"error\")\n",
    "    elif number(a,b)>= 5:\n",
    "        print(\"a+b 의 합은 5보다 크다\")\n",
    "    else :\n",
    "        print(\"당연하지\")\n",
    "    \n",
    "number(3,4)"
   ]
  },
  {
   "cell_type": "code",
   "execution_count": 112,
   "metadata": {},
   "outputs": [
    {
     "name": "stdout",
     "output_type": "stream",
     "text": [
      "80점이상\n"
     ]
    }
   ],
   "source": [
    "grade = 88\n",
    "\n",
    "if grade>60 and grade<70:\n",
    "    print(\"60점이상\")\n",
    "elif grade>=70 and grade<80:\n",
    "    print(\"70점이상\")\n",
    "elif grade>=80 and grade<90:\n",
    "    print(\"80점이상\")\n",
    "else:\n",
    "    print(\"미수강\")\n",
    "\n",
    "\n"
   ]
  },
  {
   "cell_type": "code",
   "execution_count": 116,
   "metadata": {},
   "outputs": [
    {
     "name": "stdout",
     "output_type": "stream",
     "text": [
      "세에엣\n"
     ]
    }
   ],
   "source": [
    "count = 3\n",
    "if count == 1:\n",
    "    print(\"하나\")\n",
    "elif count == 2:\n",
    "    print(\"두울\")\n",
    "elif count == 3:\n",
    "    print (\"세에엣\")\n",
    "else :\n",
    "    print (\" 넌 뭐니?\")"
   ]
  },
  {
   "cell_type": "code",
   "execution_count": 130,
   "metadata": {},
   "outputs": [
    {
     "name": "stdout",
     "output_type": "stream",
     "text": [
      "candies\n",
      "cotten candy\n",
      "chocolate\n",
      "fizzy drinks\n",
      "fruite juice\n"
     ]
    }
   ],
   "source": [
    "my_favorite_sweets = [\"candies\",\"cotten candy\",\"chocolate\",\"fizzy drinks\",\"fruite juice\"]\n",
    "\n",
    "for i in my_favorite_sweets :\n",
    "    print (i)\n",
    "# 튜플 [] 안에 들어가 있는 것이 집합개념 리스트 , 튜플은 모든 것을 리스트로 나열한 개념, for 은 반복문 명령, "
   ]
  },
  {
   "cell_type": "code",
   "execution_count": 132,
   "metadata": {},
   "outputs": [
    {
     "name": "stdout",
     "output_type": "stream",
     "text": [
      "여러분 중에 0 번 손드세요\n",
      "여러분 중에 1 번 손드세요\n",
      "여러분 중에 2 번 손드세요\n",
      "여러분 중에 3 번 손드세요\n",
      "여러분 중에 4 번 손드세요\n",
      "여러분 중에 5 번 손드세요\n",
      "여러분 중에 6 번 손드세요\n",
      "여러분 중에 7 번 손드세요\n",
      "여러분 중에 8 번 손드세요\n",
      "여러분 중에 9 번 손드세요\n"
     ]
    }
   ],
   "source": [
    "for i in range (0,10) :\n",
    "    print (\"여러분 중에 %s 번 손드세요\" %i)\n",
    "    "
   ]
  },
  {
   "cell_type": "code",
   "execution_count": 152,
   "metadata": {},
   "outputs": [
    {
     "name": "stdout",
     "output_type": "stream",
     "text": [
      "안녕하세요 나 자식아, 방문해 줘서 감사합니다. 행복한 하루 되셔요~\n",
      "********************************************************************************\n",
      "안녕하세요 친구1 자식아, 방문해 줘서 감사합니다. 행복한 하루 되셔요~\n",
      "********************************************************************************\n",
      "안녕하세요 친구2 자식아, 방문해 줘서 감사합니다. 행복한 하루 되셔요~\n",
      "********************************************************************************\n",
      "안녕하세요 친구3 자식아, 방문해 줘서 감사합니다. 행복한 하루 되셔요~\n",
      "********************************************************************************\n"
     ]
    }
   ],
   "source": [
    "messages ='''안녕하세요 %s 자식아, 방문해 줘서 감사합니다. 행복한 하루 되셔요~'''\n",
    "\n",
    "for x in list:\n",
    "    list=[\"나\",'친구1','친구2','친구3']\n",
    "    print(messages %x)\n",
    "    print (\"*\" *80)"
   ]
  },
  {
   "cell_type": "code",
   "execution_count": null,
   "metadata": {
    "collapsed": true
   },
   "outputs": [],
   "source": []
  },
  {
   "cell_type": "code",
   "execution_count": null,
   "metadata": {
    "collapsed": true
   },
   "outputs": [],
   "source": []
  }
 ],
 "metadata": {
  "kernelspec": {
   "display_name": "Python 3",
   "language": "python",
   "name": "python3"
  },
  "language_info": {
   "codemirror_mode": {
    "name": "ipython",
    "version": 3
   },
   "file_extension": ".py",
   "mimetype": "text/x-python",
   "name": "python",
   "nbconvert_exporter": "python",
   "pygments_lexer": "ipython3",
   "version": "3.6.1"
  }
 },
 "nbformat": 4,
 "nbformat_minor": 2
}
