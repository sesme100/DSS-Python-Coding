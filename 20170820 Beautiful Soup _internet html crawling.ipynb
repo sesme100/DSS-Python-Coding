{
 "cells": [
  {
   "cell_type": "markdown",
   "metadata": {},
   "source": [
    "# '''파일찾기& Beautiful Soup을 이용하여 html 크롤링하기'''"
   ]
  },
  {
   "cell_type": "code",
   "execution_count": null,
   "metadata": {
    "collapsed": true
   },
   "outputs": [],
   "source": [
    "'''\n",
    "f= open(filename, mode)\n",
    "f.close()# 무조건 close 로 닫아 줘야 함 , 파일 찾기후 , 무조건 짝으로 달아주기\n",
    "'''\n",
    "f= open('./anotherfile.txt', 'w') # w는 쓰기의 모드로 파일생성\n",
    "f.close()\n",
    "\n"
   ]
  },
  {
   "cell_type": "code",
   "execution_count": 27,
   "metadata": {},
   "outputs": [
    {
     "name": "stdout",
     "output_type": "stream",
     "text": [
      "line 1. \n",
      "\n",
      "line 2. \n",
      "\n",
      "line 3. \n",
      "\n",
      "line 4. \n",
      "\n",
      "line 5. \n",
      "\n",
      "line 6. \n",
      "\n",
      "line 7. \n",
      "\n",
      "line 8. \n",
      "\n",
      "line 9. \n",
      "\n",
      "line 10. \n",
      "\n"
     ]
    }
   ],
   "source": [
    "f = open('./Newfile.txt', 'w')\n",
    "for i in range(1,11):\n",
    "    text = \"line %d. \\n\" % i\n",
    "    f.write(text)\n",
    "    print (text)\n",
    "f.close()\n"
   ]
  },
  {
   "cell_type": "code",
   "execution_count": 31,
   "metadata": {
    "collapsed": true
   },
   "outputs": [],
   "source": [
    "f=open('./anotherfile.txt', 'a')\n",
    "\n",
    "for i in range(1,11):\n",
    "    text= \"line %d \\n\" %i\n",
    "    f.write(text)\n",
    "f.close()"
   ]
  },
  {
   "cell_type": "code",
   "execution_count": 30,
   "metadata": {
    "scrolled": true
   },
   "outputs": [
    {
     "name": "stdout",
     "output_type": "stream",
     "text": [
      "line 2 \n",
      "line 3 \n",
      "line 4 \n",
      "line 5 \n",
      "line 6 \n",
      "line 7 \n",
      "line 8 \n",
      "line 9 \n",
      "line 10 \n"
     ]
    }
   ],
   "source": [
    "f = open('./anotherfile.txt','r')\n",
    "text=f.readline()\n",
    "text2=f.readlines()\n",
    "for x in text2: \n",
    "    print(x.strip('\\n'))\n",
    "f.close()\n"
   ]
  },
  {
   "cell_type": "code",
   "execution_count": null,
   "metadata": {
    "collapsed": true
   },
   "outputs": [],
   "source": []
  }
 ],
 "metadata": {
  "kernelspec": {
   "display_name": "Python 3",
   "language": "python",
   "name": "python3"
  },
  "language_info": {
   "codemirror_mode": {
    "name": "ipython",
    "version": 3
   },
   "file_extension": ".py",
   "mimetype": "text/x-python",
   "name": "python",
   "nbconvert_exporter": "python",
   "pygments_lexer": "ipython3",
   "version": "3.6.2"
  }
 },
 "nbformat": 4,
 "nbformat_minor": 2
}
