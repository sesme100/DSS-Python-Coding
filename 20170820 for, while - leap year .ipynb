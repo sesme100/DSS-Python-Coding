{
 "cells": [
  {
   "cell_type": "code",
   "execution_count": 1,
   "metadata": {},
   "outputs": [
    {
     "name": "stdout",
     "output_type": "stream",
     "text": [
      "-18\n"
     ]
    }
   ],
   "source": [
    "def cal(a,*b):\n",
    "    result=0\n",
    "    if a == 0:\n",
    "        for i in b:\n",
    "            result+=i\n",
    "        return result\n",
    "    elif a ==1:\n",
    "        for i in b:\n",
    "            result-=i\n",
    "        return result\n",
    "num= cal(1,3,4,5,6)\n",
    "print(num)"
   ]
  },
  {
   "cell_type": "code",
   "execution_count": null,
   "metadata": {
    "collapsed": true
   },
   "outputs": [],
   "source": [
    "a=3\n",
    "b=4\n",
    "a/b"
   ]
  },
  {
   "cell_type": "code",
   "execution_count": 26,
   "metadata": {},
   "outputs": [
    {
     "name": "stdout",
     "output_type": "stream",
     "text": [
      "1\n",
      "2\n",
      "3\n",
      "윤년\n",
      "5\n",
      "6\n",
      "7\n",
      "윤년\n",
      "9\n",
      "10\n",
      "11\n",
      "윤년\n",
      "13\n",
      "14\n",
      "15\n",
      "윤년\n",
      "17\n",
      "18\n",
      "19\n",
      "윤년\n",
      "21\n",
      "22\n",
      "23\n",
      "윤년\n",
      "25\n",
      "26\n",
      "27\n",
      "윤년\n",
      "29\n",
      "30\n",
      "31\n",
      "윤년\n",
      "33\n",
      "34\n",
      "35\n",
      "윤년\n",
      "37\n",
      "38\n",
      "39\n",
      "이상한년\n",
      "41\n",
      "42\n",
      "43\n",
      "윤년\n",
      "45\n",
      "46\n",
      "47\n",
      "윤년\n",
      "49\n",
      "50\n"
     ]
    }
   ],
   "source": [
    " \n",
    "num=0\n",
    "while num<50:\n",
    "    num+=1\n",
    "    if num%40==0:\n",
    "        print (\"이상한년\")\n",
    "    elif num % 100==0:\n",
    "        print(\"평년\")\n",
    "    elif num %4==0:\n",
    "        print (\"윤년\")\n",
    "    else:\n",
    "        print (num)\n",
    "   \n"
   ]
  },
  {
   "cell_type": "code",
   "execution_count": null,
   "metadata": {
    "collapsed": true
   },
   "outputs": [],
   "source": [
    "for i in range (1,101):\n",
    "    if i%400==0:\n",
    "        print (\"이상한년\")\n",
    "    elif i % 100==0:\n",
    "        print(\"평년\")\n",
    "    elif i %4==0:\n",
    "        print (\"윤년\")\n",
    "    else:\n",
    "        print (i)"
   ]
  },
  {
   "cell_type": "code",
   "execution_count": null,
   "metadata": {
    "collapsed": true
   },
   "outputs": [],
   "source": [
    "n=int(input())# 개수 정수 정의 \n",
    "nums = [int(num) for i in input().split()] # Hackersrank 예제이며 여기서 숫자는 이미 샘플로 정해져\n",
    "#나와있기때문에 여기 인터프리터에서는 실현이 안된다\n"
   ]
  },
  {
   "cell_type": "code",
   "execution_count": null,
   "metadata": {
    "collapsed": true
   },
   "outputs": [],
   "source": []
  }
 ],
 "metadata": {
  "kernelspec": {
   "display_name": "Python 3",
   "language": "python",
   "name": "python3"
  },
  "language_info": {
   "codemirror_mode": {
    "name": "ipython",
    "version": 3
   },
   "file_extension": ".py",
   "mimetype": "text/x-python",
   "name": "python",
   "nbconvert_exporter": "python",
   "pygments_lexer": "ipython3",
   "version": "3.6.2"
  }
 },
 "nbformat": 4,
 "nbformat_minor": 2
}
