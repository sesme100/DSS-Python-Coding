{
 "cells": [
  {
   "cell_type": "markdown",
   "metadata": {},
   "source": [
    "# Function 1\n",
    "\n",
    "## 학습목표\n",
    " 1. 함수의 이해\n",
    " 2. 함수 구현 및 사용 숙지\n",
    " 3. 재귀함수 구현 및 사용 숙지"
   ]
  },
  {
   "cell_type": "markdown",
   "metadata": {},
   "source": [
    "## Function basic "
   ]
  },
  {
   "cell_type": "markdown",
   "metadata": {},
   "source": [
    "* 지금까지 무심코 코드에서 사용된 많은 함수들이 존재 합니다.\n",
    "* 예를들면, sum, len, range 같은 함수 등이 있죠.\n",
    "* 함수란 우리가 알고있는 개념처럼 주어진 입력(input)에 대해서 의도된 출력(output)를 전달하는 역할을 합니다.\n",
    "\n",
    "* 그렇다면, 하나씩 살펴보겠습니다.\n",
    "  > range 함수는 정수를 입력으로 전달하면 (0, 정수) 로 이루어진 리스트를 생성하는 역할을 합니다.\n",
    "  \n",
    "  > sum 함수는 리스트, 튜플등을 입력으로 전달하면 전체 아이템의 합을 출력으로 전달하는 역할을 합니다.\n",
    "  \n",
    "  > len 함수는 리스트, 튜플등을 입력으로 전달하면 아이템의 개수를 출력으로 전달하는 역할을 합니다.\n",
    "  \n",
    "* 그리고, 위의 함수들은 모두 python 내부에 이미 정의(구현)이 되어 있습니다.\n",
    "* 위와 같은 함수를 내장함수(built-in function)이라고 합니다."
   ]
  },
  {
   "cell_type": "code",
   "execution_count": null,
   "metadata": {
    "collapsed": true
   },
   "outputs": [],
   "source": [
    "# 내장 함수의 예\n",
    "\n",
    "nums = list(range(11))\n",
    "nums\n",
    "\n",
    "print(sum(nums))\n",
    "print(len(nums))\n"
   ]
  },
  {
   "cell_type": "code",
   "execution_count": 12,
   "metadata": {},
   "outputs": [
    {
     "name": "stdout",
     "output_type": "stream",
     "text": [
      "5050\n"
     ]
    }
   ],
   "source": [
    "## 평균구하기 \n",
    "\n",
    "\n",
    "\n",
    "sum = 0\n",
    "for i in range (1,101):\n",
    "    sum += i \n",
    "\n",
    "print(sum)    \n",
    "\n",
    "\n"
   ]
  },
  {
   "cell_type": "code",
   "execution_count": 17,
   "metadata": {},
   "outputs": [
    {
     "name": "stdout",
     "output_type": "stream",
     "text": [
      "5\n"
     ]
    }
   ],
   "source": [
    "def add(a,b):\n",
    "    return a+b\n",
    "\n",
    "print(add(2, 3)) # add는 정의 되어 있지 않아 오류 발생"
   ]
  },
  {
   "cell_type": "markdown",
   "metadata": {},
   "source": [
    "* **함수의 정의**\n",
    "  + 정의 시 최초에 def 키워드 사용\n",
    "  + argument 정의 (함수에 입력으로 전달하는 값을 의미, argument 또는 parameter라고 함) \n",
    "  + : (콜론) -> 함수 역시 코드 블록이기 때문에 콜론(:) 필요\n",
    "  + body (함수의 구현 부분, 함수 역시 코드 블록이기 때문에 들여쓰기 된 부분까지 함수의 코드블록으로 인지 함)\n",
    "    - 함수를 호출한 코드 (caller)로 함수가 해당 기능을 수행하고 완료된 값(output)을 전달하기 위해 return 키워드 사용\n",
    "    - 즉, return 이후에 오는 값을 caller로 전달\n",
    "  + 함수의 네이밍 역시 중요\n",
    "    - 즉, 어떤 기능을 하는 함수인지 이름으로 최대한 나타날 수 있게 해야함\n",
    "    - e.g) get_a (x) get_student_name (o)"
   ]
  },
  {
   "cell_type": "code",
   "execution_count": null,
   "metadata": {
    "collapsed": true
   },
   "outputs": [],
   "source": [
    "# add 함수의 정의\n",
    "def add(num1, num2):\n",
    "    # 전달받은 두개의 숫자를 합하여 return \n",
    "    return num1 + num2\n",
    "\n",
    "add(1,3) ## 함수 호출 "
   ]
  },
  {
   "cell_type": "code",
   "execution_count": null,
   "metadata": {
    "collapsed": true
   },
   "outputs": [],
   "source": [
    "# add2 함수의 정의\n",
    "def add2(num1, num2):\n",
    "    print('function is called...')\n",
    "    print(num1, num2)\n",
    "    \n",
    "    # 전달받은 두개의 숫자를 합하여 return \n",
    "    return num1 + num2\n",
    "\n",
    "\n",
    "add2(4,5)"
   ]
  },
  {
   "cell_type": "markdown",
   "metadata": {},
   "source": [
    "* **exercise** 함수를 정의해 봅시다.\n",
    "1. 전달받은 3개의 숫자를 한줄에 출력 한뒤, 세 숫자의 곱을 반환하는 함수를 만드세요\n",
    "2. 문자열 2개를 전달받아 앞의 문자열이 뒤의 문자열에 포함되는지 판단(True, False)하는 함수를 만드세요\n",
    "3. 정수 한개를 입력 받아, 그것이 소수인지 아닌지 판단(True, False)하는 함수를 만드세요"
   ]
  },
  {
   "cell_type": "code",
   "execution_count": null,
   "metadata": {
    "collapsed": true
   },
   "outputs": [],
   "source": [
    "def multi(a,b,c):\n",
    "    result = a*b*c\n",
    "    return result \n",
    "multi(1,3,5)"
   ]
  },
  {
   "cell_type": "code",
   "execution_count": 1,
   "metadata": {},
   "outputs": [
    {
     "data": {
      "text/plain": [
       "False"
      ]
     },
     "execution_count": 1,
     "metadata": {},
     "output_type": "execute_result"
    }
   ],
   "source": [
    "def intersection (str1,str2):\n",
    "    if str1 in str2:\n",
    "        return True \n",
    "    return False \n",
    "\n",
    "str1 = 'This is python'\n",
    "str2 = 'python makes me crazy'\n",
    "\n",
    "intersection (str1,str2)"
   ]
  },
  {
   "cell_type": "code",
   "execution_count": 5,
   "metadata": {},
   "outputs": [
    {
     "data": {
      "text/plain": [
       "False"
      ]
     },
     "execution_count": 5,
     "metadata": {},
     "output_type": "execute_result"
    }
   ],
   "source": [
    "## 소수 찾기 \n",
    "\n",
    "def prime(num):\n",
    "    for div in range (2,num):\n",
    "        if num %div == 0:\n",
    "            return False \n",
    "    return True     \n",
    "\n",
    "\n",
    "prime(90)"
   ]
  },
  {
   "cell_type": "code",
   "execution_count": 18,
   "metadata": {},
   "outputs": [
    {
     "data": {
      "text/plain": [
       "[2, 3, 4, 5, 6]"
      ]
     },
     "execution_count": 18,
     "metadata": {},
     "output_type": "execute_result"
    }
   ],
   "source": [
    "##  소인수 분해 \n",
    "\n",
    "num = 1493\n",
    "div = 2\n",
    "\n",
    "a =[]\n",
    "while num >= div:\n",
    "    if num % div == 0:\n",
    "        a.append(div)\n",
    "        num /= div\n",
    "        div += 1\n",
    "    else:\n",
    "        num -= 1\n",
    "list(a)          \n",
    "    "
   ]
  },
  {
   "cell_type": "markdown",
   "metadata": {},
   "source": [
    "* **함수의 사용(호출)**\n",
    " + 함수명(파라미터1, 파라미터2, ... 파라미터n)\n",
    " + 위와 같이 정의 된 함수의 이름과 전달되는 parameter(인자)를 괄호안에 전달하여 함수를 호출\n",
    " + 함수가 호출되면 실행의 흐름이 호출자(caller)에서 함수(callee)로 변경 됨\n",
    " \n",
    " + 함수의 입력(인풋) 파라미터(parameter), 아규먼트(argument)라고도 함"
   ]
  },
  {
   "cell_type": "code",
   "execution_count": null,
   "metadata": {
    "collapsed": true
   },
   "outputs": [],
   "source": [
    "multi(8,10,18)"
   ]
  },
  {
   "cell_type": "code",
   "execution_count": null,
   "metadata": {
    "collapsed": true
   },
   "outputs": [],
   "source": [
    "prime(17)"
   ]
  },
  {
   "cell_type": "markdown",
   "metadata": {},
   "source": [
    "* **함수 네이밍(naming)**\n",
    "  * 함수 이름으로부터 기능이 명시 \n",
    "  * 의미와 반대되거나 맞지 않는 이름은 사용금지"
   ]
  },
  {
   "cell_type": "code",
   "execution_count": null,
   "metadata": {
    "collapsed": true
   },
   "outputs": [],
   "source": [
    "def substract(num1, num2):\n",
    "    return num1 - num2\n",
    "\n",
    "def substract(num1, num2):\n",
    "    return num1 + num2\n",
    "\n",
    "print(substract(5, 4))"
   ]
  },
  {
   "cell_type": "markdown",
   "metadata": {},
   "source": [
    "* **parameter(argument) (인자)**\n",
    " + 함수에 전달되는 입력(input)\n",
    " + 입력이 필요하지 않을 수도, 1개의 입력만 있을 수도, 여러개의 입력이 존재할 수 도 있음 예 프린트 함수 \n",
    " + 파라미터로 int, string, float, boolm, list, dict 등등 어떤 파이썬 객체도 전달 가능\n",
    " + 심지어, 함수도 함수의 파라미터로 전달 가능\n",
    " \n",
    " + python의 경우, 타입 명시가 없기 때문에, 함수 생성 시, 의도된 파라미터의 타입에 맞게 입력을 전달하는 것이 중요\n",
    " + 또한 파라미터를 전달 할 때, 정의된 순서에 따라 값을 전달하는 것이 중요\n"
   ]
  },
  {
   "cell_type": "code",
   "execution_count": null,
   "metadata": {
    "collapsed": true
   },
   "outputs": [],
   "source": [
    "# string이라는 파라미터 1개를 입력으로 받도록 의도\n",
    "# 또한, 길이를 구하기 위해 의도 하였으므로 리스트, 문자열 등의 타입이 전달 되는 것을 의도\n",
    "def len2(string):\n",
    "    return len(string)\n",
    "\n",
    "print(len2('test'))\n",
    "print(len2([1, 2, 3, 4]))"
   ]
  },
  {
   "cell_type": "markdown",
   "metadata": {},
   "source": [
    "* **exercise**)\n",
    "아래 두 코드는 실행시 오류가 발생합니다. 각각 이유를 말하시오"
   ]
  },
  {
   "cell_type": "code",
   "execution_count": null,
   "metadata": {
    "collapsed": true
   },
   "outputs": [],
   "source": [
    "# 함수를 잘못 사용한 예\n",
    "print(len2('test', '45')) # prameter가 하나 들어가도록 의도 되었으나 2개 들어감 \n",
    "print(len2(23)) ## 문자가 들어가야하는데 숫자가 들어감 "
   ]
  },
  {
   "cell_type": "markdown",
   "metadata": {},
   "source": [
    "* **Default parameter (기본 인자) ** \n",
    " + 함수의 파라미터에 기본값 지정 가능\n",
    " + 파라미터를 명시하지 않을 경우, 지정된 기본값으로 대체"
   ]
  },
  {
   "cell_type": "code",
   "execution_count": null,
   "metadata": {
    "collapsed": true
   },
   "outputs": [],
   "source": [
    "def print_hello(nums='hello world'): ## nums 는 파라미터  그리고 기본값은 'hello world' \n",
    "    print(nums)\n",
    "    \n",
    "print_hello('hi world')\n",
    "# 전달하지 않은 경우 기본 파라미터가 전달\n",
    "print_hello() ## 기본값으로 출력 "
   ]
  },
  {
   "cell_type": "markdown",
   "metadata": {},
   "source": [
    "* **기본 파라미터의 다른 예**\n",
    " - print 함수\n",
    "   - sep, end, file등 여러 기본 파라미터를 가짐 "
   ]
  },
  {
   "cell_type": "code",
   "execution_count": null,
   "metadata": {
    "collapsed": true
   },
   "outputs": [],
   "source": [
    "a = 10\n",
    "b = 10\n",
    "\n",
    "# 두 변수 사이의 구분자 재지정\n",
    "print(a, b, sep='???', end = 'haha')"
   ]
  },
  {
   "cell_type": "code",
   "execution_count": null,
   "metadata": {
    "collapsed": true
   },
   "outputs": [],
   "source": [
    "# 출력 위치 설정( 기본값 : 표준 출력)\n",
    "print(a, file=open('a.txt', 'w'))"
   ]
  },
  {
   "cell_type": "markdown",
   "metadata": {},
   "source": [
    "* **exercise** \n",
    "  * 다음 조건을 만족하는 add3함수를 작성하시오.\n",
    "    * 파라미터 : 정수 파라미터 2개 (두번째 정수가, 입력되지 않은 경우 기본값으로 10 설정)\n",
    "    * 반환 값 : 입력된 두 정수의 합\n",
    "  \n",
    "  "
   ]
  },
  {
   "cell_type": "code",
   "execution_count": null,
   "metadata": {
    "collapsed": true
   },
   "outputs": [],
   "source": [
    "def add3(a,b=10): ## b 가 호촐되지 않으면 기본값 10으로 돌려줌\n",
    "    \n",
    "    return (a+b)\n",
    "\n",
    "add3(3) ## 파라미터가 비어있으면 기본값이 설정되지 않은 a 때문에 에러남 \n"
   ]
  },
  {
   "cell_type": "markdown",
   "metadata": {},
   "source": [
    "* ** Default parameter 사용 시 주의 점**\n",
    "  * 디폴트 파라미터 뒤에 일반 파라미터가 위치할 수 없음\n",
    "  \n",
    "  * e.g) 올바른 예\n",
    "    > def test(a, b, c = 1)\n",
    "    \n",
    "    > def test(a, b = 1, c = 2)\n",
    "    \n",
    "    > def test(a = 1, b = 1, c = 3)\n",
    "    \n",
    "  * e.g) 올바르지 않은 예\n",
    "    > def test(a, b = 1, c)\n",
    "    \n",
    "    > def test(a = 1, b, c)\n",
    "    \n",
    "    > def test(a = 1, b = 1, c)"
   ]
  },
  {
   "cell_type": "code",
   "execution_count": null,
   "metadata": {
    "collapsed": true
   },
   "outputs": [],
   "source": [
    "def increment_by(a, b = 1):\n",
    "    return a + b\n",
    "\n",
    "increment_by(5)"
   ]
  },
  {
   "cell_type": "code",
   "execution_count": null,
   "metadata": {
    "collapsed": true
   },
   "outputs": [],
   "source": [
    "# 올바른 호출\n",
    "print(increment_by(45))\n",
    "print(increment_by(34, 10))"
   ]
  },
  {
   "cell_type": "code",
   "execution_count": null,
   "metadata": {
    "collapsed": true
   },
   "outputs": [],
   "source": [
    "# 올바르지 않은 호출\n",
    "print(increment_by()) \n",
    "\n",
    "# 이유는? ## a의 인자가 비어있기 때문에 오류 "
   ]
  },
  {
   "cell_type": "markdown",
   "metadata": {},
   "source": [
    "* **keyword parameter (키워드 파라미터)**\n",
    "  * 파이썬의 경우, 파라미터에 값을 전달 할 때, 파라미터의 이름을 명시하여 전달 가능\n",
    "  * 파라미터 이름을 사용하지 않을 경우, 기본적으로 순서에 맞게 전달"
   ]
  },
  {
   "cell_type": "code",
   "execution_count": 1,
   "metadata": {},
   "outputs": [
    {
     "name": "stdout",
     "output_type": "stream",
     "text": [
      "1 1 1 2\n",
      "1 1 3 4\n"
     ]
    }
   ],
   "source": [
    "def func_test(a, b, c = 1, d = 2):\n",
    "    print(a, b, c, d)\n",
    "\n",
    "# 일반적인 호출\n",
    "func_test(1, 1)\n",
    "func_test(1, 1, 3, 4)"
   ]
  },
  {
   "cell_type": "code",
   "execution_count": 2,
   "metadata": {},
   "outputs": [
    {
     "name": "stdout",
     "output_type": "stream",
     "text": [
      "4 2 1 2\n",
      "1 7 10 20\n",
      "1 2 4 5\n",
      "3 2 1 2\n",
      "3 2 1 2\n",
      "3 2 1 10\n"
     ]
    }
   ],
   "source": [
    "# 키워드 파라미터를 사용하는 호출\n",
    "func_test(b = 2, a = 4)\n",
    "func_test(1, 7, c = 10, d = 20)\n",
    "func_test(a = 1, b = 2, c = 4, d = 5)\n",
    "func_test(c = 1, d = 2, a = 3, b = 2)\n",
    "func_test(c = 1, a = 3, b = 2)\n",
    "func_test(d = 10, a = 3, b = 2)"
   ]
  },
  {
   "cell_type": "code",
   "execution_count": 3,
   "metadata": {},
   "outputs": [
    {
     "ename": "TypeError",
     "evalue": "func_test() missing 2 required positional arguments: 'a' and 'b'",
     "output_type": "error",
     "traceback": [
      "\u001b[1;31m---------------------------------------------------------------------------\u001b[0m",
      "\u001b[1;31mTypeError\u001b[0m                                 Traceback (most recent call last)",
      "\u001b[1;32m<ipython-input-3-ad8c32329373>\u001b[0m in \u001b[0;36m<module>\u001b[1;34m()\u001b[0m\n\u001b[0;32m      1\u001b[0m \u001b[1;31m# 잘못된 호출\u001b[0m\u001b[1;33m\u001b[0m\u001b[1;33m\u001b[0m\u001b[0m\n\u001b[0;32m      2\u001b[0m \u001b[1;31m#func_test(c = 1, d = 2, 1, 3) ## 맨뒤의 숫자들은 순서가 정해지지 않음\u001b[0m\u001b[1;33m\u001b[0m\u001b[1;33m\u001b[0m\u001b[0m\n\u001b[1;32m----> 3\u001b[1;33m \u001b[0mfunc_test\u001b[0m\u001b[1;33m(\u001b[0m\u001b[0mc\u001b[0m \u001b[1;33m=\u001b[0m \u001b[1;36m1\u001b[0m\u001b[1;33m,\u001b[0m \u001b[0md\u001b[0m \u001b[1;33m=\u001b[0m \u001b[1;36m2\u001b[0m\u001b[1;33m)\u001b[0m\u001b[1;33m\u001b[0m\u001b[0m\n\u001b[0m\u001b[0;32m      4\u001b[0m \u001b[0mfunc_test\u001b[0m\u001b[1;33m(\u001b[0m\u001b[1;36m1\u001b[0m\u001b[1;33m,\u001b[0m \u001b[0mc\u001b[0m \u001b[1;33m=\u001b[0m \u001b[1;36m1\u001b[0m\u001b[1;33m,\u001b[0m \u001b[0md\u001b[0m \u001b[1;33m=\u001b[0m \u001b[1;36m2\u001b[0m\u001b[1;33m)\u001b[0m\u001b[1;33m\u001b[0m\u001b[0m\n\u001b[0;32m      5\u001b[0m \u001b[0mfunc_test\u001b[0m\u001b[1;33m(\u001b[0m\u001b[1;33m)\u001b[0m\u001b[1;33m\u001b[0m\u001b[0m\n",
      "\u001b[1;31mTypeError\u001b[0m: func_test() missing 2 required positional arguments: 'a' and 'b'"
     ]
    }
   ],
   "source": [
    "# 잘못된 호출\n",
    "#func_test(c = 1, d = 2, 1, 3) ## 맨뒤의 숫자들은 순서가 정해지지 않음 \n",
    "func_test(c = 1, d = 2)\n",
    "func_test(1, c = 1, d = 2)\n",
    "func_test()"
   ]
  },
  {
   "cell_type": "markdown",
   "metadata": {},
   "source": [
    "* ** 연습문제) range 함수의 구현**\n",
    "  - loop를 이용하여 range함수를 직접 구현해보세요 "
   ]
  },
  {
   "cell_type": "code",
   "execution_count": null,
   "metadata": {
    "collapsed": true
   },
   "outputs": [],
   "source": [
    "list(range(10))\n",
    "list(range(1, 10))\n",
    "list(range(1, 10, 2))"
   ]
  },
  {
   "cell_type": "markdown",
   "metadata": {},
   "source": [
    "* **return (리턴)**\n",
    " + 기본적으로 함수의 종료를 명시\n",
    "   + return 옆에 값이나 수식이 있다면 해당 값을 호출자(caller)에게 반환(전달) \n",
    "   + return 만 존재하면 None 반환\n",
    "   + return이 없는 경우, 기본적으로 함수 코드 블록이 종료되면 종료로 간주. 이때도 None 반환"
   ]
  },
  {
   "cell_type": "code",
   "execution_count": null,
   "metadata": {
    "collapsed": true
   },
   "outputs": [],
   "source": [
    "# 1을 반환하는 함수 생성\n",
    "def simple():\n",
    "\n",
    "    print('hahah')\n",
    "    print('hohohs')\n",
    "    return 1              ## 리턴값으로 돌려주고 끝나서 다음 프린트 명령은 출력되지 않음 (def 종속에 걸려있는 경우 )\n",
    "\n",
    "    print('hahah') "
   ]
  },
  {
   "cell_type": "code",
   "execution_count": null,
   "metadata": {
    "collapsed": true
   },
   "outputs": [],
   "source": [
    "# simple 함수 호출\n",
    "simple() ## 마지막 hahaha는 안나옴 "
   ]
  },
  {
   "cell_type": "code",
   "execution_count": null,
   "metadata": {
    "collapsed": true
   },
   "outputs": [],
   "source": [
    "# simple 함수 호출 결과를 s 변수에 대입\n",
    "# caller는 현재 cell이며, simple의 코드가 수행된 후, 반환값으로 1을 전달 하였기 때문에\n",
    "# s에 1이 대입\n",
    "s = simple()\n",
    "print(s)"
   ]
  },
  {
   "cell_type": "code",
   "execution_count": null,
   "metadata": {
    "collapsed": true
   },
   "outputs": [],
   "source": [
    "# 반환값이 없는 함수\n",
    "def print_something(a): ## a 의 파라미터에는 무조건 조건이 들어가야함 \n",
    "    print('hi there')\n",
    "    print(a)\n",
    "    print('see you again')"
   ]
  },
  {
   "cell_type": "code",
   "execution_count": null,
   "metadata": {
    "collapsed": true
   },
   "outputs": [],
   "source": [
    "print_something('')"
   ]
  },
  {
   "cell_type": "code",
   "execution_count": null,
   "metadata": {
    "collapsed": true
   },
   "outputs": [],
   "source": [
    "# 해당 함수는 아무것도 반환하지 않으므로, None 반환\n",
    "# 즉, 변수 c에는 None 대입\n",
    "c = print_something('dds')\n",
    "\n",
    "\n",
    "## print(c)를 출력하라는것은 c의 리턴값을 찾는것 그러나 없으므로 none반환 \n",
    "print(c) \n",
    "c ## 만약 c만 입력한다면 아까 print_something('dds') 하는 명령만 수행\n"
   ]
  },
  {
   "cell_type": "code",
   "execution_count": 4,
   "metadata": {},
   "outputs": [
    {
     "name": "stdout",
     "output_type": "stream",
     "text": [
      "None\n"
     ]
    }
   ],
   "source": [
    "# return 만 명시하여도 None을 반환\n",
    "def just_return():\n",
    "    a = 1\n",
    "    b = 1\n",
    "    return \n",
    "    #return None\n",
    "\n",
    "c = just_return()\n",
    "print(c)"
   ]
  },
  {
   "cell_type": "markdown",
   "metadata": {},
   "source": [
    "* **exercise** \n",
    "0에서 부터 주어진 정수값의 두배 크기까지의 숫자를 차례대로 갖는 리스트를 생성하여 반환하는 함수를 만드시오"
   ]
  },
  {
   "cell_type": "code",
   "execution_count": 5,
   "metadata": {
    "collapsed": true
   },
   "outputs": [],
   "source": [
    "def double(num):\n",
    "    return(list(range(0,num*2+1)))"
   ]
  },
  {
   "cell_type": "code",
   "execution_count": 7,
   "metadata": {},
   "outputs": [
    {
     "data": {
      "text/plain": [
       "[0, 1, 2, 3, 4, 5, 6, 7, 8, 9, 10]"
      ]
     },
     "execution_count": 7,
     "metadata": {},
     "output_type": "execute_result"
    }
   ],
   "source": [
    "double(5)"
   ]
  },
  {
   "cell_type": "markdown",
   "metadata": {},
   "source": [
    "* **multiple return (복수 값 반환)**\n",
    " + tuple반환을 하여 복수개의 값 리턴 가능"
   ]
  },
  {
   "cell_type": "code",
   "execution_count": 8,
   "metadata": {
    "collapsed": true
   },
   "outputs": [],
   "source": [
    "# 이런 경우는 지양하는 것이 좋음\n",
    "# 함수 한개가 한개의 기능만을 수행하도록 함\n",
    "def add_sub(a, b):\n",
    "    return a+b, a-b\n",
    "\n",
    "def add(a, b):\n",
    "    return a + b\n",
    "\n",
    "def sub(a, b):\n",
    "    return a - b"
   ]
  },
  {
   "cell_type": "code",
   "execution_count": 9,
   "metadata": {},
   "outputs": [
    {
     "name": "stdout",
     "output_type": "stream",
     "text": [
      "<class 'tuple'> (9, -1)\n",
      "9 -1\n"
     ]
    }
   ],
   "source": [
    "# 튜플을 반환\n",
    "c = add_sub(4, 5)\n",
    "\n",
    "# 튜를 언박싱으로 각각 값을 변수에 대입\n",
    "e, f = add_sub(4, 5)\n",
    "\n",
    "\n",
    "print(type(c), c)\n",
    "print(e, f)\n",
    "\n"
   ]
  },
  {
   "cell_type": "markdown",
   "metadata": {},
   "source": [
    "* **variable scope (변수의 범위)** \n",
    " + 변수가 참조 가능한 코드상의 범위를 명시\n",
    " + 함수내의 변수는 자신이 속한 코드 블록이 종료되면 소멸됨\n",
    " + 이렇게 특정 코드 블록에서 선언된 변수를 **지역변수(local variable)** 이라고 함\n",
    " + 반대로 가장 상단에서 정의되어 프로그램 종료 전까지 유지되는 변수를 **전역변수(global variable)**이라고 함\n",
    " + 같은 이름의 지역변수와 전역변수가 존재할 경우, 지역변수의 우선순위가 더 높음"
   ]
  },
  {
   "cell_type": "code",
   "execution_count": null,
   "metadata": {
    "collapsed": true
   },
   "outputs": [],
   "source": [
    "def f(): \n",
    "    s = 'java'\n",
    "    print(s) # 지역변수 s를 출력\n",
    "    \n",
    "s = \"Python\" ## 이건 글로벌 변수 \n",
    "\n",
    "f()\n",
    "\n",
    "print(s)"
   ]
  },
  {
   "cell_type": "code",
   "execution_count": null,
   "metadata": {
    "collapsed": true
   },
   "outputs": [],
   "source": [
    "del s # 아래 예제를 위해 전역 변수 s 삭제"
   ]
  },
  {
   "cell_type": "code",
   "execution_count": null,
   "metadata": {
    "collapsed": true
   },
   "outputs": [],
   "source": [
    "def f(): \n",
    "    s = \"Perl\" # 로컬 변수 생성\n",
    "    print(s) \n",
    "\n",
    "print(f()) ## 벌써 이미 f() 실행이 되었고 없어졌음 그래서 none 값이 나옴 \n",
    "\n",
    "print(s) ## 글로벌 함수라서 이미 글로벌 함수로 정의된것을 찾아 출력함 \n",
    "# s는 함수f의 지역변수였기 때문에 함수가 종료되면서 scope이 종료되어 사라짐, 따라서 오류 발생"
   ]
  },
  {
   "cell_type": "code",
   "execution_count": null,
   "metadata": {
    "collapsed": true
   },
   "outputs": [],
   "source": [
    "def f():\n",
    "    print(s) \n",
    "    \n",
    "s = 'Fish'\n",
    "\n",
    "f()"
   ]
  },
  {
   "cell_type": "code",
   "execution_count": null,
   "metadata": {
    "collapsed": true
   },
   "outputs": [],
   "source": [
    "def f(): ## 이것만 단독으로 실행하면 값은 안나옴, f() 전체 종속절 print 까지 다 안나옴 \n",
    "    \n",
    "    print(s)\n",
    "    \n",
    "    global sound \n",
    "     ## global 조건은 무조건 s 이전에 나와야 한다 , 하기에 나오는 s는 이제 글로벌이다 라고 선언 , 만약 s보다 global s가 뒤에 있으면 에러:name 's' is assigned to before global declaration\n",
    "    sound = \"dog\" # 지역변수가 아닌, 전역변수가 인식 \n",
    "    \n",
    "    print(sound)  \n",
    "\n",
    "    \n",
    "sound = \"cat\" \n",
    "print(s) # 위의 s = fish 값 대입됨 \n",
    "\n",
    "print(sound) ## cat 값\n",
    "f() ##f()에서 호출된 값 \n",
    "\n",
    "\n",
    "print(sound) ## 글로벌 sound 인 dog 값\n",
    "print(sound) ## 글로벌 sound 인 dog 값\n"
   ]
  },
  {
   "cell_type": "markdown",
   "metadata": {},
   "source": [
    "* 연습문제 \n",
    " 1. 섭씨 온도를 입력받아, 화씨 온도로 변환하는 함수를 만들고, 섭씨 36.5의 화씨 값을 출력하세요. 화씨 = 섭씨x1.8 + 32\n",
    " 2. 숫자로 이루어진 리스트를 입력 받아, 그 수 중 홀수인 경우만 합하여 반환하는 함수를 만드세요.\n",
    " 3. 숫자로 이루어진 리스트를 입력 받아, 그 수 중 가장 큰 수를 반환하는 함수를 만드세요.\n",
    " 4. 문자열을 입력받아 거꾸로된 문자열을 반환하는 함수를 만드세요. \n",
    " 5. 숫자를 입력 받아 factorial을 반환하는 함수를 만드세요. 5! = factorial(5) = 5x4x3x2x1\n",
    " 6. 숫자로 이루어진 리스트를 입력 받아, 중복을 제거한 리스트만 반환하는 함수를 만드세요. 반환되는 리스트의 순서는 관계 없음 [1,1, 2, 3, 3, 2, 4] -> [1, 2, 3, 4]\n",
    " 7. 숫자로 이루어진 리스트를 입력 받아, 특정 숫자를 검색하는 함수를 만드세요. 없는 경우 -1 반환\n",
    " 8. 정렬된 숫자로 이루어진 리스트를 입력 받아, 이진탐색으로 특정 숫자를 검색하는 함수를 만드세요. 없는 경우 -1 반환\n",
    " 9. 두개의 정수 리스트를 입력 받아, 두 리스트에 모두 포함된 숫자만 갖는 리스트를 반환하시오. 이때, 생성되는 리스트는 정렬할 필요가 없습니다."
   ]
  },
  {
   "cell_type": "code",
   "execution_count": 102,
   "metadata": {},
   "outputs": [
    {
     "data": {
      "text/plain": [
       "97.7"
      ]
     },
     "execution_count": 102,
     "metadata": {},
     "output_type": "execute_result"
    }
   ],
   "source": [
    "\n",
    "def Fe(c):\n",
    "    return c*1.8 +32 \n",
    "\n",
    "Fe(36.5)"
   ]
  },
  {
   "cell_type": "code",
   "execution_count": 9,
   "metadata": {},
   "outputs": [
    {
     "data": {
      "text/plain": [
       "[18,\n",
       " 11,\n",
       " 22,\n",
       " 32,\n",
       " 2,\n",
       " 36,\n",
       " 4,\n",
       " 25,\n",
       " 15,\n",
       " 13,\n",
       " 38,\n",
       " 16,\n",
       " 23,\n",
       " 27,\n",
       " 37,\n",
       " 0,\n",
       " 39,\n",
       " 10,\n",
       " 33,\n",
       " 8,\n",
       " 14,\n",
       " 30]"
      ]
     },
     "execution_count": 9,
     "metadata": {},
     "output_type": "execute_result"
    }
   ],
   "source": [
    "import random\n",
    "\n",
    "nums = random.sample(range(40), 22)\n",
    "\n",
    "nums\n"
   ]
  },
  {
   "cell_type": "code",
   "execution_count": 10,
   "metadata": {},
   "outputs": [
    {
     "data": {
      "text/plain": [
       "223"
      ]
     },
     "execution_count": 10,
     "metadata": {},
     "output_type": "execute_result"
    }
   ],
   "source": [
    "## 숫자로 이루어진 리스트를 입력 받아, 그 수 중 홀수인 경우만 합하여 반환하는 함수를 만드세요.\n",
    "def sum_thing(nums):\n",
    " \n",
    "    summ = 0\n",
    "    for i in nums:\n",
    "        \n",
    "        if i & 1: ##??????  i 가 홀수이면 \n",
    "            summ += i\n",
    "    return summ\n",
    "\n",
    "sum_thing(nums)              "
   ]
  },
  {
   "cell_type": "code",
   "execution_count": 23,
   "metadata": {},
   "outputs": [
    {
     "data": {
      "text/plain": [
       "55"
      ]
     },
     "execution_count": 23,
     "metadata": {},
     "output_type": "execute_result"
    }
   ],
   "source": [
    "sum(list(range(1,11)))## practice "
   ]
  },
  {
   "cell_type": "code",
   "execution_count": 30,
   "metadata": {},
   "outputs": [
    {
     "name": "stdout",
     "output_type": "stream",
     "text": [
      "[1, 2, 3, 4, 5, 6]\n"
     ]
    },
    {
     "data": {
      "text/plain": [
       "9"
      ]
     },
     "execution_count": 30,
     "metadata": {},
     "output_type": "execute_result"
    }
   ],
   "source": [
    "def sum_all(lists): ## my practice \n",
    "    sum = 0\n",
    "    for i in lists:\n",
    "        if i & 1: ## bitwise 이진법 셈, 만약  이진법으로 변형된 i의 마지막자리가 1 과 교집합이 true  라면 :\n",
    "            sum += i \n",
    "    return sum \n",
    "\n",
    "print(list1) \n",
    "sum_all(list1)\n"
   ]
  },
  {
   "cell_type": "code",
   "execution_count": 97,
   "metadata": {},
   "outputs": [
    {
     "ename": "NameError",
     "evalue": "name 'binary' is not defined",
     "output_type": "error",
     "traceback": [
      "\u001b[1;31m---------------------------------------------------------------------------\u001b[0m",
      "\u001b[1;31mNameError\u001b[0m                                 Traceback (most recent call last)",
      "\u001b[1;32m<ipython-input-97-372ef2feabc9>\u001b[0m in \u001b[0;36m<module>\u001b[1;34m()\u001b[0m\n\u001b[1;32m----> 1\u001b[1;33m \u001b[0mbinary\u001b[0m\u001b[1;33m(\u001b[0m\u001b[1;36m13\u001b[0m\u001b[1;33m)\u001b[0m\u001b[1;33m\u001b[0m\u001b[0m\n\u001b[0m",
      "\u001b[1;31mNameError\u001b[0m: name 'binary' is not defined"
     ]
    }
   ],
   "source": [
    "## 13이진법 = 0000 1101 \n",
    "## 60 이진법 = 0011 1100 \n",
    "## 13이진법 과 30이진법의 교집합은 a&b = 0000 1100\n",
    "## https://www.tutorialspoint.com/python3/python_basic_operators.htm\n",
    "\n",
    "'''Bitwise operator works on bits and performs bit-by-bit operation. Assume if a = 60; and b = 13; Now in binary format they will be as follows −\n",
    "\n",
    "a = 0011 1100\n",
    "\n",
    "b = 0000 1101\n",
    "\n",
    "-----------------\n",
    "\n",
    "a&b = 0000 1100\n",
    "\n",
    "a|b = 0011 1101\n",
    "\n",
    "a^b = 0011 0001\n",
    "\n",
    "~a = 1100 0011 '''"
   ]
  },
  {
   "cell_type": "code",
   "execution_count": 19,
   "metadata": {},
   "outputs": [
    {
     "data": {
      "text/plain": [
       "['y', 't', 's', 's', 'r', 'r', 'r', 'm', 'm', 'i', 'h', 'e', 'c', 'a', ' ']"
      ]
     },
     "execution_count": 19,
     "metadata": {},
     "output_type": "execute_result"
    }
   ],
   "source": [
    "##문자열을 입력받아 거꾸로된 문자열을 반환하는 함수를 만드세요 (리버싱) - 내답\n",
    "a = 'merry christmas'\n",
    "\n",
    "\n",
    "def reverse(n):\n",
    "    c = sorted(n,reverse = True)\n",
    "    return c\n",
    "\n",
    "reverse(a)\n"
   ]
  },
  {
   "cell_type": "code",
   "execution_count": 13,
   "metadata": {},
   "outputs": [
    {
     "data": {
      "text/plain": [
       "'samtsirhc yrrem'"
      ]
     },
     "execution_count": 13,
     "metadata": {},
     "output_type": "execute_result"
    }
   ],
   "source": [
    "def reverse_str(str1):\n",
    "    return str1[:: -1]\n",
    "\n",
    "reverse_str(a)"
   ]
  },
  {
   "cell_type": "code",
   "execution_count": 71,
   "metadata": {},
   "outputs": [
    {
     "data": {
      "text/plain": [
       "24"
      ]
     },
     "execution_count": 71,
     "metadata": {},
     "output_type": "execute_result"
    }
   ],
   "source": [
    "##숫자를 입력 받아 factorial을 반환하는 함수를 만드세요. 5! = factorial(5) = 5x4x3x2x1\n",
    "## 재귀함수\n",
    "def fac (n):\n",
    "    if n <= 1:\n",
    "        return 1\n",
    "    return n*fac(n-1)\n",
    "\n",
    "fac(5)\n",
    "fac(4)\n"
   ]
  },
  {
   "cell_type": "code",
   "execution_count": 34,
   "metadata": {},
   "outputs": [
    {
     "name": "stdout",
     "output_type": "stream",
     "text": [
      "{1, 2, 3, 4} {1, 2, 3, 4}\n",
      "[4, 3, 2, 1]\n"
     ]
    }
   ],
   "source": [
    "## 숫자로 이루어진 리스트를 입력 받아, 중복을 제거한 리스트만 반환하는 함수를 만드세요. 반환되는 리스트의 순서는 관계 없음 [1,1, 2, 3, 3, 2, 4] -> [1, 2, 3, 4]\n",
    "\n",
    "a = {1,1, 2, 3, 3, 2, 4} ## 딕셔너리를 셋으로 만들면 중복제거됨 (셋은 집합과 같음)\n",
    "\n",
    "b = [1,1,2,3,3,4,2] ## 본래 리스트에서는 리스트로 만들어도 중복제거안됨\n",
    "def sorting_list(n):\n",
    "    return set(n)\n",
    "\n",
    "\n",
    "print(sorting_list(a),sorting_list(b))\n",
    "print(sorted(a,reverse=True))"
   ]
  },
  {
   "cell_type": "code",
   "execution_count": 20,
   "metadata": {},
   "outputs": [
    {
     "data": {
      "text/plain": [
       "{' ', 'a', 'c', 'e', 'h', 'i', 'm', 'r', 's', 't', 'y'}"
      ]
     },
     "execution_count": 20,
     "metadata": {},
     "output_type": "execute_result"
    }
   ],
   "source": [
    "def remove_d(nums):\n",
    "    return set(nums) ## set은 중복되는 모든 수를 없애준다 \n",
    "\n",
    "remove_d(a)"
   ]
  },
  {
   "cell_type": "code",
   "execution_count": 21,
   "metadata": {},
   "outputs": [
    {
     "data": {
      "text/plain": [
       "[33, 9, 5, 27, 32, 29, 20, 25, 18, 19, 15, 34, 0, 13, 24, 26, 22, 31]"
      ]
     },
     "execution_count": 21,
     "metadata": {},
     "output_type": "execute_result"
    }
   ],
   "source": [
    "## 숫자로 이루어진 리스트를 입력 받아, 특정 숫자를 검색하는 함수를 만드세요. 없는 경우 -1 반환\n",
    "\n",
    "nums = random.sample(range(35),18)\n",
    "\n",
    "nums"
   ]
  },
  {
   "cell_type": "code",
   "execution_count": 23,
   "metadata": {},
   "outputs": [
    {
     "name": "stdout",
     "output_type": "stream",
     "text": [
      "19\n"
     ]
    }
   ],
   "source": [
    "def search_somenum (nums, key):\n",
    "    if key in nums:\n",
    "        print(key)\n",
    "    else:\n",
    "        return -1\n",
    "\n",
    "search_somenum (nums, 19)"
   ]
  },
  {
   "cell_type": "code",
   "execution_count": 35,
   "metadata": {},
   "outputs": [
    {
     "data": {
      "text/plain": [
       "[35, 78]"
      ]
     },
     "execution_count": 35,
     "metadata": {},
     "output_type": "execute_result"
    }
   ],
   "source": [
    "## 두개의 정수 리스트를 입력 받아, 두 리스트에 모두 포함된 숫자만 갖는 리스트를 반환하시오. 이때, 생성되는 리스트는 정렬할 필요가 없습니다.\n",
    "list1 = [4, 7, 15, 35, 78, 25]\n",
    "list2 = [35, 70, 78, 10, 3, 6]\n",
    "\n",
    "def items_lists(num1, num2): ## 정수 2 개만 받음 \n",
    "    result = [] ## 리절트 리스트에 넣어라 \n",
    "    for i in num1:\n",
    "        if i in num2:\n",
    "            result.append(i)\n",
    "    return result \n",
    "\n",
    "items_lists(list1, list2)\n"
   ]
  },
  {
   "cell_type": "code",
   "execution_count": 26,
   "metadata": {},
   "outputs": [
    {
     "data": {
      "text/plain": [
       "[35, 78, 35]"
      ]
     },
     "execution_count": 26,
     "metadata": {},
     "output_type": "execute_result"
    }
   ],
   "source": [
    "## 두개의 정수 리스트를 입력 받아, 두 리스트에 모두 포함된 숫자만 갖는 리스트를 반환하시오. 이때, 생성되는 리스트는 정렬할 필요가 없습니다.\n",
    "def items_lists(num1, num2): ## 정수 2 개만 받음 \n",
    "    result = [] ## 리절트 리스트에 넣어라 \n",
    "    \n",
    "    d = {n:1 for n in num2} ## comprehension, 딕셔너리 num2에 있는 키값들의 벨류값은 모두 1씩 \n",
    "    \n",
    "    for i in num1:\n",
    "        if i in d: ## d 의 키값인 i가 있다면 result 리스트로 반환 \n",
    "            result.append(i)\n",
    "    return result \n",
    "\n",
    "items_lists (list1, list2)\n"
   ]
  },
  {
   "cell_type": "code",
   "execution_count": 40,
   "metadata": {},
   "outputs": [
    {
     "data": {
      "text/plain": [
       "{3: 2, 6: 2, 10: 2, 35: 2, 70: 2, 78: 2}"
      ]
     },
     "execution_count": 40,
     "metadata": {},
     "output_type": "execute_result"
    }
   ],
   "source": [
    "d = {n:2 for n in list2} ## Comprehension\n",
    "d\n"
   ]
  },
  {
   "cell_type": "code",
   "execution_count": 45,
   "metadata": {},
   "outputs": [
    {
     "data": {
      "text/plain": [
       "{1: 1, 2: 4, 3: 9, 4: 16, 5: 25}"
      ]
     },
     "execution_count": 45,
     "metadata": {},
     "output_type": "execute_result"
    }
   ],
   "source": [
    "f= [i**2 for i in range (1,6)]\n",
    "\n",
    "\n",
    "g= {i:i**2 for i in range (1,6)}\n",
    "g"
   ]
  },
  {
   "cell_type": "code",
   "execution_count": 69,
   "metadata": {},
   "outputs": [
    {
     "name": "stdout",
     "output_type": "stream",
     "text": [
      "apple pear juice\n",
      "tomatoes lemon juice\n",
      "potatoes mango juice\n",
      "mango apple juice\n"
     ]
    }
   ],
   "source": [
    "fruits = {'apple','mango','potatoes','tomatoes'}\n",
    "juice = {'apple juice', 'mango juice', 'lemon juice','pear juice'}\n",
    "buckets = {i:len(i) for i in fruits}\n",
    "list(buckets.items()) ## 튜플의 리스트 형태로 전환 \n",
    "list(buckets.keys())\n",
    "for k,v  in zip (fruits, juice):\n",
    "    print(k,v)\n"
   ]
  },
  {
   "cell_type": "markdown",
   "metadata": {},
   "source": [
    "+ **variable length argument (가변길이 인자)**\n",
    " - 전달되는 파라미터의 개수가 고정적이지 않은 경우 사용\n",
    " - e.g)\n",
    "   - print 함수\n",
    "   - format 함수\n",
    "  \n",
    ">***args**,  ****kwargs**\n",
    "\n",
    "> ***args**    : 파라미터를 튜플의 형태로 전달\n",
    "\n",
    "> ****kwargs** : 파리미터를 딕셔너리 형태로 전달(네임드 파라미터)"
   ]
  },
  {
   "cell_type": "code",
   "execution_count": 77,
   "metadata": {},
   "outputs": [
    {
     "name": "stdout",
     "output_type": "stream",
     "text": [
      "formal arg: (1, 'two', 'three') <class 'tuple'>\n",
      "another arg: 1\n",
      "another arg: two\n",
      "another arg: three\n",
      "--------------------------------------------------\n",
      "formal arg: (1, 'two') <class 'tuple'>\n",
      "another arg: 1\n",
      "another arg: two\n",
      "--------------------------------------------------\n",
      "formal arg: (1,) <class 'tuple'>\n",
      "another arg: 1\n",
      "--------------------------------------------------\n",
      "formal arg: () <class 'tuple'>\n",
      "--------------------------------------------------\n"
     ]
    }
   ],
   "source": [
    "# 파라미터 이름 앞에 *가 붙어 가변인수로 정의\n",
    "def test_var_args(*args): ## 파라미터가 여러개이다, 몇개인지 모른다 라고 정해줌 \n",
    "    print(\"formal arg:\", args, type(args))\n",
    "    \n",
    "    for arg in args:\n",
    "        print(\"another arg:\", arg)\n",
    "\n",
    "test_var_args(1, \"two\", 'three')\n",
    "print('-' * 50)\n",
    "\n",
    "test_var_args(1, 'two')\n",
    "print('-' * 50)\n",
    "\n",
    "test_var_args(1)\n",
    "print('-' * 50)\n",
    "\n",
    "test_var_args()\n",
    "print('-' * 50)"
   ]
  },
  {
   "cell_type": "code",
   "execution_count": 121,
   "metadata": {},
   "outputs": [
    {
     "name": "stdout",
     "output_type": "stream",
     "text": [
      "formal arg: (1, 'two', 'three') <class 'tuple'>\n",
      "another arg: 1\n",
      "another arg: two\n",
      "another arg: three\n",
      "--------------------------------------------------\n",
      "formal arg: (1, 'two') <class 'tuple'>\n",
      "another arg: 1\n",
      "another arg: two\n",
      "--------------------------------------------------\n",
      "formal arg: (1,) <class 'tuple'>\n",
      "another arg: 1\n",
      "--------------------------------------------------\n",
      "formal arg: () <class 'tuple'>\n",
      "--------------------------------------------------\n"
     ]
    }
   ],
   "source": [
    "# 파라미터 이름 앞에 *가 붙어 가변인수로 정의\n",
    "def test_var_args(*mmm): ## 파라미터가 여러개이다, 몇개인지 모른다 라고 정해줌 \n",
    "    print(\"formal arg:\", mmm, type(mmm)) ## mmm의 리스트에 대한 값 출력 \n",
    "    \n",
    "    for i in mmm:\n",
    "        print(\"another arg:\", i)\n",
    "\n",
    "test_var_args(1, \"two\", 'three')\n",
    "print('-' * 50)\n",
    "\n",
    "test_var_args(1, 'two')\n",
    "print('-' * 50)\n",
    "\n",
    "test_var_args(1)\n",
    "print('-' * 50)\n",
    "\n",
    "test_var_args()\n",
    "print('-' * 50)"
   ]
  },
  {
   "cell_type": "code",
   "execution_count": 122,
   "metadata": {},
   "outputs": [
    {
     "name": "stdout",
     "output_type": "stream",
     "text": [
      "formal arg: ('two', 'three') <class 'tuple'>\n",
      "1 another arg: two\n",
      "another arg: three\n",
      "--------------------------------------------------\n",
      "formal arg: ('two',) <class 'tuple'>\n",
      "1 another arg: two\n",
      "--------------------------------------------------\n",
      "formal arg: () <class 'tuple'>\n",
      "1 --------------------------------------------------\n"
     ]
    },
    {
     "ename": "TypeError",
     "evalue": "test_var_args() missing 1 required positional argument: 'farg'",
     "output_type": "error",
     "traceback": [
      "\u001b[1;31m---------------------------------------------------------------------------\u001b[0m",
      "\u001b[1;31mTypeError\u001b[0m                                 Traceback (most recent call last)",
      "\u001b[1;32m<ipython-input-122-e3138ecfba2b>\u001b[0m in \u001b[0;36m<module>\u001b[1;34m()\u001b[0m\n\u001b[0;32m     18\u001b[0m \u001b[1;33m\u001b[0m\u001b[0m\n\u001b[0;32m     19\u001b[0m \u001b[1;31m# 에러 발생. 이유는? ## 에러는 일반 파라미터 1개를 넣으라고 default해줬는데 1개도 들어가 있지 않아서\u001b[0m\u001b[1;33m\u001b[0m\u001b[1;33m\u001b[0m\u001b[0m\n\u001b[1;32m---> 20\u001b[1;33m \u001b[0mtest_var_args\u001b[0m\u001b[1;33m(\u001b[0m\u001b[1;33m)\u001b[0m \u001b[1;31m## test_var_args() missing 1 required positional argument: 'farg'\u001b[0m\u001b[1;33m\u001b[0m\u001b[0m\n\u001b[0m\u001b[0;32m     21\u001b[0m \u001b[0mprint\u001b[0m\u001b[1;33m(\u001b[0m\u001b[1;34m'-'\u001b[0m \u001b[1;33m*\u001b[0m \u001b[1;36m50\u001b[0m\u001b[1;33m)\u001b[0m\u001b[1;33m\u001b[0m\u001b[0m\n",
      "\u001b[1;31mTypeError\u001b[0m: test_var_args() missing 1 required positional argument: 'farg'"
     ]
    }
   ],
   "source": [
    "# 파라미터 이름 앞에 *가 붙어 가변인수로 정의\n",
    "# 여기서는 첫번째 파라미터는 일반 파라미터\n",
    "def test_var_args(farg, *args):\n",
    "    print(\"formal arg:\", args, type(args))\n",
    "    \n",
    "    print(farg, end=' ')\n",
    "    for i in args:\n",
    "        print(\"another arg:\", i)\n",
    "\n",
    "test_var_args(1, \"two\", 'three')\n",
    "print('-' * 50)\n",
    "\n",
    "test_var_args(1, 'two')\n",
    "print('-' * 50)\n",
    "\n",
    "test_var_args(1)\n",
    "print('-' * 50)\n",
    "\n",
    "# 에러 발생. 이유는? ## 에러는 일반 파라미터 1개를 넣으라고 default해줬는데 1개도 들어가 있지 않아서 \n",
    "test_var_args() ## test_var_args() missing 1 required positional argument: 'farg'\n",
    "print('-' * 50)"
   ]
  },
  {
   "cell_type": "code",
   "execution_count": 123,
   "metadata": {},
   "outputs": [
    {
     "name": "stdout",
     "output_type": "stream",
     "text": [
      "formal arg: 1\n",
      "<class 'tuple'>\n",
      "another arg: two\n",
      "another arg: 3\n",
      "------------------------------\n"
     ]
    },
    {
     "ename": "TypeError",
     "evalue": "test_tuple_args() takes 2 positional arguments but 3 were given",
     "output_type": "error",
     "traceback": [
      "\u001b[1;31m---------------------------------------------------------------------------\u001b[0m",
      "\u001b[1;31mTypeError\u001b[0m                                 Traceback (most recent call last)",
      "\u001b[1;32m<ipython-input-123-02132b8c97e7>\u001b[0m in \u001b[0;36m<module>\u001b[1;34m()\u001b[0m\n\u001b[0;32m     11\u001b[0m \u001b[0mtest_tuple_args\u001b[0m\u001b[1;33m(\u001b[0m\u001b[1;36m1\u001b[0m\u001b[1;33m,\u001b[0m \u001b[1;33m(\u001b[0m\u001b[1;34m\"two\"\u001b[0m\u001b[1;33m,\u001b[0m \u001b[1;36m3\u001b[0m\u001b[1;33m)\u001b[0m\u001b[1;33m)\u001b[0m\u001b[1;33m\u001b[0m\u001b[0m\n\u001b[0;32m     12\u001b[0m \u001b[0mprint\u001b[0m\u001b[1;33m(\u001b[0m\u001b[1;34m'-'\u001b[0m \u001b[1;33m*\u001b[0m \u001b[1;36m30\u001b[0m\u001b[1;33m)\u001b[0m\u001b[1;33m\u001b[0m\u001b[0m\n\u001b[1;32m---> 13\u001b[1;33m \u001b[0mtest_tuple_args\u001b[0m\u001b[1;33m(\u001b[0m\u001b[1;36m1\u001b[0m\u001b[1;33m,\u001b[0m \u001b[1;34m\"two\"\u001b[0m\u001b[1;33m,\u001b[0m \u001b[1;36m3\u001b[0m\u001b[1;33m)\u001b[0m\u001b[1;33m\u001b[0m\u001b[0m\n\u001b[0m\u001b[0;32m     14\u001b[0m \u001b[1;31m#test_tuple_args(1) 인자의 개수가 맞지 않아 에러 발생\u001b[0m\u001b[1;33m\u001b[0m\u001b[1;33m\u001b[0m\u001b[0m\n",
      "\u001b[1;31mTypeError\u001b[0m: test_tuple_args() takes 2 positional arguments but 3 were given"
     ]
    }
   ],
   "source": [
    "# 위 함수와의 차이점은?\n",
    "# 두개의 파라미터 모두 일반 파라미터 이기 때문에 2개이 인자만 전달 할 수 있음\n",
    "def test_tuple_args(farg, tuple_args):\n",
    "    print(\"formal arg:\", farg)\n",
    "    print(type(tuple_args))\n",
    "    for arg in tuple_args:\n",
    "        print(\"another arg:\", arg)\n",
    "\n",
    "#test_tuple_args(1, \"two\", 3) 인자의 개수가 맞지 않아 에러 발생\n",
    "\n",
    "test_tuple_args(1, (\"two\", 3))\n",
    "print('-' * 30)\n",
    "test_tuple_args(1, \"two\", 3) \n",
    "#test_tuple_args(1) 인자의 개수가 맞지 않아 에러 발생"
   ]
  },
  {
   "cell_type": "markdown",
   "metadata": {},
   "source": [
    "* **keyword parameter (키워드 파라미터)**\n",
    " - \\**가 붙은 경우에는 키워드 파라미터로 인식\n",
    " - 즉 함수 호출 시, 파리미터의 이름과 값을 함께 전달 가능"
   ]
  },
  {
   "cell_type": "code",
   "execution_count": 31,
   "metadata": {},
   "outputs": [
    {
     "name": "stdout",
     "output_type": "stream",
     "text": [
      "<class 'dict'>\n",
      "another keyword arg: two: 2\n",
      "another keyword arg: three: 3\n",
      "<class 'dict'>\n",
      "another keyword arg: aa: 1\n",
      "another keyword arg: bb: 2\n"
     ]
    }
   ],
   "source": [
    "# 키워드 파라미터, 딕셔너리 타입을 가짐\n",
    "# 키워드 파라미터 형태로 전달해야함\n",
    "def test_var_kwargs(**kwargs):\n",
    "    print(type(kwargs))\n",
    "    for key in kwargs:\n",
    "        print(\"another keyword arg: %s: %s\"\\\n",
    "        % (key, kwargs[key]))  ##  %s 의 자리에 키 값과 벨류값을 넣어라 \n",
    "\n",
    "test_var_kwargs(two = 2, three = '3')\n",
    "test_var_kwargs(aa =1 ,bb =2)"
   ]
  },
  {
   "cell_type": "code",
   "execution_count": 125,
   "metadata": {},
   "outputs": [
    {
     "name": "stdout",
     "output_type": "stream",
     "text": [
      "<class 'dict'>\n",
      "another keyword arg: two: two\n",
      "another keyword arg: three: three\n"
     ]
    }
   ],
   "source": [
    "def test_var_kwargs(**kwargs):# 인자를 딕셔너리로 모아줌 \n",
    "    print(type(kwargs))\n",
    "    for key in kwargs:\n",
    "        print(\"another keyword arg: %s: %s\" % (key, kwargs[key]))  ##  %s 의 자리에 키 값과 벨류값을 넣어라 ## 딕셔너리는 그룸[키], 인덱스 안되고 키값만 받음\n",
    "\n",
    "test_var_kwargs(two = \"two\", three = 'three') "
   ]
  },
  {
   "cell_type": "code",
   "execution_count": 131,
   "metadata": {},
   "outputs": [
    {
     "data": {
      "text/plain": [
       "\"Hello ('Tom', 'Mary', 'Sharon'), how are you?\""
      ]
     },
     "execution_count": 131,
     "metadata": {},
     "output_type": "execute_result"
    }
   ],
   "source": [
    "name = ('Tom', 'Mary', 'Sharon')\n",
    "\n",
    "'Hello {}, how are you?'.format(name)"
   ]
  },
  {
   "cell_type": "code",
   "execution_count": 71,
   "metadata": {},
   "outputs": [
    {
     "name": "stdout",
     "output_type": "stream",
     "text": [
      "formal arg: (1, 'two', 'three')\n",
      "<class 'tuple'>\n",
      "\n",
      "another arg: 1\n",
      "another arg: two\n",
      "another arg: three\n",
      "a aa\n",
      "b bb\n"
     ]
    }
   ],
   "source": [
    "# 일반적인 경우, 아래와 같이 정의 하여 사용\n",
    "# kwags가 뒤에 위치하는 이유는?\n",
    "def test_var_args(*args, **kwargs):\n",
    "    print(\"formal arg:\", args)\n",
    "    print(type(args))\n",
    "    print() ## 빈 형태 출력\n",
    "    \n",
    "    for arg in args:\n",
    "        print(\"another arg:\", arg)\n",
    "        \n",
    "    for kw in kwargs:\n",
    "        print(kw, kwargs[kw]) ## 딕셔너리 그룹[키] 키값만 받음 \n",
    "\n",
    "test_var_args(1, \"two\", 'three', a = 'aa', b = 'bb')"
   ]
  },
  {
   "cell_type": "code",
   "execution_count": 74,
   "metadata": {},
   "outputs": [
    {
     "name": "stdout",
     "output_type": "stream",
     "text": [
      "second: 9.14\n",
      "Third: shpark\n",
      "first: jepark\n",
      "first: 100\n",
      "first: jkpark\n",
      "first: 4.5324\n"
     ]
    }
   ],
   "source": [
    "## 시험문제\n",
    "\n",
    "def var_args(f_arg, *argv, **kwargs): \n",
    "    print(\"second:\", f_arg) ## 일반 파라미터 1개 = f_arg 그래서 파라미터 첫번째 9.14 값이 출력\n",
    "    \n",
    "    for kw in kwargs:\n",
    "        print(\"Third:\", kwargs[kw]) ## 키워드 파라미터의 벨류값'shpark'가 나온다 \n",
    "    \n",
    "    for arg in argv: ## 그룹 파라미터의 arg첫번째인 'jepark가 나온다 \n",
    "        print(\"first:\", arg)\n",
    "        \n",
    "var_args(9.14, 'jepark', 100, 'jkpark', 4.5324, keyword = 'shpark')"
   ]
  },
  {
   "cell_type": "markdown",
   "metadata": {},
   "source": [
    "* 고정길이 함수에 \\*, \\** 사용 \n",
    "  - 튜플 혹은 딕셔너리를 가변길이 인자로 변경하여 전달"
   ]
  },
  {
   "cell_type": "code",
   "execution_count": 135,
   "metadata": {},
   "outputs": [
    {
     "name": "stdout",
     "output_type": "stream",
     "text": [
      "arg1: two\n",
      "arg2: 3\n",
      "arg3: 1\n"
     ]
    }
   ],
   "source": [
    "def test_var_args_call(arg1, arg2, arg3):\n",
    "    print(\"arg1:\", arg1)\n",
    "    print(\"arg2:\", arg2)\n",
    "    print(\"arg3:\", arg3)\n",
    "\n",
    "args = (\"two\", 3, 1)\n",
    "test_var_args_call(*args) ## 호출할때 사용도 가능 ( 뒷 def 함수의 튜플을 함수 인자로 바로 콜 )"
   ]
  },
  {
   "cell_type": "code",
   "execution_count": 139,
   "metadata": {},
   "outputs": [
    {
     "name": "stdout",
     "output_type": "stream",
     "text": [
      "arg1: 1\n",
      "arg2: two\n",
      "arg3: 3\n"
     ]
    }
   ],
   "source": [
    "def test_var_args_call(arg1, arg2, arg3): ## 함수의 parameter의 개수는 정해져있음 \n",
    "    print(\"arg1:\", arg1)\n",
    "    print(\"arg2:\", arg2)\n",
    "    print(\"arg3:\", arg3)\n",
    "\n",
    "kwargs = {\"arg3\": 3, \"arg2\": \"two\"}\n",
    "test_var_args_call(1,**kwargs) ## 호출하는 부분에 씀"
   ]
  },
  {
   "cell_type": "markdown",
   "metadata": {},
   "source": [
    "* e.g) 가변길이 함수의 대표적인 예 # 진짜 중요\n",
    " **문자열 포맷 함수**\n",
    " - 여러가지 값과 포맷을 이용하여 문자열을 정의할 수 있는 함수\n",
    " - {} placeholder를 문자열 내에 위치 시킨 후, 해당 위치에 format함수로 전달된 값으로 대체하여 문자열 생성\n",
    " - 포맷 구성은 다음 링크 참조 : https://pyformat.info/"
   ]
  },
  {
   "cell_type": "code",
   "execution_count": 58,
   "metadata": {},
   "outputs": [
    {
     "name": "stdout",
     "output_type": "stream",
     "text": [
      "Hi my name is younghyo and the weather is wonderful\n"
     ]
    }
   ],
   "source": [
    "str1 = 'Hi my name is {} and the weather is {}' \\\n",
    "                        .format('younghyo', 'wonderful') ## {} = place holder 개수만큼 들어감 , 가변길이 함수 \n",
    "print(str1)"
   ]
  },
  {
   "cell_type": "code",
   "execution_count": 59,
   "metadata": {},
   "outputs": [
    {
     "name": "stdout",
     "output_type": "stream",
     "text": [
      "hello mike world pop\n",
      "hello world aaron\n",
      "Hello 100! my name is aaron 200\n"
     ]
    }
   ],
   "source": [
    "aa = 'hello {} world {}'.format('mike', 'pop')\n",
    "print(aa)\n",
    "\n",
    "a = 'hello world {}'.format('aaron')\n",
    "print(a)\n",
    " \n",
    "b = 'Hello {}! my name is {} {}'.format(100, 'aaron', 200) ## 값 type 상관 없음 \n",
    "print(b)\n",
    "\n"
   ]
  },
  {
   "cell_type": "code",
   "execution_count": 60,
   "metadata": {},
   "outputs": [
    {
     "name": "stdout",
     "output_type": "stream",
     "text": [
      "Hello aaron! my name is bryan\n",
      "Hello Tom! my name is Boby\n",
      "Hello aaron! my name is aaron 100\n"
     ]
    }
   ],
   "source": [
    "# 순서 명시 가능\n",
    "# 순서가 명시 되지 않으면 왼쪽부터 0부터 시작\n",
    "b = 'Hello {1}! my name is {0}'.format('bryan', 'aaron')\n",
    "print(b)\n",
    "\n",
    "c = 'Hello {aa}! my name is {bb}'.format(aa = 'Tom', bb = 'Boby')\n",
    "print(c)\n",
    "\n",
    "b = 'Hello {1}! my name is {1} {0}'.format(100, 'aaron', 200) ## 값 type 상관 없음 , 슌소룰 바꾸거나 여러번 쓸 수 있음\n",
    "print(b)"
   ]
  },
  {
   "cell_type": "code",
   "execution_count": 145,
   "metadata": {},
   "outputs": [
    {
     "name": "stdout",
     "output_type": "stream",
     "text": [
      "Wow it is a big number! 1,073,741,824\n",
      "Wow it is a big number! 3.1416\n",
      "Wow it is a big number! 3.14159\n"
     ]
    }
   ],
   "source": [
    "# 정수 콤마로 표시 천단위 콤마끊음 \n",
    "d = 'Wow it is a big number! {:,}'.format(2 ** 30)\n",
    "print(d)\n",
    "\n",
    "# 숫자 precision 5자리로 제한\n",
    "d = 'Wow it is a big number! {:.5}'.format(3.14159262840725) ## 실수에 해당할경우 처음 숫자부터 5개까지 보여주고 자름 \n",
    "print(d)\n",
    "\n",
    "# .이후의 precision 5자리로 제한\n",
    "d = 'Wow it is a big number! {:.5f}'.format(3.14159262840725) ## 소수점 이후 5자리만 보존 하겠다 \n",
    "\n",
    "print(d)\n",
    "\n"
   ]
  },
  {
   "cell_type": "code",
   "execution_count": 61,
   "metadata": {},
   "outputs": [
    {
     "name": "stdout",
     "output_type": "stream",
     "text": [
      "Wow it is a big number! 1213.14159\n",
      "Wow it is a big number!  1213.1\n",
      "Wow it is a big number! 01213.1\n"
     ]
    }
   ],
   "source": [
    "# 최소 7자리는 필요 .이후 precision 5자리로 제한\n",
    "d = 'Wow it is a big number! {:7.5f}'.format(1213.14159262840725)\n",
    "print(d)\n",
    "\n",
    "# 최소 7자리는 필요 .이후 precision 1자리로 제한\n",
    "# 숫자의 경우 오른쪽 부터 채워짐. (패딩이 왼쪽에 위치)\n",
    "d = 'Wow it is a big number! {:7.1f}'.format(1213.14159262840725)\n",
    "print(d)\n",
    "\n",
    "# 패딩을 넣은 경우 = 0 \n",
    "d = 'Wow it is a big number! {:07.1f}'.format(1213.14159262840725)\n",
    "print(d)"
   ]
  },
  {
   "cell_type": "code",
   "execution_count": 146,
   "metadata": {},
   "outputs": [
    {
     "name": "stdout",
     "output_type": "stream",
     "text": [
      "Hello aaron 4454 cathy\n"
     ]
    }
   ],
   "source": [
    "# old style 문자열 포매팅\n",
    "d = 'Hello %s %d %s' % ('aaron', 4454, 'cathy') ## 튜플로 받음 \n",
    "print(d)"
   ]
  },
  {
   "cell_type": "code",
   "execution_count": 78,
   "metadata": {},
   "outputs": [
    {
     "name": "stdout",
     "output_type": "stream",
     "text": [
      " hi nice to meet you, Mark , 60 % humid today, so it is hot now\n"
     ]
    }
   ],
   "source": [
    "old_style = ' hi nice to meet you, %s , %d %% humid today, so it is %s now' %('Mark', 60,'hot')\n",
    "\n",
    "print(old_style) ## 프린트 함수는 스트링이 아닌 값만 출력해줌 "
   ]
  },
  {
   "cell_type": "code",
   "execution_count": 147,
   "metadata": {},
   "outputs": [
    {
     "name": "stdout",
     "output_type": "stream",
     "text": [
      "420\n",
      "420\n",
      " 420\n",
      "0420\n",
      "004200\n",
      "4,200\n",
      "42,000\n",
      " 3.142\n",
      "03.142\n"
     ]
    }
   ],
   "source": [
    "print('{}'.format(420))\n",
    "print('{0}'.format(420))\n",
    "\n",
    "# : 뒤에 포매팅 문법이 위치\n",
    "print('{:4}'.format(420)) # 4만큼의 길이 필요\n",
    "print('{:04}'.format(420)) # 4만큼의 길이가 필요하고 없으면 빈 공간은 0으로 채움\n",
    "print('{:06}'.format(4200)) # 6만큼의 길이가 필요하고 없으면 빈 공간은 0으로 채움\n",
    "print('{:4,}'.format(4200))\n",
    "print('{:4,}'.format(42000))\n",
    "print('{:6.3f}'.format(3.14159223232)) ## 소수점포함하여 6칸을 채우고 실수자리 3자리만 표시해라 (라운딩하여라)\n",
    "print('{:06.3f}'.format(3.14159223232))## 소수점 포함해서 6칸을 채우되 빈칸이 있으면 0으로 채우고, 실수자리 3자리표시해라 (라운딩해라)"
   ]
  },
  {
   "cell_type": "markdown",
   "metadata": {},
   "source": [
    "* **1st class citizen(일등 시민)**\n",
    " + 프로그래밍 언어에서 1st class라는 의미는 해당 객체를 사용하는데 있어서 아무런 **\"제약없음\"**을 의미 \n",
    " # 함수 역시 객체 그래서 변수에 대입 가능 호출 가능 \n",
    " + python에서는 모든 것이 객체(object)!\n",
    " + 숫자, 문자열, 튜플, 리스트, 딕셔너리 등등, 존재하는 모든 값을 객체로 볼 수 있음\n",
    " + 함수 역시 객체이며, 객체이기 때문에 변수의 값에 할당하거나, 함수의 파라미터로 전달하거나, 리스트의 원소가 되는 등 일반 타입처럼 사용 할 수 있음"
   ]
  },
  {
   "cell_type": "code",
   "execution_count": null,
   "metadata": {
    "collapsed": true
   },
   "outputs": [],
   "source": [
    "def a():\n",
    "    return 1\n",
    "def b():\n",
    "    return a()\n",
    "def c():\n",
    "    return b() ## 이렇게 하면 되긴 하지만 꼬임, stack 알고리즘 이라서 많이 쌓이다가 오류남 "
   ]
  },
  {
   "cell_type": "code",
   "execution_count": 148,
   "metadata": {},
   "outputs": [
    {
     "name": "stdout",
     "output_type": "stream",
     "text": [
      "23\n",
      "<function test1 at 0x0000023EA3770268> <class 'function'>\n",
      "23\n"
     ]
    }
   ],
   "source": [
    "def test1():\n",
    "    print(23)\n",
    "    \n",
    "def run_something(func):\n",
    "    func()\n",
    "    \n",
    "test2 = test1 # 함수를 변수에 대입\n",
    "test2()\n",
    "\n",
    "print(test1, type(test1))\n",
    "run_something(test1)"
   ]
  },
  {
   "cell_type": "markdown",
   "metadata": {},
   "source": [
    "## Recursive Function"
   ]
  },
  {
   "cell_type": "markdown",
   "metadata": {},
   "source": [
    "* 재귀함수\n",
    "* 내부적으로 자기 자신을 호출함 (러시아 인형, 혹은 프랙탈을 연상)\n",
    "* 점화식으로 표현되는 모든 수식을 간결히 표현할 수 있음\n",
    "* 종료조건이 꼭! 필요함 (명시하지 않으면 무한 호출반복)\n",
    "* 코드는 간결하나, 호출에 따른 오버헤드가 큼\n",
    "* 따라서 성능과 코드의 간결함에 대한 trade-off를 고려하여 구현이 필요\n"
   ]
  },
  {
   "cell_type": "code",
   "execution_count": 149,
   "metadata": {},
   "outputs": [
    {
     "data": {
      "text/plain": [
       "720"
      ]
     },
     "execution_count": 149,
     "metadata": {},
     "output_type": "execute_result"
    }
   ],
   "source": [
    "# factorial을 다시 작성해 봅시다.\n",
    "def factorial(n):\n",
    "    mul = 1\n",
    "    for i in range(2, n+1):\n",
    "        mul *= i\n",
    "        \n",
    "    return mul\n",
    "\n",
    "# assert 함수 : 주어진 값이 True가 아니면 에러를 발생\n",
    "# 주로 간단한 테스트에 사용\n",
    "assert(factorial(5) == 120)\n",
    "assert(factorial(4) == 24)\n",
    "assert(factorial(1) == 1) ## ture 아니면 에러 , assert 함수는 ture 일 경우 아무것도 출력 안하지만 false 면 에러를 출력 \n",
    "factorial(6)"
   ]
  },
  {
   "cell_type": "code",
   "execution_count": 152,
   "metadata": {},
   "outputs": [
    {
     "data": {
      "text/plain": [
       "720"
      ]
     },
     "execution_count": 152,
     "metadata": {},
     "output_type": "execute_result"
    }
   ],
   "source": [
    "def rf(n):\n",
    "    if n == 0:\n",
    "        return 1\n",
    "    \n",
    "    return n * rf(n-1)\n",
    "\n",
    "assert(rf(5) == 120)\n",
    "assert(rf(4) == 24)\n",
    "assert(rf(1) == 1)\n",
    "rf(6)"
   ]
  },
  {
   "cell_type": "markdown",
   "metadata": {},
   "source": [
    "* **%timeit**\n",
    " - 해당 코드를 수행하여 평균 수행시간을 계산"
   ]
  },
  {
   "cell_type": "code",
   "execution_count": 153,
   "metadata": {},
   "outputs": [
    {
     "name": "stdout",
     "output_type": "stream",
     "text": [
      "The slowest run took 7.28 times longer than the fastest. This could mean that an intermediate result is being cached.\n",
      "1000000 loops, best of 3: 293 ns per loop\n"
     ]
    }
   ],
   "source": [
    "%timeit x = range(10000)"
   ]
  },
  {
   "cell_type": "code",
   "execution_count": 154,
   "metadata": {},
   "outputs": [
    {
     "name": "stdout",
     "output_type": "stream",
     "text": [
      "The slowest run took 4.37 times longer than the fastest. This could mean that an intermediate result is being cached.\n",
      "1000000 loops, best of 3: 293 ns per loop\n"
     ]
    }
   ],
   "source": [
    "%timeit range(10000)"
   ]
  },
  {
   "cell_type": "code",
   "execution_count": 155,
   "metadata": {},
   "outputs": [
    {
     "name": "stdout",
     "output_type": "stream",
     "text": [
      "10 loops, best of 3: 28.7 ms per loop\n"
     ]
    }
   ],
   "source": [
    "%timeit factorial(10000)"
   ]
  },
  {
   "cell_type": "code",
   "execution_count": null,
   "metadata": {
    "collapsed": true
   },
   "outputs": [],
   "source": [
    "# 재귀함수 호출의 값이 기본적으로 5000이기 때문에 늘려줌\n",
    "import sys\n",
    "sys.setrecursionlimit(200000) ## recursion 반복 되풀이\n",
    "\n",
    "%timeit rf(10000)"
   ]
  },
  {
   "cell_type": "code",
   "execution_count": 1,
   "metadata": {},
   "outputs": [
    {
     "name": "stdout",
     "output_type": "stream",
     "text": [
      "610\n",
      "100000 loops, best of 3: 4.68 µs per loop\n"
     ]
    }
   ],
   "source": [
    "def fibonacci(n):\n",
    "    fibo = [1, 1]\n",
    "    for i in range(2, n):\n",
    "        fibo.append(fibo[i-1] + fibo[i-2])\n",
    "\n",
    "    return fibo[-1]\n",
    "\n",
    "print(fibonacci(15))\n",
    "%timeit fibonacci(20)"
   ]
  },
  {
   "cell_type": "code",
   "execution_count": 2,
   "metadata": {},
   "outputs": [
    {
     "name": "stdout",
     "output_type": "stream",
     "text": [
      "610\n",
      "100 loops, best of 3: 2.59 ms per loop\n"
     ]
    }
   ],
   "source": [
    "def recursive_fibonacci(n):\n",
    "    if n == 1 or n == 2:\n",
    "        return 1\n",
    "    \n",
    "    return recursive_fibonacci(n-1) + recursive_fibonacci(n-2) ## 재귀호출이 두번 한꺼번에 요청됨 ## 너무 많은 시간 이 필요  2**n 번 걸림 \n",
    "\n",
    "print(recursive_fibonacci(15))\n",
    "%timeit recursive_fibonacci(20)"
   ]
  },
  {
   "cell_type": "markdown",
   "metadata": {},
   "source": [
    "* **연습문제**\n",
    "1. 계단오르기 문제. 계단을 한번에 1,2 혹은 3칸까지 오를 수 있다고 할 때\n",
    "\n",
    "n층의 계단을 오르기 위해서는 몇 가지 경우가 가능한가?"
   ]
  },
  {
   "cell_type": "code",
   "execution_count": null,
   "metadata": {
    "collapsed": true
   },
   "outputs": [],
   "source": [
    "## 점화식 = f(3)= f(2)+f(1)\n",
    "        # f(4)= f(3)+f(2)+f(1)\n",
    "    \n",
    "def stairs(n):\n",
    "    if n ==1 or n == 2:\n",
    "        return n\n",
    "    if n == 3 \n",
    "        return 4\n",
    "    \n",
    "    return stairs(n-1)+stairs(n-2)+ stairs(n-3)  ## 너무오래 걸림\n"
   ]
  },
  {
   "cell_type": "code",
   "execution_count": 80,
   "metadata": {},
   "outputs": [
    {
     "data": {
      "text/plain": [
       "{4: 7,\n",
       " 5: 13,\n",
       " 6: 24,\n",
       " 7: 44,\n",
       " 8: 81,\n",
       " 9: 149,\n",
       " 10: 274,\n",
       " 11: 504,\n",
       " 12: 927,\n",
       " 13: 1705,\n",
       " 14: 3136,\n",
       " 15: 5768,\n",
       " 16: 10609,\n",
       " 17: 19513,\n",
       " 18: 35890,\n",
       " 19: 66012,\n",
       " 20: 121415,\n",
       " 21: 223317}"
      ]
     },
     "execution_count": 80,
     "metadata": {},
     "output_type": "execute_result"
    }
   ],
   "source": [
    "memo = {}\n",
    "\n",
    "## 점화식 = f(3)= f(2)+f(1)\n",
    "        # f(4)= f(3)+f(2)+f(1)\n",
    "    \n",
    "def stairs(n):\n",
    "    if n ==1 or n == 2:\n",
    "        return n\n",
    "    if n == 3: \n",
    "        return 4\n",
    "    if n in memo:\n",
    "        return memo[n]\n",
    "    \n",
    "    memo[n] = stairs(n-1)+stairs(n-2)+ stairs(n-3)## 만약 메모가 없다면 처음부터 다시계산하는데 너무오래 걸림\n",
    "    return memo[n]\n",
    "stairs(5)\n",
    "stairs(21)\n",
    "\n",
    "memo\n",
    "\n",
    "\n"
   ]
  },
  {
   "cell_type": "markdown",
   "metadata": {},
   "source": [
    "* **memozation(메모이제이션)**\n",
    "  - 이미 계산한 값은 따로 저장해두고, 필요하면 다시 불러와서 사용 하는 기법  - dynamic programming의 재귀적 구현 기법에서 많이 사용"
   ]
  },
  {
   "cell_type": "code",
   "execution_count": 96,
   "metadata": {},
   "outputs": [
    {
     "data": {
      "text/plain": [
       "55"
      ]
     },
     "execution_count": 96,
     "metadata": {},
     "output_type": "execute_result"
    }
   ],
   "source": [
    "\n",
    "def fibo(n):\n",
    "    \n",
    "    if n==1 or n==2:\n",
    "        return 1\n",
    "    \n",
    "    if n>=3:\n",
    "        return fibo(n-1)+fibo(n-2)\n",
    "    if n in memo1:\n",
    "        return memo1[n]\n",
    "    \n",
    "fibo(10) \n",
    "\n"
   ]
  },
  {
   "cell_type": "code",
   "execution_count": 16,
   "metadata": {},
   "outputs": [
    {
     "name": "stdout",
     "output_type": "stream",
     "text": [
      "233\n",
      "The slowest run took 246.56 times longer than the fastest. This could mean that an intermediate result is being cached.\n",
      "1000000 loops, best of 3: 235 ns per loop\n"
     ]
    },
    {
     "data": {
      "text/plain": [
       "{3: 2,\n",
       " 4: 3,\n",
       " 5: 5,\n",
       " 6: 8,\n",
       " 7: 13,\n",
       " 8: 21,\n",
       " 9: 34,\n",
       " 10: 55,\n",
       " 11: 89,\n",
       " 12: 144,\n",
       " 13: 233,\n",
       " 14: 377,\n",
       " 15: 610,\n",
       " 16: 987,\n",
       " 17: 1597,\n",
       " 18: 2584,\n",
       " 19: 4181,\n",
       " 20: 6765,\n",
       " 21: 10946,\n",
       " 22: 17711,\n",
       " 23: 28657,\n",
       " 24: 46368,\n",
       " 25: 75025,\n",
       " 26: 121393,\n",
       " 27: 196418,\n",
       " 28: 317811,\n",
       " 29: 514229,\n",
       " 30: 832040,\n",
       " 31: 1346269,\n",
       " 32: 2178309,\n",
       " 33: 3524578,\n",
       " 34: 5702887,\n",
       " 35: 9227465,\n",
       " 36: 14930352,\n",
       " 37: 24157817,\n",
       " 38: 39088169,\n",
       " 39: 63245986,\n",
       " 40: 102334155,\n",
       " 41: 165580141,\n",
       " 42: 267914296,\n",
       " 43: 433494437,\n",
       " 44: 701408733,\n",
       " 45: 1134903170,\n",
       " 46: 1836311903,\n",
       " 47: 2971215073,\n",
       " 48: 4807526976,\n",
       " 49: 7778742049,\n",
       " 50: 12586269025}"
      ]
     },
     "execution_count": 16,
     "metadata": {},
     "output_type": "execute_result"
    }
   ],
   "source": [
    "memo = {}\n",
    "def recursive_fibonacci(n):\n",
    "    if n == 1 or n == 2:\n",
    "        return 1\n",
    "    \n",
    "    if n in memo:\n",
    "        return memo[n]\n",
    "    \n",
    "    memo[n] = recursive_fibonacci(n-1) + recursive_fibonacci(n-2)\n",
    "    return memo[n]\n",
    "\n",
    "\n",
    "print (recursive_fibonacci(13))\n",
    "%timeit recursive_fibonacci(50)\n",
    "\n",
    "memo"
   ]
  },
  {
   "cell_type": "markdown",
   "metadata": {},
   "source": [
    "* recursive function 연습문제\n",
    " 1. 숫자 리스트를 인자로 받아 그 숫자의 합을 구하는 재귀함수를 작성하시오.\n",
    " 2. 숫자를 입력받아 각 자리수의 합을 구하는 재귀함수를 작성하시오.\n",
    " 3. 주어진 두 수의 최대 공약수를 찾는 재귀함수를 작성하시오.\n",
    "    A와 B의 최대 공약수는 B와 A%B의 최대 공약수와 같다."
   ]
  },
  {
   "cell_type": "code",
   "execution_count": 7,
   "metadata": {},
   "outputs": [
    {
     "data": {
      "text/plain": [
       "[16, 17, 20, 23, 21, 26, 10, 22, 24, 15, 4, 2, 12, 18, 25]"
      ]
     },
     "execution_count": 7,
     "metadata": {},
     "output_type": "execute_result"
    }
   ],
   "source": [
    "import random\n",
    "nums = random.sample (range(30),15)\n",
    "\n",
    "nums\n",
    "\n"
   ]
  },
  {
   "cell_type": "code",
   "execution_count": 28,
   "metadata": {},
   "outputs": [
    {
     "name": "stdout",
     "output_type": "stream",
     "text": [
      "13\n"
     ]
    }
   ],
   "source": [
    "a = [ 3, 7, 1, 2 ]\n",
    "\n",
    "def list_sum(nums, n):\n",
    "    if n == 0:\n",
    "        return nums[n]\n",
    "    return list_sum(nums, n-1) + nums[n]\n",
    "\n",
    "print(list_sum(a, len(a)-1))"
   ]
  },
  {
   "cell_type": "code",
   "execution_count": 29,
   "metadata": {},
   "outputs": [
    {
     "data": {
      "text/plain": [
       "4861"
      ]
     },
     "execution_count": 29,
     "metadata": {},
     "output_type": "execute_result"
    }
   ],
   "source": [
    "## 선생님 답\n",
    "\n",
    "import random\n",
    "nums = random.sample(range(1000), 10)\n",
    "\n",
    "def sum_list(nums, k):\n",
    "    if k == 0:\n",
    "        return nums[k]\n",
    "    return sum_list(nums, k-1) + nums[k]\n",
    "\n",
    "sum_list(nums, len(nums)-1)"
   ]
  },
  {
   "cell_type": "code",
   "execution_count": null,
   "metadata": {
    "collapsed": true
   },
   "outputs": [],
   "source": [
    "#nums = random.sample(range(1000), 200)\n",
    "def sum_list(nums, s, e):\n",
    "    if s == e:\n",
    "        return nums[s]\n",
    "    \n",
    "    return sum_list(nums, s, (s+e)//2) + sum_list(nums, (s+e)//2 + 1, e)\n",
    "\n",
    "sum_list(nums, 0, len(nums)-1)"
   ]
  },
  {
   "cell_type": "code",
   "execution_count": 18,
   "metadata": {
    "collapsed": true
   },
   "outputs": [],
   "source": [
    "def gcd(A,B):\n",
    "    if B == 0: \n",
    "        return A \n",
    "    return gcd (B, A % B) "
   ]
  },
  {
   "cell_type": "code",
   "execution_count": 21,
   "metadata": {},
   "outputs": [
    {
     "data": {
      "text/plain": [
       "20"
      ]
     },
     "execution_count": 21,
     "metadata": {},
     "output_type": "execute_result"
    }
   ],
   "source": [
    "gcd(40,300)"
   ]
  },
  {
   "cell_type": "code",
   "execution_count": 22,
   "metadata": {},
   "outputs": [
    {
     "data": {
      "text/plain": [
       "13"
      ]
     },
     "execution_count": 22,
     "metadata": {},
     "output_type": "execute_result"
    }
   ],
   "source": [
    "\n",
    "## 숫자를 입력받아 각 자리수의 합을 구하는 재귀함수를 작성하시오.\n",
    "def sum_digit(num):\n",
    "    if num < 10:\n",
    "        return num\n",
    "    return sum_digit(num // 10) + num % 10\n",
    "\n",
    "sum_digit(7321)"
   ]
  },
  {
   "cell_type": "markdown",
   "metadata": {},
   "source": [
    "파이썬(Python)에서  올림함수 반올림함수 내림함수 \n",
    " \n",
    "파이썬(python)에서 소수을 반올림하거나 올림, 혹은 내림(버림)하는 함수 소개.\n",
    " \n",
    "1. 기본적으으로 제공하는 함수\n",
    "   버림 함수(내림 함수)는 int()함수를 사용한다.\n",
    "      예) print int(3.1584)     ==> 3이 출력된다.\n",
    " \n",
    "   반올림 함수는 round()함수를 사용한다.\n",
    "      예) print round(3.56)    ==> 4가 출력된다.\n",
    "           print round(3.14)    ==> 3이 출력된다.\n",
    "  \n",
    "   올림함수는 round()함수를 응용한다.\n",
    "      예) a = 3.14 일때\n",
    "           print round(a + 0.5)  ==> 4가 출력된다.\n",
    " \n",
    "           a = 3. 564 일때\n",
    "           print round(a + 0.5) ==> 4가 출력된다.\n",
    " \n",
    "2. 라이브러리를 사용하기\n",
    " \n",
    "import math\n",
    "math.floor(3.223)  ==> 3   버림함수\n",
    "math.ceil(3.223)  ==> 4    올림함수\n",
    "round(3.223)      ==> 3     반올림함수\n",
    "[출처] 파이썬(Python) 올림함수 반올림함수 내림함수|작성자 네미건블"
   ]
  }
 ],
 "metadata": {
  "kernelspec": {
   "display_name": "Python 3",
   "language": "python",
   "name": "python3"
  },
  "language_info": {
   "codemirror_mode": {
    "name": "ipython",
    "version": 3
   },
   "file_extension": ".py",
   "mimetype": "text/x-python",
   "name": "python",
   "nbconvert_exporter": "python",
   "pygments_lexer": "ipython3",
   "version": "3.6.1"
  }
 },
 "nbformat": 4,
 "nbformat_minor": 1
}
